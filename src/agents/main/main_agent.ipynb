{
 "cells": [
  {
   "cell_type": "code",
   "execution_count": 1,
   "id": "2b3e470f",
   "metadata": {},
   "outputs": [
    {
     "name": "stdout",
     "output_type": "stream",
     "text": [
      "/Users/seobi/PythonProjects/RAG_Commander/src\n",
      "/Users/seobi/PythonProjects/RAG_Commander/src/agents/main\n"
     ]
    }
   ],
   "source": [
    "import os, sys\n",
    "from pathlib import Path\n",
    "\n",
    "src_path = Path(os.getcwd()).resolve().parents[1]  \n",
    "sys.path.append(str(src_path))\n",
    "\n",
    "print(sys.path[-1])  \n",
    "import os\n",
    "print(os.getcwd())"
   ]
  },
  {
   "cell_type": "code",
   "execution_count": 2,
   "id": "9efa8f2c",
   "metadata": {},
   "outputs": [
    {
     "name": "stdout",
     "output_type": "stream",
     "text": [
      "Overwriting main_agent.py\n"
     ]
    }
   ],
   "source": [
    "%%writefile main_agent.py\n",
    "from langchain_openai import ChatOpenAI\n",
    "from langgraph.graph.state import Command, Literal\n",
    "from agents.state.start_state import StartConfirmation, StartInput\n",
    "from agents.state.main_state import MainState\n",
    "from utils.llm import LLMProfile\n",
    "from utils.util import get_today_str\n",
    "from langchain_core.messages import HumanMessage, get_buffer_string, AIMessage\n",
    "from langgraph.graph import StateGraph, START, END\n",
    "from prompts import PromptManager, PromptType\n",
    "from agents.analysis.analysis_graph import analysis_graph\n",
    "from agents.jung_min_jae.jung_min_jae_agent import report_graph\n",
    "from copy import deepcopy\n",
    "\n",
    "start_llm = ChatOpenAI(model=LLMProfile.START_COMFIRMATION, temperature=0)\n",
    "messages_key = MainState.KEY.messages\n",
    "start_input_key = MainState.KEY.start_input\n",
    "analysis_outputs_key = MainState.KEY.analysis_outputs\n",
    "status_key = MainState.KEY.status\n",
    "\n",
    "\n",
    "def start_confirmation(\n",
    "    state: MainState,\n",
    ") -> Command[Literal[\"start\", \"__end__\"]]:\n",
    "\n",
    "    parser_llm = start_llm.with_structured_output(StartConfirmation)\n",
    "    messages_str = get_buffer_string(messages=state[messages_key])\n",
    "\n",
    "    prompt = PromptManager(PromptType.MAIN_START_CONFIRMATION).get_prompt(\n",
    "        messages=messages_str\n",
    "    )\n",
    "    response: StartConfirmation = parser_llm.invoke([HumanMessage(content=prompt)])\n",
    "\n",
    "    if response.confirm == False:\n",
    "        return Command(\n",
    "            goto=END, update={messages_key: [AIMessage(content=response.question)]}\n",
    "        )\n",
    "    else:\n",
    "        return Command(\n",
    "            goto=\"start\",\n",
    "            update={messages_key: [AIMessage(content=response.verification)]},\n",
    "        )\n",
    "\n",
    "\n",
    "def start(state: MainState) -> MainState:\n",
    "    parser_model = start_llm.with_structured_output(StartInput)\n",
    "    prompt = PromptManager(PromptType.MAIN_START).get_prompt(\n",
    "        messages=get_buffer_string(state[messages_key]), date=get_today_str()\n",
    "    )\n",
    "    response: StartInput = parser_model.invoke([HumanMessage(content=prompt)])\n",
    "    return {start_input_key: response.model_dump(), status_key: \"ANALYSIS\"}\n",
    "\n",
    "\n",
    "def analysis_graph_node(state: MainState) -> MainState:\n",
    "    result = analysis_graph.invoke({\"start_input\": deepcopy(state[start_input_key])})\n",
    "    return {\n",
    "        \"analysis_outputs\": result.get(\"analysis_outputs\", {}),\n",
    "        status_key: \"JUNG_MIN_JAE\"\n",
    "    }\n",
    "\n",
    "\n",
    "def jung_min_jae_graph(state: MainState) -> MainState:\n",
    "    result = report_graph.invoke({\"start_input\": deepcopy(state[start_input_key]),\n",
    "                                  \"analysis_outputs\": deepcopy(state[analysis_outputs_key])})\n",
    "    return {\n",
    "        \"final_report\": result[\"final_report\"],\n",
    "        status_key:\"RENDERING\"\n",
    "    }\n",
    "\n",
    "\n",
    "graph_builder = StateGraph(MainState)\n",
    "\n",
    "start_confirmation_key = \"start_confirmation\"\n",
    "start_key = \"start\"\n",
    "analysis_graph_key = \"analysis_graph\"\n",
    "jung_min_jae_key = \"jung_min_jae_graph\"\n",
    "\n",
    "graph_builder.add_node(start_confirmation_key, start_confirmation)\n",
    "graph_builder.add_node(start_key, start)\n",
    "graph_builder.add_node(analysis_graph_key, analysis_graph_node)\n",
    "graph_builder.add_node(jung_min_jae_key, jung_min_jae_graph)\n",
    "\n",
    "graph_builder.add_edge(START, start_confirmation_key)\n",
    "graph_builder.add_edge(start_key, analysis_graph_key)\n",
    "graph_builder.add_edge(analysis_graph_key, jung_min_jae_key)\n",
    "graph_builder.add_edge(analysis_graph_key, END)\n"
   ]
  },
  {
   "cell_type": "code",
   "execution_count": 3,
   "id": "df0533bf",
   "metadata": {},
   "outputs": [
    {
     "name": "stderr",
     "output_type": "stream",
     "text": [
      "/Users/seobi/PythonProjects/RAG_Commander/.venv/lib/python3.12/site-packages/tqdm/auto.py:21: TqdmWarning: IProgress not found. Please update jupyter and ipywidgets. See https://ipywidgets.readthedocs.io/en/stable/user_install.html\n",
      "  from .autonotebook import tqdm as notebook_tqdm\n"
     ]
    },
    {
     "data": {
      "image/png": "[encoded data removed]",
      "text/plain": [
       "<langgraph.graph.state.CompiledStateGraph object at 0x105f8f0b0>"
      ]
     },
     "execution_count": 3,
     "metadata": {},
     "output_type": "execute_result"
    }
   ],
   "source": [
    "from main_agent import graph_builder\n",
    "graph = graph_builder.compile()\n",
    "graph"
   ]
  },
  {
   "cell_type": "code",
   "execution_count": 4,
   "id": "fcfd5a98",
   "metadata": {},
   "outputs": [
    {
     "data": {
      "text/html": [
       "<pre style=\"white-space:pre;overflow-x:auto;line-height:normal;font-family:Menlo,'DejaVu Sans Mono',consolas,'Courier New',monospace\"><span style=\"color: #800000; text-decoration-color: #800000\">╭─────────────────────────────────────────────────── 🧑 Human ────────────────────────────────────────────────────╮</span>\n",
       "<span style=\"color: #800000; text-decoration-color: #800000\">│</span> 경기도 분당구 정자동 백현로 206 근처를 분석하고 싶고 규모는 대단지, 세대수는 1000세대 정도 생각합니다.          <span style=\"color: #800000; text-decoration-color: #800000\">│</span>\n",
       "<span style=\"color: #800000; text-decoration-color: #800000\">╰─────────────────────────────────────────────────────────────────────────────────────────────────────────────────╯</span>\n",
       "</pre>\n"
      ],
      "text/plain": [
       "\u001b[31m╭─\u001b[0m\u001b[31m──────────────────────────────────────────────────\u001b[0m\u001b[31m 🧑 Human \u001b[0m\u001b[31m───────────────────────────────────────────────────\u001b[0m\u001b[31m─╮\u001b[0m\n",
       "\u001b[31m│\u001b[0m 경기도 분당구 정자동 백현로 206 근처를 분석하고 싶고 규모는 대단지, 세대수는 1000세대 정도 생각합니다.          \u001b[31m│\u001b[0m\n",
       "\u001b[31m╰─────────────────────────────────────────────────────────────────────────────────────────────────────────────────╯\u001b[0m\n"
      ]
     },
     "metadata": {},
     "output_type": "display_data"
    },
    {
     "data": {
      "text/html": [
       "<pre style=\"white-space:pre;overflow-x:auto;line-height:normal;font-family:Menlo,'DejaVu Sans Mono',consolas,'Courier New',monospace\"><span style=\"color: #c0c0c0; text-decoration-color: #c0c0c0\">╭───────────────────────────────────────────────────── 📝 AI ─────────────────────────────────────────────────────╮</span>\n",
       "<span style=\"color: #c0c0c0; text-decoration-color: #c0c0c0\">│</span> 제공해주신 정보(경기도 분당구 정자동 백현로 206 근처, 대단지, 약 1,000세대 규모)를 바탕으로 보고서 작성을       <span style=\"color: #c0c0c0; text-decoration-color: #c0c0c0\">│</span>\n",
       "<span style=\"color: #c0c0c0; text-decoration-color: #c0c0c0\">│</span> 시작하겠습니다. 요청하신 위치와 단지 규모, 세대수가 명확히 확인되었습니다. 지금부터 부동산 대행사 사내용        <span style=\"color: #c0c0c0; text-decoration-color: #c0c0c0\">│</span>\n",
       "<span style=\"color: #c0c0c0; text-decoration-color: #c0c0c0\">│</span> 보고서를 작성하겠습니다.                                                                                        <span style=\"color: #c0c0c0; text-decoration-color: #c0c0c0\">│</span>\n",
       "<span style=\"color: #c0c0c0; text-decoration-color: #c0c0c0\">╰─────────────────────────────────────────────────────────────────────────────────────────────────────────────────╯</span>\n",
       "</pre>\n"
      ],
      "text/plain": [
       "\u001b[37m╭─\u001b[0m\u001b[37m────────────────────────────────────────────────────\u001b[0m\u001b[37m 📝 AI \u001b[0m\u001b[37m────────────────────────────────────────────────────\u001b[0m\u001b[37m─╮\u001b[0m\n",
       "\u001b[37m│\u001b[0m 제공해주신 정보(경기도 분당구 정자동 백현로 206 근처, 대단지, 약 1,000세대 규모)를 바탕으로 보고서 작성을       \u001b[37m│\u001b[0m\n",
       "\u001b[37m│\u001b[0m 시작하겠습니다. 요청하신 위치와 단지 규모, 세대수가 명확히 확인되었습니다. 지금부터 부동산 대행사 사내용        \u001b[37m│\u001b[0m\n",
       "\u001b[37m│\u001b[0m 보고서를 작성하겠습니다.                                                                                        \u001b[37m│\u001b[0m\n",
       "\u001b[37m╰─────────────────────────────────────────────────────────────────────────────────────────────────────────────────╯\u001b[0m\n"
      ]
     },
     "metadata": {},
     "output_type": "display_data"
    }
   ],
   "source": [
    "from utils.format_message import format_message\n",
    "from langchain_core.messages import HumanMessage\n",
    "from langgraph.checkpoint.memory import InMemorySaver\n",
    "from agents.state.main_state import MainState\n",
    "messages_key = MainState.KEY.messages\n",
    "checkpointer = InMemorySaver()\n",
    "graph = graph_builder.compile(checkpointer = checkpointer)\n",
    "\n",
    "thread = {\"configurable\": {\"thread_id\":\"1\"}}\n",
    "result = graph.invoke(\n",
    "    {\n",
    "        messages_key : [HumanMessage(content = \"경기도 분당구 정자동 백현로 206 근처를 분석하고 싶고 규모는 대단지, 세대수는 1000세대 정도 생각합니다. \")]\n",
    "    },\n",
    "    config = thread\n",
    ")\n",
    "\n",
    "format_message(result[messages_key])"
   ]
  },
  {
   "cell_type": "markdown",
   "id": "59bf2917",
   "metadata": {},
   "source": []
  },
  {
   "cell_type": "code",
   "execution_count": null,
   "id": "971d5bc2",
   "metadata": {},
   "outputs": [
    {
     "data": {
      "text/plain": [
       "{'messages': [HumanMessage(content='경기도 분당구 정자동 백현로 206 근처를 분석하고 싶고 규모는 대단지, 세대수는 1000세대 정도 생각합니다. ', additional_kwargs={}, response_metadata={}, id='7cea1a2f-990f-42c6-871d-d321e860335e'),\n",
       "  AIMessage(content='제공해주신 정보(경기도 분당구 정자동 백현로 206 근처, 대단지, 약 1,000세대 규모)를 바탕으로 보고서 작성을 시작하겠습니다. 요청하신 위치와 단지 규모, 세대수가 명확히 확인되었습니다. 지금부터 부동산 대행사 사내용 보고서를 작성하겠습니다.', additional_kwargs={}, response_metadata={}, id='122a4e1d-5b4f-44ba-9d2d-7ab03eb10df1')],\n",
       " 'start_input': {'target_area': '경기도 분당구 정자동 백현로 206 근처',\n",
       "  'scale': '대단지',\n",
       "  'total_units': 1000,\n",
       "  'units_by_type': None,\n",
       "  'brand': None,\n",
       "  'orientation': None,\n",
       "  'parking_ratio': None,\n",
       "  'terrain_condition': None,\n",
       "  'gross_area': None,\n",
       "  'floor_area_ratio_range': None,\n",
       "  'building_coverage_ratio_range': None},\n",
       " 'analysis_outputs': {'economic_insight': '기준일: 2025-10-26 / 2025-10-26T09:00:00+09:00 (Asia/Seoul)\\n대상지: 경기 성남시 분당구 정자동 백현로 206 인근\\n\\n1) 금리/신용여건\\n- 한국은행 기준금리 레벨·추세\\n  - 최근 결정: 2.50% 동결(2025-10-23), 2.50% 동결(2025-08-28), 2.75%→2.50% 인하(2025-05-29), 3.00%→2.75% 인하(2025-02-25)\\n  - 12개월 추세(trend_12m): 2024-10 약 3.00% → 2025-10 2.50%로 –50bp → 하락\\n  - 근거: 한국은행 보도자료(EIEC 2025-02-25, 2025-08-28), KBS 2025-05-29 보도, TradingEconomics 2025-10-23 페이지\\n- 체감금리(추정 범위)\\n  - 주담대(변동·혼합): 약 4.2~5.2%\\n  - 중도금(보증부, 집단대출): 약 4.8~6.0%\\n  - 주: 은행·보증기관 최신 공시 직접 확인 미완료(미확인). 보조지표로 TE ‘대출금리’ 3.00%(2025-09) 존재하나 가계 주담대와 괴리 가능\\n- 해석(분양성 영향)\\n  - 기준금리 하락·주담대 하락으로 차입여력·원리금부담 완화 → 실수요 측 흡수력에 우호적\\n  - 다만 총부채원리금상환비율(DSR) 관리 기조 유지, 소득 대비 차입 한계는 여전\\n\\n2) 거시지표/심리\\n- 물가: 소비자물가상승률 YoY 약 2.1%(2025-07), 2025년 연간 2.0% 전망, 근원물가 1.9% 전망(한국은행 2025-08-28 보도자료 요지)\\n- 성장: 2025년 실질 GDP 0.8~0.9% 전망, 2026년 1.6% 수준(한국은행 2025-05-29·2025-08-28 설명)\\n- 가계부채/DSR: 가계부채 증가세 모니터링 지속(한은 2025-08), 스트레스 DSR 단계적 도입 관련 보도 존재하나 공식 고시·시행 세부는 미확인\\n- 수요심리: 수도권 주택가격 상승 기대는 높으나 상승세·거래는 둔화(한은 2025-08). KB·국토부의 ‘주택매매심리지수/소비심리’ 최신 수치는 미확인\\n- 해석\\n  - 물가가 목표(2%) 부근으로 안정 → 원가·금리 측 상향 압력은 제한\\n  - 저성장 국면 → 소득 기반 수요 확장 속도는 완만\\n\\n3) 정책/규제\\n- 전국(근거/시행일 요지)\\n  - DSR/DTI/LTV: 차주단위 DSR 관리 기조 유지(공식 기준·최근 개정의 구체 조문·시행일 미확인). 일부 생애최초·무주택 실수요 LTV 완화 기조는 유지 추정(최신 고시 미확인)\\n  - 분양가상한제: 주택법 및 국토부 고시에 따라 투기과열지구 내 ‘상한제 적용 지역’ 지정 시 적용. 최근 완화/확대 여부의 최신 고시는 미확인\\n  - 청약제도: 가점제·특별공급·무주택 요건 골자는 유지, 최근 변경의 공식 문서·시행일 미확인\\n  - 주: 위 항목은 최신 공식 고시 확인 필요(미확인 사유: 원문 고시 미탐색)\\n- 지역(성남시 분당구 정자동)\\n  - 조정대상지역/투기과열지구/토지거래허가구역: 현행 지정 여부 및 최근 고시 시점 미확인(국토부·경기도·성남시 고시 확인 필요)\\n  - 정책 영향 방향: 규제지역 지정 시 청약·전매·대출 제한 강화로 수요 선별, 상한제 적용 시 분양가 상방제어. 비지정일 경우 상대적으로 수요 유입·분양가 책정 자율성 확대\\n\\n4) 종합 판단\\n- 분양가 상·하방 압력\\n  - 하방 요인: 기준금리 하락(–50bp, 12개월), 주담대금리 하락 추세, 물가 2%대 안정 → 금융·원가 측 압력 완화\\n  - 상방 요인: 수도권 핵심 입지(분당·정자) 수요견조,(미확인이나) 비상한제·완화적 LTV 적용 시 가격결정 여지 확대\\n  - 종합: price_pressure = 중립(완만한 상향 기울기). 근거: 금리·물가 측 하방과 입지·수요 기대의 상방이 상쇄\\n- 청약 흡수력\\n  - 우호 요인: 금리 하락, 분당·정자 생활권·교통(신분당선) 우위의 실수요 기반\\n  - 제약 요인: 저성장·DSR 관리로 고가·대면적 가구의 레버리지 제약\\n  - 종합: demand_absorption = 보통. 실수요형(중소형·합리적 분양가) 중심으로 평균 이상 흡수 가능성이 높으나, 고가물·대형은 선별 흡수 전망\\n- 3~6개월 단기 시사점\\n  - 금통위는 2.50% 유지 기조 속 추가 완화 가능성을 열어둠(2025-10-23). 시장금리 추가 10~30bp 완화 시 체감금리 개선 → 청약전환률에 우호적\\n  - 다만 스트레스 DSR 등 거시건전성 강화가 실제 시행될 경우, 한도·DCR 제약으로 체감 개선 폭이 제한될 가능성\\n  - 실무 제언: 분양가 책정은 인근 실거래·HUG 보증가격 가이드(해당 시) 범위 내 중립~보수적 포지셔닝 권고. 타깃을 무주택·실수요 위주로 설계, 혼합형(중소형 비중)·고정금리/중도상환수수료 우대·중도금 이자후불 옵션 등 체감부담 완화 패키지 효과적\\n\\n결론\\n- 분양가 방향성: 중립(완만한 상향 기울기)\\n- 청약 흡수력: 보통\\n\\n출처\\n- 한국은행 통화정책방향 관련 참고자료(EIEC, 2025-02-25; 2025-08-28), KBS 뉴스/간담회(2025-05-29), TradingEconomics 한국 기준금리 페이지(2025-10-23). 정책·규제 지역지정·상한제·LTV/DSR 최근 고시는 미확인(국토부·금융위·지자체 고시 추가 확인 필요).',\n",
       "  'housing_faq': 'housing_faq_output_test',\n",
       "  'location_insight': 'ok=false\\n사유: 제공된 rag_context와 대상지 기본 정보가 비어 있어 최소요건(실보행 수치·POI 집계·호재 단계/ETA 등) 산출이 불가합니다.\\n\\n추가로 필요한 입력\\n- 위치: 정확 주소 또는 좌표(입구 기준 선호), 대상지 경계(대략 폴리곤 가능)\\n- 목표일: 분석 기준일(예: 2025-10-01)\\n- 규모/세대수: 연면적·용도비중(주거/상가) 있으면 첨부\\n- 통근 기준: 주요 업무지구 최대 2곳(예: 광화문, 판교) 및 교통수단 선호(지하철/버스/승용차)\\n- 후보 호재: 인근 노선/역 신설, 공공·상업 개발명(알고 있는 키워드) 및 출처 링크(있다면)\\n\\n측정·판정 방법(투명성 확보용)\\n- 도보: 네이버지도/카카오맵 실보행 경로 기준. 입구→목적지 출구. 70m/분 보행속도 환산 병기.\\n- ‘도보 10분’ 판정: 실보행 800m 또는 10분 이내 모두 충족 시 within_10min=true.\\n- 버스: 최단 거리 정류장(m) + 정류장 2곳 이내 노선 수(중복제외)로 다변성 평가.\\n- POI 집계: 반경 1km 내 마트/병원/은행/공공시설 개수. 대표 2곳은 규모/인지도 기준.\\n- 환경: 최근접 공원·수변 및 혐오시설(고압선·소각장·장례·철도·변전소 등)까지 직선거리(m)와 영향도(낮음/중간/높음) 평가 근거 명시.\\n- 개발호재: 공식 단계만 인정(계획고시/사업인정·인허가/착공/준공임박). ETA는 “YYYY-MM”.\\n- 통근: 러시아워(평일 7:30 출발) 기준, 최빈 경로 평균값 제시. 환승 수/대기 포함.\\n\\n정보를 주시면, 교육/교통/편의/환경/미래가치/통근/종합까지 선별·해석·연결된 입지분석을 완성하겠습니다.',\n",
       "  'nearby_market': '대상지: 분당구 정자동 백현로 206 일대(한솔마을4단지 인근)\\n기준일: 2025-10-26\\n\\n1) 주변 매매가(반경 1km, 유사 연식/유사 평형, 최근 6~12개월)\\n- 비교 조건: 전용 80~85㎡, 준공 1994~2007년(±3~5년 범), 2024-10~2025-09 실거래 기반. 평단가는 매매가(만원) ÷ [전용면적(㎡)/3.3].\\n- 표본 메모(단지명·전용·층·거래월·총액→평단):\\n  - 한솔마을(1단지)(청구) 84.965㎡, 4층, 2025-09, 149,000 → 약 5,788만원/3.3㎡\\n  - 정든마을(2단지)(동아) 84.97㎡, 15층, 2025-09, 140,000 → 약 5,435만원/3.3㎡\\n  - 정든마을(6단지)(우성) 84.97㎡, 3층, 2025-08, 148,000 → 약 5,749만원/3.3㎡\\n  - 상록마을(임광) 84.97㎡, 12층, 2025-08, 173,800 → 약 6,752만원/3.3㎡\\n  - 성원상떼뷰101동 84.95㎡, 10층, 2024-10, 158,000 → 약 6,139만원/3.3㎡\\n  - 현대I-PARK1 80.31㎡, 14층, 2024-10, 145,000 → 약 5,957만원/3.3㎡\\n- 요약 지표(84㎡급):\\n  - 평균: 약 5,970만원/3.3㎡\\n  - 중위값: 약 5,873만원/3.3㎡\\n  - 범위: 5,435~6,752만원/3.3㎡\\n  - 참고(신축 재고 앵커): 더샵 분당파크리버 84.97㎡, 22층, 2025-09, 155,000 → 약 6,020만원/3.3㎡\\n- 해석(수치→의미):\\n  - 84㎡급 구축(1990년대 중후반~2000년대 초) 실거래의 체감 평단은 5,800±300만원/3.3㎡가 중심. 브랜드·단지급·층·보수상태에 따라 5,4~6,7천까지 스프레드.\\n  - 2021년 준공 신축 재고(더샵 분당파크리버)도 6,0천 전후에 체결되어, “신축 프리미엄 평단 ≈6,0천대”가 인근 실거래의 상단 가이드로 작동.\\n\\n2) 최근 분양가(반경 2km, 최근 2년)\\n- 확인 결과: 반경 2km 내 2023-10~2025-10 신규 일반분양 단지의 분양가·청약경쟁률·계약조건(중도금 이자/계약금) 공시 자료를 직접 확인할 수 있는 표본 없음(청약홈 팝업·분양공고 미확보).\\n- 대체 앵커:\\n  - 인근 신축 재고 실거래(더샵 분당파크리버 84㎡, 평단≈6,020) → 향후 분양가 상단 판단의 준거치.\\n- 시사점:\\n  - 최근 2년 내 직접 비교할 신규 분양 레퍼런스가 없으므로, 가격 책정은 인근 구축 실거래 중위(≈5,870)와 신축 재고 앵커(≈6,020) 사이에서 브랜드/스펙 보정으로 결정하는 접근이 합리적.\\n  - 흡수력 보완을 위해 통상적 계약조건(계약금 10% 분납, 중도금 일부 무이자 등) 채택 시 수요 저항 완충 효과 기대.\\n\\n3) 경쟁력/리스크 판단\\n- 분양가 vs 주변 매매가 규칙 적용\\n  - 원칙: 주변 매매 중위 대비 ±10% 이내가 적정.\\n  - 중위 평단(≈5,873) 기준:\\n    - +10% 상단: ≈6,460만원/3.3㎡(전용84 총액 약 16.7억) 초과 시 리스크 경고.\\n    - 신축 재고 앵커(≈6,020)는 중위 대비 +2.5% 수준으로 수용 가능 범위.\\n- 보정 요인\\n  - 가점(+): 정자역 더블역세권(분당선·신분당선), 분당 주요 학군·생활 인프라, 상권·업무 접근성 양호.\\n  - 가점(브랜드/대단지/커뮤니티): 대형 브랜드·대단지·커뮤니티 상급 설계라면 중위 대비 +3~6% 프리미엄 허용 여지.\\n  - 감점(입지/스펙 열위): 중소형 브랜드·세대수 적고 커뮤니티 보통, 비역세권/소음·동강·일조 이슈 시 중위 대비 -2~5% 디스카운트 필요.\\n- 리스크\\n  - 가격대비 체감가치: 6,4천 이상 평단은 신축 재고(더샵 분당파크리버)와 직접 경쟁 구간 진입 → 수요 이탈 가능성.\\n  - 금리·체감 경기: 분당은 방어적 지역이나, 고가 구간일수록 이자 부담 민감 → 중도금 무이자 등 조건의 영향 커짐.\\n  - 레퍼런스 부족: 최근 2년 분양 표본 부재로 수요자 기준점이 ‘인근 실거래’로 수렴 → 구축 중위가 사실상 심리 상한선 역할.\\n\\n4) 결론(단기 3~6개월 시사점 및 제안)\\n- 권장 분양가 밴드(전용 84㎡ 기준)\\n  - 평단 5,600~6,100만원/3.3㎡\\n  - 총액 예시(전용 84.9㎡ 환산 약 25.75평): 약 14.4~15.7억\\n- 포지셔닝\\n  - 구축 84㎡ 매매 중위(≈5,873) 대비 -5%~+4% 구간에 배치 → 인근 실거래와의 합리적 격차 유지.\\n  - 더샵 분당파크리버(신축 재고 앵커, ≈6,020) 대비 동급 또는 소폭 하회하도록 상단(6,100) 관리.\\n- 흡수력·조건\\n  - 중도금 50~60% 무이자, 계약금 10% 분납(5+5), 발코니 무상확장/옵션 할인 등 유동성 지원 시 청약 전환률 개선 기대.\\n- 핵심 리스크(요약)\\n  - 평단 6,400만원/3.3㎡(전용84 약 16.5억) 이상 책정 시: 주변 매매 중위 대비 +9%↑, 신축 재고와의 직접 경쟁 진입 → 청약 흡수 지연·계약률 저하 위험 높음.\\n\\n출처 및 주의\\n- 매매 실거래: 국토교통부 실거래가(2차 가공: aptndm/datainkorea) 기반. 표본: 2024-10~2025-09 체결분.\\n- 최근 2년 분양(2km): 청약홈 팝업·분양공고 표본 미확보로 직접 비교 부재. 실제 분양 시에는 청약홈 경쟁률/1순위 마감 여부·계약조건(중도금 이자·계약금) 확인을 권고.',\n",
       "  'population_insight': '인구·가구·이동(수요층) 분석: 경기도 성남시 분당구 정자동(백현로 206 인근)\\n- 기준일: 2025-10-26 (Asia/Seoul)\\n- 생성시각: 2025-10-26T12:00:00+09:00\\n- 공식 출처 우선: 통계청/KOSIS, 행안부 주민등록통계, SGIS(보조)\\n- facts.meta.series_granularity = {\"age_household\":\"annual\",\"migration\":\"monthly\"}\\n- 현황: ok=false (동·구 단위 정량 시계열 미확보, 아래 errors/notes 참조)\\n\\n1) 연령·가구(연간 해상도)\\n- 분석 대상 버킷(고정): 0–19, 20–34, 35–49, 50–64, 65+ (단위: %, 연말 또는 연평균)\\n- 최근 3~5년 연령대 비중 변화(정자동, 분당구)\\n  • 데이터 미확보(공식 API/총조사 표 추출 필요)\\n  • 참고 정성: 정자동은 1기 신도시(1990년대 입주) 특성상 50–64, 65+ 비중이 구조적으로 상승, 0–19 비중은 하향 가능성이 큼. 판교테크노밸리/정자역 접근성으로 20–34 비중이 지역 평균 대비 상대적으로 방어될 여지.\\n- 가구형태 비중(1인/2인/3인+)\\n  • 데이터 미확보(총조사 2020, SGIS 집계 2016–2023 활용 가능)\\n  • 주석: 가구형태는 총조사 기반(연도주기 상이)이며 읍면동 단위 최신치는 2020(전수) 및 SGIS 연차 집계(2016~2023)로 보완.\\n- 수요 연결 규칙(적용 원칙)\\n  • 20–34세↑·1~2인 가구↑ → 소형(전용 60㎡ 전후) 수요 강화\\n  • 35–49세·3인+·0–19세↑ → 중대형(전용 84㎡+) 수요 강화\\n\\n2) 인구이동(월간 해상도)\\n- 범위: 분당구 전입/전출 및 순이동(명), 최근 12~24개월\\n- 정의/계산\\n  • net = inflow - outflow\\n  • net_flow_rate_pct = (최근 12개월 Σnet / 연평균 주민등록인구) × 100\\n  • recent_trend_12m 분류: ≥+0.10% “순유입”, ≤-0.10% “순유출”, 그 사이 “보합”\\n- 현황(정량): 미확보 → net, net_flow_rate_pct, recent_trend_12m 산출 불가\\n- 정성 가늠: 판교·정자역 직주근접 효과로 청년·직장인 유입이 이어질 가능성. 다만 1기 신도시 전반의 기존 세대 고령화로 중장년층 전출·다운사이징 흐름이 병존.\\n\\n3) 보조 요소(정성)\\n- 학령인구: 수도권 전반 감소(공식 추계/행정통계 공표치와 부합). 분당구 내 학령기 감소는 중대형(특히 4인 가족) 신규 수요를 제약.\\n- 주택 재고/노후도: 1990년대 준공 비중이 높아 리모델링/재건축 이슈 상존 → 신규 분양 시 상대적 선호(특히 역세권·대단지)로 흡수력 보조 가능.\\n- 산업·직주: 판교테크노밸리(IT/게임/바이오) 접근성 → 20–34세 전문직의 임차·소형 매수 수요 뒷받침.\\n\\n4) 종합 판단(인과: 연령·가구·이동 → 수요층 → 흡수력)\\n- 원인\\n  • 연령·가구: 50–64·65+ 비중 상승, 0–19 하락(가능성이 높음) → 핵가족형 중대형의 자연발생 수요는 약화. 1~2인 가구 비중은 수도권 평균 수준 이상일 개연성.\\n  • 이동: 직주근접·역세권 장점으로 20–34세 순유입이 유지된다면, 소형 중심의 실수요/전세 레버리지 수요가 견조.\\n- 결과(수요층)\\n  • 소형: 정성적으로 “강함~보통 상단” 구간. 직주근접·역세권·신축/리모델링 카드가 있으면 분양 흡수력 우수.\\n  • 중대형: “보통~약함”. 학령인구 축소·고령화로 신규 가족형 확장 수요는 제한적. 다만 브랜드·역세권·학군 최상 입지, 또는 희소 대단지 리뉴얼 물량은 선택적 흡수 가능.\\n- 청약/분양 흡수력(단기 3~6개월 시사점)\\n  • 소형(전용 60㎡ 전후): 역세권·직주근접 물량은 지역 외 유입 포함 가점/추첨 경쟁 유지 전망. 가격 탄력성 높음.\\n  • 중대형(84㎡+): 기본 수요는 보수적. 동급 대체재(기존 준신축/리모델링 추진 단지)와의 가격차 조절이 핵심. 학군·커뮤니티·중대형 희소성으로 차별화하면 흡수 가능.\\n  • 리모델링/재건축 변수: 사업 속도·분담금 불확실성은 기존주택 대기수요를 자극, 신규분양과의 경합에 영향.\\n\\n계산/레이블(규정식) 상태\\n- net, net_flow_rate_pct, recent_trend_12m: 산출 불가(데이터 미확보)\\n- derived_demand(표준화 z-score)\\n  • score_small_units = 0.4*z(1·2인 가구 비중) + 0.4*z(20–34세) + 0.2*z(net_flow_rate_pct)\\n  • score_mid_large  = 0.35*z(3인+ 가구 비중) + 0.35*z(35–49세) + 0.30*z(0–19세)\\n  • 현재 z 입력치 부재로 스코어/라벨 산출 불가 → ok=false\\n\\n오류(errors)·비고(notes)\\n- errors\\n  • code: DATA_MISSING, message: 정자동(읍면동) 연령대 비중 최근 3~5년 미확보, path: age_shares.by_year\\n  • code: DATA_MISSING, message: 정자동 가구형태(1/2/3인) 최신연도 미확보, path: household_type_shares\\n  • code: DATA_MISSING, message: 분당구 월별 전입/전출 2023-10~2025-09 미확보 → net, net_flow_rate_pct 계산 불가, path: migration.monthly\\n  • code: STANDARDIZATION_BLOCKED, message: 비교군 시계열 부재로 z-score 산출 불가, path: derived_demand\\n- notes(수집 쿼리 가이드: 공식→보조 우선순)\\n  • 행안부 주민등록 인구이동 API/포털: 성남시 분당구 2023-10~2025-09 월별 전입·전출·순이동, 분당구 연평균 인구\\n  • KOSIS/행안부 주민등록 인구(연령): 정자동 2019~2025 연말(또는 연평균) 연령대(0–19, 20–34, 35–49, 50–64, 65+)\\n  • 통계청 총조사·SGIS: 정자동 가구원수별 가구 비중(1/2/3인+), 2020 전수 + 2016~2023 SGIS 보완\\n  • SGIS 인구피라미드/중위연령: 정자동 최근년\\n  • 벤치마크: 성남시 전체, 분당구 판교동, 용인 수지구(죽전/풍덕천) 연령·가구·이동 동시계열\\n  • 합계검증: 연령·가구 비중 합계≈100%(±0.5%p) 확인 필수\\n  • 정의·단위: 주민등록(외국인 제외) 월말 기준 vs 총조사(전수) 연도 기준 혼용 시 주석 병기\\n\\n상대 비교(정성, 보조)\\n- 분당구(정자동) vs 판교동: 판교동은 20–34·1~2인 가구 비중 더 높을 가능성 → 소형 수요 강도는 판교 ≥ 정자.\\n- 분당구 vs 수지구: 수지(죽전 등) 학령가구 비중이 비교적 높았으나 최근 하락 추세 → 중대형 체감 수요는 두 권역 모두 보수화.\\n\\n다음 실행 제안(데이터 확보 → 재산출)\\n- Step 1: 분당구 월별 전입/전출 24개월 취득 → net, net_flow_rate_pct, recent_trend_12m 산출\\n- Step 2: 정자동 연령 5버킷 2019~2025 확보 → 최근 3~5년 증감 그래프/표\\n- Step 3: 정자동 가구형태(1/2/3인+) 2020·2022·2023 확보 → 소형/중대형 연결계수 적용\\n- Step 4: 벤치마크 3개 권역 동일 세트 확보 → z-score 표준화 후 derived_demand 라벨 확정\\n- Step 5: 결과 업데이트 후 평형 타깃(예: 소형 49~59㎡, 중대형 84㎡+) 별 흡수력 수치화(분양가 민감도 포함)\\n\\n출처 메모(현재 확인 가능 링크)\\n- 행안부 주민등록 고령 인구현황(전국·시도, 2025-09): https://jumin.mois.go.kr/etcStatOldAge.do\\n- SGIS 자료제공(집계구/격자 통계 연차): https://sgis.kostat.go.kr/view/pss/openDataIntrcn\\n- KOSIS 포털/API 일반: https://kosis.kr, https://www.data.go.kr/data/15056860/openapi.do\\n\\n요약 결론\\n- 정자동은 1기 신도시 고령화로 중대형 가족형 신규 수요가 구조적으로 약해지는 가운데, 판교·정자역 직주근접이 20–34세 1~2인 유입을 떠받치는 이중 구조. 정량 수치 확보 전제하에, 단기(3~6개월)에는 소형 중심 흡수력이 상대적으로 견조, 중대형은 가격·브랜드·입지 차별화가 없으면 흡수 지연 가능성이 높다. 정량(연령·가구·이동) 취득 후 z-score 기반 ‘소형=강함/보통/약함’, ‘중대형=강함/보통/약함’을 확정 보고하겠다.',\n",
       "  'supply_demand': '메타\\n- 대상지(광의): 경기도 성남시 분당구(정자동·백현로 206 인근)\\n- 기준일: 2025-10-26 (Asia/Seoul)\\n- 생성시각: 2025-10-26T12:00:00+09:00\\n- series_granularity: monthly\\n- 단위 규칙: 세대(호), 경쟁률(x), 1순위마감률(%), 기간 표기는 YYYY-MM\\n\\n요약\\n- 현재 공식 1차 자료(국토교통부 통계누리·청약홈·KOSIS)의 원시값 미수집 상태입니다. 따라서 시계열 수치·진단스코어는 산출 전 단계이며, 아래 “다음 액션(구체 쿼리)”에 따라 수집 즉시 월별 시계열과 분양성 진단을 확정하겠습니다.\\n\\n1) 공급(Offer)\\n- 신규 분양물량(월별): ok=false\\n  - periods: 미수집\\n  - note: 분당구 2022-01~현재 분양 단지별 모집세대수 확보 필요(청약홈)\\n\\n- 입주물량(준공·입주, 월별): ok=false\\n  - periods: 미수집\\n  - 출처 계획: 국토부 ‘주택건설실적통계’ 엑셀(시군구 월별 준공 세대수)\\n\\n2) 수요(Demand)\\n- 청약 경쟁력: ok=false\\n  - avg_competition_ratio(x): 미산출\\n  - first_priority_closure_rate(%): 미산출\\n  - by_plan_type(전용면적별 가중평균 경쟁률): 미수집\\n  - 산식 정책:\\n    - avg_competition_ratio = Σ(단지 경쟁률×모집세대수)/Σ(모집세대수)\\n    - first_priority_closure_rate(%) = (1순위에서 전세대 마감된 세대수/전체 모집세대수)×100\\n    - 모집세대수 결측 단지는 단순평균 보조로만 반영(정식 산출에서 제외)\\n\\n- 보조 신호: ok=false\\n  - 전입/전출 순이동(분당구, 월/분기): 미수집\\n  - 주택매매심리지수(성남/수도권): 미수집\\n\\n3) 미분양 및 불균형 진단\\n- 미분양(월별): ok=false\\n  - total_unsold_units: 미수집\\n  - by_status(준공전/준공후): 미수집\\n  - by_size(전용면적 구간): 미수집\\n\\n- unsold_per_1k_households: 미산출\\n  - 정의: 미분양세대수/일반가구수×1000 (KOSIS 일반가구수 필요)\\n  - 지역 백분위 밴딩(60개월 분포 기준): 70–85p=관심, 85–95p=위험, ≥95p=공공매입 고려, <70p=지역안정\\n  - 전국 절대 경고선(참고): 약 6.4만/9.9만/13.4만호 구간 병기 예정\\n\\n- 진단 스코어: 미산출\\n  - balance_score = z(unsold_per_1k) − z(avg_competition_ratio) + z(move_in_units_growth)\\n  - 판정 임계: > +0.5 공급과잉, < −0.5 수요우위, 그 외 균형\\n\\n- 스무딩(보조): unsold_ma3, comp_ratio_ma3 → 데이터 확보 후 3개월 이동평균 병행\\n\\n4) 전망(3~6개월): 조건부 가이던스\\n- 예정 분양/입주 캘린더: ok=false (지자체 고시·민간 캘린더 교차 필요)\\n- 분양성 영향 논리(조건부):\\n  - 입주 증가 국면 + 청약 경쟁률 둔화 → 미분양 상향 압력 → 분양가·특화·중도금 조건 경쟁 필요\\n  - 입주 저점 + 청약 흡수력 회복(가중평균 경쟁률↑, 1순위마감률↑) → 미분양 완화 → 가점 경쟁 심화, 중소형 우위 가능\\n  - 금리·심리지수 개선 시 평형별 민감도 차등: 중소형이 선행 회복, 대형은 후행\\n\\n다음 액션(구체 쿼리 및 수집 체크리스트)\\n- 미분양(stat.molit, 국토교통 통계누리 원엑셀 우선)\\n  - 시군구별 월별 2019-01~최신: 성남시 분당구\\n  - 구분: 전체/전용면적 구간/준공전·준공후\\n  - 비고: KOSIS 일부 화면표출 오류 이력 있음 → 통계누리 엑셀 기준값 우선 사용\\n  - 경로 예: 주택 > 미분양주택 통계 > 월별·시군구\\n\\n- 입주(준공)·착공·인허가(주택건설실적통계, 통계누리 엑셀)\\n  - 시군구 월별 2019-01~최신: 성남시 분당구\\n  - 항목: 준공(입주) 세대수 중심, 보조로 착공·인허가 추세\\n\\n- 청약(청약홈)\\n  - 범위: 분당구 2022-01~현재 신규 분양단지(민간·공공)\\n  - 항목: 모집세대수, 1순위(당해/기타) 경쟁률, 평형별 경쟁률, 1순위 마감 여부\\n  - 산출: 모집세대수 가중평균 경쟁률, 세대수 기준 1순위 마감률\\n  - 정책: 모집세대수 결측 단지는 보조 평균으로만 반영\\n\\n- 가구·보급률(KOSIS)\\n  - 일반가구수(성남시 분당구) 2019~최신(연간) → unsold_per_1k 산출\\n  - 주택보급률(가능 시 최근 시도·시군구치) 확보 및 정의 확인(주택수/일반가구수×100)\\n\\n- 보조 지표\\n  - 전입/전출(행안부 주민등록 인구이동, 분당구 월별)\\n  - 한국부동산원 R-ONE 매매심리지수(성남/수도권)\\n\\n- 기술 산출\\n  - 모든 시계열 monthly로 정규화(YYYY-MM)\\n  - unsold_per_1k 60개월 분포로 지역 백분위 밴딩\\n  - balance_score, unsold_ma3, comp_ratio_ma3 산출\\n\\n해석 프레임(수치 → 의미 → 분양성 영향)\\n- 공급: 입주물이 월평균 장기평균 대비 상회하면 단기 청약 흡수력에 부담 → 평균 경쟁률과 1순위마감률 하방 압력 가능\\n- 수요: 가중평균 경쟁률↑·1순위마감률↑는 흡수력 개선을 의미 → 분양가 협상력 강화, 대형 평형은 후행 개선\\n- 미분양: 준공후 미분양 비중↑는 즉시입주 재고 부담을 의미 → 분양성 방어를 위해 옵션·중도금 완화 필요\\n- 상대 비교: 분당은 직주근접·학군 등 구조적 수요가 견조한 편이지만, 실제 수치로 동행/선행 관계를 검증해 결론 도출\\n\\n오류/공백(status)\\n- ok=false\\n- errors:\\n  - 분당구 월별 미분양(준공전/후, 면적구간) 2019-01~최신 미수집\\n  - 분당구 월별 입주(준공) 세대수 2019-01~최신 미수집\\n  - 2022~현재 분당구 신규 분양단지별 모집세대수·경쟁률·1순위마감(평형별 포함) 미수집\\n  - KOSIS 일반가구수(분당구) 시계열 미수집 → unsold_per_1k 미산출\\n  - 전입/전출·심리지수(보조) 미수집\\n- notes:\\n  - 데이터 출처 우선순위: 통계누리 원엑셀(국토부) > 청약홈 원문(경쟁률 팝업/공고문) > KOSIS(가구·보급률)\\n  - KOSIS Q&A에 과거 일부 주택건설실적 시스템 표출 오류 공지됨 → 통계누리 엑셀 참조 권고\\n  - 모든 수치에 단위·시점 표기, 산식(가중평균·세대수 기준) 명시\\n  - 전국 절대 경고선(미분양 재고)은 참고 지표로만 병기\\n\\n요청 드립니다\\n- 위 “다음 액션”에 따라 자료 수집을 진행해도 될까요? 허용 시 수집→정제→월별 시계열 도표화 및 balance_score/진단(공급과잉·균형·수요우위) 확정본을 1차 드리겠습니다.\\n- 특정 분양단지(예: 관심 단지명) 우선 분석을 원하시면 단지명을 알려주세요. 모집세대수 가중으로 빠르게 경쟁률/1순위마감률을 산출해 드리겠습니다.',\n",
       "  'unsold_insight': '분석 메타\\n- 대상지: 경기도 성남시 분당구 정자동 백현로 206 인근\\n- 기준일: 2025-10-26 (Asia/Seoul)\\n- 생성시각: 2025-10-26T00:00:00+09:00\\n- series_granularity: monthly\\n- 단위: 호\\n\\n1) 정의·범위 확인\\n- 미분양: 입주자모집공고 후 계약일 경과에도 선착순 공급 중인 주택(국가승인통계 제116025호, 국토교통부 주택정책과, 월별 시군구 집계).\\n- 준공 후 미분양: 사용검사(준공) 이후에도 남아있는 미분양.\\n- 규모 구분: 2021-11 이후 40㎡이하, 40~60㎡, 60~85㎡, 85㎡초과.\\n- 통계 산출·보고: 분양업체 → 시군구 → 시도 → 국토부. 매월 말 기준치를 다음 달 말 공표. 통계표: 총괄, 시군구별, 규모별, 공사완료후(준공후) 현황.\\n\\n2) 최근 추세(3~5년) — 데이터 상태와 잠정 판단\\n- 데이터 확보 상태\\n  - 국토부 통계누리(시·군·구별/공사완료후/규모별) 월별 시계열(목표 범위: 2021-01~2025-08, YYYY-MM) 미다운로드 상태.\\n  - 경기도 오픈API(시군·군구·읍면동·준공여부·면적 포함) 미호출.\\n- 산출 예정 지표(월별, 분당구)\\n  - 총 미분양(Stock_t), 준공후 미분양(Comp_t), 준공후 비중(Comp_t/Stock_t).\\n  - 규모대 비중: 40↓/40~60/60~85/85↑ share_t.\\n  - 증감률: MoM% = (Stock_t - Stock_{t-1})/Stock_{t-1}, YoY% 유사 정의.\\n  - 지역 기여도: ΔStock(분당구)/ΔStock(수도권 또는 경기도).\\n- 잠정 정성 판단(수치 확정 전)\\n  - 분당구는 성숙 주거지로 신규 분양 파이프라인이 제한적이고, 통상 재고가 낮은 편. 2023~2024년 수도권 외곽 위주 미분양 확대 국면에서도 분당구 중심지는 영향이 제한적이었을 가능성.\\n  - 규모대는 60~85㎡ 실수요형 비중이 클 것으로 예상. 85㎡초과는 물량 자체가 적어 변동성 크나 절대치는 낮을 전망.\\n\\n3) 위험 신호 및 병목 진단 프레임(규칙·판정 기준)\\n- 급증 구간 판정(월별): 3개월 윈도우 누적 증가율 Δ% ≥ +30% 또는 Δ호수 ≥ +100호이면 급증 경보.\\n- 특정 권역·면적대 집중: 특정 면적대 share ≥ 60%가 3개월 이상 지속 시 수요 미스매치 신호.\\n- 준공후 비중 상승: Comp_t/Stock_t ≥ 35%가 3개월 이상이면 재고 경직·현금흐름 압박 위험 상승.\\n- 자금압박 정황: Stock 고점 상단(최근 5년 90퍼센타일) 상회 + 준공후 비중 ≥ 35% 동시 충족 시 High Risk.\\n- 분당구 잠정 진단(데이터 확정 전): 신규 대단지 공급이 드문 정자동/서현·수내 축 특성상 위 임계치 충족 가능성 낮음 → 현 시점 가결론 Low~Moderate Risk. 단, 가격 상향 분양이나 분양가상한제 미적용 고가 물량이 동시 출현 시 리스크 상향 여지.\\n\\n4) 해소 속도·전망(3~6개월)\\n- 해소율 산식(월별):\\n  - clear_rate_t = max(0, -ΔStock_t) / Stock_{t-1}\\n  - median_clear_months: 감소월들의 clear_rate 분포로 현재 Stock 절반이 해소될 중간 소요개월 추정.\\n- 동행/역행 변수:\\n  - 예정 입주·분양 캘린더와 동행(동시에 물량 증가) 시 해소율 둔화, 역행(공급 휴지기) 시 해소율 개선.\\n  - 금리 경로(한국은행 기준금리), 주담대 LTV·DSR, 청약 경쟁률 변화.\\n- 분당구 잠정 시나리오(수치 확정 전)\\n  - 기본 시나리오(재고 ≤ 50호, 준공후 비중 < 20%): clear_rate 10~25%/월, median_clear_months 2~4개월, 단기 해소 가능성 높음.\\n  - 스트레스 시나리오(재고 50~200호, 준공후 비중 ≥ 30% 또는 동시 분양·입주 물량 집중): clear_rate 5~12%/월, median_clear_months 5~7개월, 가격·인센티브 조정 필요.\\n  - 현금흐름 함의: 준공후 비중이 빠르게 상승하지 않는 한 프로젝트 레벨 현금압박은 제한적. 다만 고분양가·특정 대형면적 편중 시 흡수 속도 저하 가능.\\n\\n데이터 확보·재현 계획(구체 쿼리와 절차)\\n- 국토부 통계누리(국가승인통계, 제116025호)\\n  1) 시·군·구별 미분양현황: 2021-01~2025-08, 지역=경기도>성남시 분당구. 엑셀/CSV 다운로드.\\n     URL 예: https://stat.molit.go.kr/portal/cate/statView.do?hRsId=32&hFormId=5328\\n  2) 공사완료후 미분양현황: 동일 기간·지역으로 다운로드.\\n  3) 규모별 미분양현황: 시군구 레벨 규모치 공개 범위 확인. 미노출 시 아래 경기도 API로 보완.\\n- 경기도 오픈API(공동주택 미분양 현황, XML)\\n  - 파라미터 예: 시군명=성남시, 관할군구명=분당구, 관할읍면동명=정자동, 기간=2021-01~2025-08, 준공여부 포함, 전용면적(㎡) → 40↓/40~60/60~85/85↑로 매핑.\\n  - 포털: https://www.data.go.kr/data/15057206/openapi.do\\n- 국토부 분양·입주 캘린더(파일데이터)\\n  - 예정 분양/입주 월별 물량을 분당구 또는 인접 생활권(서현·수내·정자·판교) 기준으로 매칭.\\n- 산출·진단 프로세스(월별, YYYY-MM 고정)\\n  - Stock_t, Comp_t, size_shares_t 계산 → 급증 구간(3M 윈도우 Δ%) → 준공후 비중 추세 → clear_rate_t, median_clear_months → 위험등급(Low/Moderate/High) 부여.\\n\\n현 시점 결론(잠정)\\n- 자료 미확정 상태에서의 가결론: 정자동 백현로 206 인근(분당구 핵심 생활권)은 신규 대규모 분양이 적고 실수요 저변이 두터워 미분양 재고·준공후 비중 모두 낮을 가능성이 큼. 단기(3~6개월) 해소 속도도 우호적일 확률이 높아 분양성/현금흐름 위험은 Low~Moderate로 판단(확정 수치 취득 전 가판정).\\n- 관찰 포인트\\n  - 갑작스런 동시 분양(정자·수내·서현) 또는 판교 테크노밸리 인접 고가·대형 비중 확대\\n  - 준공후 비중 35% 이상 3개월 지속 여부\\n  - 청약경쟁률 하락과 가계대출금리 반등(역행 시 해소율 저하)\\n\\n다음 단계\\n- 통계누리 월별 시계열(2021-01~최신) 다운로드 후 분당구 지표 산출·시각화.\\n- 경기도 오픈API로 정자동 레벨의 규모·준공여부 분포 보완.\\n- 예정 분양/입주 캘린더 결합 후 해소율 재추정 및 최종 위험등급 확정.\\n\\n참고 출처\\n- 국토교통부 통계누리 미분양주택현황보고(시군구/공사완료후/규모별, 월별, 단위: 호)\\n- 『미분양주택현황보고』 통계정보보고서(통계청·국토부, 국가승인통계 제116025호)\\n- 경기도_공동주택 미분양 현황 OpenAPI(시군·군구·읍면동·준공여부·면적 포함)'},\n",
       " 'final_report': '본 보고서는 부동산 마케팅 협회 리서치센터가 2025-10-26(Asia/Seoul) 기준으로 작성한 공식 종합 리서치 결과입니다. 하위 분석원의 정량·정성 결과를 통합하되, 미확보 데이터는 그대로 명기하고, 가격·수요·리스크 판단은 확보된 사실관계와 교육과정 PDF의 전략 원칙을 연결해 해석했습니다.\\n\\n0. 표지 요약(Executive Summary)\\n- 인근 실거래(전용 84㎡급, 2024-10~2025-09) 평단 중위값은 약 5,873만원/3.3㎡이며, 신축 재고 앵커(더샵 분당파크리버 84㎡)는 평단 약 6,020만원/3.3㎡로 확인됩니다. 기준금리 하락(-50bp, 12개월)과 정자권역의 직주·생활 인프라를 고려할 때 실수요 기반 흡수력은 중간 이상일 가능성이 높습니다. [근거: nearby_market, economic_insight]\\n- 권장 분양가(전용 84㎡ 기준): 평단 5,600~6,100만원/3.3㎡(총액 예시: 약 14.4~15.7억원, 옵션·발코니 확장·취득부대비용 제외). 이는 인근 매매 중위 대비 -5%~+4% 구간으로, 신축 재고 앵커(≈6,020)와의 합리적 격차를 유지합니다. [근거: nearby_market; 교육과정 PDF 가격 로직]\\n- 분양 가능성: 소형·중소형 중심으로 “보통~보통 상단”, 중대형은 “보통~약함” 범주로 추정됩니다. 금리 하락이 우호적이나, DSR 관리 기조와 저성장(2025년 GDP 0.8~0.9% 전망)이 대형·고가 수요의 레버리지에 제약 요인으로 작용합니다. [근거: economic_insight, population_insight]\\n- 리스크 핵심: 평단 6,460만원/3.3㎡(+10% 룰 상단) 초과 책정 시 주변 매매 중위 대비 과도한 프리미엄으로 흡수 지연 위험이 높아집니다. 중도금 50~60% 무이자, 계약금 10% 분납 등 체감부담 완화 패키지 도입 시 전환률 개선이 기대됩니다. [근거: nearby_market; 교육과정 PDF 전술]\\n- 데이터 결손: 입지 실보행 지표(도보/분), 분당구 월별 공급·청약·미분양·인구이동의 원시 시계열은 현재 미확보입니다. 본 보고서의 정량 판단 중 일부는 가결론이며, 추후 공식 시계열 취득 후 재판정이 필요합니다. [근거: location_insight, supply_demand, unsold_insight, population_insight]\\n\\n1. 사업환경 분석(입지/생활권/호재)\\n- 교통\\n  - 정자역 더블역세권(분당선·신분당선) 영향권으로 파악되며, 판교테크노밸리와의 직주 접근성이 강점으로 작용합니다. 다만 대상지→역까지의 실보행 거리·시간(분)은 미계산 상태입니다. 교통 편의는 소형·직주근접 수요의 흡수력을 높이고, 중장년층·가족형 수요의 통근 시간 리스크를 완화하는 요인입니다. [근거: nearby_market(가점: 더블역세권), population_insight(판교 직주근접)]\\n- 교육·상권·생활 인프라\\n  - 분당 정자·서현·수내 축의 상권·생활 편의가 성숙 단계이며, 학군 인지도 또한 지역 선택의 주요 요인으로 알려져 있습니다. 이는 분양 시 “신축·대단지·커뮤니티”가 결합되면 체감가치를 높여 중위가 대비 소폭 프리미엄을 정당화할 가능성이 있습니다. 다만 구체적 학교 거리, 대형마트·병원·공공시설 수/거리 데이터는 미확보입니다. [근거: nearby_market(가점 요인 언급)]\\n- 자연·환경\\n  - 공원·수변·혐오시설(소각장·철도·변전소 등)의 직선거리·영향도 평가는 미확보입니다. 정밀 입지 검증 전까지는 소음/일조/동강 등 미시 입지 리스크 관리가 필요합니다. [근거: location_insight ok=false]\\n- 개발호재\\n  - 인근 노선 신설·상업·공공개발의 단계(계획/인허가/착공/준공)는 확인되지 않았습니다. 개발호재가 실증되면 분양가 상단 형성의 정당성(보정 프리미엄) 근거가 되나, 미확인 단계에서는 가격 결정을 보수적으로 유지하는 편이 낫습니다. [근거: location_insight ok=false]\\n- 해석(왜 유리/불리한가)\\n  - 유리: 더블역세권·판교 직주 접근의 구조적 수요 기반은 경기 둔화 국면에서도 상대적으로 방어적입니다.\\n  - 불리: 미시 입지(보행 동선, 소음, 동배치)·학군의 정밀성 검증이 부족하면 분양가 상단 정당성이 약화될 수 있습니다. [근거: nearby_market, population_insight]\\n\\n2. 사업개요(요약 표)\\n- 대상지: 경기도 성남시 분당구 정자동 백현로 206 인근(기준일 2025-10-26)\\n- 규모: 대단지(예정 세대수 총 1,000호)\\n- 브랜드: 해당 데이터는 현재 미확보\\n- 주차비율/지하층/커뮤니티: 해당 데이터는 현재 미확보\\n- 지형/배치/향: 해당 데이터는 현재 미확보\\n- 연면적/용도비중/용적률/건폐율: 해당 데이터는 현재 미확보\\n- 비고: 세부 스펙(브랜드/커뮤니티/층고/설계 특화)은 분양가 상단 결정의 핵심 보정 요인이므로, 확정 전까지 가격 책정은 중립~보수적 포지셔닝 권고 [근거: start_input(결손), nearby_market(보정 요인 규칙)]\\n\\n3. 수요타겟 분석 — SupplyDemand/Population + Economic\\n- 금리·거시 환경(2025-10-26 기준)\\n  - 기준금리 2.50%(2025-10-23 동결), 12개월간 -50bp 하락. 주담대 4.2~5.2%, 중도금(보증부) 4.8~6.0% 추정 범위. 물가 2%대 안정, 2025년 성장 0.8~0.9% 전망. 금리 하락은 체감 부담을 낮추지만, DSR 관리로 차입여력 상향 폭은 제한적입니다. [근거: economic_insight]\\n- 인구·가구 구조(정자/분당권)\\n  - 1기 신도시 특성상 50~64·65+ 비중 상승, 0~19 비중 하락 가능성이 높아 중대형 가족형 신규 수요는 구조적으로 완만합니다. 반면 판교·정자 직주근접으로 20~34세 1~2인 가구 유입은 상대적으로 방어되어 소형·중소형 선호가 강화됩니다(정량 시계열 미확보). [근거: population_insight]\\n- 공급·청약(분당구)\\n  - 분양물량·입주물량·경쟁률·1순위마감률의 월별 시계열은 미확보로 진단 수치 산출 전 단계입니다. 다만 분당 핵심지는 신규 파이프라인이 제한적이라는 점에서 구조적 공급 압박은 크지 않을 개연성이 있습니다(정량 검증 보류). [근거: supply_demand ok=false]\\n- 수요타겟 제언(평형·상품)\\n  - 소형(전용 ~60㎡ 전후): 직주근접·역세권 장점으로 흡수력 우수 가능성. 가점/추첨 혼합 설계 및 합리적 총액 포지셔닝 권고.\\n  - 중소형/기본형(전용 74~84㎡): 지역 표준 평형의 실수요가 두텁되, 가격 민감도 높음 → 주변 구축 중위와의 합리적 격차 확보가 핵심.\\n  - 중대형(84㎡+ 상회): 고가·DSR 민감. 브랜드·커뮤니티·학군·조망·세대 구성 차별화가 없으면 흡수 지연 가능성. [근거: population_insight, economic_insight]\\n- 금융·계약 조건\\n  - 중도금 50~60% 무이자, 계약금 10%(5+5 분납), 일부 옵션 할인/발코니 무상 확장 등 체감부담 완화 패키지는 전환률 제고에 효과적일 가능성이 높습니다. [근거: economic_insight(체감금리·DSR 제약), nearby_market(조건 시사)]\\n\\n4. 인근 시세·분양 비교 — ±10% 룰, 보정·리스크\\n- 실거래(반경 ~1km, 전용 84㎡급, 2024-10~2025-09)\\n  - 범위: 5,435~6,752만원/3.3㎡, 평균 ≈ 5,970, 중위 ≈ 5,873만원/3.3㎡.\\n  - 신축 재고 앵커: 더샵 분당파크리버 84㎡ ≈ 6,020만원/3.3㎡(2025-09). [근거: nearby_market]\\n- 가격 로직 적용(교육과정 PDF)\\n  - 기본: 주변 매매 “세대수 가중 중위” 대비 ±10% 이내 적정.\\n  - 보정: 역세권·학군·브랜드·사양 합산 상한 +8%까지 가능(모형상). 다만 본 건은 최근 분양 레퍼런스 부재로 보수적 적용 권고. [근거: 교육과정 PDF 원칙]\\n- 권장 분양가 밴드(전용 84㎡ 기준)\\n  - 평단 5,600~6,100만원/3.3㎡(중위 대비 -5%~+4%).\\n  - 총액 예시: 약 14.4~15.7억(전용 84.9㎡ 환산 약 25.75평; 옵션·부대비용 제외). [근거: nearby_market; 가격 로직]\\n- 리스크 경고·보정\\n  - 6,460만원/3.3㎡(+10%) 초과 시: 심리적 상단 이탈로 수요 이탈 및 계약률 저하 위험 상승. 신축 재고 앵커(≈6,020)와 직접 경쟁 구간 진입. [근거: nearby_market]\\n  - 보정 프리미엄: 대단지·상급 커뮤니티·브랜드·역세권 결합 시 중위 대비 +3~6% 여지. 단, 입지/스펙 열위·소음·일조 이슈 존재 시 -2~5% 디스카운트 필요. [근거: nearby_market]\\n\\n5. 미분양 심화 — UnsoldInsight\\n- 데이터 상태\\n  - 분당구 월별 미분양(총/준공후/면적대) 2021-01~최신 미확보. 해소율·준공후 비중·급증 경보 산출 전 단계. [근거: unsold_insight]\\n- 잠정 판단(정성)\\n  - 분당 핵심 주거지는 신규 대단지 공급이 드물어 미분양 재고와 준공후 비중이 낮을 가능성이 큽니다. 단, 동시 분양·입주 집중 또는 고분양가·대형 편중 시 해소 속도 둔화 리스크가 커집니다. [근거: unsold_insight]\\n- 위험 기준(적용 프레임)\\n  - 3개월 누적 Δ재고 ≥ +30% 또는 +100호: 급증 경보.\\n  - 준공후 비중 ≥ 35% 3개월 지속: 현금흐름 압박 상승.\\n  - 가정별 해소 속도: 재고 ≤ 50호·준공후 < 20% 시 해소 2~4개월; 50~200호·준공후 ≥ 30% 시 5~7개월. [근거: unsold_insight]\\n- 실무 시사점\\n  - 분양가를 중위 밴드 내에 두고, 중도금 무이자·옵션 혜택을 병행할수록 재고 리스크 완충 가능성. 고가·대형 비중 확대 시에는 물량 분할·평형 믹스 조정 권고. [근거: unsold_insight, nearby_market]\\n\\n6. 정책/규제·FAQ — Economic + HousingFAQ\\n- 대출·수요 규제\\n  - 차주단위 DSR 관리 기조 유지. 생애최초·무주택 LTV 일부 완화 기조는 유지 추정이나 최신 고시 미확인. DSR은 고가·대형 평형의 차입한도를 제약해 분양가 상단 형성에 불리하게 작용할 수 있습니다. [근거: economic_insight(정책/규제)]\\n- 분양가상한제·규제지역\\n  - 분당구(정자동)의 현행 조정대상지역·투기과열지구·상한제 적용 여부는 미확인. 지정 시 분양가 상방 제한과 전매·청약 제한이 강화되어 투자성 수요는 선별될 가능성. 미지정 시 상대적으로 가격 자율성과 수요 유입이 확대됩니다. [근거: economic_insight(지역 정책 미확인)]\\n- 금리 경로·심리\\n  - 기준금리 2.50% 유지 기조 속 추가 10~30bp 완화 여지는 존재하나, 스트레스 DSR 등 거시건전성 강화가 병행되면 체감 개선 폭은 제한될 수 있습니다. [근거: economic_insight]\\n- FAQ(주요 문의 예상)\\n  - Q: 중도금 대출 금리는 얼마나 보나? A: 최근 체감 4.8~6.0%(보증부·집단 기준) 추정이나 은행·보증기관 최신 공시 확인 필요. 중도금 무이자 설계가 전환률에 유효. [근거: economic_insight]\\n  - Q: 분양가 상한 검토 기준은? A: 주변 매매 중위 대비 ±10% 룰을 1차 적용, 역세권·브랜드·사양 보정 상한 +8% 내에서 합리화. 신축 재고 앵커와의 괴리를 추가 점검. [근거: 교육과정 PDF, nearby_market]\\n  - Q: 규제지역 여부가 미확정인데 분양 전략은? A: 지정 가능성을 보수적으로 가정해 가점수요 중심 타깃, 중도금 무이자/분납 등 체감부담 완화 중심으로 설계. [근거: economic_insight]\\n\\n7. 종합결론 — 권장 분양가 밴드/전략/핵심 리스크·완화책\\n- 분양 가능성(요지)\\n  - 금리 하락과 정자·판교 직주 인프라가 실수요를 지지, 소형·중소형 중심으로 평균 이상 흡수 가능성이 높습니다. 다만 DSR·저성장 여파로 대형·고가 물량은 선별적 흡수에 그칠 개연성이 큽니다. [근거: economic_insight, population_insight]\\n- 권장 분양가 밴드(전용 84㎡ 기준)\\n  - 평단 5,600~6,100만원/3.3㎡(총액 약 14.4~15.7억). 이는 주변 매매 중위(≈5,873) 대비 -5%~+4%로, 교육과정 PDF의 ±10% 룰과 인근 신축 재고 앵커(≈6,020)에 정합적입니다. [근거: nearby_market, 교육과정 PDF]\\n- 가격·상품·금융 조건(패키지)\\n  - 가격: 신축 재고 앵커(≈6,020) 이내에서 상단 관리, 6,460 초과 금지(경고선).\\n  - 상품: 대단지 커뮤니티·동선·채광·저층부 기획·팬트리/수납·빌트인 패키지로 체감가치 강화.\\n  - 금융: 중도금 50~60% 무이자, 계약금 10%(5+5 분납), 발코니 무상확장·옵션 할인. [근거: nearby_market, economic_insight]\\n- 핵심 리스크와 완화\\n  - 가격 리스크: 평단 6,400~6,460 상단 접근 시 수요 이탈 → 상단 회피 및 조건 보강.\\n  - 수요 미스매치: 중대형 비중 과다 시 흡수 지연 → 소형·중소형 비중 확대, 대형은 조망·테라스·팬트리 등 희소특화.\\n  - 정책·금융: 규제지역 지정·DSR 강화 시 한도 축소 → 중도금 무이자·고정 혼합형 제시, 옵션가 인하로 총부담 완화. [근거: nearby_market, economic_insight, population_insight]\\n- 다음 단계(데이터 보강·재판정)\\n  - 입지 정밀: 대상지 좌표·주출입구 기준 실보행(도보/분), POI(반경 1km), 혐오시설 거리·영향 산출. [근거: location_insight]\\n  - 시계열 확보: 분당구 월별 미분양(총/준공후/면적), 입주·분양, 청약경쟁률·1순위마감률, 전입·전출(행안부) 수집→balance_score 산출. [근거: supply_demand, unsold_insight, population_insight]\\n  - 가격 재정렬: HUG 보증가이드(해당 시), 청약홈 최근 2년 인근 분양가·경쟁률·계약조건 팝업 확인 후 밴드 재점검. [근거: nearby_market]\\n\\n부록 A. 데이터 결손 및 재수집 제안(refetch_suggestions)\\n- 입지(정밀)\\n  - 필요: 정확 좌표/주출입구, 도보 경로 기준 역/학교/마트/병원 실보행(분·m), 반경 1km POI 집계, 혐오시설 거리·영향도.\\n  - 쿼리: 네이버·카카오 실보행, SGIS·지자체 시설데이터. [근거: location_insight]\\n- 공급·수요·청약(월별)\\n  - 필요: 2021-01~최신 분당구 분양물량·입주물량, 단지별 경쟁률·1순위마감률(평형별).\\n  - 출처: 청약홈 원문 팝업/공고, 국토부 주택건설실적통계(월별 시군구), 한국부동산원 R-ONE(보조). [근거: supply_demand]\\n- 미분양(월별)\\n  - 필요: 시군구 총/준공후/면적대 월별 시계열, 2021-01~최신.\\n  - 출처: 국토부 통계누리 원엑셀(국가승인통계 제116025호), 경기도 미분양 OpenAPI(읍면동 보완). [근거: unsold_insight]\\n- 인구·가구·이동\\n  - 필요: 정자동 연령 5버킷(2019~2025), 가구형태(1/2/3인+), 분당구 월별 전입/전출 24개월.\\n  - 출처: KOSIS/행안부 주민등록/총조사, SGIS. [근거: population_insight]\\n- 규제·정책\\n  - 필요: 분당구 규제지역·상한제 적용 여부 최신 고시, LTV/DSR 조문 변경 및 시행일. \\n  - 출처: 국토부·금융위·지자체 고시·보도자료. [근거: economic_insight]\\n\\n부록 B. Citations(주요 주장 ↔ 근거 매핑)\\n- 84㎡급 인근 실거래 중위 ≈ 5,873만원/3.3㎡, 범위 5,435~6,752, 신축 앵커 ≈ 6,020\\n  - source: analysis_outputs.nearby_market → “1) 주변 매매가” 및 “요약 지표(84㎡급)”\\n- 권장 분양가 5,600~6,100만원/3.3㎡, 총액 14.4~15.7억, +10% 경고선(6,460)\\n  - source: analysis_outputs.nearby_market → “결론(권장 밴드)·±10% 규칙”\\n  - source: 교육과정 PDF(rag_test) → 가격 로직: ±10% 룰, 보정 상한 +8% (page: 미확인)\\n- 기준금리 2.50%(2025-10-23), 12개월 -50bp, 주담대·중도금 체감 범위, 물가·성장 전망\\n  - source: analysis_outputs.economic_insight → “금리/신용여건, 거시지표/심리”\\n- 인구·가구 구조(고령화·소형 선호) 및 수요층 해석\\n  - source: analysis_outputs.population_insight → “정성 결론 및 수요 연결 규칙”\\n- 미분양 리스크 프레임(급증 기준·준공후 비중·해소 속도 시나리오)\\n  - source: analysis_outputs.unsold_insight → “위험 신호·해소 속도·전망”\\n- 데이터 결손 현황 및 재수집 체크리스트\\n  - source: analysis_outputs.location_insight/supply_demand/population_insight/unsold_insight → 각 ok=false와 수집 가이드 항목\\n\\n주의 및 한계\\n- 본 보고서는 제공된 analysis_outputs의 범위 내에서 작성되었으며, 미확보 데이터는 생성·추정하지 않았습니다. 정밀 분양가 산정·청약 전략 수립 전, 부록 A의 재수집 제안에 따라 공식 원시 시계열 및 입지 실보행 데이터를 우선 확보하시기 바랍니다.',\n",
       " 'status': 'RENDERING'}"
      ]
     },
     "execution_count": 5,
     "metadata": {},
     "output_type": "execute_result"
    }
   ],
   "source": [
    "result"
   ]
  },
  {
   "cell_type": "code",
   "execution_count": 6,
   "id": "b1670b30",
   "metadata": {},
   "outputs": [
    {
     "name": "stdout",
     "output_type": "stream",
     "text": [
      "본 보고서는 부동산 마케팅 협회 리서치센터가 2025-10-26(Asia/Seoul) 기준으로 작성한 공식 종합 리서치 결과입니다. 하위 분석원의 정량·정성 결과를 통합하되, 미확보 데이터는 그대로 명기하고, 가격·수요·리스크 판단은 확보된 사실관계와 교육과정 PDF의 전략 원칙을 연결해 해석했습니다.\n",
      "\n",
      "0. 표지 요약(Executive Summary)\n",
      "- 인근 실거래(전용 84㎡급, 2024-10~2025-09) 평단 중위값은 약 5,873만원/3.3㎡이며, 신축 재고 앵커(더샵 분당파크리버 84㎡)는 평단 약 6,020만원/3.3㎡로 확인됩니다. 기준금리 하락(-50bp, 12개월)과 정자권역의 직주·생활 인프라를 고려할 때 실수요 기반 흡수력은 중간 이상일 가능성이 높습니다. [근거: nearby_market, economic_insight]\n",
      "- 권장 분양가(전용 84㎡ 기준): 평단 5,600~6,100만원/3.3㎡(총액 예시: 약 14.4~15.7억원, 옵션·발코니 확장·취득부대비용 제외). 이는 인근 매매 중위 대비 -5%~+4% 구간으로, 신축 재고 앵커(≈6,020)와의 합리적 격차를 유지합니다. [근거: nearby_market; 교육과정 PDF 가격 로직]\n",
      "- 분양 가능성: 소형·중소형 중심으로 “보통~보통 상단”, 중대형은 “보통~약함” 범주로 추정됩니다. 금리 하락이 우호적이나, DSR 관리 기조와 저성장(2025년 GDP 0.8~0.9% 전망)이 대형·고가 수요의 레버리지에 제약 요인으로 작용합니다. [근거: economic_insight, population_insight]\n",
      "- 리스크 핵심: 평단 6,460만원/3.3㎡(+10% 룰 상단) 초과 책정 시 주변 매매 중위 대비 과도한 프리미엄으로 흡수 지연 위험이 높아집니다. 중도금 50~60% 무이자, 계약금 10% 분납 등 체감부담 완화 패키지 도입 시 전환률 개선이 기대됩니다. [근거: nearby_market; 교육과정 PDF 전술]\n",
      "- 데이터 결손: 입지 실보행 지표(도보/분), 분당구 월별 공급·청약·미분양·인구이동의 원시 시계열은 현재 미확보입니다. 본 보고서의 정량 판단 중 일부는 가결론이며, 추후 공식 시계열 취득 후 재판정이 필요합니다. [근거: location_insight, supply_demand, unsold_insight, population_insight]\n",
      "\n",
      "1. 사업환경 분석(입지/생활권/호재)\n",
      "- 교통\n",
      "  - 정자역 더블역세권(분당선·신분당선) 영향권으로 파악되며, 판교테크노밸리와의 직주 접근성이 강점으로 작용합니다. 다만 대상지→역까지의 실보행 거리·시간(분)은 미계산 상태입니다. 교통 편의는 소형·직주근접 수요의 흡수력을 높이고, 중장년층·가족형 수요의 통근 시간 리스크를 완화하는 요인입니다. [근거: nearby_market(가점: 더블역세권), population_insight(판교 직주근접)]\n",
      "- 교육·상권·생활 인프라\n",
      "  - 분당 정자·서현·수내 축의 상권·생활 편의가 성숙 단계이며, 학군 인지도 또한 지역 선택의 주요 요인으로 알려져 있습니다. 이는 분양 시 “신축·대단지·커뮤니티”가 결합되면 체감가치를 높여 중위가 대비 소폭 프리미엄을 정당화할 가능성이 있습니다. 다만 구체적 학교 거리, 대형마트·병원·공공시설 수/거리 데이터는 미확보입니다. [근거: nearby_market(가점 요인 언급)]\n",
      "- 자연·환경\n",
      "  - 공원·수변·혐오시설(소각장·철도·변전소 등)의 직선거리·영향도 평가는 미확보입니다. 정밀 입지 검증 전까지는 소음/일조/동강 등 미시 입지 리스크 관리가 필요합니다. [근거: location_insight ok=false]\n",
      "- 개발호재\n",
      "  - 인근 노선 신설·상업·공공개발의 단계(계획/인허가/착공/준공)는 확인되지 않았습니다. 개발호재가 실증되면 분양가 상단 형성의 정당성(보정 프리미엄) 근거가 되나, 미확인 단계에서는 가격 결정을 보수적으로 유지하는 편이 낫습니다. [근거: location_insight ok=false]\n",
      "- 해석(왜 유리/불리한가)\n",
      "  - 유리: 더블역세권·판교 직주 접근의 구조적 수요 기반은 경기 둔화 국면에서도 상대적으로 방어적입니다.\n",
      "  - 불리: 미시 입지(보행 동선, 소음, 동배치)·학군의 정밀성 검증이 부족하면 분양가 상단 정당성이 약화될 수 있습니다. [근거: nearby_market, population_insight]\n",
      "\n",
      "2. 사업개요(요약 표)\n",
      "- 대상지: 경기도 성남시 분당구 정자동 백현로 206 인근(기준일 2025-10-26)\n",
      "- 규모: 대단지(예정 세대수 총 1,000호)\n",
      "- 브랜드: 해당 데이터는 현재 미확보\n",
      "- 주차비율/지하층/커뮤니티: 해당 데이터는 현재 미확보\n",
      "- 지형/배치/향: 해당 데이터는 현재 미확보\n",
      "- 연면적/용도비중/용적률/건폐율: 해당 데이터는 현재 미확보\n",
      "- 비고: 세부 스펙(브랜드/커뮤니티/층고/설계 특화)은 분양가 상단 결정의 핵심 보정 요인이므로, 확정 전까지 가격 책정은 중립~보수적 포지셔닝 권고 [근거: start_input(결손), nearby_market(보정 요인 규칙)]\n",
      "\n",
      "3. 수요타겟 분석 — SupplyDemand/Population + Economic\n",
      "- 금리·거시 환경(2025-10-26 기준)\n",
      "  - 기준금리 2.50%(2025-10-23 동결), 12개월간 -50bp 하락. 주담대 4.2~5.2%, 중도금(보증부) 4.8~6.0% 추정 범위. 물가 2%대 안정, 2025년 성장 0.8~0.9% 전망. 금리 하락은 체감 부담을 낮추지만, DSR 관리로 차입여력 상향 폭은 제한적입니다. [근거: economic_insight]\n",
      "- 인구·가구 구조(정자/분당권)\n",
      "  - 1기 신도시 특성상 50~64·65+ 비중 상승, 0~19 비중 하락 가능성이 높아 중대형 가족형 신규 수요는 구조적으로 완만합니다. 반면 판교·정자 직주근접으로 20~34세 1~2인 가구 유입은 상대적으로 방어되어 소형·중소형 선호가 강화됩니다(정량 시계열 미확보). [근거: population_insight]\n",
      "- 공급·청약(분당구)\n",
      "  - 분양물량·입주물량·경쟁률·1순위마감률의 월별 시계열은 미확보로 진단 수치 산출 전 단계입니다. 다만 분당 핵심지는 신규 파이프라인이 제한적이라는 점에서 구조적 공급 압박은 크지 않을 개연성이 있습니다(정량 검증 보류). [근거: supply_demand ok=false]\n",
      "- 수요타겟 제언(평형·상품)\n",
      "  - 소형(전용 ~60㎡ 전후): 직주근접·역세권 장점으로 흡수력 우수 가능성. 가점/추첨 혼합 설계 및 합리적 총액 포지셔닝 권고.\n",
      "  - 중소형/기본형(전용 74~84㎡): 지역 표준 평형의 실수요가 두텁되, 가격 민감도 높음 → 주변 구축 중위와의 합리적 격차 확보가 핵심.\n",
      "  - 중대형(84㎡+ 상회): 고가·DSR 민감. 브랜드·커뮤니티·학군·조망·세대 구성 차별화가 없으면 흡수 지연 가능성. [근거: population_insight, economic_insight]\n",
      "- 금융·계약 조건\n",
      "  - 중도금 50~60% 무이자, 계약금 10%(5+5 분납), 일부 옵션 할인/발코니 무상 확장 등 체감부담 완화 패키지는 전환률 제고에 효과적일 가능성이 높습니다. [근거: economic_insight(체감금리·DSR 제약), nearby_market(조건 시사)]\n",
      "\n",
      "4. 인근 시세·분양 비교 — ±10% 룰, 보정·리스크\n",
      "- 실거래(반경 ~1km, 전용 84㎡급, 2024-10~2025-09)\n",
      "  - 범위: 5,435~6,752만원/3.3㎡, 평균 ≈ 5,970, 중위 ≈ 5,873만원/3.3㎡.\n",
      "  - 신축 재고 앵커: 더샵 분당파크리버 84㎡ ≈ 6,020만원/3.3㎡(2025-09). [근거: nearby_market]\n",
      "- 가격 로직 적용(교육과정 PDF)\n",
      "  - 기본: 주변 매매 “세대수 가중 중위” 대비 ±10% 이내 적정.\n",
      "  - 보정: 역세권·학군·브랜드·사양 합산 상한 +8%까지 가능(모형상). 다만 본 건은 최근 분양 레퍼런스 부재로 보수적 적용 권고. [근거: 교육과정 PDF 원칙]\n",
      "- 권장 분양가 밴드(전용 84㎡ 기준)\n",
      "  - 평단 5,600~6,100만원/3.3㎡(중위 대비 -5%~+4%).\n",
      "  - 총액 예시: 약 14.4~15.7억(전용 84.9㎡ 환산 약 25.75평; 옵션·부대비용 제외). [근거: nearby_market; 가격 로직]\n",
      "- 리스크 경고·보정\n",
      "  - 6,460만원/3.3㎡(+10%) 초과 시: 심리적 상단 이탈로 수요 이탈 및 계약률 저하 위험 상승. 신축 재고 앵커(≈6,020)와 직접 경쟁 구간 진입. [근거: nearby_market]\n",
      "  - 보정 프리미엄: 대단지·상급 커뮤니티·브랜드·역세권 결합 시 중위 대비 +3~6% 여지. 단, 입지/스펙 열위·소음·일조 이슈 존재 시 -2~5% 디스카운트 필요. [근거: nearby_market]\n",
      "\n",
      "5. 미분양 심화 — UnsoldInsight\n",
      "- 데이터 상태\n",
      "  - 분당구 월별 미분양(총/준공후/면적대) 2021-01~최신 미확보. 해소율·준공후 비중·급증 경보 산출 전 단계. [근거: unsold_insight]\n",
      "- 잠정 판단(정성)\n",
      "  - 분당 핵심 주거지는 신규 대단지 공급이 드물어 미분양 재고와 준공후 비중이 낮을 가능성이 큽니다. 단, 동시 분양·입주 집중 또는 고분양가·대형 편중 시 해소 속도 둔화 리스크가 커집니다. [근거: unsold_insight]\n",
      "- 위험 기준(적용 프레임)\n",
      "  - 3개월 누적 Δ재고 ≥ +30% 또는 +100호: 급증 경보.\n",
      "  - 준공후 비중 ≥ 35% 3개월 지속: 현금흐름 압박 상승.\n",
      "  - 가정별 해소 속도: 재고 ≤ 50호·준공후 < 20% 시 해소 2~4개월; 50~200호·준공후 ≥ 30% 시 5~7개월. [근거: unsold_insight]\n",
      "- 실무 시사점\n",
      "  - 분양가를 중위 밴드 내에 두고, 중도금 무이자·옵션 혜택을 병행할수록 재고 리스크 완충 가능성. 고가·대형 비중 확대 시에는 물량 분할·평형 믹스 조정 권고. [근거: unsold_insight, nearby_market]\n",
      "\n",
      "6. 정책/규제·FAQ — Economic + HousingFAQ\n",
      "- 대출·수요 규제\n",
      "  - 차주단위 DSR 관리 기조 유지. 생애최초·무주택 LTV 일부 완화 기조는 유지 추정이나 최신 고시 미확인. DSR은 고가·대형 평형의 차입한도를 제약해 분양가 상단 형성에 불리하게 작용할 수 있습니다. [근거: economic_insight(정책/규제)]\n",
      "- 분양가상한제·규제지역\n",
      "  - 분당구(정자동)의 현행 조정대상지역·투기과열지구·상한제 적용 여부는 미확인. 지정 시 분양가 상방 제한과 전매·청약 제한이 강화되어 투자성 수요는 선별될 가능성. 미지정 시 상대적으로 가격 자율성과 수요 유입이 확대됩니다. [근거: economic_insight(지역 정책 미확인)]\n",
      "- 금리 경로·심리\n",
      "  - 기준금리 2.50% 유지 기조 속 추가 10~30bp 완화 여지는 존재하나, 스트레스 DSR 등 거시건전성 강화가 병행되면 체감 개선 폭은 제한될 수 있습니다. [근거: economic_insight]\n",
      "- FAQ(주요 문의 예상)\n",
      "  - Q: 중도금 대출 금리는 얼마나 보나? A: 최근 체감 4.8~6.0%(보증부·집단 기준) 추정이나 은행·보증기관 최신 공시 확인 필요. 중도금 무이자 설계가 전환률에 유효. [근거: economic_insight]\n",
      "  - Q: 분양가 상한 검토 기준은? A: 주변 매매 중위 대비 ±10% 룰을 1차 적용, 역세권·브랜드·사양 보정 상한 +8% 내에서 합리화. 신축 재고 앵커와의 괴리를 추가 점검. [근거: 교육과정 PDF, nearby_market]\n",
      "  - Q: 규제지역 여부가 미확정인데 분양 전략은? A: 지정 가능성을 보수적으로 가정해 가점수요 중심 타깃, 중도금 무이자/분납 등 체감부담 완화 중심으로 설계. [근거: economic_insight]\n",
      "\n",
      "7. 종합결론 — 권장 분양가 밴드/전략/핵심 리스크·완화책\n",
      "- 분양 가능성(요지)\n",
      "  - 금리 하락과 정자·판교 직주 인프라가 실수요를 지지, 소형·중소형 중심으로 평균 이상 흡수 가능성이 높습니다. 다만 DSR·저성장 여파로 대형·고가 물량은 선별적 흡수에 그칠 개연성이 큽니다. [근거: economic_insight, population_insight]\n",
      "- 권장 분양가 밴드(전용 84㎡ 기준)\n",
      "  - 평단 5,600~6,100만원/3.3㎡(총액 약 14.4~15.7억). 이는 주변 매매 중위(≈5,873) 대비 -5%~+4%로, 교육과정 PDF의 ±10% 룰과 인근 신축 재고 앵커(≈6,020)에 정합적입니다. [근거: nearby_market, 교육과정 PDF]\n",
      "- 가격·상품·금융 조건(패키지)\n",
      "  - 가격: 신축 재고 앵커(≈6,020) 이내에서 상단 관리, 6,460 초과 금지(경고선).\n",
      "  - 상품: 대단지 커뮤니티·동선·채광·저층부 기획·팬트리/수납·빌트인 패키지로 체감가치 강화.\n",
      "  - 금융: 중도금 50~60% 무이자, 계약금 10%(5+5 분납), 발코니 무상확장·옵션 할인. [근거: nearby_market, economic_insight]\n",
      "- 핵심 리스크와 완화\n",
      "  - 가격 리스크: 평단 6,400~6,460 상단 접근 시 수요 이탈 → 상단 회피 및 조건 보강.\n",
      "  - 수요 미스매치: 중대형 비중 과다 시 흡수 지연 → 소형·중소형 비중 확대, 대형은 조망·테라스·팬트리 등 희소특화.\n",
      "  - 정책·금융: 규제지역 지정·DSR 강화 시 한도 축소 → 중도금 무이자·고정 혼합형 제시, 옵션가 인하로 총부담 완화. [근거: nearby_market, economic_insight, population_insight]\n",
      "- 다음 단계(데이터 보강·재판정)\n",
      "  - 입지 정밀: 대상지 좌표·주출입구 기준 실보행(도보/분), POI(반경 1km), 혐오시설 거리·영향 산출. [근거: location_insight]\n",
      "  - 시계열 확보: 분당구 월별 미분양(총/준공후/면적), 입주·분양, 청약경쟁률·1순위마감률, 전입·전출(행안부) 수집→balance_score 산출. [근거: supply_demand, unsold_insight, population_insight]\n",
      "  - 가격 재정렬: HUG 보증가이드(해당 시), 청약홈 최근 2년 인근 분양가·경쟁률·계약조건 팝업 확인 후 밴드 재점검. [근거: nearby_market]\n",
      "\n",
      "부록 A. 데이터 결손 및 재수집 제안(refetch_suggestions)\n",
      "- 입지(정밀)\n",
      "  - 필요: 정확 좌표/주출입구, 도보 경로 기준 역/학교/마트/병원 실보행(분·m), 반경 1km POI 집계, 혐오시설 거리·영향도.\n",
      "  - 쿼리: 네이버·카카오 실보행, SGIS·지자체 시설데이터. [근거: location_insight]\n",
      "- 공급·수요·청약(월별)\n",
      "  - 필요: 2021-01~최신 분당구 분양물량·입주물량, 단지별 경쟁률·1순위마감률(평형별).\n",
      "  - 출처: 청약홈 원문 팝업/공고, 국토부 주택건설실적통계(월별 시군구), 한국부동산원 R-ONE(보조). [근거: supply_demand]\n",
      "- 미분양(월별)\n",
      "  - 필요: 시군구 총/준공후/면적대 월별 시계열, 2021-01~최신.\n",
      "  - 출처: 국토부 통계누리 원엑셀(국가승인통계 제116025호), 경기도 미분양 OpenAPI(읍면동 보완). [근거: unsold_insight]\n",
      "- 인구·가구·이동\n",
      "  - 필요: 정자동 연령 5버킷(2019~2025), 가구형태(1/2/3인+), 분당구 월별 전입/전출 24개월.\n",
      "  - 출처: KOSIS/행안부 주민등록/총조사, SGIS. [근거: population_insight]\n",
      "- 규제·정책\n",
      "  - 필요: 분당구 규제지역·상한제 적용 여부 최신 고시, LTV/DSR 조문 변경 및 시행일. \n",
      "  - 출처: 국토부·금융위·지자체 고시·보도자료. [근거: economic_insight]\n",
      "\n",
      "부록 B. Citations(주요 주장 ↔ 근거 매핑)\n",
      "- 84㎡급 인근 실거래 중위 ≈ 5,873만원/3.3㎡, 범위 5,435~6,752, 신축 앵커 ≈ 6,020\n",
      "  - source: analysis_outputs.nearby_market → “1) 주변 매매가” 및 “요약 지표(84㎡급)”\n",
      "- 권장 분양가 5,600~6,100만원/3.3㎡, 총액 14.4~15.7억, +10% 경고선(6,460)\n",
      "  - source: analysis_outputs.nearby_market → “결론(권장 밴드)·±10% 규칙”\n",
      "  - source: 교육과정 PDF(rag_test) → 가격 로직: ±10% 룰, 보정 상한 +8% (page: 미확인)\n",
      "- 기준금리 2.50%(2025-10-23), 12개월 -50bp, 주담대·중도금 체감 범위, 물가·성장 전망\n",
      "  - source: analysis_outputs.economic_insight → “금리/신용여건, 거시지표/심리”\n",
      "- 인구·가구 구조(고령화·소형 선호) 및 수요층 해석\n",
      "  - source: analysis_outputs.population_insight → “정성 결론 및 수요 연결 규칙”\n",
      "- 미분양 리스크 프레임(급증 기준·준공후 비중·해소 속도 시나리오)\n",
      "  - source: analysis_outputs.unsold_insight → “위험 신호·해소 속도·전망”\n",
      "- 데이터 결손 현황 및 재수집 체크리스트\n",
      "  - source: analysis_outputs.location_insight/supply_demand/population_insight/unsold_insight → 각 ok=false와 수집 가이드 항목\n",
      "\n",
      "주의 및 한계\n",
      "- 본 보고서는 제공된 analysis_outputs의 범위 내에서 작성되었으며, 미확보 데이터는 생성·추정하지 않았습니다. 정밀 분양가 산정·청약 전략 수립 전, 부록 A의 재수집 제안에 따라 공식 원시 시계열 및 입지 실보행 데이터를 우선 확보하시기 바랍니다.\n"
     ]
    }
   ],
   "source": [
    "print(result['final_report'])"
   ]
  },
  {
   "cell_type": "code",
   "execution_count": null,
   "id": "69d5f644",
   "metadata": {},
   "outputs": [],
   "source": []
  }
 ],
 "metadata": {
  "kernelspec": {
   "display_name": "rag-commander",
   "language": "python",
   "name": "python3"
  },
  "language_info": {
   "codemirror_mode": {
    "name": "ipython",
    "version": 3
   },
   "file_extension": ".py",
   "mimetype": "text/x-python",
   "name": "python",
   "nbconvert_exporter": "python",
   "pygments_lexer": "ipython3",
   "version": "3.12.11"
  }
 },
 "nbformat": 4,
 "nbformat_minor": 5
}
