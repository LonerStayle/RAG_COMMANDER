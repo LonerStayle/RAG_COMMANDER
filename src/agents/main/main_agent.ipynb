{
 "cells": [
  {
   "cell_type": "code",
   "execution_count": 1,
   "id": "2b3e470f",
   "metadata": {},
   "outputs": [
    {
     "name": "stdout",
     "output_type": "stream",
     "text": [
      "/Users/seobi/PythonProjects/RAG_Commander/src\n",
      "/Users/seobi/PythonProjects/RAG_Commander/src/agents/main\n"
     ]
    }
   ],
   "source": [
    "import os, sys\n",
    "from pathlib import Path\n",
    "\n",
    "src_path = Path(os.getcwd()).resolve().parents[1]  \n",
    "sys.path.append(str(src_path))\n",
    "\n",
    "print(sys.path[-1])  \n",
    "import os\n",
    "print(os.getcwd())"
   ]
  },
  {
   "cell_type": "code",
   "execution_count": 2,
   "id": "9efa8f2c",
   "metadata": {},
   "outputs": [
    {
     "name": "stdout",
     "output_type": "stream",
     "text": [
      "Overwriting main_agent.py\n"
     ]
    }
   ],
   "source": [
    "%%writefile main_agent.py\n",
    "from langchain_openai import ChatOpenAI\n",
    "from langgraph.graph.state import Command, Literal\n",
    "from agents.state.start_state import StartConfirmation, StartInput\n",
    "from agents.state.main_state import MainState\n",
    "from utils.enum import LLMProfile\n",
    "from utils.util import get_today_str\n",
    "from langchain_core.messages import HumanMessage, get_buffer_string, AIMessage\n",
    "from langgraph.graph import StateGraph, START, END\n",
    "from prompts import PromptManager, PromptType\n",
    "from agents.analysis.analysis_graph import analysis_graph\n",
    "from agents.jung_min_jae.jung_min_jae_agent import report_graph\n",
    "from copy import deepcopy\n",
    "\n",
    "start_llm = ChatOpenAI(model=LLMProfile.START_COMFIRMATION, temperature=0)\n",
    "messages_key = MainState.KEY.messages\n",
    "start_input_key = MainState.KEY.start_input\n",
    "analysis_outputs_key = MainState.KEY.analysis_outputs\n",
    "status_key = MainState.KEY.status\n",
    "\n",
    "\n",
    "def start_confirmation(\n",
    "    state: MainState,\n",
    ") -> Command[Literal[\"start\", \"__end__\"]]:\n",
    "\n",
    "    parser_llm = start_llm.with_structured_output(StartConfirmation)\n",
    "    messages_str = get_buffer_string(messages=state[messages_key])\n",
    "\n",
    "    prompt = PromptManager(PromptType.MAIN_START_CONFIRMATION).get_prompt(\n",
    "        messages=messages_str\n",
    "    )\n",
    "    response: StartConfirmation = parser_llm.invoke([HumanMessage(content=prompt)])\n",
    "\n",
    "    if response.confirm == False:\n",
    "        return Command(\n",
    "            goto=END, update={messages_key: [AIMessage(content=response.question)]}\n",
    "        )\n",
    "    else:\n",
    "        return Command(\n",
    "            goto=\"start\",\n",
    "            update={messages_key: [AIMessage(content=response.verification)]},\n",
    "        )\n",
    "\n",
    "\n",
    "def start(state: MainState) -> MainState:\n",
    "    parser_model = start_llm.with_structured_output(StartInput)\n",
    "    prompt = PromptManager(PromptType.MAIN_START).get_prompt(\n",
    "        messages=get_buffer_string(state[messages_key]), date=get_today_str()\n",
    "    )\n",
    "    response: StartInput = parser_model.invoke([HumanMessage(content=prompt)])\n",
    "    return {start_input_key: response.model_dump(), status_key: \"ANALYSIS\"}\n",
    "\n",
    "\n",
    "def analysis_graph_node(state: MainState) -> MainState:\n",
    "    result = analysis_graph.invoke({\"start_input\": deepcopy(state[start_input_key])})\n",
    "    return {\n",
    "        \"analysis_outputs\": result.get(\"analysis_outputs\", {}),\n",
    "        status_key: \"JUNG_MIN_JAE\"\n",
    "    }\n",
    "\n",
    "\n",
    "def jung_min_jae_graph(state: MainState) -> MainState:\n",
    "    result = report_graph.invoke({\"start_input\": deepcopy(state[start_input_key]),\n",
    "                                  \"analysis_outputs\": deepcopy(state[analysis_outputs_key])})\n",
    "    return {\n",
    "        \"final_report\": result[\"final_report\"],\n",
    "        status_key:\"RENDERING\"\n",
    "    }\n",
    "\n",
    "\n",
    "graph_builder = StateGraph(MainState)\n",
    "\n",
    "start_confirmation_key = \"start_confirmation\"\n",
    "start_key = \"start\"\n",
    "analysis_graph_key = \"analysis_graph\"\n",
    "jung_min_jae_key = \"jung_min_jae_graph\"\n",
    "\n",
    "graph_builder.add_node(start_confirmation_key, start_confirmation)\n",
    "graph_builder.add_node(start_key, start)\n",
    "graph_builder.add_node(analysis_graph_key, analysis_graph_node)\n",
    "graph_builder.add_node(jung_min_jae_key, jung_min_jae_graph)\n",
    "\n",
    "graph_builder.add_edge(START, start_confirmation_key)\n",
    "graph_builder.add_edge(start_key, analysis_graph_key)\n",
    "graph_builder.add_edge(analysis_graph_key, jung_min_jae_key)\n",
    "graph_builder.add_edge(analysis_graph_key, END)\n"
   ]
  },
  {
   "cell_type": "code",
   "execution_count": 3,
   "id": "df0533bf",
   "metadata": {},
   "outputs": [
    {
     "name": "stderr",
     "output_type": "stream",
     "text": [
      "/Users/seobi/PythonProjects/RAG_Commander/.venv/lib/python3.12/site-packages/tqdm/auto.py:21: TqdmWarning: IProgress not found. Please update jupyter and ipywidgets. See https://ipywidgets.readthedocs.io/en/stable/user_install.html\n",
      "  from .autonotebook import tqdm as notebook_tqdm\n"
     ]
    },
    {
     "data": {
      "image/png": "[encoded data removed]",
      "text/plain": [
       "<langgraph.graph.state.CompiledStateGraph object at 0x11228eea0>"
      ]
     },
     "execution_count": 3,
     "metadata": {},
     "output_type": "execute_result"
    }
   ],
   "source": [
    "from main_agent import graph_builder\n",
    "graph = graph_builder.compile()\n",
    "graph"
   ]
  },
  {
   "cell_type": "code",
   "execution_count": 4,
   "id": "fcfd5a98",
   "metadata": {},
   "outputs": [
    {
     "data": {
      "text/html": [
       "<pre style=\"white-space:pre;overflow-x:auto;line-height:normal;font-family:Menlo,'DejaVu Sans Mono',consolas,'Courier New',monospace\"><span style=\"color: #800000; text-decoration-color: #800000\">╭─────────────────────────────────────────────────── 🧑 Human ────────────────────────────────────────────────────╮</span>\n",
       "<span style=\"color: #800000; text-decoration-color: #800000\">│</span> 경기도 분당구 정자동 백현로 206 근처를 분석하고 싶고 규모는 대단지, 세대수는 1000세대 정도 생각합니다.          <span style=\"color: #800000; text-decoration-color: #800000\">│</span>\n",
       "<span style=\"color: #800000; text-decoration-color: #800000\">╰─────────────────────────────────────────────────────────────────────────────────────────────────────────────────╯</span>\n",
       "</pre>\n"
      ],
      "text/plain": [
       "\u001b[31m╭─\u001b[0m\u001b[31m──────────────────────────────────────────────────\u001b[0m\u001b[31m 🧑 Human \u001b[0m\u001b[31m───────────────────────────────────────────────────\u001b[0m\u001b[31m─╮\u001b[0m\n",
       "\u001b[31m│\u001b[0m 경기도 분당구 정자동 백현로 206 근처를 분석하고 싶고 규모는 대단지, 세대수는 1000세대 정도 생각합니다.          \u001b[31m│\u001b[0m\n",
       "\u001b[31m╰─────────────────────────────────────────────────────────────────────────────────────────────────────────────────╯\u001b[0m\n"
      ]
     },
     "metadata": {},
     "output_type": "display_data"
    },
    {
     "data": {
      "text/html": [
       "<pre style=\"white-space:pre;overflow-x:auto;line-height:normal;font-family:Menlo,'DejaVu Sans Mono',consolas,'Courier New',monospace\"><span style=\"color: #c0c0c0; text-decoration-color: #c0c0c0\">╭───────────────────────────────────────────────────── 📝 AI ─────────────────────────────────────────────────────╮</span>\n",
       "<span style=\"color: #c0c0c0; text-decoration-color: #c0c0c0\">│</span> 보고서 작성을 시작하겠습니다. 요청하신 내용은 경기도 분당구 정자동 백현로 206 근처의 대단지 아파트로, 약        <span style=\"color: #c0c0c0; text-decoration-color: #c0c0c0\">│</span>\n",
       "<span style=\"color: #c0c0c0; text-decoration-color: #c0c0c0\">│</span> 1000세대 규모임을 확인하였습니다. 해당 정보를 바탕으로 분석을 진행하겠습니다.                                   <span style=\"color: #c0c0c0; text-decoration-color: #c0c0c0\">│</span>\n",
       "<span style=\"color: #c0c0c0; text-decoration-color: #c0c0c0\">╰─────────────────────────────────────────────────────────────────────────────────────────────────────────────────╯</span>\n",
       "</pre>\n"
      ],
      "text/plain": [
       "\u001b[37m╭─\u001b[0m\u001b[37m────────────────────────────────────────────────────\u001b[0m\u001b[37m 📝 AI \u001b[0m\u001b[37m────────────────────────────────────────────────────\u001b[0m\u001b[37m─╮\u001b[0m\n",
       "\u001b[37m│\u001b[0m 보고서 작성을 시작하겠습니다. 요청하신 내용은 경기도 분당구 정자동 백현로 206 근처의 대단지 아파트로, 약        \u001b[37m│\u001b[0m\n",
       "\u001b[37m│\u001b[0m 1000세대 규모임을 확인하였습니다. 해당 정보를 바탕으로 분석을 진행하겠습니다.                                   \u001b[37m│\u001b[0m\n",
       "\u001b[37m╰─────────────────────────────────────────────────────────────────────────────────────────────────────────────────╯\u001b[0m\n"
      ]
     },
     "metadata": {},
     "output_type": "display_data"
    }
   ],
   "source": [
    "from utils.format_message import format_message\n",
    "from langchain_core.messages import HumanMessage\n",
    "from langgraph.checkpoint.memory import InMemorySaver\n",
    "from agents.state.main_state import MainState\n",
    "messages_key = MainState.KEY.messages\n",
    "checkpointer = InMemorySaver()\n",
    "graph = graph_builder.compile(checkpointer = checkpointer)\n",
    "\n",
    "thread = {\"configurable\": {\"thread_id\":\"1\"}}\n",
    "result = graph.invoke(\n",
    "    {\n",
    "        messages_key : [HumanMessage(content = \"경기도 분당구 정자동 백현로 206 근처를 분석하고 싶고 규모는 대단지, 세대수는 1000세대 정도 생각합니다. \")]\n",
    "    },\n",
    "    config = thread\n",
    ")\n",
    "\n",
    "format_message(result[messages_key])"
   ]
  },
  {
   "cell_type": "markdown",
   "id": "59bf2917",
   "metadata": {},
   "source": []
  },
  {
   "cell_type": "code",
   "execution_count": 5,
   "id": "971d5bc2",
   "metadata": {},
   "outputs": [
    {
     "data": {
      "text/plain": [
       "{'messages': [HumanMessage(content='경기도 분당구 정자동 백현로 206 근처를 분석하고 싶고 규모는 대단지, 세대수는 1000세대 정도 생각합니다. ', additional_kwargs={}, response_metadata={}, id='07b92c7b-8765-4f34-ba10-4d4256df4c6a'),\n",
       "  AIMessage(content='보고서 작성을 시작하겠습니다. 요청하신 내용은 경기도 분당구 정자동 백현로 206 근처의 대단지 아파트로, 약 1000세대 규모임을 확인하였습니다. 해당 정보를 바탕으로 분석을 진행하겠습니다.', additional_kwargs={}, response_metadata={}, id='4940ef21-5c5d-4de0-bed7-85cac04552f8')],\n",
       " 'start_input': {'target_area': '경기도 분당구 정자동 백현로 206 근처',\n",
       "  'scale': '대단지',\n",
       "  'total_units': 1000,\n",
       "  'units_by_type': None,\n",
       "  'brand': None,\n",
       "  'orientation': None,\n",
       "  'parking_ratio': None,\n",
       "  'terrain_condition': None,\n",
       "  'gross_area': None,\n",
       "  'floor_area_ratio_range': None,\n",
       "  'building_coverage_ratio_range': None},\n",
       " 'analysis_outputs': {'economic_insight': '{\\n  \"spec_version\": \"1.0.0\",\\n  \"generated_at\": \"2025-10-26T10:00:00+09:00\",\\n  \"agent\": \"EconomicInsightAgent\",\\n  \"ok\": true,\\n\\n  \"facts\": {\\n    \"meta\": {\\n      \"target_area\": \"경기도 분당구 정자동 백현로 206 인근\",\\n      \"date\": \"2025-10-25\",\\n      \"source_timezone\": \"Asia/Seoul\"\\n    },\\n\\n    \"rates\": {\\n      \"base_rate\": { \"level_pct\": 3.75, \"decision_date\": \"2025-10-25\" },\\n      \"base_rate_series\": [\\n        { \"period\": \"2024-11\", \"value_pct\": 3.50 },\\n        { \"period\": \"2024-12\", \"value_pct\": 3.50 },\\n        { \"period\": \"2025-01\", \"value_pct\": 3.50 },\\n        { \"period\": \"2025-02\", \"value_pct\": 3.50 },\\n        { \"period\": \"2025-03\", \"value_pct\": 3.75 },\\n        { \"period\": \"2025-04\", \"value_pct\": 3.75 },\\n        { \"period\": \"2025-05\", \"value_pct\": 3.75 },\\n        { \"period\": \"2025-06\", \"value_pct\": 3.75 },\\n        { \"period\": \"2025-07\", \"value_pct\": 3.75 },\\n        { \"period\": \"2025-08\", \"value_pct\": 3.75 },\\n        { \"period\": \"2025-09\", \"value_pct\": 3.75 },\\n        { \"period\": \"2025-10\", \"value_pct\": 3.75 }\\n      ],\\n      \"trend_12m\": \"상승\",\\n      \"mortgage_rate_range_pct\": { \"low\": 3.2, \"high\": 3.8 }\\n    },\\n\\n    \"macro\": {\\n      \"inflation_yoy_pct\": 3.2,\\n      \"inflation_ref_period\": \"2025-09\",\\n      \"gdp_growth_yoy_pct\": 2.5,\\n      \"gdp_ref_period\": \"2025-Q2\",\\n      \"grdp_growth_yoy_pct\": 3.0,\\n      \"grdp_ref_period\": \"2024\",\\n      \"housing_sentiment\": {\\n        \"idx_name\": \"주택매매심리지수\",\\n        \"value\": 95,\\n        \"ref_period\": \"2025-09\",\\n        \"scale_note\": \"100=중립\"\\n      },\\n      \"household_debt_note\": \"가계부채는 높은 수준이며, DSR 규제 강화가 지속되어 주택 수요에 일부 부담으로 작용 중\"\\n    },\\n\\n    \"policies\": {\\n      \"ltv_rule\": {\\n        \"summary\": \"주택담보대출 LTV 60~70% 적용, 일부 조정대상지역은 60% 제한\",\\n        \"basis_doc\": \"금융위원회 고시 2025-07-01\",\\n        \"effective_date\": \"2025-07-01\"\\n      },\\n      \"dti_dsr_rule\": {\\n        \"summary\": \"DTI 및 DSR 규제 강화 유지, DSR 40% 내외 권고 수준\",\\n        \"basis_doc\": \"금융위원회 고시 2025-07-01\",\\n        \"effective_date\": \"2025-07-01\"\\n      },\\n      \"price_ceiling_applicable\": \"yes\",\\n      \"subscription_rule_change\": {\\n        \"summary\": \"무주택자 가점제 강화 및 특별공급 조정\",\\n        \"effective_date\": \"2025-06-15\",\\n        \"basis_doc\": \"국토교통부 보도자료 2025-06-15\"\\n      }\\n    },\\n\\n    \"local_regulations\": {\\n      \"adjustment_area\": {\\n        \"status\": \"yes\",\\n        \"basis_doc\": \"국토교통부 고시 2024-12-15\",\\n        \"effective_date\": \"2024-12-15\"\\n      },\\n      \"overheated_speculation_zone\": {\\n        \"status\": \"yes\",\\n        \"basis_doc\": \"국토교통부 고시 2024-12-15\",\\n        \"effective_date\": \"2024-12-15\"\\n      },\\n      \"land_transaction_permit_zone\": {\\n        \"status\": \"no\",\\n        \"basis_doc\": \"국토교통부 고시 2024-12-15\",\\n        \"effective_date\": \"2024-12-15\"\\n      }\\n    },\\n\\n    \"impacts\": {\\n      \"price_pressure\": \"중립\",\\n      \"demand_absorption\": \"보통\",\\n      \"rationales\": [\\n        \"기준금리 3.75%로 최근 12개월간 상승세가 분양가 상승 압력을 일부 억제함\",\\n        \"분당구 정자동은 조정대상지역 및 투기과열지구로 규제 강화가 수요를 제한하는 요인임\",\\n        \"물가 상승률 3.2%와 GRDP 성장률 3.0%는 완만한 경제 성장으로 수요를 일정 부분 지지함\",\\n        \"청약제도 강화와 LTV/DSR 규제 강화가 대출 여건을 제한하여 수요 흡수력을 보통 수준으로 유지함\"\\n      ]\\n    }\\n  },\\n\\n  \"risks\": [\\n    {\\n      \"category\": \"금리\",\\n      \"risk\": \"기준금리 추가 상승 시 분양가 상승 압력 약화 및 수요 위축 가능성\",\\n      \"likelihood\": \"Med\",\\n      \"impact\": \"Med\"\\n    },\\n    {\\n      \"category\": \"정책\",\\n      \"risk\": \"분양가상한제 및 대출 규제 강화가 과도할 경우 분양시장 위축 우려\",\\n      \"likelihood\": \"Med\",\\n      \"impact\": \"High\"\\n    },\\n    {\\n      \"category\": \"심리\",\\n      \"risk\": \"주택매매심리지수 95점으로 약간 부진한 심리가 지속될 경우 수요 감소 가능성\",\\n      \"likelihood\": \"Med\",\\n      \"impact\": \"Med\"\\n    }\\n  ],\\n\\n  \"citations\": [\\n    {\\n      \"title\": \"한국은행 기준금리 결정 및 시계열\",\\n      \"url\": \"https://www.bok.or.kr/eng/monetary/monetaryPolicy.do\",\\n      \"accessed\": \"2025-10-25\",\\n      \"source_type\": \"official\",\\n      \"evidence_for\": \"/facts/rates/base_rate\"\\n    },\\n    {\\n      \"title\": \"금융위원회 LTV/DTI/DSR 규제 고시\",\\n      \"url\": \"https://www.fsc.go.kr/board/view.do?bbsId=103&nttId=123456\",\\n      \"accessed\": \"2025-10-25\",\\n      \"source_type\": \"official\",\\n      \"evidence_for\": \"/facts/policies/ltv_rule\"\\n    },\\n    {\\n      \"title\": \"국토교통부 분양가상한제 및 청약제도 변경 보도자료\",\\n      \"url\": \"https://www.molit.go.kr/USR/NEWS/m_71/dtl.jsp?id=987654\",\\n      \"accessed\": \"2025-10-25\",\\n      \"source_type\": \"official\",\\n      \"evidence_for\": \"/facts/policies/price_ceiling_applicable\"\\n    },\\n    {\\n      \"title\": \"국토교통부 조정대상지역 및 투기과열지구 고시\",\\n      \"url\": \"https://www.molit.go.kr/USR/NEWS/m_71/dtl.jsp?id=123456\",\\n      \"accessed\": \"2025-10-25\",\\n      \"source_type\": \"official\",\\n      \"evidence_for\": \"/facts/local_regulations/adjustment_area\"\\n    },\\n    {\\n      \"title\": \"통계청 주택매매심리지수 발표\",\\n      \"url\": \"https://kosis.kr/statHtml/statHtml.do?orgId=101&tblId=DT_1IN1501\",\\n      \"accessed\": \"2025-10-25\",\\n      \"source_type\": \"official\",\\n      \"evidence_for\": \"/facts/macro/housing_sentiment\"\\n    }\\n  ],\\n\\n  \"notes\": [],\\n\\n  \"errors\": [],\\n\\n  \"narrative_md\": \"### 거시·정책 환경 요약\\\\n2025년 10월 25일 기준 한국은행 기준금리는 3.75%로, 최근 12개월간 25bp 이상 상승하는 추세를 보이고 있습니다. 주담대 및 중도금 체감금리는 3.2~3.8% 범위로 추정됩니다. 2025년 9월 기준 물가 상승률은 전년동월비 3.2%이며, 2025년 2분기 GDP 성장률은 2.5%, 2024년 경기도 GRDP 성장률은 3.0% 내외로 완만한 경제 성장세를 나타냅니다. 주택매매심리지수는 95점(100점 중립 기준)으로 다소 부진한 수요 심리를 반영합니다.\\\\n\\\\n전국적으로는 2025년 7월 1일 시행된 금융위원회 고시에 따라 LTV는 60~70% 수준이며, DTI 및 DSR 규제는 강화된 상태입니다. 분양가상한제는 경기도 분당구 정자동 일대가 포함된 조정대상지역에 적용 중이며, 청약제도는 무주택자 가점제 강화가 최근 변경사항입니다. 지역 규제로는 경기도 분당구 정자동 백현로 206 인근이 조정대상지역 및 투기과열지구로 지정되어 있으나 토지거래허가구역은 미지정 상태입니다(고시일 2024-12-15).\\\\n\\\\n금리 상승과 정책 규제 강화가 분양가 상승 압력을 일부 억제하는 반면, 물가와 경제 성장률이 완만한 상승세를 유지해 수요는 보통 수준으로 예상됩니다. 이에 따라 3~6개월 내 분양가는 중립 내지 하향, 청약 흡수력은 보통 수준으로 전망됩니다.\"\\n}',\n",
       "  'housing_faq': 'housing_faq_output_test',\n",
       "  'location_insight': '{\\n  \"spec_version\": \"1.0.0\",\\n  \"generated_at\": \"2024-06-01T00:00:00+09:00\",\\n  \"agent\": \"LocationInsightAgent\",\\n  \"ok\": false,\\n  \"facts\": {\\n    \"meta\": {\\n      \"target_area\": \"\",\\n      \"scale\": \"\",\\n      \"total_units\": 0,\\n      \"date\": \"2024-06-01\",\\n      \"target_cbd\": [],\\n      \"target_geo\": {\\n        \"lat\": null,\\n        \"lng\": null\\n      }\\n    },\\n    \"education\": {\\n      \"nearest_elementary\": {\\n        \"name\": \"\",\\n        \"walk_minutes\": 0,\\n        \"distance_m\": 0,\\n        \"route_notes\": \"\"\\n      },\\n      \"cram_zone\": {\\n        \"presence\": false,\\n        \"cluster_desc\": \"\",\\n        \"key_spots\": []\\n      }\\n    },\\n    \"transit\": {\\n      \"metro\": {\\n        \"within_10min\": false,\\n        \"station\": \"\",\\n        \"walk_minutes\": 0,\\n        \"distance_m\": 0\\n      },\\n      \"bus\": {\\n        \"stop_distance_m\": 0,\\n        \"route_variety\": \"\",\\n        \"notes\": \"\"\\n      },\\n      \"commute_core_cbd\": []\\n    },\\n    \"amenities\": {\\n      \"poi_1km_counts\": {\\n        \"mart\": 0,\\n        \"hospital\": 0,\\n        \"bank\": 0,\\n        \"public\": 0\\n      },\\n      \"notable_poi\": []\\n    },\\n    \"environment\": {\\n      \"parks\": [],\\n      \"nuisance\": []\\n    },\\n    \"developments\": [],\\n    \"overall\": {\\n      \"strengths\": [],\\n      \"weaknesses\": [],\\n      \"suitability\": \"\"\\n    }\\n  },\\n  \"risks\": [],\\n  \"citations\": [],\\n  \"notes\": [\\n    \"대상지 위치 정보 미제공으로 인해 초등학교, 지하철역, 버스 정류장, 생활편의시설, 공원, 혐오시설, 개발호재 등 핵심 입지 요소에 대한 실보행 거리 및 시간, POI 개수, 개발 단계와 ETA 등 구체적 데이터 수집 불가.\",\\n    \"대상지의 위도·경도, 인근 주요 시설 위치, 통학로 안전성, 교통 노선 정보, 반경 1km 내 편의시설 분포, 공원 및 혐오시설 위치, 단기 실현 가능한 개발호재 정보 등 추가 정보 필요.\"\\n  ],\\n  \"errors\": [\\n    {\\n      \"code\": \"MISSING_TARGET_INFO\",\\n      \"message\": \"대상지 위치 및 규모 정보 미제공으로 입지분석 불가\",\\n      \"path\": \"/facts/meta/target_area\"\\n    }\\n  ],\\n  \"narrative_md\": \"### 입지 종합 서술\\\\n현재 대상지에 대한 구체적인 위치 정보가 제공되지 않아, 초등학교, 지하철역, 버스 정류장, 생활편의시설, 공원, 혐오시설, 개발호재 등 핵심 입지 요소에 대한 실보행 거리 및 시간, POI 개수, 개발 단계와 ETA 등 구체적 데이터를 확보하지 못하였습니다. 이에 따라 입지 강점과 약점, 통근 시간, 미래가치 평가가 불가능한 상태입니다. 추가적인 위치 정보와 주변 인프라 데이터가 확보되어야 정확한 입지 분석과 분양성 평가가 가능할 것으로 판단됩니다.\"\\n}',\n",
       "  'nearby_market': '{\\n  \"agent\": \"NearbyMarketAgent\",\\n  \"ok\": true,\\n  \"facts\": {\\n    \"reference_unit\": \"3.3sqm\",\\n    \"subject_typical_plan\": \"84\",\\n    \"sale_comps_1km\": [\\n      {\\n        \"complex\": \"A아파트\",\\n        \"year_built\": 2019,\\n        \"plan\": \"84\",\\n        \"trade_month\": \"2024-03\",\\n        \"price_per_3_3m_won\": 3200,\\n        \"source\": \"rt.molit\",\\n        \"notes\": \"15층, 최근 6개월 내 거래\"\\n      },\\n      {\\n        \"complex\": \"B아파트\",\\n        \"year_built\": 2018,\\n        \"plan\": \"84\",\\n        \"trade_month\": \"2024-01\",\\n        \"price_per_3_3m_won\": 3150,\\n        \"source\": \"rt.molit\",\\n        \"notes\": \"10층, 중위값 기준\"\\n      },\\n      {\\n        \"complex\": \"C아파트\",\\n        \"year_built\": 2020,\\n        \"plan\": \"84\",\\n        \"trade_month\": \"2023-12\",\\n        \"price_per_3_3m_won\": 3250,\\n        \"source\": \"rt.molit\",\\n        \"notes\": \"20층, 평균가 기준\"\\n      }\\n    ],\\n    \"presale_comps_2km_recent2y\": [\\n      {\\n        \"complex\": \"D자이\",\\n        \"announce_month\": \"2023-06\",\\n        \"plan\": \"84\",\\n        \"presale_price_per_3_3m_won\": 3400,\\n        \"competition_ratio\": 15.2,\\n        \"first_priority_closed\": \"yes\",\\n        \"contract_terms\": {\\n          \"down_pct\": 10,\\n          \"bridge_loan_interest_free\": \"yes\"\\n        },\\n        \"brand\": \"GS건설\",\\n        \"source\": \"청약홈\"\\n      },\\n      {\\n        \"complex\": \"E래미안\",\\n        \"announce_month\": \"2022-11\",\\n        \"plan\": \"84\",\\n        \"presale_price_per_3_3m_won\": 3350,\\n        \"competition_ratio\": 12.5,\\n        \"first_priority_closed\": \"yes\",\\n        \"contract_terms\": {\\n          \"down_pct\": 10,\\n          \"bridge_loan_interest_free\": \"no\"\\n        },\\n        \"brand\": \"삼성물산\",\\n        \"source\": \"청약홈\"\\n      }\\n    ],\\n    \"relative_position\": {\\n      \"presale_vs_sale_gap_pct\": 5.0,\\n      \"risk_flag\": \"medium\",\\n      \"rationales\": [\\n        \"분양가(3,350~3,400만원/3.3㎡)가 매매가(3,150~3,250만원/3.3㎡) 대비 약 5% 높음\",\\n        \"분양 단지 브랜드(GS건설, 삼성물산) 및 계약조건(중도금 무이자 등) 우수하나, 매매가 대비 프리미엄 존재\",\\n        \"입지 및 교통 여건은 유사하나, 분양 단지 대단지 브랜드 프리미엄 반영 필요\"\\n      ]\\n    },\\n    \"suggested_price_band\": {\\n      \"low_price_per_3_3m_won\": 3100,\\n      \"high_price_per_3_3m_won\": 3350,\\n      \"basis\": \"주변 매매가 중위값(3,150만원) 대비 최대 +6% 수준, 브랜드 및 계약조건 우수 단지와 경쟁 가능 수준 반영\"\\n    }\\n  },\\n  \"risks\": [\\n    \"매매가 대비 분양가 다소 고평가(5% 이상)\",\\n    \"인근에 브랜드 대단지 분양 단지 존재로 경쟁 심화 가능\",\\n    \"계약조건 차이에 따른 흡수력 변동 리스크\"\\n  ],\\n  \"citations\": [\\n    {\\n      \"title\": \"국토교통부 실거래가 공개시스템\",\\n      \"url\": \"http://rt.molit.go.kr\",\\n      \"accessed\": \"2024-06-01\",\\n      \"evidence_for\": \"sale_comps_1km\"\\n    },\\n    {\\n      \"title\": \"청약홈\",\\n      \"url\": \"http://applyhome.co.kr\",\\n      \"accessed\": \"2024-06-01\",\\n      \"evidence_for\": \"presale_comps_2km_recent2y\"\\n    }\\n  ],\\n  \"narrative_md\": \"### 주변 시세·경쟁단지 비교 요약\\\\n\\\\n대상지 반경 1km 내 유사 연식(2018~2020년)과 평형(전용 84㎡) 단지 3곳의 최근 6개월 내 실거래가를 분석한 결과, 3.3㎡당 평균 매매가는 약 3,200만원 내외로 확인되었습니다. 반경 2km 내 최근 2년간 분양한 대단지 브랜드 단지(D자이, E래미안)의 분양가는 3,350~3,400만원/3.3㎡ 수준으로, 매매가 대비 약 5% 높은 프리미엄이 형성되어 있습니다. 분양 단지는 중도금 무이자, 계약금 10% 등 우수한 계약조건과 브랜드 파워를 갖추고 있어 일정 수준의 가격 프리미엄이 합리적이나, 매매가 대비 10% 이내 적정 범위를 초과하지 않아 흡수력에는 중간 정도의 리스크가 존재합니다.\\\\n\\\\n입지 및 교통, 학군 여건은 비교적 유사하나, 브랜드 및 대단지 규모에서 오는 차별화가 분양가에 반영된 것으로 판단됩니다. 따라서 대상지의 적정 분양가 밴드는 3.3㎡당 3,100만원에서 3,350만원 사이로 제안하며, 전용 84㎡ 기준 총액은 약 7억 8천만원에서 8억 4천만원 수준이 적절할 것으로 보입니다.\\\\n\\\\n핵심 리스크는 매매가 대비 다소 높은 분양가와 인근 브랜드 대단지와의 경쟁 심화, 그리고 계약조건 차이에 따른 흡수력 변동 가능성입니다.\"\\n}',\n",
       "  'population_insight': '{\\n  \"spec_version\": \"1.0.0\",\\n  \"generated_at\": \"2025-10-26T15:00:00+09:00\",\\n  \"agent\": \"PopulationInsightAgent\",\\n  \"ok\": true,\\n  \"facts\": {\\n    \"meta\": {\\n      \"target_area\": \"경기도 성남시 분당구 정자동 백현로 206 근처\",\\n      \"date\": \"2025-10-26\",\\n      \"region_level\": \"sigungu\",\\n      \"series_granularity\": {\\n        \"age_household\": \"annual\",\\n        \"migration\": \"monthly\"\\n      },\\n      \"timespan_years\": 5,\\n      \"source_timezone\": \"Asia/Seoul\"\\n    },\\n    \"age_structure\": [\\n      {\\n        \"period\": \"2021\",\\n        \"share_0_19_pct\": 18.5,\\n        \"share_20_34_pct\": 26.0,\\n        \"share_35_49_pct\": 28.0,\\n        \"share_50_64_pct\": 18.0,\\n        \"share_65p_pct\": 9.5,\\n        \"median_age\": 39.2\\n      },\\n      {\\n        \"period\": \"2022\",\\n        \"share_0_19_pct\": 18.3,\\n        \"share_20_34_pct\": 25.8,\\n        \"share_35_49_pct\": 27.7,\\n        \"share_50_64_pct\": 18.3,\\n        \"share_65p_pct\": 9.9,\\n        \"median_age\": 39.5\\n      },\\n      {\\n        \"period\": \"2023\",\\n        \"share_0_19_pct\": 18.0,\\n        \"share_20_34_pct\": 25.5,\\n        \"share_35_49_pct\": 27.5,\\n        \"share_50_64_pct\": 18.5,\\n        \"share_65p_pct\": 10.5,\\n        \"median_age\": 39.8\\n      },\\n      {\\n        \"period\": \"2024\",\\n        \"share_0_19_pct\": 17.8,\\n        \"share_20_34_pct\": 25.3,\\n        \"share_35_49_pct\": 27.3,\\n        \"share_50_64_pct\": 18.7,\\n        \"share_65p_pct\": 11.0,\\n        \"median_age\": 40.1\\n      },\\n      {\\n        \"period\": \"2025\",\\n        \"share_0_19_pct\": 17.5,\\n        \"share_20_34_pct\": 25.0,\\n        \"share_35_49_pct\": 27.0,\\n        \"share_50_64_pct\": 19.0,\\n        \"share_65p_pct\": 11.5,\\n        \"median_age\": 40.4\\n      }\\n    ],\\n    \"household_structure\": {\\n      \"share_1p_pct\": 34.0,\\n      \"share_2p_pct\": 28.0,\\n      \"share_3p_plus_pct\": 38.0,\\n      \"reference_year\": \"2023\"\\n    },\\n    \"migration\": {\\n      \"series\": [\\n        { \"period\": \"2024-11\", \"inflow\": 1200, \"outflow\": 1100, \"net\": 100 },\\n        { \"period\": \"2024-12\", \"inflow\": 1150, \"outflow\": 1120, \"net\": 30 },\\n        { \"period\": \"2025-01\", \"inflow\": 1300, \"outflow\": 1250, \"net\": 50 },\\n        { \"period\": \"2025-02\", \"inflow\": 1250, \"outflow\": 1200, \"net\": 50 },\\n        { \"period\": \"2025-03\", \"inflow\": 1400, \"outflow\": 1350, \"net\": 50 },\\n        { \"period\": \"2025-04\", \"inflow\": 1350, \"outflow\": 1300, \"net\": 50 },\\n        { \"period\": \"2025-05\", \"inflow\": 1450, \"outflow\": 1400, \"net\": 50 },\\n        { \"period\": \"2025-06\", \"inflow\": 1500, \"outflow\": 1450, \"net\": 50 },\\n        { \"period\": \"2025-07\", \"inflow\": 1550, \"outflow\": 1500, \"net\": 50 },\\n        { \"period\": \"2025-08\", \"inflow\": 1600, \"outflow\": 1550, \"net\": 50 },\\n        { \"period\": \"2025-09\", \"inflow\": 1650, \"outflow\": 1600, \"net\": 50 },\\n        { \"period\": \"2025-10\", \"inflow\": 1700, \"outflow\": 1650, \"net\": 50 }\\n      ],\\n      \"net_flow_rate_pct\": 0.15,\\n      \"net_per_1k\": 1.2,\\n      \"recent_trend_12m\": \"순유입\"\\n    },\\n    \"derived_demand\": {\\n      \"target_small_units_signal\": \"강함\",\\n      \"target_mid_large_units_signal\": \"보통\",\\n      \"score_small_units\": 0.45,\\n      \"score_mid_large\": 0.10,\\n      \"rationales\": [\\n        \"1인 및 2인 가구 비중이 62.0%(2023년 기준)로 높아 소형 주택 수요가 강함\",\\n        \"20–34세 연령대 비중이 25.0%(2025년 기준)로 안정적이며, 순유입률 +0.15%(최근 12개월)로 인구 유입이 지속되어 소형 수요를 견인\"\\n      ]\\n    },\\n    \"aux\": {\\n      \"school_age_trend_note\": \"학령인구(0–19세) 비중이 17.5%(2025년)로 완만히 감소 중이나, 여전히 중대형 수요에 일부 기여 가능\",\\n      \"old_age_dependency_ratio_pct\": 20.5,\\n      \"dilapidated_housing_pct\": 5.0\\n    }\\n  },\\n  \"risks\": [\\n    {\\n      \"category\": \"이동\",\\n      \"risk\": \"순유출 지속\",\\n      \"likelihood\": \"Low\",\\n      \"impact\": \"Med\"\\n    },\\n    {\\n      \"category\": \"고령화\",\\n      \"risk\": \"고령화 심화\",\\n      \"likelihood\": \"Med\",\\n      \"impact\": \"High\"\\n    },\\n    {\\n      \"category\": \"미스매치\",\\n      \"risk\": \"1인 가구 집중에 따른 소형 편중/중대형 미스매치\",\\n      \"likelihood\": \"Med\",\\n      \"impact\": \"Med\"\\n    }\\n  ],\\n  \"citations\": [\\n    {\\n      \"title\": \"통계청 KOSIS 인구 및 가구 통계\",\\n      \"url\": \"https://kosis.kr/statisticsList/statisticsListIndex.do?menuId=M_01_01\",\\n      \"accessed\": \"2025-10-26\",\\n      \"source_type\": \"official\",\\n      \"evidence_for\": \"/facts/age_structure\"\\n    },\\n    {\\n      \"title\": \"행안부 주민등록 인구이동 통계\",\\n      \"url\": \"https://www.mois.go.kr/frt/sub/a05/b05/statistics_01/screen.do\",\\n      \"accessed\": \"2025-10-26\",\\n      \"source_type\": \"official\",\\n      \"evidence_for\": \"/facts/migration/series\"\\n    },\\n    {\\n      \"title\": \"SGIS 인구 및 가구 대시보드\",\\n      \"url\": \"https://sgis.kostat.go.kr\",\\n      \"accessed\": \"2025-10-26\",\\n      \"source_type\": \"portal\",\\n      \"evidence_for\": \"/facts/household_structure\"\\n    }\\n  ],\\n  \"notes\": [\\n    \"가구형태 최신 연도 데이터는 2023년 총조사 기준이며, 이후 추계 데이터는 미확보 상태임\",\\n    \"중위연령은 연령구조 통계에서 산출한 추정치임\",\\n    \"순이동률은 최근 12개월(2024-11~2025-10) 합산 기준임\"\\n  ],\\n  \"errors\": []\\n  ,\\n  \"narrative_md\": \"### 인구·가구·이동 요약\\\\n경기도 분당구 정자동 백현로 206 근처는 2021년부터 2025년까지 20–34세 연령대가 26.0%에서 25.0%로 소폭 감소하는 반면, 35–49세는 28.0%에서 27.0%로 완만히 줄고 65세 이상은 9.5%에서 11.5%로 증가해 고령화가 진행 중입니다. 1인 가구 비중은 34.0%(2023년 기준)로 높고 2인 가구 28.0%, 3인 이상 가구 38.0%로 소형 주택 수요가 강한 구조입니다. 최근 12개월간 순유입률 +0.15%p로 인구 유입이 지속되어 20–34세와 1~2인 가구 중심의 소형 수요 신호가 강하게 나타납니다. 학령인구는 완만히 감소 중이나 0–19세 비중 17.5%로 중대형 수요도 일부 유지됩니다. 인접 권역 대비 순유입률이 높아 분양 흡수력은 소형 평형 위주로 강한 편이며, 중대형은 보통 수준으로 평가됩니다. 단기적으로는 소형 평형 중심의 청약 전략이 유리할 것으로 판단됩니다.\"\\n}',\n",
       "  'supply_demand': '{\\n  \"spec_version\": \"1.0.0\",\\n  \"generated_at\": \"2025-10-26T15:00:00+09:00\",\\n  \"agent\": \"SupplyDemandAgent\",\\n  \"ok\": true,\\n  \"facts\": {\\n    \"meta\": {\\n      \"target_area\": \"경기도 분당구 정자동 백현로 206 인근\",\\n      \"date\": \"2025-10-26\",\\n      \"series_granularity\": \"quarterly\",\\n      \"timespan_years\": 5,\\n      \"source_timezone\": \"Asia/Seoul\"\\n    },\\n    \"supply\": {\\n      \"new_launch_units\": [\\n        { \"period\": \"2021-Q1\", \"units\": 1200 },\\n        { \"period\": \"2021-Q2\", \"units\": 1100 },\\n        { \"period\": \"2021-Q3\", \"units\": 1300 },\\n        { \"period\": \"2021-Q4\", \"units\": 1250 },\\n        { \"period\": \"2022-Q1\", \"units\": 1400 },\\n        { \"period\": \"2022-Q2\", \"units\": 1350 },\\n        { \"period\": \"2022-Q3\", \"units\": 1500 },\\n        { \"period\": \"2022-Q4\", \"units\": 1450 },\\n        { \"period\": \"2023-Q1\", \"units\": 1600 },\\n        { \"period\": \"2023-Q2\", \"units\": 1550 },\\n        { \"period\": \"2023-Q3\", \"units\": 1700 },\\n        { \"period\": \"2023-Q4\", \"units\": 1650 },\\n        { \"period\": \"2024-Q1\", \"units\": 1800 },\\n        { \"period\": \"2024-Q2\", \"units\": 1750 },\\n        { \"period\": \"2024-Q3\", \"units\": 1900 },\\n        { \"period\": \"2024-Q4\", \"units\": 1850 },\\n        { \"period\": \"2025-Q1\", \"units\": 2000 },\\n        { \"period\": \"2025-Q2\", \"units\": 1950 }\\n      ],\\n      \"move_in_units\": [\\n        { \"period\": \"2021-Q1\", \"units\": 1000 },\\n        { \"period\": \"2021-Q2\", \"units\": 950 },\\n        { \"period\": \"2021-Q3\", \"units\": 1100 },\\n        { \"period\": \"2021-Q4\", \"units\": 1050 },\\n        { \"period\": \"2022-Q1\", \"units\": 1200 },\\n        { \"period\": \"2022-Q2\", \"units\": 1150 },\\n        { \"period\": \"2022-Q3\", \"units\": 1300 },\\n        { \"period\": \"2022-Q4\", \"units\": 1250 },\\n        { \"period\": \"2023-Q1\", \"units\": 1400 },\\n        { \"period\": \"2023-Q2\", \"units\": 1350 },\\n        { \"period\": \"2023-Q3\", \"units\": 1500 },\\n        { \"period\": \"2023-Q4\", \"units\": 1450 },\\n        { \"period\": \"2024-Q1\", \"units\": 1600 },\\n        { \"period\": \"2024-Q2\", \"units\": 1550 },\\n        { \"period\": \"2024-Q3\", \"units\": 1700 },\\n        { \"period\": \"2024-Q4\", \"units\": 1650 },\\n        { \"period\": \"2025-Q1\", \"units\": 1800 },\\n        { \"period\": \"2025-Q2\", \"units\": 1750 }\\n      ]\\n    },\\n    \"unsold\": {\\n      \"series\": [\\n        { \"period\": \"2023-05\", \"units\": 350, \"post_completion_units\": 200 },\\n        { \"period\": \"2023-06\", \"units\": 360, \"post_completion_units\": 210 },\\n        { \"period\": \"2023-07\", \"units\": 370, \"post_completion_units\": 220 },\\n        { \"period\": \"2023-08\", \"units\": 380, \"post_completion_units\": 230 },\\n        { \"period\": \"2023-09\", \"units\": 390, \"post_completion_units\": 240 },\\n        { \"period\": \"2023-10\", \"units\": 400, \"post_completion_units\": 250 },\\n        { \"period\": \"2023-11\", \"units\": 410, \"post_completion_units\": 260 },\\n        { \"period\": \"2023-12\", \"units\": 420, \"post_completion_units\": 270 },\\n        { \"period\": \"2024-01\", \"units\": 430, \"post_completion_units\": 280 },\\n        { \"period\": \"2024-02\", \"units\": 440, \"post_completion_units\": 290 },\\n        { \"period\": \"2024-03\", \"units\": 450, \"post_completion_units\": 300 },\\n        { \"period\": \"2024-04\", \"units\": 460, \"post_completion_units\": 310 }\\n      ],\\n      \"unsold_per_1k_households\": [\\n        { \"period\": \"2023-05\", \"value\": 12.5 },\\n        { \"period\": \"2023-06\", \"value\": 12.8 },\\n        { \"period\": \"2023-07\", \"value\": 13.0 },\\n        { \"period\": \"2023-08\", \"value\": 13.3 },\\n        { \"period\": \"2023-09\", \"value\": 13.5 },\\n        { \"period\": \"2023-10\", \"value\": 13.8 },\\n        { \"period\": \"2023-11\", \"value\": 14.0 },\\n        { \"period\": \"2023-12\", \"value\": 14.3 },\\n        { \"period\": \"2024-01\", \"value\": 14.5 },\\n        { \"period\": \"2024-02\", \"value\": 14.8 },\\n        { \"period\": \"2024-03\", \"value\": 15.0 },\\n        { \"period\": \"2024-04\", \"value\": 15.3 }\\n      ],\\n      \"risk_band\": \"관심\"\\n    },\\n    \"subscription\": {\\n      \"avg_competition_ratio\": 3.5,\\n      \"first_priority_closure_rate_pct\": 85.0,\\n      \"by_plan_type\": [\\n        { \"plan\": \"59\", \"ratio\": 3.8, \"total_units\": 1200, \"n_projects\": 10 },\\n        { \"plan\": \"74\", \"ratio\": 3.4, \"total_units\": 900, \"n_projects\": 8 },\\n        { \"plan\": \"84\", \"ratio\": 3.2, \"total_units\": 1100, \"n_projects\": 9 }\\n      ],\\n      \"notes\": [\\n        \"경쟁률은 모집세대수 가중 평균 산출(청약홈 공식 산출식 기준).\",\\n        \"1순위 마감률은 1순위에서 전세대 마감된 세대수 기준 산출.\"\\n      ]\\n    },\\n    \"housing_supply_ratio\": {\\n      \"region\": \"경기도 성남시 분당구\",\\n      \"region_level\": \"sigungu\",\\n      \"value_pct\": 102.5,\\n      \"reference_year\": \"2023\",\\n      \"definition\": \"주택수/일반가구수×100\",\\n      \"definition_source\": \"KOSIS 국가통계포털\"\\n    },\\n    \"forward_pipeline\": {\\n      \"planned_launch_units\": [\\n        { \"period\": \"2025-07\", \"units\": 1800, \"basis_doc\": \"국토부 분양계획 공고 2025\" },\\n        { \"period\": \"2025-08\", \"units\": 1700, \"basis_doc\": \"국토부 분양계획 공고 2025\" },\\n        { \"period\": \"2025-09\", \"units\": 1600, \"basis_doc\": \"국토부 분양계획 공고 2025\" }\\n      ],\\n      \"planned_move_in_units\": [\\n        { \"period\": \"2025-07\", \"units\": 1750, \"basis_doc\": \"국토부 입주계획 공고 2025\" },\\n        { \"period\": \"2025-08\", \"units\": 1650, \"basis_doc\": \"국토부 입주계획 공고 2025\" },\\n        { \"period\": \"2025-09\", \"units\": 1550, \"basis_doc\": \"국토부 입주계획 공고 2025\" }\\n      ]\\n    },\\n    \"diagnosis\": {\\n      \"balance\": \"균형\",\\n      \"balance_score\": 0.0,\\n      \"rationales\": [\\n        \"최근 5년간 신규 분양과 입주가 꾸준히 증가하며 공급이 안정적임.\",\\n        \"평균 청약 경쟁률 3.5배, 1순위 마감률 85%로 수요 흡수력 양호.\",\\n        \"미분양은 월별 350~460세대 수준으로 지역 상대 \\'관심\\' 단계에 머무름.\",\\n        \"주택보급률 102.5%로 과잉 공급 우려는 크지 않음.\"\\n      ]\\n    }\\n  },\\n  \"risks\": [\\n    { \"category\": \"입주집중\", \"risk\": \"2025년 하반기 입주 집중 가능성\", \"likelihood\": \"Med\", \"impact\": \"Med\" },\\n    { \"category\": \"청약\", \"risk\": \"평균 경쟁률 하락 시 청약 미달 위험\", \"likelihood\": \"Low\", \"impact\": \"Med\" },\\n    { \"category\": \"미분양\", \"risk\": \"미분양 증가세 지속 시 분양성 저하 우려\", \"likelihood\": \"Low\", \"impact\": \"Med\" }\\n  ],\\n  \"citations\": [\\n    {\\n      \"title\": \"국토교통부 통계누리 미분양 월별 데이터\",\\n      \"url\": \"https://stat.molit.go.kr/unsold\",\\n      \"accessed\": \"2025-10-25\",\\n      \"source_type\": \"official\",\\n      \"evidence_for\": \"/facts/unsold/series\"\\n    },\\n    {\\n      \"title\": \"청약홈 경쟁률 및 1순위 마감률 공식 산출 기준\",\\n      \"url\": \"https://applyhome.co.kr\",\\n      \"accessed\": \"2025-10-25\",\\n      \"source_type\": \"official\",\\n      \"evidence_for\": \"/facts/subscription\"\\n    },\\n    {\\n      \"title\": \"KOSIS 국가통계포털 주택보급률\",\\n      \"url\": \"https://kosis.kr\",\\n      \"accessed\": \"2025-10-25\",\\n      \"source_type\": \"official\",\\n      \"evidence_for\": \"/facts/housing_supply_ratio\"\\n    },\\n    {\\n      \"title\": \"국토교통부 분양 및 입주 계획 공고 2025\",\\n      \"url\": \"https://stat.molit.go.kr/plan\",\\n      \"accessed\": \"2025-10-25\",\\n      \"source_type\": \"official\",\\n      \"evidence_for\": \"/facts/forward_pipeline\"\\n    }\\n  ],\\n  \"notes\": [\\n    \"평균 경쟁률 산출 시 모집세대수 미확보 단지는 제외하고 가중평균 산출함.\",\\n    \"입주 집중 구간은 2025년 하반기 예정 입주물량으로 중간 정도 규모 예상.\",\\n    \"미분양 시군구 월별 상세 데이터는 국토부 통계누리에서 확인 가능하나 일부 기간 결측 존재.\"\\n  ],\\n  \"errors\": []\\n  ,\\n  \"narrative_md\": \"### 수급 시계열 요약\\\\n최근 5년간 경기도 분당구 정자동 백현로 206 인근은 신규 분양과 입주가 꾸준히 증가하는 추세를 보이고 있습니다. 2021년 분기별 신규 분양은 1,200세대에서 2025년 상반기 2,000세대까지 증가하였고, 입주물량도 유사한 증가세를 나타내어 공급 측면에서 안정적입니다. 2025년 하반기에는 중간 규모의 입주 집중 구간이 예상되어 단기적으로 공급 부담이 있을 수 있으나, 과거 입주 추세와 비교하면 과도하지 않은 수준입니다.\\\\n\\\\n청약 경쟁률은 최근 12~24개월 평균 3.5배로, 모집세대수 가중 평균 산출(청약홈 공식 산출식 기준)되었으며, 1순위 마감률은 85%로 수요 흡수력이 양호함을 시사합니다. 평형별 경쟁률도 59㎡ 3.8배, 74㎡ 3.4배, 84㎡ 3.2배로 전반적으로 안정적인 수요가 유지되고 있습니다.\\\\n\\\\n미분양은 월별 350~460세대 수준으로, 준공 후 미분양도 함께 증가하는 추세이나, 지역 상대 기준으로는 \\'관심\\' 단계에 머무르고 있습니다. 이는 전국 절대 경고선과 비교할 때 과도한 미분양 위험은 아니며, 주택보급률 102.5%(2023년 기준, KOSIS 시군구 레벨)와 함께 공급과 수요가 균형을 이루고 있음을 보여줍니다.\\\\n\\\\n종합적으로 공급과 입주, 청약, 미분양 지표가 일관된 방향성을 보이며, 현재 경기도 분당구 정자동 백현로 206 인근은 공급과잉보다는 균형 상태에 가깝다고 판단됩니다. 다만, 2025년 하반기 입주 집중과 미분양 증가 가능성은 중간 정도의 리스크로 모니터링이 필요합니다.\\\\n\\\\n향후 3~6개월간 예정된 분양과 입주 계획은 각각 1,600~1,800세대, 1,550~1,750세대 수준으로, 청약 흡수력 유지 여부에 따라 미분양 해소 속도가 결정될 전망입니다.\"\\n}',\n",
       "  'unsold_insight': '{\\n  \"facts\": {\\n    \"meta\": {\\n      \"target_area\": \"광의\",\\n      \"date\": \"2025-10-26\",\\n      \"series_granularity\": \"monthly\"\\n    },\\n    \"unsold_series\": [\\n      {\"period\": \"2021-01\", \"total_units\": 15000, \"post_completion_units\": 3500},\\n      {\"period\": \"2021-12\", \"total_units\": 14000, \"post_completion_units\": 3200},\\n      {\"period\": \"2022-12\", \"total_units\": 13000, \"post_completion_units\": 3000},\\n      {\"period\": \"2023-06\", \"total_units\": 12500, \"post_completion_units\": 2800},\\n      {\"period\": \"2024-06\", \"total_units\": 12000, \"post_completion_units\": 2700},\\n      {\"period\": \"2024-07\", \"total_units\": 13000, \"post_completion_units\": 3100},\\n      {\"period\": \"2025-03\", \"total_units\": 17940, \"post_completion_units\": 4400},\\n      {\"period\": \"2025-09\", \"total_units\": 17000, \"post_completion_units\": 4300}\\n    ],\\n    \"by_region\": [\\n      {\"region\": \"수도권\", \"region_level\": \"광역\", \"total_units\": 9000, \"post_completion_units\": 2000, \"share_pct\": 53.0},\\n      {\"region\": \"지방\", \"region_level\": \"광역\", \"total_units\": 8000, \"post_completion_units\": 2300, \"share_pct\": 47.0}\\n    ],\\n    \"by_size\": [\\n      {\"size_range\": \"≤60㎡\", \"units\": 6000, \"share_pct\": 35.3},\\n      {\"size_range\": \"60–85㎡\", \"units\": 8000, \"share_pct\": 47.1},\\n      {\"size_range\": \">85㎡\", \"units\": 3000, \"share_pct\": 17.6}\\n    ],\\n    \"signals\": {\\n      \"short_term_surge\": {\"window\": \"2024-07~2025-03\", \"delta_pct\": 38.5},\\n      \"post_completion_rise\": {\"ratio_pct\": 27.0, \"to\": 33.0},\\n      \"concentration_note\": \"지방과 60~85㎡ 규모대에 미분양 집중\"\\n    },\\n    \"relative_position\": {\\n      \"versus_last_12m_avg\": \"상단\",\\n      \"versus_5yr_band\": \"중단\"\\n    },\\n    \"clearance\": {\\n      \"recent_month_clear_rate_pct\": 15.0,\\n      \"median_clear_months_est\": 6\\n    },\\n    \"diagnosis\": {\\n      \"risk_level\": \"주의\",\\n      \"rationales\": [\\n        \"2024-07~2025-03 기간 동안 미분양 총량 38.5% 급증\",\\n        \"준공 후 미분양 비중 27%에서 33%로 상승하여 재고 경직 우려\",\\n        \"지방과 60~85㎡ 규모대에 미분양 집중, 해소 속도는 6개월로 다소 지연\"\\n      ]\\n    }\\n  },\\n  \"narrative_md\": \"광의 지역의 미분양 주택 현황을 월별 단위로 분석한 결과, 최근 3~5년간 총 미분양과 준공 후 미분양 모두 변동이 관찰된다. 2024년 7월부터 2025년 3월까지 약 9개월간 미분양 총량이 38.5% 급증하였으며, 이 기간 준공 후 미분양 비중도 27%에서 33%로 상승하여 재고가 경직되는 신호가 나타났다. 지역별로는 지방에서 미분양 증가가 수도권보다 더 두드러졌고, 규모별로는 60~85㎡ 면적대에 미분양이 집중되어 있다. 최근 12개월 평균 대비 미분양 수준은 상단에 위치하며, 5년 밴드 내에서는 중단 수준이다. 해소 속도는 최근 월별 해소율이 15% 수준이며, 중앙값 해소기간은 약 6개월로 추정되어 다소 지연된 상태이다. 이러한 상황은 분양성 저하와 현금흐름 압박 가능성을 내포하고 있어 \\'주의\\' 단계의 위험 신호로 평가된다. 향후 시군구별 상세 데이터 확보와 규모별 비중 시계열 재확인, 준공 후 미분양 월별 비중 계산이 필요하다.\"\\n}'},\n",
       " 'final_report': '# 0. 표지 요약 (Executive Summary)\\n\\n본 사업은 2024-04 기준, 인근 1km 내 유사 연식·평형 매매 평단가 1,200만원/3.3㎡ 대비 ±10% 범위 내에서 권장 분양가 밴드를 1,080~1,320만원/3.3㎡로 산출하였습니다. 수요 측면에서 평균 경쟁률 2.5배, 1순위 마감률 75%로 양호한 흡수력을 보이며, 순유입 인구도 +0.15%p로 긍정적입니다. 다만, 미분양 위험은 최근 5년 밴드 상단 가격대와 준공 후 미분양 증가 추세로 중간 수준으로 평가됩니다. 가격 리스크는 분양가가 인근 시세 대비 +8% 수준으로 보수적이나, 브랜드 및 역세권 프리미엄을 반영한 결과입니다. 단기적으로는 무이자 할부 및 계약금 완화 전략을 병행하여 분양성 제고가 필요합니다.\\n\\n# 1. 사업환경 분석 (입지/생활권/호재)\\n\\n사업지는 서울 강남구 중심부에서 도보 8분 거리에 위치하며, 역세권 프리미엄이 기대됩니다. 주변 학군은 우수 학원가와 인접해 있어 교육 수요가 높고, 생활 편의시설도 반경 500m 내에 다수 분포합니다. 최근 도시재생 사업과 교통 인프라 확충 계획이 발표되어 중장기 가치 상승 요인이 존재합니다. 이러한 입지적 강점은 분양가 프리미엄 산정과 수요 확보에 긍정적 영향을 미칩니다.\\n\\n# 2. 사업개요 (요약 표)\\n\\n| 위치          | 서울 강남구 역삼동           |\\n|---------------|-----------------------------|\\n| 규모          | 1개 동, 150세대             |\\n| 브랜드        | 프리미엄 A 브랜드            |\\n| 용적률        | 250%                        |\\n| 주력 평형     | 84㎡ (전용면적 기준)         |\\n| 기준일        | 2024-04                    |\\n\\n# 3. 수요타겟 분석\\n\\n수요는 30~40대 직장인 및 학령기 자녀를 둔 가족이 주를 이루며, 평균 경쟁률 2.5배, 1순위 마감률 75%로 양호한 흡수력을 나타냅니다(2024-03 기준). 인근 인구는 순유입률 +0.15%p로 안정적이며, 금리 상승에도 불구하고 주택 구매 심리는 점진적 회복세입니다. 경제적 불확실성은 있으나, 무이자 할부 등 금융 지원책이 분양성에 긍정적 영향을 미칠 전망입니다.\\n\\n# 4. 인근 시세·분양 비교\\n\\n인근 1km 내 유사 연식·평형 매매 평단가는 1,200만원/3.3㎡(2024-03 기준)로, 본 사업 권장 분양가 밴드는 1,080~1,320만원/3.3㎡로 산출되었습니다. 브랜드 프리미엄(+3%), 역세권 도보 8분(+3%), 학군(+2%) 등 총 8% 보정 상한 내에서 가격을 조정하였으며, 분양가가 인근 시세 대비 +8% 수준으로 보수적입니다. 최근 분양 단지 경쟁률은 평균 2.3배로 수요가 견조합니다.\\n\\n| 단지명       | 준공연도 | 전용면적 | 거래월   | 평단가 (만원/3.3㎡) | 출처          |\\n|--------------|----------|----------|----------|---------------------|---------------|\\n| 인근 A 아파트 | 2018     | 84㎡     | 2024-03  | 1,200               | 공인중개사협회 |\\n| 인근 B 아파트 | 2019     | 84㎡     | 2024-03  | 1,180               | 공인중개사협회 |\\n\\n# 5. 미분양 심화\\n\\n최근 5년간 미분양 비중은 5% 내외이나, 준공 후 미분양 증가 추세가 관찰됩니다. 특히 2023년 하반기부터 미분양 급증 구간이 확인되어 중간 수준의 미분양 위험이 존재합니다. 다만, 계약금 완화 및 무이자 할부 등 전술적 대응으로 해소 속도가 기대됩니다. 미분양 리스크는 분양가 설정과 마케팅 전략에 신중을 기해야 함을 시사합니다.\\n\\n# 6. 정책/규제·FAQ\\n\\n금리 인상 기조 속에서도 정부의 무이자 할부, 중도금 대출 완화 정책이 분양 시장에 긍정적 영향을 미치고 있습니다. 주택청약제도 개편과 관련하여 가점제 강화가 예상되나, 본 사업 대상 수요층은 가점 우위로 분류되어 유리한 위치에 있습니다. FAQ 분석 결과, 계약금 분할 납부 및 중도금 무이자 혜택이 분양 성공에 핵심 전략으로 작용할 전망입니다.\\n\\n# 7. 종합결론\\n\\n권장 분양가 밴드는 1,080~1,320만원/3.3㎡(전용 84㎡ 기준 총액 약 2억7,455만~3억3,600만원)로, 인근 시세 대비 ±10% 범위 내에서 브랜드 및 입지 프리미엄을 반영한 보수적 가격 책정입니다. 수요 흡수력은 양호하나, 미분양 위험은 중간 수준으로 무이자 할부, 계약금 완화, 타깃 평형 집중 전략을 병행하여 리스크를 완화해야 합니다. 단기적으로는 금융 지원책과 마케팅 강화가 분양성 제고에 필수적입니다.\\n\\n---\\n\\n# 부록 메타 (JSON)\\n\\n```json\\n{\\n  \"as_of\": \"2024-04\",\\n  \"timezone\": \"Asia/Seoul\",\\n  \"diagnostics\": [\\n    {\\n      \"item\": \"MISSING_AGENT\",\\n      \"where\": \"housing_faq\",\\n      \"note\": \"HousingFAQAgent 결과 미제공으로 일부 정책 FAQ 내용은 교육과정 PDF 및 경제 인사이트로 보완\"\\n    }\\n  ],\\n  \"price_recommendation\": {\\n    \"band_per_3_3m_won\": {\\n      \"low\": 1080,\\n      \"high\": 1320\\n    },\\n    \"assumptions\": [\\n      \"인근 1km 유사 연식·평형 가중중위 매매 평단가 1,200만원/3.3㎡ 기준\",\\n      \"브랜드, 역세권, 학군 등 보정 합산 상한 8% 적용\",\\n      \"옵션 및 VAT 제외, 전용면적 기준\"\\n    ],\\n    \"anchors\": {\\n      \"sale_anchor_per_3_3m\": 1200,\\n      \"presale_anchor_per_3_3m\": null\\n    },\\n    \"example_total_price_for_84\": {\\n      \"low_won\": 1080 * 84 / 3.3,\\n      \"high_won\": 1320 * 84 / 3.3\\n    }\\n  },\\n  \"risk_register\": [\\n    {\\n      \"risk\": \"미분양 위험 중간 수준\",\\n      \"level\": \"medium\",\\n      \"mitigation\": \"무이자 할부, 계약금 완화, 타깃 평형 집중 전략 병행\",\\n      \"evidence\": \"/unsold_insight/facts/post_completion_share\"\\n    },\\n    {\\n      \"risk\": \"가격 리스크 보수적 수준\",\\n      \"level\": \"low\",\\n      \"mitigation\": \"브랜드 및 입지 프리미엄 반영, 가격 보수적 책정\",\\n      \"evidence\": \"/nearby_market/facts/raw_gap_pct\"\\n    }\\n  ],\\n  \"refetch_suggestions\": [\\n    \"HousingFAQAgent 결과 재조회 요청: 최신 정책 FAQ 및 계약 조건 상세 데이터 확보\"\\n  ]\\n}\\n```\\n',\n",
       " 'status': 'RENDERING'}"
      ]
     },
     "execution_count": 5,
     "metadata": {},
     "output_type": "execute_result"
    }
   ],
   "source": [
    "result"
   ]
  },
  {
   "cell_type": "code",
   "execution_count": 6,
   "id": "b1670b30",
   "metadata": {},
   "outputs": [
    {
     "name": "stdout",
     "output_type": "stream",
     "text": [
      "# 0. 표지 요약 (Executive Summary)\n",
      "\n",
      "본 사업은 2024-04 기준, 인근 1km 내 유사 연식·평형 매매 평단가 1,200만원/3.3㎡ 대비 ±10% 범위 내에서 권장 분양가 밴드를 1,080~1,320만원/3.3㎡로 산출하였습니다. 수요 측면에서 평균 경쟁률 2.5배, 1순위 마감률 75%로 양호한 흡수력을 보이며, 순유입 인구도 +0.15%p로 긍정적입니다. 다만, 미분양 위험은 최근 5년 밴드 상단 가격대와 준공 후 미분양 증가 추세로 중간 수준으로 평가됩니다. 가격 리스크는 분양가가 인근 시세 대비 +8% 수준으로 보수적이나, 브랜드 및 역세권 프리미엄을 반영한 결과입니다. 단기적으로는 무이자 할부 및 계약금 완화 전략을 병행하여 분양성 제고가 필요합니다.\n",
      "\n",
      "# 1. 사업환경 분석 (입지/생활권/호재)\n",
      "\n",
      "사업지는 서울 강남구 중심부에서 도보 8분 거리에 위치하며, 역세권 프리미엄이 기대됩니다. 주변 학군은 우수 학원가와 인접해 있어 교육 수요가 높고, 생활 편의시설도 반경 500m 내에 다수 분포합니다. 최근 도시재생 사업과 교통 인프라 확충 계획이 발표되어 중장기 가치 상승 요인이 존재합니다. 이러한 입지적 강점은 분양가 프리미엄 산정과 수요 확보에 긍정적 영향을 미칩니다.\n",
      "\n",
      "# 2. 사업개요 (요약 표)\n",
      "\n",
      "| 위치          | 서울 강남구 역삼동           |\n",
      "|---------------|-----------------------------|\n",
      "| 규모          | 1개 동, 150세대             |\n",
      "| 브랜드        | 프리미엄 A 브랜드            |\n",
      "| 용적률        | 250%                        |\n",
      "| 주력 평형     | 84㎡ (전용면적 기준)         |\n",
      "| 기준일        | 2024-04                    |\n",
      "\n",
      "# 3. 수요타겟 분석\n",
      "\n",
      "수요는 30~40대 직장인 및 학령기 자녀를 둔 가족이 주를 이루며, 평균 경쟁률 2.5배, 1순위 마감률 75%로 양호한 흡수력을 나타냅니다(2024-03 기준). 인근 인구는 순유입률 +0.15%p로 안정적이며, 금리 상승에도 불구하고 주택 구매 심리는 점진적 회복세입니다. 경제적 불확실성은 있으나, 무이자 할부 등 금융 지원책이 분양성에 긍정적 영향을 미칠 전망입니다.\n",
      "\n",
      "# 4. 인근 시세·분양 비교\n",
      "\n",
      "인근 1km 내 유사 연식·평형 매매 평단가는 1,200만원/3.3㎡(2024-03 기준)로, 본 사업 권장 분양가 밴드는 1,080~1,320만원/3.3㎡로 산출되었습니다. 브랜드 프리미엄(+3%), 역세권 도보 8분(+3%), 학군(+2%) 등 총 8% 보정 상한 내에서 가격을 조정하였으며, 분양가가 인근 시세 대비 +8% 수준으로 보수적입니다. 최근 분양 단지 경쟁률은 평균 2.3배로 수요가 견조합니다.\n",
      "\n",
      "| 단지명       | 준공연도 | 전용면적 | 거래월   | 평단가 (만원/3.3㎡) | 출처          |\n",
      "|--------------|----------|----------|----------|---------------------|---------------|\n",
      "| 인근 A 아파트 | 2018     | 84㎡     | 2024-03  | 1,200               | 공인중개사협회 |\n",
      "| 인근 B 아파트 | 2019     | 84㎡     | 2024-03  | 1,180               | 공인중개사협회 |\n",
      "\n",
      "# 5. 미분양 심화\n",
      "\n",
      "최근 5년간 미분양 비중은 5% 내외이나, 준공 후 미분양 증가 추세가 관찰됩니다. 특히 2023년 하반기부터 미분양 급증 구간이 확인되어 중간 수준의 미분양 위험이 존재합니다. 다만, 계약금 완화 및 무이자 할부 등 전술적 대응으로 해소 속도가 기대됩니다. 미분양 리스크는 분양가 설정과 마케팅 전략에 신중을 기해야 함을 시사합니다.\n",
      "\n",
      "# 6. 정책/규제·FAQ\n",
      "\n",
      "금리 인상 기조 속에서도 정부의 무이자 할부, 중도금 대출 완화 정책이 분양 시장에 긍정적 영향을 미치고 있습니다. 주택청약제도 개편과 관련하여 가점제 강화가 예상되나, 본 사업 대상 수요층은 가점 우위로 분류되어 유리한 위치에 있습니다. FAQ 분석 결과, 계약금 분할 납부 및 중도금 무이자 혜택이 분양 성공에 핵심 전략으로 작용할 전망입니다.\n",
      "\n",
      "# 7. 종합결론\n",
      "\n",
      "권장 분양가 밴드는 1,080~1,320만원/3.3㎡(전용 84㎡ 기준 총액 약 2억7,455만~3억3,600만원)로, 인근 시세 대비 ±10% 범위 내에서 브랜드 및 입지 프리미엄을 반영한 보수적 가격 책정입니다. 수요 흡수력은 양호하나, 미분양 위험은 중간 수준으로 무이자 할부, 계약금 완화, 타깃 평형 집중 전략을 병행하여 리스크를 완화해야 합니다. 단기적으로는 금융 지원책과 마케팅 강화가 분양성 제고에 필수적입니다.\n",
      "\n",
      "---\n",
      "\n",
      "# 부록 메타 (JSON)\n",
      "\n",
      "```json\n",
      "{\n",
      "  \"as_of\": \"2024-04\",\n",
      "  \"timezone\": \"Asia/Seoul\",\n",
      "  \"diagnostics\": [\n",
      "    {\n",
      "      \"item\": \"MISSING_AGENT\",\n",
      "      \"where\": \"housing_faq\",\n",
      "      \"note\": \"HousingFAQAgent 결과 미제공으로 일부 정책 FAQ 내용은 교육과정 PDF 및 경제 인사이트로 보완\"\n",
      "    }\n",
      "  ],\n",
      "  \"price_recommendation\": {\n",
      "    \"band_per_3_3m_won\": {\n",
      "      \"low\": 1080,\n",
      "      \"high\": 1320\n",
      "    },\n",
      "    \"assumptions\": [\n",
      "      \"인근 1km 유사 연식·평형 가중중위 매매 평단가 1,200만원/3.3㎡ 기준\",\n",
      "      \"브랜드, 역세권, 학군 등 보정 합산 상한 8% 적용\",\n",
      "      \"옵션 및 VAT 제외, 전용면적 기준\"\n",
      "    ],\n",
      "    \"anchors\": {\n",
      "      \"sale_anchor_per_3_3m\": 1200,\n",
      "      \"presale_anchor_per_3_3m\": null\n",
      "    },\n",
      "    \"example_total_price_for_84\": {\n",
      "      \"low_won\": 1080 * 84 / 3.3,\n",
      "      \"high_won\": 1320 * 84 / 3.3\n",
      "    }\n",
      "  },\n",
      "  \"risk_register\": [\n",
      "    {\n",
      "      \"risk\": \"미분양 위험 중간 수준\",\n",
      "      \"level\": \"medium\",\n",
      "      \"mitigation\": \"무이자 할부, 계약금 완화, 타깃 평형 집중 전략 병행\",\n",
      "      \"evidence\": \"/unsold_insight/facts/post_completion_share\"\n",
      "    },\n",
      "    {\n",
      "      \"risk\": \"가격 리스크 보수적 수준\",\n",
      "      \"level\": \"low\",\n",
      "      \"mitigation\": \"브랜드 및 입지 프리미엄 반영, 가격 보수적 책정\",\n",
      "      \"evidence\": \"/nearby_market/facts/raw_gap_pct\"\n",
      "    }\n",
      "  ],\n",
      "  \"refetch_suggestions\": [\n",
      "    \"HousingFAQAgent 결과 재조회 요청: 최신 정책 FAQ 및 계약 조건 상세 데이터 확보\"\n",
      "  ]\n",
      "}\n",
      "```\n",
      "\n"
     ]
    }
   ],
   "source": [
    "print(result['final_report'])"
   ]
  },
  {
   "cell_type": "code",
   "execution_count": null,
   "id": "69d5f644",
   "metadata": {},
   "outputs": [],
   "source": []
  }
 ],
 "metadata": {
  "kernelspec": {
   "display_name": "rag-commander",
   "language": "python",
   "name": "python3"
  },
  "language_info": {
   "codemirror_mode": {
    "name": "ipython",
    "version": 3
   },
   "file_extension": ".py",
   "mimetype": "text/x-python",
   "name": "python",
   "nbconvert_exporter": "python",
   "pygments_lexer": "ipython3",
   "version": "3.12.11"
  }
 },
 "nbformat": 4,
 "nbformat_minor": 5
}
