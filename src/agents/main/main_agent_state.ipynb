{
 "cells": [
  {
   "cell_type": "code",
   "execution_count": null,
   "id": "ec7b0db9",
   "metadata": {},
   "outputs": [],
   "source": [
    "from langgraph.graph.message import MessagesGraphs\n",
    "from utils.util import attach_auto_keys\n",
    "\n",
    "@attach_auto_keys\n",
    "class MainInputState(MessagesGraphs):\n",
    "    pass \n",
    "\n",
    "@attach_auto_keys\n",
    "class MainState(MessagesGraphs):\n",
    "    contexts:dict\n",
    "    final_report:str\n",
    "    "
   ]
  }
 ],
 "metadata": {
  "kernelspec": {
   "display_name": "RAG_COMMANDER",
   "language": "python",
   "name": "python3"
  },
  "language_info": {
   "name": "python",
   "version": "3.12.11"
  }
 },
 "nbformat": 4,
 "nbformat_minor": 5
}
