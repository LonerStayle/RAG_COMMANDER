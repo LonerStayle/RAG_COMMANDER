{
 "cells": [
  {
   "cell_type": "code",
   "execution_count": 1,
   "id": "a4598ba2",
   "metadata": {},
   "outputs": [],
   "source": [
    "import os, sys\n",
    "from pathlib import Path\n",
    "\n",
    "src_path = Path(os.getcwd()).resolve().parents[1]  \n",
    "sys.path.append(str(src_path))"
   ]
  },
  {
   "cell_type": "code",
   "execution_count": 2,
   "id": "6f0b37d0",
   "metadata": {},
   "outputs": [
    {
     "name": "stderr",
     "output_type": "stream",
     "text": [
      "/Users/seobi/PythonProjects/RAG_Commander/src/tools/rag/retriever/age_population_retriever.py:14: LangChainPendingDeprecationWarning: This class is pending deprecation and may be removed in a future version. You can swap to using the `PGVector` implementation in `langchain_postgres`. Please read the guidelines in the doc-string of this class to follow prior to migrating as there are some differences between the implementations. See <https://github.com/langchain-ai/langchain-postgres> for details about the new implementation.\n",
      "  store = PGVector(\n",
      "/Users/seobi/PythonProjects/RAG_Commander/src/tools/rag/retriever/age_population_retriever.py:14: LangChainPendingDeprecationWarning: Please use JSONB instead of JSON for metadata. This change will allow for more efficient querying that involves filtering based on metadata. Please note that filtering operators have been changed when using JSONB metadata to be prefixed with a $ sign to avoid name collisions with columns. If you're using an existing database, you will need to create a db migration for your metadata column to be JSONB and update your queries to use the new operators. \n",
      "  store = PGVector(\n",
      "2025-10-31 22:56:05,850 - INFO - HTTP Request: POST https://api.openai.com/v1/chat/completions \"HTTP/1.1 200 OK\"\n",
      "2025-10-31 22:56:06,157 - INFO - HTTP Request: POST https://api.openai.com/v1/embeddings \"HTTP/1.1 200 OK\"\n",
      "2025-10-31 22:56:11,378 - INFO - HTTP Request: POST https://api.openai.com/v1/chat/completions \"HTTP/1.1 200 OK\"\n",
      "2025-10-31 22:56:17,407 - INFO - HTTP Request: POST https://api.openai.com/v1/chat/completions \"HTTP/1.1 200 OK\"\n",
      "2025-10-31 22:56:30,348 - INFO - HTTP Request: POST https://api.openai.com/v1/chat/completions \"HTTP/1.1 200 OK\"\n"
     ]
    }
   ],
   "source": [
    "from agents.analysis.population_insight_agent import population_insight_graph\n",
    "invoke = population_insight_graph.invoke({\n",
    "    \"start_input\": {\n",
    "        \"target_area\": \"서울특별시 강남구 역삼동\"\n",
    "    }\n",
    "})"
   ]
  },
  {
   "cell_type": "code",
   "execution_count": 4,
   "id": "82dc2cbf",
   "metadata": {},
   "outputs": [
    {
     "data": {
      "text/plain": [
       "{'start_input': {'target_area': '서울특별시 강남구 역삼동'},\n",
       " 'population_insight_output': '```markdown\\n# 서울특별시 강남구 인구 데이터 분석 (2025년 9월 기준)\\n\\n## 1. 인구 총괄\\n- 총인구수: 556,324명\\n- 남성: 265,884명 (47.8%)\\n- 여성: 290,440명 (52.2%)\\n\\n## 2. 연령별 인구 분포\\n| 연령대    | 인구수   | 비율(%)  |\\n|-----------|----------|----------|\\n| 0~9세     | 32,142   | 5.78     |\\n| 10~19세   | 64,171   | 11.53    |\\n| 20~29세   | 63,996   | 11.51    |\\n| 30~39세   | 80,843   | 14.53    |\\n| 40~49세   | 100,172  | 18.01    |\\n| 50~59세   | 88,351   | 15.89    |\\n| 60~69세   | 63,574   | 11.43    |\\n| 70~79세   | 43,304   | 7.78     |\\n| 80~89세   | 17,034   | 3.06     |\\n| 90~99세   | 2,645    | 0.48     |\\n| 100세 이상| 92       | 0.02     |\\n\\n- 경제활동 인구(20~59세) 합계: 333,362명 (약 59.9%)\\n- 고령층(70세 이상) 합계: 62,075명 (약 11.2%)\\n\\n## 3. 인구 이동 현황\\n- 인구 이동(전입/전출) 데이터는 제공되지 않아 추세 분석 불가\\n\\n## 4. 시계열성 및 추세\\n- 제공된 데이터는 2025년 9월 단일 시점 기준으로, 시계열 데이터 부재\\n- 연령별 분포를 통해 경제활동 인구가 강남구 인구의 다수를 차지함을 확인 가능\\n- 고령층 비중은 11.2%로 안정적인 수준\\n\\n## 5. 부동산 분양성 주요 지표 제안\\n- **경제활동 인구 비중(20~59세) : 약 60%**\\n  - 강남구는 20~59세 인구가 전체의 약 60%를 차지하여 주거 수요 및 경제활동이 활발한 지역임을 시사\\n  - 이 지표는 분양가 책정 및 분양성 예측에 핵심적으로 활용 가능\\n\\n---\\n\\n# GPT-5 최종 보고서 작성용 프롬프트\\n\\n```\\n서울특별시 강남구 2025년 9월 기준 인구 데이터를 바탕으로 다음 사항을 분석해 주세요.\\n\\n1. 연령별 인구 분포와 경제활동 인구(20~59세) 비중을 중심으로 인구 구조를 설명해 주세요.\\n2. 고령층(70세 이상) 비중과 그에 따른 주거 수요 특성을 간략히 평가해 주세요.\\n3. 인구 이동 데이터가 없으므로, 인구 이동 추세 분석은 불가함을 명확히 언급해 주세요.\\n4. 부동산 분양가 및 분양성 평가를 위한 핵심 지표로 경제활동 인구 비중(20~59세)을 활용해 주세요.\\n5. 2025년 9월 단일 시점 데이터임을 고려하여 시계열 추세 분석의 한계도 명확히 기술해 주세요.\\n\\n위 내용을 바탕으로 강남구 역삼동 인구 특성을 정량적으로 분석하고, 부동산 분양성 평가에 적합한 인구 지표를 제시해 주시기 바랍니다.\\n```\\n```',\n",
       " 'age_population_context': '서울특별시 강남구 인구 현황(2025년 9월 기준)  \\n- 총인구수: 556,324명  \\n- 남성: 265,884명  \\n- 여성: 290,440명  \\n\\n연령별 인구수(총계)  \\n- 0~9세: 32,142명  \\n- 10~19세: 64,171명  \\n- 20~29세: 63,996명  \\n- 30~39세: 80,843명  \\n- 40~49세: 100,172명  \\n- 50~59세: 88,351명  \\n- 60~69세: 63,574명  \\n- 70~79세: 43,304명  \\n- 80~89세: 17,034명  \\n- 90~99세: 2,645명  \\n- 100세 이상: 92명  \\n\\n*역삼동에 대한 별도 정보는 제공되지 않음.',\n",
       " 'move_population_context': [],\n",
       " 'messages': [SystemMessage(content='[역할]\\n당신은 특정 지역에 대한 **인구 데이터 정리 전문가**입니다.\\n고객이 사업하려는 지역의 연령구조·순이동(전입/전출) 추세를 정량 데이터 정리를 아주 정확히 하고 시계열성을 확실히 보여줍니다.\\n부동산 분양가와 분양성을 측정하기 위한 하나의 주요 지표를 최종 보고서 작성자에게 제공할 예정입니다. \\n\\n[상황]\\n당신은 AI 에이전틱 개발에서 하나의 인구분석 전문가를 담당하는 에이전트로써 최종 보고서 작성 에이전트와 상호작용 합니다.\\n특정 지역의 연령층 분포 및 인구 이동(전입/전출)에 데이터를 참고해서 최종 보고서 작성 에이전트가 분석해서 보고서를 작성할때 최고의 효율을\\n만들어낼 수 있도록 데이터를 가공하는 역할을 해야합니다.\\n\\n[강력 지시]\\n- markdown 형식으로 만들어주세요.\\n- 제공된 데이터의 컨텍스트를 잃어서 최종 보고서 작성에 정량 평가가 누락되지 않도록 주의하십시오\\n- 최종 보고서 작성 에이전트의 모델을 GPT-5를 사용할 예정입니다. GPT-5 가 최고의 효율을 낼 수 있는 프롬프트 만들어주십시오.\\n- 해당 지역과 관련이 없는 얘기를 하지 않도록 주의합니다.\\n- 시계열 판단이 확실히 될 수 있도록 만들어주십시오.\\n', additional_kwargs={}, response_metadata={}, id='b382389c-6e68-491b-b916-36b59a059ff8'),\n",
       "  HumanMessage(content='[입력]\\n- 대상지: 서울특별시 강남구 역삼동\\n- 현재 시점: Fri Oct 31, 2025\\n\\n[연령층 분포 분석 내용]\\n서울특별시 강남구 인구 현황(2025년 9월 기준)  \\n- 총인구수: 556,324명  \\n- 남성: 265,884명  \\n- 여성: 290,440명  \\n\\n연령별 인구수(총계)  \\n- 0~9세: 32,142명  \\n- 10~19세: 64,171명  \\n- 20~29세: 63,996명  \\n- 30~39세: 80,843명  \\n- 40~49세: 100,172명  \\n- 50~59세: 88,351명  \\n- 60~69세: 63,574명  \\n- 70~79세: 43,304명  \\n- 80~89세: 17,034명  \\n- 90~99세: 2,645명  \\n- 100세 이상: 92명  \\n\\n*역삼동에 대한 별도 정보는 제공되지 않음.\\n\\n[인구이동 분석 내용]\\n[]\\n', additional_kwargs={}, response_metadata={}, id='d63d575a-4534-4de4-824c-f6d054eeaa17'),\n",
       "  AIMessage(content='', additional_kwargs={'refusal': None}, response_metadata={'token_usage': {'completion_tokens': 379, 'prompt_tokens': 978, 'total_tokens': 1357, 'completion_tokens_details': {'accepted_prediction_tokens': 0, 'audio_tokens': 0, 'reasoning_tokens': 0, 'rejected_prediction_tokens': 0}, 'prompt_tokens_details': {'audio_tokens': 0, 'cached_tokens': 0}}, 'model_provider': 'openai', 'model_name': 'gpt-4.1-mini-2025-04-14', 'system_fingerprint': 'fp_4c2851f862', 'id': 'chatcmpl-CWjts1TAVu0SFeCfleES3bDTULSeC', 'service_tier': 'default', 'finish_reason': 'tool_calls', 'logprobs': None}, id='lc_run--341fc28e-2394-480f-8236-47c756f672a1-0', tool_calls=[{'name': 'think_tool', 'args': {'reflection': '서울특별시 강남구의 2025년 9월 기준 인구는 총 556,324명이며, 남성 265,884명, 여성 290,440명으로 여성 인구가 약간 더 많음. 연령별 분포는 40~49세가 100,172명으로 가장 많고, 50~59세(88,351명), 30~39세(80,843명), 60~69세(63,574명), 10~19세(64,171명), 20~29세(63,996명) 순임. 0~9세 인구는 32,142명으로 상대적으로 적음. 고령층(70세 이상)은 총 62,075명으로 전체 인구의 약 11.2%임. 인구이동 데이터는 제공되지 않아 전입·전출 추세 분석은 불가함. 시계열 데이터는 2025년 9월 기준 단일 시점임. 최종 보고서 작성 시 강남구 전체 연령층 분포를 기준으로 젊은 성인층(20~49세)과 중장년층(50~69세) 비중이 높아 경제활동 인구가 많음을 강조하는 것이 유용함. 인구이동 데이터 부재로 인한 리스크는 명확히 표기 필요. 한 줄 메시지: \"2025년 9월 기준 강남구는 40~49세 중심의 경제활동 인구가 많고, 고령층 비중은 11.2%로 안정적임. 인구이동 데이터 부재로 추세 분석은 제한적임.\"'}, 'id': 'call_zjqVgMtISgxa5jn31udDkg5O', 'type': 'tool_call'}], usage_metadata={'input_tokens': 978, 'output_tokens': 379, 'total_tokens': 1357, 'input_token_details': {'audio': 0, 'cache_read': 0}, 'output_token_details': {'audio': 0, 'reasoning': 0}}),\n",
       "  ToolMessage(content='Reflection recorded: 서울특별시 강남구의 2025년 9월 기준 인구는 총 556,324명이며, 남성 265,884명, 여성 290,440명으로 여성 인구가 약간 더 많음. 연령별 분포는 40~49세가 100,172명으로 가장 많고, 50~59세(88,351명), 30~39세(80,843명), 60~69세(63,574명), 10~19세(64,171명), 20~29세(63,996명) 순임. 0~9세 인구는 32,142명으로 상대적으로 적음. 고령층(70세 이상)은 총 62,075명으로 전체 인구의 약 11.2%임. 인구이동 데이터는 제공되지 않아 전입·전출 추세 분석은 불가함. 시계열 데이터는 2025년 9월 기준 단일 시점임. 최종 보고서 작성 시 강남구 전체 연령층 분포를 기준으로 젊은 성인층(20~49세)과 중장년층(50~69세) 비중이 높아 경제활동 인구가 많음을 강조하는 것이 유용함. 인구이동 데이터 부재로 인한 리스크는 명확히 표기 필요. 한 줄 메시지: \"2025년 9월 기준 강남구는 40~49세 중심의 경제활동 인구가 많고, 고령층 비중은 11.2%로 안정적임. 인구이동 데이터 부재로 추세 분석은 제한적임.\"', name='think_tool', id='ef49bc32-e192-48d7-8cb2-35eeb442c1cf', tool_call_id='call_zjqVgMtISgxa5jn31udDkg5O'),\n",
       "  AIMessage(content='```markdown\\n# 서울특별시 강남구 인구 데이터 분석 (2025년 9월 기준)\\n\\n## 1. 인구 총괄\\n- 총인구수: 556,324명\\n- 남성: 265,884명 (47.8%)\\n- 여성: 290,440명 (52.2%)\\n\\n## 2. 연령별 인구 분포\\n| 연령대    | 인구수   | 비율(%)  |\\n|-----------|----------|----------|\\n| 0~9세     | 32,142   | 5.78     |\\n| 10~19세   | 64,171   | 11.53    |\\n| 20~29세   | 63,996   | 11.51    |\\n| 30~39세   | 80,843   | 14.53    |\\n| 40~49세   | 100,172  | 18.01    |\\n| 50~59세   | 88,351   | 15.89    |\\n| 60~69세   | 63,574   | 11.43    |\\n| 70~79세   | 43,304   | 7.78     |\\n| 80~89세   | 17,034   | 3.06     |\\n| 90~99세   | 2,645    | 0.48     |\\n| 100세 이상| 92       | 0.02     |\\n\\n- 경제활동 인구(20~59세) 합계: 333,362명 (약 59.9%)\\n- 고령층(70세 이상) 합계: 62,075명 (약 11.2%)\\n\\n## 3. 인구 이동 현황\\n- 인구 이동(전입/전출) 데이터는 제공되지 않아 추세 분석 불가\\n\\n## 4. 시계열성 및 추세\\n- 제공된 데이터는 2025년 9월 단일 시점 기준으로, 시계열 데이터 부재\\n- 연령별 분포를 통해 경제활동 인구가 강남구 인구의 다수를 차지함을 확인 가능\\n- 고령층 비중은 11.2%로 안정적인 수준\\n\\n## 5. 부동산 분양성 주요 지표 제안\\n- **경제활동 인구 비중(20~59세) : 약 60%**\\n  - 강남구는 20~59세 인구가 전체의 약 60%를 차지하여 주거 수요 및 경제활동이 활발한 지역임을 시사\\n  - 이 지표는 분양가 책정 및 분양성 예측에 핵심적으로 활용 가능\\n\\n---\\n\\n# GPT-5 최종 보고서 작성용 프롬프트\\n\\n```\\n서울특별시 강남구 2025년 9월 기준 인구 데이터를 바탕으로 다음 사항을 분석해 주세요.\\n\\n1. 연령별 인구 분포와 경제활동 인구(20~59세) 비중을 중심으로 인구 구조를 설명해 주세요.\\n2. 고령층(70세 이상) 비중과 그에 따른 주거 수요 특성을 간략히 평가해 주세요.\\n3. 인구 이동 데이터가 없으므로, 인구 이동 추세 분석은 불가함을 명확히 언급해 주세요.\\n4. 부동산 분양가 및 분양성 평가를 위한 핵심 지표로 경제활동 인구 비중(20~59세)을 활용해 주세요.\\n5. 2025년 9월 단일 시점 데이터임을 고려하여 시계열 추세 분석의 한계도 명확히 기술해 주세요.\\n\\n위 내용을 바탕으로 강남구 역삼동 인구 특성을 정량적으로 분석하고, 부동산 분양성 평가에 적합한 인구 지표를 제시해 주시기 바랍니다.\\n```\\n```', additional_kwargs={'refusal': None}, response_metadata={'token_usage': {'completion_tokens': 855, 'prompt_tokens': 1733, 'total_tokens': 2588, 'completion_tokens_details': {'accepted_prediction_tokens': 0, 'audio_tokens': 0, 'reasoning_tokens': 0, 'rejected_prediction_tokens': 0}, 'prompt_tokens_details': {'audio_tokens': 0, 'cached_tokens': 0}}, 'model_provider': 'openai', 'model_name': 'gpt-4.1-mini-2025-04-14', 'system_fingerprint': 'fp_4c2851f862', 'id': 'chatcmpl-CWjtyv4T4cZgDkG5rdUrH4VK6qLCg', 'service_tier': 'default', 'finish_reason': 'stop', 'logprobs': None}, id='lc_run--7d2b56ad-e363-44c6-975b-23863ba20669-0', usage_metadata={'input_tokens': 1733, 'output_tokens': 855, 'total_tokens': 2588, 'input_token_details': {'audio': 0, 'cache_read': 0}, 'output_token_details': {'audio': 0, 'reasoning': 0}})]}"
      ]
     },
     "execution_count": 4,
     "metadata": {},
     "output_type": "execute_result"
    }
   ],
   "source": [
    "invoke"
   ]
  },
  {
   "cell_type": "code",
   "execution_count": null,
   "id": "64f761f4",
   "metadata": {},
   "outputs": [],
   "source": []
  },
  {
   "cell_type": "code",
   "execution_count": null,
   "id": "183b7476",
   "metadata": {},
   "outputs": [],
   "source": []
  }
 ],
 "metadata": {
  "kernelspec": {
   "display_name": "RAG_Commander",
   "language": "python",
   "name": "python3"
  },
  "language_info": {
   "codemirror_mode": {
    "name": "ipython",
    "version": 3
   },
   "file_extension": ".py",
   "mimetype": "text/x-python",
   "name": "python",
   "nbconvert_exporter": "python",
   "pygments_lexer": "ipython3",
   "version": "3.12.11"
  }
 },
 "nbformat": 4,
 "nbformat_minor": 5
}
