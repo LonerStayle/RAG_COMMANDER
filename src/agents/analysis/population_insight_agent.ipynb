{
 "cells": [
  {
   "cell_type": "code",
   "execution_count": 1,
   "id": "a4598ba2",
   "metadata": {},
   "outputs": [],
   "source": [
    "import os, sys\n",
    "from pathlib import Path\n",
    "\n",
    "src_path = Path(os.getcwd()).resolve().parents[1]  \n",
    "sys.path.append(str(src_path))"
   ]
  },
  {
   "cell_type": "code",
   "execution_count": 4,
   "id": "6f0b37d0",
   "metadata": {},
   "outputs": [
    {
     "name": "stderr",
     "output_type": "stream",
     "text": [
      "2025-10-30 21:17:24,754 - INFO - HTTP Request: POST https://api.openai.com/v1/embeddings \"HTTP/1.1 200 OK\"\n",
      "2025-10-30 21:17:26,110 - INFO - HTTP Request: POST https://api.openai.com/v1/chat/completions \"HTTP/1.1 200 OK\"\n",
      "2025-10-30 21:17:34,678 - INFO - HTTP Request: POST https://api.openai.com/v1/chat/completions \"HTTP/1.1 200 OK\"\n",
      "2025-10-30 21:17:41,231 - INFO - HTTP Request: POST https://api.openai.com/v1/chat/completions \"HTTP/1.1 200 OK\"\n",
      "2025-10-30 21:17:57,816 - INFO - HTTP Request: POST https://api.openai.com/v1/chat/completions \"HTTP/1.1 200 OK\"\n"
     ]
    }
   ],
   "source": [
    "from agents.analysis.population_insight_agent import population_insight_graph\n",
    "invoke = population_insight_graph.invoke({\n",
    "    \"start_input\": {\n",
    "        \"target_area\": \"서울시 강남구 역삼동\"\n",
    "    }\n",
    "})"
   ]
  },
  {
   "cell_type": "code",
   "execution_count": null,
   "id": "82dc2cbf",
   "metadata": {},
   "outputs": [
    {
     "data": {
      "text/plain": [
       "{'start_input': {'target_area': '서울시 강남구 역삼동'},\n",
       " 'population_insight_output': '```markdown\\n# 서울시 강남구 역삼동 인구 데이터 정리 (2025년 9월 기준)\\n\\n## 1. 기본 인구 현황 (강남구 전체 기준)\\n- 총인구수: 556,324명\\n- 남성 인구: 265,884명 (47.8%)\\n- 여성 인구: 290,440명 (52.2%)\\n\\n## 2. 연령별 인구 분포\\n| 연령대    | 인구수   | 비율(%)  |\\n|-----------|----------|----------|\\n| 0~9세     | 32,142   | 5.78%    |\\n| 10~19세   | 64,171   | 11.53%   |\\n| 20~29세   | 63,996   | 11.51%   |\\n| 30~39세   | 80,843   | 14.53%   |\\n| 40~49세   | 100,172  | 18.01%   |\\n| 50~59세   | 88,351   | 15.89%   |\\n| 60~69세   | 63,574   | 11.43%   |\\n| 70~79세   | 43,304   | 7.78%    |\\n| 80~89세   | 17,034   | 3.06%    |\\n| 90~99세   | 2,645    | 0.48%    |\\n| 100세 이상| 92       | 0.02%    |\\n\\n## 3. 인구 이동(전입/전출) 데이터\\n- 제공된 인구 이동 데이터 없음\\n- 순이동 추세 분석 불가\\n\\n## 4. 시계열 데이터 및 추세\\n- 시계열 데이터 부재로 인구 변화 추세 판단 불가\\n- 강남구 전체 연령층 분포를 역삼동 대체 지표로 활용 가능하나, 지역 특성 차이 고려 필요\\n\\n---\\n\\n## GPT-5 최종 보고서 작성용 프롬프트\\n\\n```\\n서울시 강남구 역삼동 인구 분석을 위해 강남구 전체 2025년 9월 기준 인구 통계를 참고합니다. \\n- 총인구 556,324명, 남성 47.8%, 여성 52.2% 비율로 구성되어 있습니다.\\n- 연령별 인구 분포는 0~9세 5.78%, 10~19세 11.53%, 20~29세 11.51%, 30~39세 14.53%, 40~49세 18.01%, 50~59세 15.89%, 60~69세 11.43%, 70~79세 7.78%, 80~89세 3.06%, 90~99세 0.48%, 100세 이상 0.02%입니다.\\n- 인구 이동 데이터는 제공되지 않아 순이동 추세 분석은 불가합니다.\\n- 시계열 데이터가 없어 인구 변화 추세 판단은 제한적입니다.\\n- 강남구 전체 연령층 분포를 역삼동 인구 특성 추정에 활용하되, 지역 특성 차이를 반드시 고려하십시오.\\n- 인구 이동 데이터 부재를 명확히 언급하고, 분양가 및 분양성 평가 시 인구 연령 구조를 주요 지표로 활용하십시오.\\n```\\n\\n---\\n\\n# 핵심 지표 제안\\n- **주요 지표:** 40~59세 인구 비율 (33.9%)  \\n  → 경제활동 인구가 많아 부동산 수요 및 분양성 판단에 중요한 기준이 될 수 있음\\n\\n- **참고 지표:** 20~39세 인구 비율 (26.04%)  \\n  → 신혼부부 및 젊은 세대의 주거 수요 예측에 활용 가능\\n\\n---\\n\\n# 요약 메시지\\n\"2025년 강남구 연령별 인구 분포를 바탕으로 역삼동 인구 특성 추정 가능하나, 인구 이동 데이터 부재로 순이동 추세 분석은 불가함.\"\\n```',\n",
       " 'age_population_context': '서울시 강남구 역삼동 관련 인구 정보는 별도 제공되지 않았으며, 강남구 전체 인구 통계만 포함되어 있습니다.\\n\\n- 강남구 총인구수(2025년 9월 기준): 556,324명\\n- 남성 인구: 265,884명\\n- 여성 인구: 290,440명\\n- 연령별 인구 분포(2025년 9월 기준):\\n  - 0~9세: 32,142명\\n  - 10~19세: 64,171명\\n  - 20~29세: 63,996명\\n  - 30~39세: 80,843명\\n  - 40~49세: 100,172명\\n  - 50~59세: 88,351명\\n  - 60~69세: 63,574명\\n  - 70~79세: 43,304명\\n  - 80~89세: 17,034명\\n  - 90~99세: 2,645명\\n  - 100세 이상: 92명\\n\\n역삼동에 대한 구체적 정보는 제공되지 않았습니다.',\n",
       " 'move_population_context': [],\n",
       " 'messages': [SystemMessage(content='[역할]\\n당신은 특정 지역에 대한 **인구 데이터 정리 전문가**입니다.\\n고객이 사업하려는 지역의 연령구조·순이동(전입/전출) 추세를 정량 데이터 정리를 아주 정확히 하고 시계열성을 확실히 보여줍니다.\\n부동산 분양가와 분양성을 측정하기 위한 하나의 주요 지표를 최종 보고서 작성자에게 제공할 예정입니다. \\n\\n[상황]\\n당신은 AI 에이전틱 개발에서 하나의 인구분석 전문가를 담당하는 에이전트로써 최종 보고서 작성 에이전트와 상호작용 합니다.\\n특정 지역의 연령층 분포 및 인구 이동(전입/전출)에 데이터를 참고해서 최종 보고서 작성 에이전트가 분석해서 보고서를 작성할때 최고의 효율을\\n만들어낼 수 있도록 데이터를 가공하는 역할을 해야합니다.\\n\\n[강력 지시]\\n- markdown 형식으로 만들어주세요.\\n- 제공된 데이터의 컨텍스트를 잃어서 최종 보고서 작성에 정량 평가가 누락되지 않도록 주의하십시오\\n- 최종 보고서 작성 에이전트의 모델을 GPT-5를 사용할 예정입니다. GPT-5 가 최고의 효율을 낼 수 있는 프롬프트 만들어주십시오.\\n- 해당 지역과 관련이 없는 얘기를 하지 않도록 주의합니다.\\n- 시계열 판단이 확실히 될 수 있도록 만들어주십시오.\\n', additional_kwargs={}, response_metadata={}, id='bc95bc63-0649-4abf-bcb3-969775757191'),\n",
       "  HumanMessage(content='[입력]\\n- 대상지: 서울시 강남구 역삼동\\n- 현재 시점: Thu Oct 30, 2025\\n\\n[연령층 분포 분석 내용]\\n서울시 강남구 역삼동 관련 인구 정보는 별도 제공되지 않았으며, 강남구 전체 인구 통계만 포함되어 있습니다.\\n\\n- 강남구 총인구수(2025년 9월 기준): 556,324명\\n- 남성 인구: 265,884명\\n- 여성 인구: 290,440명\\n- 연령별 인구 분포(2025년 9월 기준):\\n  - 0~9세: 32,142명\\n  - 10~19세: 64,171명\\n  - 20~29세: 63,996명\\n  - 30~39세: 80,843명\\n  - 40~49세: 100,172명\\n  - 50~59세: 88,351명\\n  - 60~69세: 63,574명\\n  - 70~79세: 43,304명\\n  - 80~89세: 17,034명\\n  - 90~99세: 2,645명\\n  - 100세 이상: 92명\\n\\n역삼동에 대한 구체적 정보는 제공되지 않았습니다.\\n\\n[인구이동 분석 내용]\\n[]\\n', additional_kwargs={}, response_metadata={}, id='cf8d1ca2-0057-48e7-80dd-a0054a70043a'),\n",
       "  AIMessage(content='', additional_kwargs={'refusal': None}, response_metadata={'token_usage': {'completion_tokens': 384, 'prompt_tokens': 1020, 'total_tokens': 1404, 'completion_tokens_details': {'accepted_prediction_tokens': 0, 'audio_tokens': 0, 'reasoning_tokens': 0, 'rejected_prediction_tokens': 0}, 'prompt_tokens_details': {'audio_tokens': 0, 'cached_tokens': 0}}, 'model_provider': 'openai', 'model_name': 'gpt-4.1-mini-2025-04-14', 'system_fingerprint': 'fp_4c2851f862', 'id': 'chatcmpl-CWLst4djzTR8msFgGJEXUf1sSxsVA', 'service_tier': 'default', 'finish_reason': 'tool_calls', 'logprobs': None}, id='lc_run--bc68f43a-fffb-40d8-8f74-c866e26746fe-0', tool_calls=[{'name': 'think_tool', 'args': {'reflection': '서울시 강남구 역삼동에 대한 직접적인 인구 데이터는 없으나, 강남구 전체 인구 통계(2025년 9월 기준)를 활용하여 연령층 분포를 분석함. 총인구 556,324명 중 0~9세 32,142명, 10~19세 64,171명, 20~29세 63,996명, 30~39세 80,843명, 40~49세 100,172명, 50~59세 88,351명, 60~69세 63,574명, 70~79세 43,304명, 80~89세 17,034명, 90~99세 2,645명, 100세 이상 92명으로 연령대별 인구 분포가 상세히 제공됨. 인구 이동 데이터는 제공되지 않아 순이동 추세 분석은 불가함. 시계열 데이터 부재로 인구 변화 추세 판단은 제한적임. 강남구 전체 연령층 분포를 역삼동 대체 지표로 활용 가능하나, 지역 특성 차이 고려 필요. 최종 보고서 작성 시 강남구 연령층 분포를 기반으로 역삼동 인구 특성을 추정하고, 인구 이동 데이터 부재를 명확히 기재할 것. 한 줄 메시지: \"2025년 강남구 연령별 인구 분포를 바탕으로 역삼동 인구 특성 추정 가능하나, 인구 이동 데이터 부재로 순이동 추세 분석은 불가함.\"'}, 'id': 'call_zypLuthQCcQHdW3LKgY4yLVy', 'type': 'tool_call'}], usage_metadata={'input_tokens': 1020, 'output_tokens': 384, 'total_tokens': 1404, 'input_token_details': {'audio': 0, 'cache_read': 0}, 'output_token_details': {'audio': 0, 'reasoning': 0}}),\n",
       "  ToolMessage(content='Reflection recorded: 서울시 강남구 역삼동에 대한 직접적인 인구 데이터는 없으나, 강남구 전체 인구 통계(2025년 9월 기준)를 활용하여 연령층 분포를 분석함. 총인구 556,324명 중 0~9세 32,142명, 10~19세 64,171명, 20~29세 63,996명, 30~39세 80,843명, 40~49세 100,172명, 50~59세 88,351명, 60~69세 63,574명, 70~79세 43,304명, 80~89세 17,034명, 90~99세 2,645명, 100세 이상 92명으로 연령대별 인구 분포가 상세히 제공됨. 인구 이동 데이터는 제공되지 않아 순이동 추세 분석은 불가함. 시계열 데이터 부재로 인구 변화 추세 판단은 제한적임. 강남구 전체 연령층 분포를 역삼동 대체 지표로 활용 가능하나, 지역 특성 차이 고려 필요. 최종 보고서 작성 시 강남구 연령층 분포를 기반으로 역삼동 인구 특성을 추정하고, 인구 이동 데이터 부재를 명확히 기재할 것. 한 줄 메시지: \"2025년 강남구 연령별 인구 분포를 바탕으로 역삼동 인구 특성 추정 가능하나, 인구 이동 데이터 부재로 순이동 추세 분석은 불가함.\"', name='think_tool', id='c9e5d527-0fea-45c1-b6ee-a89f1ff98299', tool_call_id='call_zypLuthQCcQHdW3LKgY4yLVy'),\n",
       "  AIMessage(content='```markdown\\n# 서울시 강남구 역삼동 인구 데이터 정리 (2025년 9월 기준)\\n\\n## 1. 기본 인구 현황 (강남구 전체 기준)\\n- 총인구수: 556,324명\\n- 남성 인구: 265,884명 (47.8%)\\n- 여성 인구: 290,440명 (52.2%)\\n\\n## 2. 연령별 인구 분포\\n| 연령대    | 인구수   | 비율(%)  |\\n|-----------|----------|----------|\\n| 0~9세     | 32,142   | 5.78%    |\\n| 10~19세   | 64,171   | 11.53%   |\\n| 20~29세   | 63,996   | 11.51%   |\\n| 30~39세   | 80,843   | 14.53%   |\\n| 40~49세   | 100,172  | 18.01%   |\\n| 50~59세   | 88,351   | 15.89%   |\\n| 60~69세   | 63,574   | 11.43%   |\\n| 70~79세   | 43,304   | 7.78%    |\\n| 80~89세   | 17,034   | 3.06%    |\\n| 90~99세   | 2,645    | 0.48%    |\\n| 100세 이상| 92       | 0.02%    |\\n\\n## 3. 인구 이동(전입/전출) 데이터\\n- 제공된 인구 이동 데이터 없음\\n- 순이동 추세 분석 불가\\n\\n## 4. 시계열 데이터 및 추세\\n- 시계열 데이터 부재로 인구 변화 추세 판단 불가\\n- 강남구 전체 연령층 분포를 역삼동 대체 지표로 활용 가능하나, 지역 특성 차이 고려 필요\\n\\n---\\n\\n## GPT-5 최종 보고서 작성용 프롬프트\\n\\n```\\n서울시 강남구 역삼동 인구 분석을 위해 강남구 전체 2025년 9월 기준 인구 통계를 참고합니다. \\n- 총인구 556,324명, 남성 47.8%, 여성 52.2% 비율로 구성되어 있습니다.\\n- 연령별 인구 분포는 0~9세 5.78%, 10~19세 11.53%, 20~29세 11.51%, 30~39세 14.53%, 40~49세 18.01%, 50~59세 15.89%, 60~69세 11.43%, 70~79세 7.78%, 80~89세 3.06%, 90~99세 0.48%, 100세 이상 0.02%입니다.\\n- 인구 이동 데이터는 제공되지 않아 순이동 추세 분석은 불가합니다.\\n- 시계열 데이터가 없어 인구 변화 추세 판단은 제한적입니다.\\n- 강남구 전체 연령층 분포를 역삼동 인구 특성 추정에 활용하되, 지역 특성 차이를 반드시 고려하십시오.\\n- 인구 이동 데이터 부재를 명확히 언급하고, 분양가 및 분양성 평가 시 인구 연령 구조를 주요 지표로 활용하십시오.\\n```\\n\\n---\\n\\n# 핵심 지표 제안\\n- **주요 지표:** 40~59세 인구 비율 (33.9%)  \\n  → 경제활동 인구가 많아 부동산 수요 및 분양성 판단에 중요한 기준이 될 수 있음\\n\\n- **참고 지표:** 20~39세 인구 비율 (26.04%)  \\n  → 신혼부부 및 젊은 세대의 주거 수요 예측에 활용 가능\\n\\n---\\n\\n# 요약 메시지\\n\"2025년 강남구 연령별 인구 분포를 바탕으로 역삼동 인구 특성 추정 가능하나, 인구 이동 데이터 부재로 순이동 추세 분석은 불가함.\"\\n```', additional_kwargs={'refusal': None}, response_metadata={'token_usage': {'completion_tokens': 918, 'prompt_tokens': 1753, 'total_tokens': 2671, 'completion_tokens_details': {'accepted_prediction_tokens': 0, 'audio_tokens': 0, 'reasoning_tokens': 0, 'rejected_prediction_tokens': 0}, 'prompt_tokens_details': {'audio_tokens': 0, 'cached_tokens': 0}}, 'model_provider': 'openai', 'model_name': 'gpt-4.1-mini-2025-04-14', 'system_fingerprint': 'fp_4c2851f862', 'id': 'chatcmpl-CWLt0zSs8gxFFsJc2bf7FJsSzV7VE', 'service_tier': 'default', 'finish_reason': 'stop', 'logprobs': None}, id='lc_run--acdd273c-3367-4cad-b895-99911e1d9fab-0', usage_metadata={'input_tokens': 1753, 'output_tokens': 918, 'total_tokens': 2671, 'input_token_details': {'audio': 0, 'cache_read': 0}, 'output_token_details': {'audio': 0, 'reasoning': 0}})]}"
      ]
     },
     "execution_count": 5,
     "metadata": {},
     "output_type": "execute_result"
    }
   ],
   "source": [
    "invoke"
   ]
  },
  {
   "cell_type": "code",
   "execution_count": null,
   "id": "64f761f4",
   "metadata": {},
   "outputs": [],
   "source": []
  }
 ],
 "metadata": {
  "kernelspec": {
   "display_name": "RAG_Commander",
   "language": "python",
   "name": "python3"
  },
  "language_info": {
   "codemirror_mode": {
    "name": "ipython",
    "version": 3
   },
   "file_extension": ".py",
   "mimetype": "text/x-python",
   "name": "python",
   "nbconvert_exporter": "python",
   "pygments_lexer": "ipython3",
   "version": "3.12.11"
  }
 },
 "nbformat": 4,
 "nbformat_minor": 5
}
