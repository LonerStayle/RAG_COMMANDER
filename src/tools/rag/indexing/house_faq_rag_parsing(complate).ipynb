{
 "cells": [
  {
   "cell_type": "code",
   "execution_count": 1,
   "id": "1cc94383",
   "metadata": {},
   "outputs": [
    {
     "name": "stdout",
     "output_type": "stream",
     "text": [
      "c:\\PythonProject\\RAG_COMMANDER\\src\n"
     ]
    }
   ],
   "source": [
    "import sys, os\n",
    "sys.path.append(os.path.abspath(os.path.join(os.getcwd(), \"../../../\")))\n",
    "print(sys.path[-1])"
   ]
  },
  {
   "cell_type": "code",
   "execution_count": null,
   "id": "22b2556e",
   "metadata": {},
   "outputs": [
    {
     "name": "stderr",
     "output_type": "stream",
     "text": [
      "c:\\PythonProject\\RAG_COMMANDER\\.venv\\Lib\\site-packages\\tqdm\\auto.py:21: TqdmWarning: IProgress not found. Please update jupyter and ipywidgets. See https://ipywidgets.readthedocs.io/en/stable/user_install.html\n",
      "  from .autonotebook import tqdm as notebook_tqdm\n"
     ]
    },
    {
     "name": "stdout",
     "output_type": "stream",
     "text": [
      "→ RecursiveCharacterTextSplitter 사용\n"
     ]
    }
   ],
   "source": [
    "# from langchain_community.vectorstores import PGVector\n",
    "# from langchain_openai import OpenAIEmbeddings\n",
    "# import os \n",
    "# from tools.rag.document_loader.default_loader import load_with_pymupdf\n",
    "# from utils.util import get_project_root\n",
    "# from tools.rag.chunker.default_chunker import adaptive_chunker \n",
    "# from dotenv import load_dotenv\n",
    "# load_dotenv()\n",
    "# doc_path = get_project_root() / \"src\" / \"data\" / \"housing_pre_promise\"/\"2024 주택청약 FAQ.pdf\"\n",
    "# documents = load_with_pymupdf(doc_path)\n",
    "# chunk_list = adaptive_chunker(documents)"
   ]
  },
  {
   "cell_type": "code",
   "execution_count": null,
   "id": "2e5626d8",
   "metadata": {},
   "outputs": [
    {
     "name": "stderr",
     "output_type": "stream",
     "text": [
      "2025-10-29 10:45:17,399 - INFO - HTTP Request: POST https://api.openai.com/v1/embeddings \"HTTP/1.1 200 OK\"\n"
     ]
    }
   ],
   "source": [
    "# emb = OpenAIEmbeddings(model = \"text-embedding-3-small\")\n",
    "# collection_name = \"text\"\n",
    "# connection_url = os.getenv(\"POSTGRES_URL\")\n",
    "# store = PGVector.from_documents(\n",
    "#         documents= chunk_list,\n",
    "#         embedding= emb, \n",
    "#         connection_string = connection_url,\n",
    "#         collection_name= collection_name,\n",
    "#         use_jsonb=True,\n",
    "#         pre_delete_collection=False\n",
    "# )"
   ]
  },
  {
   "cell_type": "code",
   "execution_count": null,
   "id": "f25aeb07",
   "metadata": {},
   "outputs": [],
   "source": []
  }
 ],
 "metadata": {
  "kernelspec": {
   "display_name": "RAG_COMMANDER",
   "language": "python",
   "name": "python3"
  },
  "language_info": {
   "codemirror_mode": {
    "name": "ipython",
    "version": 3
   },
   "file_extension": ".py",
   "mimetype": "text/x-python",
   "name": "python",
   "nbconvert_exporter": "python",
   "pygments_lexer": "ipython3",
   "version": "3.12.11"
  }
 },
 "nbformat": 4,
 "nbformat_minor": 5
}
