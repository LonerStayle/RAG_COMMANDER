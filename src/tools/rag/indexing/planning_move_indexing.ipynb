{
 "cells": [
  {
   "cell_type": "code",
   "execution_count": 1,
   "id": "96d0ff7e",
   "metadata": {},
   "outputs": [
    {
     "data": {
      "text/plain": [
       "True"
      ]
     },
     "execution_count": 1,
     "metadata": {},
     "output_type": "execute_result"
    }
   ],
   "source": [
    "import os, sys\n",
    "from pathlib import Path\n",
    "\n",
    "src_path = Path(os.getcwd()).resolve().parents[1]  \n",
    "sys.path.append(str(src_path))\n",
    "from dotenv import load_dotenv\n",
    "load_dotenv()"
   ]
  },
  {
   "cell_type": "code",
   "execution_count": 2,
   "id": "4e3e4ad1",
   "metadata": {},
   "outputs": [],
   "source": [
    "from tools.rag.document_loader.csv_loader import load_csv_loader\n",
    "from utils.util import get_project_root\n",
    "path = \"/Users/seobi/PythonProjects/RAG_Commander/src/data/supply_demand/서울_주택매매거래현황 - 최종.csv\""
   ]
  },
  {
   "cell_type": "code",
   "execution_count": 3,
   "id": "ec2a5fd1",
   "metadata": {},
   "outputs": [],
   "source": [
    "loader = load_csv_loader(path)\n",
    "docs = loader.load()"
   ]
  },
  {
   "cell_type": "code",
   "execution_count": 4,
   "id": "cac18e7a",
   "metadata": {},
   "outputs": [],
   "source": [
    "# from langchain_community.vectorstores import PGVector \n",
    "# from tools.rag.db_collection_name import PLANNING_MOVE_KEY\n",
    "# from langchain_openai import OpenAIEmbeddings\n",
    "# from dotenv import load_dotenv\n",
    "# load_dotenv()\n",
    "# POSTGRES_URL = os.getenv(\"POSTGRES_URL\")\n",
    "# emb = OpenAIEmbeddings(model=\"text-embedding-3-large\")\n",
    "# store = PGVector.from_documents(\n",
    "#     documents = docs,\n",
    "#     collection_name=PLANNING_MOVE_KEY,\n",
    "#     embedding=emb,\n",
    "#     connection_string=POSTGRES_URL\n",
    "# )"
   ]
  },
  {
   "cell_type": "code",
   "execution_count": null,
   "id": "1dba3e80",
   "metadata": {},
   "outputs": [
    {
     "name": "stderr",
     "output_type": "stream",
     "text": [
      "/var/folders/fx/bdj1bhw11037xfwjzgrx6vc80000gn/T/ipykernel_57854/1616602815.py:8: LangChainPendingDeprecationWarning: Please use JSONB instead of JSON for metadata. This change will allow for more efficient querying that involves filtering based on metadata. Please note that filtering operators have been changed when using JSONB metadata to be prefixed with a $ sign to avoid name collisions with columns. If you're using an existing database, you will need to create a db migration for your metadata column to be JSONB and update your queries to use the new operators. \n",
      "  store = PGVector(\n"
     ]
    }
   ],
   "source": [
    "# from langchain_community.vectorstores import PGVector\n",
    "# from tools.rag.db_collection_name import PLANNING_MOVE_KEY\n",
    "# from langchain_openai import OpenAIEmbeddings\n",
    "# from dotenv import load_dotenv\n",
    "# load_dotenv()\n",
    "# POSTGRES_URL = os.getenv(\"POSTGRES_URL\")\n",
    "# emb = OpenAIEmbeddings(model=\"text-embedding-3-large\")\n",
    "# store = PGVector(\n",
    "#     collection_name=PLANNING_MOVE_KEY,\n",
    "#     embedding_function=emb,\n",
    "#     connection_string=POSTGRES_URL\n",
    "# )"
   ]
  },
  {
   "cell_type": "code",
   "execution_count": null,
   "id": "50a8a237",
   "metadata": {},
   "outputs": [],
   "source": []
  }
 ],
 "metadata": {
  "kernelspec": {
   "display_name": "RAG_Commander",
   "language": "python",
   "name": "python3"
  },
  "language_info": {
   "codemirror_mode": {
    "name": "ipython",
    "version": 3
   },
   "file_extension": ".py",
   "mimetype": "text/x-python",
   "name": "python",
   "nbconvert_exporter": "python",
   "pygments_lexer": "ipython3",
   "version": "3.12.11"
  }
 },
 "nbformat": 4,
 "nbformat_minor": 5
}
