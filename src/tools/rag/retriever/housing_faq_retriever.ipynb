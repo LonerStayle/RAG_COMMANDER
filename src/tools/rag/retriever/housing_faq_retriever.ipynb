{
 "cells": [
  {
   "cell_type": "code",
   "execution_count": 1,
   "id": "93e39602",
   "metadata": {},
   "outputs": [
    {
     "name": "stdout",
     "output_type": "stream",
     "text": [
      "c:\\PythonProject\\RAG_COMMANDER\\src\n"
     ]
    }
   ],
   "source": [
    "import sys, os\n",
    "sys.path.append(os.path.abspath(os.path.join(os.getcwd(), \"../../../\")))\n",
    "print(sys.path[-1])"
   ]
  },
  {
   "cell_type": "code",
   "execution_count": 2,
   "id": "631a4262",
   "metadata": {},
   "outputs": [
    {
     "name": "stderr",
     "output_type": "stream",
     "text": [
      "c:\\PythonProject\\RAG_COMMANDER\\.venv\\Lib\\site-packages\\tqdm\\auto.py:21: TqdmWarning: IProgress not found. Please update jupyter and ipywidgets. See https://ipywidgets.readthedocs.io/en/stable/user_install.html\n",
      "  from .autonotebook import tqdm as notebook_tqdm\n",
      "c:\\PythonProject\\RAG_COMMANDER\\src\\tools\\rag\\retriever\\housing_faq_retriever.py:13: LangChainPendingDeprecationWarning: This class is pending deprecation and may be removed in a future version. You can swap to using the `PGVector` implementation in `langchain_postgres`. Please read the guidelines in the doc-string of this class to follow prior to migrating as there are some differences between the implementations. See <https://github.com/langchain-ai/langchain-postgres> for details about the new implementation.\n",
      "  store = PGVector(\n"
     ]
    }
   ],
   "source": [
    "from tools.rag.retriever.housing_faq_retriever import retriever_housing_faq\n",
    "retriever = retriever_housing_faq()"
   ]
  },
  {
   "cell_type": "code",
   "execution_count": 4,
   "id": "fe340009",
   "metadata": {},
   "outputs": [
    {
     "name": "stderr",
     "output_type": "stream",
     "text": [
      "2025-10-29 10:49:50,167 - INFO - HTTP Request: POST https://api.openai.com/v1/embeddings \"HTTP/1.1 200 OK\"\n"
     ]
    },
    {
     "data": {
      "text/plain": [
       "[Document(metadata={'page': 152, 'title': '', 'author': '', 'format': 'PDF 1.7', 'source': 'C:\\\\PythonProject\\\\RAG_COMMANDER\\\\src\\\\data\\\\housing_pre_promise\\\\2024 주택청약 FAQ.pdf', 'creator': '', 'modDate': \"D:20240524094837+09'00'\", 'moddate': '2024-05-24T09:48:37+09:00', 'subject': '', 'trapped': '', 'keywords': '', 'producer': 'ezPDF Builder Supreme', 'file_path': 'C:\\\\PythonProject\\\\RAG_COMMANDER\\\\src\\\\data\\\\housing_pre_promise\\\\2024 주택청약 FAQ.pdf', 'total_pages': 273, 'creationDate': \"D:20240524004600+09'00'\", 'creationdate': '2024-05-24T00:46:00+09:00'}, page_content='(농어촌특별세의 경우에는 환급세액)\\n쇮\\n쇵\\n0\\n쇯\\n쇽\\n합 \\n \\n \\n \\n계(쇭\\n쇽+쇭\\n쇾+쇮\\n쇵) 쇮\\n쇶\\n2,000,000\\n쇯\\n쇾\\n기   납   부   세   액◯\\n32\\n2,500,000\\n쇰\\n쇵\\n납 \\n부(환급) \\n할 \\n총 \\n세 \\n액(쇮\\n쇶-쇮\\n쇷) 쇮\\n쇸\\n-500,000\\n쇰\\n쇶\\n납부특례세액\\n차 감\\n쇮\\n쇹\\n0\\n쇰\\n쇷\\n가 산\\n쇮\\n쇺\\n0\\n분 \\n납 \\n할 \\n세 \\n액\\n2개월 내\\n쇮\\n쇻\\n0\\n신고기한 이내 납부할 세액(쇮\\n쇸-쇮\\n쇹+쇮\\n쇺-쇮\\n쇻) 쇮\\n쇼\\n-500,000\\n쇰\\n쇸\\n※ 위의 경우 납부해야할 세액은 2,000,000원이며, 이를 모두 납부하여야 소득세 납부이력으로 인정\\n되며, 원천징수 등으로 납부해야할 소득세를 기납부(2,500,000원)하였으므로 소득세를 납부한 것\\n으로 봅니다.'),\n",
       " Document(metadata={'page': 208, 'title': '', 'author': '', 'format': 'PDF 1.7', 'source': 'C:\\\\PythonProject\\\\RAG_COMMANDER\\\\src\\\\data\\\\housing_pre_promise\\\\2024 주택청약 FAQ.pdf', 'creator': '', 'modDate': \"D:20240524094837+09'00'\", 'moddate': '2024-05-24T09:48:37+09:00', 'subject': '', 'trapped': '', 'keywords': '', 'producer': 'ezPDF Builder Supreme', 'file_path': 'C:\\\\PythonProject\\\\RAG_COMMANDER\\\\src\\\\data\\\\housing_pre_promise\\\\2024 주택청약 FAQ.pdf', 'total_pages': 273, 'creationDate': \"D:20240524004600+09'00'\", 'creationdate': '2024-05-24T00:46:00+09:00'}, page_content='주택공급절차\\nⅤ'),\n",
       " Document(metadata={'page': 152, 'title': '', 'author': '', 'format': 'PDF 1.7', 'source': 'C:\\\\PythonProject\\\\RAG_COMMANDER\\\\src\\\\data\\\\housing_pre_promise\\\\2024 주택청약 FAQ.pdf', 'creator': '', 'modDate': \"D:20240524094837+09'00'\", 'moddate': '2024-05-24T09:48:37+09:00', 'subject': '', 'trapped': '', 'keywords': '', 'producer': 'ezPDF Builder Supreme', 'file_path': 'C:\\\\PythonProject\\\\RAG_COMMANDER\\\\src\\\\data\\\\housing_pre_promise\\\\2024 주택청약 FAQ.pdf', 'total_pages': 273, 'creationDate': \"D:20240524004600+09'00'\", 'creationdate': '2024-05-24T00:46:00+09:00'}, page_content='Ⅲ. 특별공급 및 우선공급\\n121\\n참 고\\n종합소득세·농어촌특별세 과세표준확정신고 및 납부계산서 확인 방법\\n(35쪽 중 제3쪽)\\n관리번호\\n-\\n(   년 귀속)종합소득세ㆍ농어촌특별세\\n과세표준확정신고 및 납부계산서\\n거주구분\\n거주자1 /비거주자2\\n내ㆍ외국인\\n내국인1 /외국인9\\n외국인단일세율적용\\n여 1 / 부 2\\n분리과세\\n여 1 / 부 2\\n거주지국\\n거주지국코드\\n❶ 기본사항\\n❷ 환급금 계좌신고\\n(5천만원 미만인 경우)\\n⑪ 금융기관/체신관서명\\n⑫ 계좌번호\\n❸ 세 무\\n  대리인\\n⑬성  명\\n⑭ 사업자등록번호\\n-\\n-\\n⑮ 전화\\n번호\\n쇬\\n쇻대리구분숔기장 숕조정 숖신고 숗성실확인쇬\\n쇼관리\\n번호\\n-\\n쇬\\n쇽조정\\n반번호\\n－\\n❹ 세액의 계산\\n구                분\\n종합소득세\\n농어촌특별세\\n종 \\n \\n합 \\n \\n소 \\n \\n득 \\n \\n금 \\n \\n액쇬\\n쇾\\n30,000,000\\n소 \\n \\n \\n \\n득 \\n \\n \\n \\n공 \\n \\n \\n \\n제쇭\\n쇵\\n5,000,000\\n과 \\n \\n세 \\n \\n표 \\n \\n준(쇬\\n쇾－쇭\\n쇵) 쇭\\n쇶\\n25,000,000\\n쇯\\n쇶\\n세                  율쇭\\n쇷\\n15.0000\\n쇯\\n쇷\\n산 \\n \\n \\n \\n출 \\n \\n \\n \\n세 \\n \\n \\n \\n액쇭\\n쇸\\n2,650,000\\n쇯\\n쇸\\n세 \\n \\n \\n액 \\n \\n \\n감 \\n \\n \\n면쇭\\n쇹\\n0\\n세 \\n \\n \\n \\n액 \\n \\n \\n \\n공 \\n \\n \\n \\n제쇭\\n쇺\\n650,000\\n결정\\n세액\\n종 \\n합 \\n과 \\n세(쇭\\n쇸-쇭\\n쇹-쇭\\n쇺) 쇭\\n쇻\\n2,000,000\\n쇯\\n쇹\\n분 \\n리 \\n과 \\n세쇭\\n쇼\\n0\\n쇯\\n쇺\\n합 \\n \\n \\n \\n계(쇭\\n쇻+쇭\\n쇼) ◯\\n28\\n2,000,000\\n쇯\\n쇻\\n가        산        세쇭\\n쇾\\n0\\n쇯\\n쇼\\n추   가   납   부   세   액\\n(농어촌특별세의 경우에는 환급세액)\\n쇮\\n쇵\\n0\\n쇯\\n쇽\\n합 \\n \\n \\n \\n계(쇭\\n쇽+쇭\\n쇾+쇮\\n쇵) 쇮\\n쇶\\n2,000,000\\n쇯\\n쇾\\n기   납   부   세   액◯\\n32\\n2,500,000\\n쇰\\n쇵\\n납 \\n부(환급) \\n할 \\n총 \\n세 \\n액(쇮\\n쇶-쇮\\n쇷) 쇮\\n쇸\\n-500,000\\n쇰\\n쇶\\n납부특례세액\\n차 감\\n쇮\\n쇹\\n0\\n쇰\\n쇷\\n가 산\\n쇮\\n쇺\\n0'),\n",
       " Document(metadata={'page': 195, 'title': '', 'author': '', 'format': 'PDF 1.7', 'source': 'C:\\\\PythonProject\\\\RAG_COMMANDER\\\\src\\\\data\\\\housing_pre_promise\\\\2024 주택청약 FAQ.pdf', 'creator': '', 'modDate': \"D:20240524094837+09'00'\", 'moddate': '2024-05-24T09:48:37+09:00', 'subject': '', 'trapped': '', 'keywords': '', 'producer': 'ezPDF Builder Supreme', 'file_path': 'C:\\\\PythonProject\\\\RAG_COMMANDER\\\\src\\\\data\\\\housing_pre_promise\\\\2024 주택청약 FAQ.pdf', 'total_pages': 273, 'creationDate': \"D:20240524004600+09'00'\", 'creationdate': '2024-05-24T00:46:00+09:00'}, page_content='제외), 사업시설관리ㆍ사업지원 및 임대서비스업, \\n부동산 관련 서비스업, 부동산임대업\\n(9)\\n-\\n40/100\\n10/100\\n영 세 율 \\n적 용 분\\n세금계산서 발급분\\n(10)\\n-\\n0/100\\n기타\\n(11)\\n-\\n0/100\\n재고 납부세액\\n(12)\\n합계\\n(13)\\n50,000,000\\n㉮\\n공\\n제\\n세\\n액\\n매입세금계산서등수\\n취세액공제\\n21.6.30. 이전 공급받은 분\\n(14)\\n2,000,000\\n뒤쪽\\n참조\\n21.7.1. 이후 공급받은 분\\n(15)\\n2,000,000\\n의 \\n제 \\n매 \\n입 \\n세 \\n액 \\n공 \\n제\\n(16)\\n3,000,000\\n매입자발행 세금\\n계산서 세액공제\\n21.6.30. 이전 공급받은 분\\n(17)\\n2,000,000\\n21.7.1. 이후 공급받은 분\\n(18)\\n2,000,000\\n전 \\n자 \\n신 \\n고 \\n \\n세 \\n액 \\n공 \\n제\\n(19)\\n신용카드매출전표등\\n발행세액공제\\n21.6.30. 이전 공급한 분\\n(20)\\n3,000,000\\n21.7.1. 이후 공급한 분\\n(21)\\n3,000,000\\n기타\\n(22)\\n3,000,000\\n합계\\n(23)\\n㉯\\n과세표준 및 매출세액의 합계(13번, 50,000,000원)에서 공제세액의 합계(14, 15, 16, 17, \\n18, 20, 21, 22번의 합계, 20,000,000원)을 제외한 금액을 신고기간(22.1.1.~22.6.30., 6개\\n월)로 나누어 (50,000,000-20,000,000)/6 = 5,000,000원으로 월평균소득 산정\\n※ 위 자료는 부가가치세법 시행규칙 제44호 서식(2022.3.18.)을 일부 편집한 것으로 부가가치세법 \\n개정 등에 따라 발급되는 양식은 위의 내용과 다를 수 있음')]"
      ]
     },
     "execution_count": 4,
     "metadata": {},
     "output_type": "execute_result"
    }
   ],
   "source": [
    "retriever.invoke(\"환급금에 대해 알려줘\")"
   ]
  }
 ],
 "metadata": {
  "kernelspec": {
   "display_name": "RAG_COMMANDER",
   "language": "python",
   "name": "python3"
  },
  "language_info": {
   "codemirror_mode": {
    "name": "ipython",
    "version": 3
   },
   "file_extension": ".py",
   "mimetype": "text/x-python",
   "name": "python",
   "nbconvert_exporter": "python",
   "pygments_lexer": "ipython3",
   "version": "3.12.11"
  }
 },
 "nbformat": 4,
 "nbformat_minor": 5
}
