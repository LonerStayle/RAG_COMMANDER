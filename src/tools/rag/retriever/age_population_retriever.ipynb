{
 "cells": [
  {
   "cell_type": "code",
   "execution_count": 1,
   "id": "d775e7ff",
   "metadata": {},
   "outputs": [],
   "source": [
    "from tools.rag.retriever.age_population_retriever import age_population_retriever"
   ]
  },
  {
   "cell_type": "code",
   "execution_count": 2,
   "id": "8f881ab4",
   "metadata": {},
   "outputs": [
    {
     "name": "stderr",
     "output_type": "stream",
     "text": [
      "/Users/seobi/PythonProjects/RAG_Commander/src/tools/rag/retriever/age_population_retriever.py:14: LangChainPendingDeprecationWarning: This class is pending deprecation and may be removed in a future version. You can swap to using the `PGVector` implementation in `langchain_postgres`. Please read the guidelines in the doc-string of this class to follow prior to migrating as there are some differences between the implementations. See <https://github.com/langchain-ai/langchain-postgres> for details about the new implementation.\n",
      "  store = PGVector(\n",
      "/Users/seobi/PythonProjects/RAG_Commander/src/tools/rag/retriever/age_population_retriever.py:14: LangChainPendingDeprecationWarning: Please use JSONB instead of JSON for metadata. This change will allow for more efficient querying that involves filtering based on metadata. Please note that filtering operators have been changed when using JSONB metadata to be prefixed with a $ sign to avoid name collisions with columns. If you're using an existing database, you will need to create a db migration for your metadata column to be JSONB and update your queries to use the new operators. \n",
      "  store = PGVector(\n",
      "2025-10-30 18:06:02,087 - INFO - HTTP Request: POST https://api.openai.com/v1/embeddings \"HTTP/1.1 200 OK\"\n",
      "2025-10-30 18:06:08,291 - INFO - HTTP Request: POST https://api.openai.com/v1/chat/completions \"HTTP/1.1 200 OK\"\n"
     ]
    }
   ],
   "source": [
    "docs = age_population_retriever(\"서울특별시 강남구 서초동\")"
   ]
  },
  {
   "cell_type": "code",
   "execution_count": 4,
   "id": "07f96e3f",
   "metadata": {},
   "outputs": [
    {
     "data": {
      "text/plain": [
       "'서울특별시 강남구 서초동(서초구) 인구 현황(2025년 9월 기준):\\n\\n- 총인구수: 412,479명\\n- 남성: 195,928명\\n- 여성: 216,551명\\n\\n연령별 인구수:\\n- 0~9세: 26,361명\\n- 10~19세: 45,276명\\n- 20~29세: 48,387명\\n- 30~39세: 57,539명\\n- 40~49세: 71,003명\\n- 50~59세: 67,759명\\n- 60~69세: 48,464명\\n- 70~79세: 32,045명\\n- 80~89세: 13,476명\\n- 90~99세: 2,104명\\n- 100세 이상: 65명'"
      ]
     },
     "execution_count": 4,
     "metadata": {},
     "output_type": "execute_result"
    }
   ],
   "source": [
    "docs"
   ]
  },
  {
   "cell_type": "code",
   "execution_count": null,
   "id": "89225fa4",
   "metadata": {},
   "outputs": [],
   "source": []
  }
 ],
 "metadata": {
  "kernelspec": {
   "display_name": "RAG_Commander",
   "language": "python",
   "name": "python3"
  },
  "language_info": {
   "codemirror_mode": {
    "name": "ipython",
    "version": 3
   },
   "file_extension": ".py",
   "mimetype": "text/x-python",
   "name": "python",
   "nbconvert_exporter": "python",
   "pygments_lexer": "ipython3",
   "version": "3.12.11"
  }
 },
 "nbformat": 4,
 "nbformat_minor": 5
}
