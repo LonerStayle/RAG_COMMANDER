{
 "cells": [
  {
   "cell_type": "code",
   "execution_count": 1,
   "id": "c42081e1",
   "metadata": {},
   "outputs": [
    {
     "data": {
      "text/plain": [
       "True"
      ]
     },
     "execution_count": 1,
     "metadata": {},
     "output_type": "execute_result"
    }
   ],
   "source": [
    "import os, sys\n",
    "from pathlib import Path\n",
    "\n",
    "src_path = Path(os.getcwd()).resolve().parents[1]  \n",
    "sys.path.append(str(src_path))\n",
    "from dotenv import load_dotenv\n",
    "load_dotenv()"
   ]
  },
  {
   "cell_type": "code",
   "execution_count": 2,
   "id": "27d8084c",
   "metadata": {},
   "outputs": [],
   "source": [
    "from tools.rag.retriever.jeonse_price_retriever import jeonse_price_retrieve\n",
    "# \n",
    "document = jeonse_price_retrieve(\"서울시 강남구\")"
   ]
  },
  {
   "cell_type": "code",
   "execution_count": 4,
   "id": "a8ba968d",
   "metadata": {},
   "outputs": [
    {
     "name": "stdout",
     "output_type": "stream",
     "text": [
      " 26\n",
      "자치구: 강남구\n",
      "2020년 1월: 769973.0\n",
      "2020년 2월: 772140.0\n",
      "2020년 3월: 774435.0\n",
      "2020년 4월: 776656.0\n",
      "2020년 5월: 777645.0\n",
      "2020년 6월: 779565.0\n",
      "2020년 7월: 785301.0\n",
      "2020년 8월: 792038.0\n",
      "2020년 9월: 797349.0\n",
      "2020년 10월: 801285.0\n",
      "2020년 11월: 812801.0\n",
      "2020년 12월: 823027.0\n",
      "2021년 1월: 832344.0\n",
      "2021년 2월: 840016.0\n",
      "2021년 3월: 852043.0\n",
      "2021년 4월: 852091.0\n",
      "2021년 5월: 852102.0\n",
      "2021년 6월: 856366.0\n",
      "2021년 7월: 1131300.0\n",
      "2021년 8월: 1139405.0\n",
      "2021년 9월: 1148018.0\n",
      "2021년 10월: 1156946.0\n",
      "2021년 11월: 1162847.0\n",
      "2021년 12월: 1166855.0\n",
      "2022년 1월: 1168145.0\n",
      "2022년 2월: 1167557.0\n",
      "2022년 3월: 1167515.0\n",
      "2022년 4월: 1166783.0\n",
      "2022년 5월: 1166898.0\n",
      "2022년 6월: 1168277.0\n",
      "2022년 7월: 1168554.0\n",
      "2022년 8월: 1166042.0\n",
      "2022년 9월: 1159307.0\n",
      "2022년 10월: 1146428.0\n",
      "2022년 11월: 1120367.0\n",
      "2022년 12월: 1070078.0\n",
      "2023년 1월: 1017777.0\n",
      "2023년 2월: 971807.0\n",
      "2023년 3월: 946163.0\n",
      "2023년 4월: 939542.0\n",
      "2023년 5월: 945407.0\n",
      "2023년 6월: 948852.0\n",
      "2023년 7월: 950639.0\n",
      "2023년 8월: 954949.0\n",
      "2023년 9월: 960431.0\n",
      "2023년 10월: 963289.0\n",
      "2023년 11월: 966898.0\n",
      "2023년 12월: 968861.0\n",
      "2024년 1월: 982551.0\n",
      "2024년 2월: 981696.0\n",
      "2024년 3월: 982670.0\n",
      "2024년 4월: 985842.0\n",
      "2024년 5월: 987795.0\n",
      "2024년 6월: 992690.0\n",
      "2024년 7월: 998429.0\n",
      "2024년 8월: 1006616.0\n",
      "2024년 9월: 1012289.0\n",
      "2024년 10월: 1018604.0\n",
      "2024년 11월: 1023967.0\n",
      "2024년 12월: 1026229.0\n",
      "2025년 1월: 1026643.0\n",
      "2025년 2월: 1027384.0\n",
      "2025년 3월: 1028327.0\n",
      "2025년 4월: 1023579.0\n",
      "2025년 5월: 1025304.0\n",
      "2025년 6월: 1027974.0\n",
      "2025년 7월: 1029506.0\n",
      "2025년 8월: 1031015.0\n",
      "2025년 9월: 1032035.0\n"
     ]
    }
   ],
   "source": [
    "# 단윈은 천원\n",
    "# 평균가격\n",
    "print(document)"
   ]
  },
  {
   "cell_type": "code",
   "execution_count": null,
   "id": "1c6c9982",
   "metadata": {},
   "outputs": [],
   "source": []
  },
  {
   "cell_type": "code",
   "execution_count": null,
   "id": "3726baa8",
   "metadata": {},
   "outputs": [],
   "source": []
  }
 ],
 "metadata": {
  "kernelspec": {
   "display_name": "RAG_Commander",
   "language": "python",
   "name": "python3"
  },
  "language_info": {
   "codemirror_mode": {
    "name": "ipython",
    "version": 3
   },
   "file_extension": ".py",
   "mimetype": "text/x-python",
   "name": "python",
   "nbconvert_exporter": "python",
   "pygments_lexer": "ipython3",
   "version": "3.12.11"
  }
 },
 "nbformat": 4,
 "nbformat_minor": 5
}
