{
 "cells": [
  {
   "cell_type": "code",
   "execution_count": 1,
   "id": "5d0370e6",
   "metadata": {},
   "outputs": [],
   "source": [
    "import os, sys\n",
    "from pathlib import Path\n",
    "\n",
    "src_path = Path(os.getcwd()).resolve().parents[1]  \n",
    "sys.path.append(str(src_path))"
   ]
  },
  {
   "cell_type": "code",
   "execution_count": 2,
   "id": "de322abc",
   "metadata": {},
   "outputs": [],
   "source": [
    "# import pandas as pd\n",
    "# df = pd.read_csv(\"/Users/seobi/PythonProjects/RAG_Commander/src/data/supply_demand/250829_입주예정물량 공개용.csv\")\n",
    "# df\n"
   ]
  },
  {
   "cell_type": "code",
   "execution_count": 3,
   "id": "ca7072ca",
   "metadata": {},
   "outputs": [],
   "source": [
    "# output_path = \"/Users/seobi/PythonProjects/RAG_Commander/src/data/supply_demand/250829_입주예정물량 공개용.xlsx\"\n",
    "# df.to_csv(output_path,index=False, encoding=\"utf-8-sig\")"
   ]
  },
  {
   "cell_type": "code",
   "execution_count": 4,
   "id": "30e81078",
   "metadata": {},
   "outputs": [],
   "source": [
    "# df = pd.read_excel(\"/Users/seobi/PythonProjects/RAG_Commander/src/data/supply_demand/250829_입주예정물량 공개용.xlsx\", sheet_name=\"목록\")"
   ]
  },
  {
   "cell_type": "code",
   "execution_count": 5,
   "id": "47c61176",
   "metadata": {},
   "outputs": [
    {
     "name": "stderr",
     "output_type": "stream",
     "text": [
      "2025-10-31 22:22:13,342 - INFO - HTTP Request: POST https://api.openai.com/v1/chat/completions \"HTTP/1.1 200 OK\"\n"
     ]
    }
   ],
   "source": [
    "from tools.rag.retriever.planning_move_retriever import planning_move_retrieve\n",
    "\n",
    "result = planning_move_retrieve(\"서울시 영등포구 어디어디\")"
   ]
  },
  {
   "cell_type": "code",
   "execution_count": 7,
   "id": "e7c51993",
   "metadata": {},
   "outputs": [
    {
     "name": "stdout",
     "output_type": "stream",
     "text": [
      "[\n",
      "  {\n",
      "    \"입주예정월\": \"202509\",\n",
      "    \"지역\": \"서울\",\n",
      "    \"사업유형\": \"분양\",\n",
      "    \"주소\": \"서울특별시 영등포구 당산동6가 331-1\",\n",
      "    \"주택명\": \"디마크 당산\",\n",
      "    \"세대수\": 152\n",
      "  },\n",
      "  {\n",
      "    \"입주예정월\": \"202603\",\n",
      "    \"지역\": \"서울\",\n",
      "    \"사업유형\": \"분양\",\n",
      "    \"주소\": \"서울특별시 영등포구 양평동1가 265-1\",\n",
      "    \"주택명\": \"영등포자이 디그니티\",\n",
      "    \"세대수\": 707\n",
      "  },\n",
      "  {\n",
      "    \"입주예정월\": \"202706\",\n",
      "    \"지역\": \"서울\",\n",
      "    \"사업유형\": \"분양\",\n",
      "    \"주소\": \"서울특별시 영등포구 신길동 1280\",\n",
      "    \"주택명\": \"서울대방 신혼희망타운(공공분양)\",\n",
      "    \"세대수\": 183\n",
      "  }\n",
      "]\n"
     ]
    }
   ],
   "source": [
    "print(result)"
   ]
  },
  {
   "cell_type": "code",
   "execution_count": null,
   "id": "5e2701e3",
   "metadata": {},
   "outputs": [],
   "source": []
  }
 ],
 "metadata": {
  "kernelspec": {
   "display_name": "RAG_Commander",
   "language": "python",
   "name": "python3"
  },
  "language_info": {
   "codemirror_mode": {
    "name": "ipython",
    "version": 3
   },
   "file_extension": ".py",
   "mimetype": "text/x-python",
   "name": "python",
   "nbconvert_exporter": "python",
   "pygments_lexer": "ipython3",
   "version": "3.12.11"
  }
 },
 "nbformat": 4,
 "nbformat_minor": 5
}
