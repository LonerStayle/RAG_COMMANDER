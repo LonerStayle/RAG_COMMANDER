{
 "cells": [
  {
   "cell_type": "code",
   "execution_count": 1,
   "id": "f102f312",
   "metadata": {},
   "outputs": [
    {
     "data": {
      "text/plain": [
       "True"
      ]
     },
     "execution_count": 1,
     "metadata": {},
     "output_type": "execute_result"
    }
   ],
   "source": [
    "import os, sys\n",
    "from pathlib import Path\n",
    "\n",
    "src_path = Path(os.getcwd()).resolve().parents[1]  \n",
    "sys.path.append(str(src_path))\n",
    "from dotenv import load_dotenv\n",
    "load_dotenv()"
   ]
  },
  {
   "cell_type": "code",
   "execution_count": 2,
   "id": "41796493",
   "metadata": {},
   "outputs": [],
   "source": [
    "# import pandas as pd \n",
    "\n",
    "# file_path = '/Users/seobi/PythonProjects/RAG_Commander/src/data/supply_demand/(월) 평균전세가격_아파트_r_one_2020_01_2025_09.csv'\n",
    "\n",
    "\n",
    "# # CSV 로드\n",
    "# df = pd.read_csv(file_path, encoding=\"cp949\")\n",
    "# # 불필요한 행 제거\n",
    "# drop_rows = list(range(1, 12)) + [29] + list(range(42, len(df)))\n",
    "# df = df.drop(drop_rows, errors=\"ignore\").reset_index(drop=True)\n",
    "\n",
    "# # 첫 행(\"가격\" 헤더행) 제거\n",
    "# df = df.drop(0).reset_index(drop=True)\n",
    "\n",
    "# # 주요 컬럼만 선택\n",
    "# df = df[['지역.3'] + [c for c in df.columns if \"년\" in c]]\n",
    "# df.rename(columns={'지역.3': '자치구'}, inplace=True)\n",
    "\n",
    "# # 문자열 숫자 변환 (쉼표, 따옴표 제거)\n",
    "# for col in df.columns[1:]:\n",
    "#     df[col] = (\n",
    "#         df[col]\n",
    "#         .astype(str)\n",
    "#         .str.replace('\"', '', regex=False)\n",
    "#         .str.replace(',', '', regex=False)\n",
    "#         .astype(float)\n",
    "#     )\n",
    "\n",
    "# # 인덱스 정리\n",
    "# df.reset_index(drop=True, inplace=True)\n",
    "\n",
    "# print(df.head())"
   ]
  },
  {
   "cell_type": "code",
   "execution_count": 3,
   "id": "684b8cc0",
   "metadata": {},
   "outputs": [],
   "source": [
    "# df.to_csv(\"/Users/seobi/PythonProjects/RAG_Commander/src/data/supply_demand/(월) 평균전세가격_아파트_r_one_2020_01_2025_09 - 최종.csv\")"
   ]
  },
  {
   "cell_type": "code",
   "execution_count": null,
   "id": "0ec158cf",
   "metadata": {},
   "outputs": [],
   "source": [
    "from tools.rag.retriever.sale_price_retriever import sale_price_retrieve\n",
    "document = sale_price_retrieve(\"서울시 강남구\")"
   ]
  },
  {
   "cell_type": "code",
   "execution_count": 6,
   "id": "d029ade8",
   "metadata": {},
   "outputs": [
    {
     "data": {
      "text/plain": [
       "[' 26\\n자치구: 강남구\\n2020년 1월: 1758527.0\\n2020년 2월: 1755204.0\\n2020년 3월: 1749409.0\\n2020년 4월: 1732086.0\\n2020년 5월: 1714102.0\\n2020년 6월: 1714914.0\\n2020년 7월: 1731527.0\\n2020년 8월: 1738333.0\\n2020년 9월: 1741538.0\\n2020년 10월: 1742161.0\\n2020년 11월: 1742968.0\\n2020년 12월: 1748478.0\\n2021년 1월: 1757349.0\\n2021년 2월: 1768618.0\\n2021년 3월: 1760156.0\\n2021년 4월: 1772882.0\\n2021년 5월: 1789457.0\\n2021년 6월: 1818801.0\\n2021년 7월: 2196672.0\\n2021년 8월: 2218407.0\\n2021년 9월: 2249256.0\\n2021년 10월: 2275295.0\\n2021년 11월: 2292907.0\\n2021년 12월: 2304003.0\\n2022년 1월: 2305732.0\\n2022년 2월: 2304587.0\\n2022년 3월: 2305295.0\\n2022년 4월: 2309428.0\\n2022년 5월: 2311539.0\\n2022년 6월: 2312319.0\\n2022년 7월: 2311575.0\\n2022년 8월: 2308410.0\\n2022년 9월: 2299081.0\\n2022년 10월: 2277322.0\\n2022년 11월: 2243753.0\\n2022년 12월: 2204575.0\\n2023년 1월: 2150633.0\\n2023년 2월: 2134133.0\\n2023년 3월: 2125542.0\\n2023년 4월: 2125042.0\\n2023년 5월: 2136443.0\\n2023년 6월: 2152892.0\\n2023년 7월: 2167105.0\\n2023년 8월: 2184367.0\\n2023년 9월: 2199452.0\\n2023년 10월: 2207880.0\\n2023년 11월: 2207111.0\\n2023년 12월: 2203566.0\\n2024년 1월: 2212518.0\\n2024년 2월: 2209810.0\\n2024년 3월: 2209429.0\\n2024년 4월: 2215762.0\\n2024년 5월: 2225661.0\\n2024년 6월: 2240961.0\\n2024년 7월: 2277387.0\\n2024년 8월: 2320295.0\\n2024년 9월: 2354741.0\\n2024년 10월: 2384482.0\\n2024년 11월: 2404982.0\\n2024년 12월: 2413318.0\\n2025년 1월: 2415000.0\\n2025년 2월: 2442238.0\\n2025년 3월: 2527804.0\\n2025년 4월: 2526982.0\\n2025년 5월: 2565599.0\\n2025년 6월: 2668202.0\\n2025년 7월: 2721234.0\\n2025년 8월: 2735839.0\\n2025년 9월: 2750424.0']"
      ]
     },
     "execution_count": 6,
     "metadata": {},
     "output_type": "execute_result"
    }
   ],
   "source": [
    "# 단윈은 천원\n",
    "# 평균가격\n",
    "docs"
   ]
  },
  {
   "cell_type": "code",
   "execution_count": null,
   "id": "fd713874",
   "metadata": {},
   "outputs": [],
   "source": []
  }
 ],
 "metadata": {
  "kernelspec": {
   "display_name": "RAG_Commander",
   "language": "python",
   "name": "python3"
  },
  "language_info": {
   "codemirror_mode": {
    "name": "ipython",
    "version": 3
   },
   "file_extension": ".py",
   "mimetype": "text/x-python",
   "name": "python",
   "nbconvert_exporter": "python",
   "pygments_lexer": "ipython3",
   "version": "3.12.11"
  }
 },
 "nbformat": 4,
 "nbformat_minor": 5
}
