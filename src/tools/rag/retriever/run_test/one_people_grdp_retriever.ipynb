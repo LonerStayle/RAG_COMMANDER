{
 "cells": [
  {
   "cell_type": "code",
   "execution_count": 2,
   "id": "f714383e",
   "metadata": {},
   "outputs": [
    {
     "name": "stderr",
     "output_type": "stream",
     "text": [
      "2025-11-01 11:00:18,924 - INFO - HTTP Request: POST https://api.openai.com/v1/chat/completions \"HTTP/1.1 200 OK\"\n"
     ]
    },
    {
     "name": "stdout",
     "output_type": "stream",
     "text": [
      "\n",
      "2018_1인당_GRDP: 142725114.3020497\n",
      "2019_1인당_GRDP: 151712823.672459\n",
      "2020_1인당_GRDP: 153117568.9957817\n",
      "2021_1인당_GRDP: 165164840.0892525\n",
      "2022_1인당_GRDP: 168569944.3740252\n"
     ]
    }
   ],
   "source": [
    "from tools.rag.retriever.one_people_grdp_retriever import one_people_grdp_retrieve\n",
    "print(one_people_grdp_retrieve(\"서울특별시 강남구 역삼1동\"))"
   ]
  },
  {
   "cell_type": "code",
   "execution_count": null,
   "id": "c436ec64",
   "metadata": {},
   "outputs": [],
   "source": []
  }
 ],
 "metadata": {
  "kernelspec": {
   "display_name": "RAG_Commander",
   "language": "python",
   "name": "python3"
  },
  "language_info": {
   "codemirror_mode": {
    "name": "ipython",
    "version": 3
   },
   "file_extension": ".py",
   "mimetype": "text/x-python",
   "name": "python",
   "nbconvert_exporter": "python",
   "pygments_lexer": "ipython3",
   "version": "3.12.11"
  }
 },
 "nbformat": 4,
 "nbformat_minor": 5
}
