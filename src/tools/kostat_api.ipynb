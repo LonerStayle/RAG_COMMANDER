{
 "cells": [
  {
   "cell_type": "markdown",
   "id": "e6c3041c",
   "metadata": {},
   "source": []
  },
  {
   "cell_type": "code",
   "execution_count": null,
   "id": "52c15544",
   "metadata": {},
   "outputs": [],
   "source": [
    "import sys \n",
    "sys.path.append(\"..\")"
   ]
  },
  {
   "cell_type": "code",
   "execution_count": null,
   "id": "a0bccbfa",
   "metadata": {},
   "outputs": [],
   "source": [
    "from tools.kostat_api import get_10_year_after_house, get_one_people_gdp, get_one_people_grdp, get_age_population, get_move_people2024, get_move_people2025, get_move_population"
   ]
  },
  {
   "cell_type": "code",
   "execution_count": null,
   "id": "4eb92d69",
   "metadata": {},
   "outputs": [],
   "source": [
    "# 10년 이상 노후도 \n",
    "get_10_year_after_house(\"서울특별시 강동구 상일로6길 26\")[0]['house_cnt']"
   ]
  },
  {
   "cell_type": "code",
   "execution_count": null,
   "id": "4672bf64",
   "metadata": {},
   "outputs": [],
   "source": [
    "#1인당 gdp \n",
    "get_one_people_gdp()"
   ]
  },
  {
   "cell_type": "code",
   "execution_count": null,
   "id": "af996034",
   "metadata": {},
   "outputs": [],
   "source": [
    "# 1인당 GRDP\n",
    "get_one_people_grdp()"
   ]
  },
  {
   "cell_type": "code",
   "execution_count": null,
   "id": "7435d23f",
   "metadata": {},
   "outputs": [],
   "source": [
    "# 인구 이동\n",
    "res = get_move_population(\"서울 동작구\")"
   ]
  },
  {
   "cell_type": "code",
   "execution_count": null,
   "id": "a7da589d",
   "metadata": {},
   "outputs": [],
   "source": [
    "res"
   ]
  },
  {
   "cell_type": "code",
   "execution_count": null,
   "id": "a6fc0738",
   "metadata": {},
   "outputs": [],
   "source": []
  }
 ],
 "metadata": {
  "kernelspec": {
   "display_name": "RAG_Commander",
   "language": "python",
   "name": "python3"
  },
  "language_info": {
   "codemirror_mode": {
    "name": "ipython",
    "version": 3
   },
   "file_extension": ".py",
   "mimetype": "text/x-python",
   "name": "python",
   "nbconvert_exporter": "python",
   "pygments_lexer": "ipython3",
   "version": "3.12.11"
  }
 },
 "nbformat": 4,
 "nbformat_minor": 5
}
