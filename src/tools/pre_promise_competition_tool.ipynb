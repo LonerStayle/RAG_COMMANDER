{
 "cells": [
  {
   "cell_type": "code",
   "execution_count": 1,
   "id": "ef6bea9d",
   "metadata": {},
   "outputs": [
    {
     "name": "stdout",
     "output_type": "stream",
     "text": [
      "    CMPET_RATE HOUSE_MANAGE_NO   HOUSE_TY MODEL_NO   PBLANC_NO REQ_CNT  \\\n",
      "0            -      2025000364  084.9025A       01  2025000364       0   \n",
      "1            -      2025000364  084.9025A       01  2025000364       0   \n",
      "2         9.83      2025000364  084.9747B       02  2025000364     924   \n",
      "3            -      2025000364  084.9747B       02  2025000364      48   \n",
      "4            -      2025000364  084.9747B       02  2025000364       0   \n",
      "..         ...             ...        ...      ...         ...     ...   \n",
      "995          -      2025000250  059.9600A       03  2025000250       0   \n",
      "996     356.31      2025000250  059.9500B       04  2025000250    4632   \n",
      "997          -      2025000250  059.9500B       04  2025000250     538   \n",
      "998          -      2025000250  059.9500B       04  2025000250       0   \n",
      "999          -      2025000250  059.9500B       04  2025000250       0   \n",
      "\n",
      "    RESIDE_SECD RESIDE_SENM  SUBSCRPT_RANK_CODE  SUPLY_HSHLDCO  \n",
      "0            01        해당지역                   2            111  \n",
      "1            02        기타지역                   2            111  \n",
      "2            01        해당지역                   1             94  \n",
      "3            02        기타지역                   1             94  \n",
      "4            01        해당지역                   2             94  \n",
      "..          ...         ...                 ...            ...  \n",
      "995          02        기타지역                   2             15  \n",
      "996          01        해당지역                   1             13  \n",
      "997          02        기타지역                   1             13  \n",
      "998          01        해당지역                   2             13  \n",
      "999          02        기타지역                   2             13  \n",
      "\n",
      "[1000 rows x 10 columns]\n"
     ]
    }
   ],
   "source": [
    "from tools.pre_promise_competition_tool import get_pre_promise_competition_rate\n",
    "result = get_pre_promise_competition_rate(\"강남\")\n"
   ]
  },
  {
   "cell_type": "code",
   "execution_count": null,
   "id": "89080f5a",
   "metadata": {},
   "outputs": [],
   "source": []
  }
 ],
 "metadata": {
  "kernelspec": {
   "display_name": "RAG_Commander",
   "language": "python",
   "name": "python3"
  },
  "language_info": {
   "codemirror_mode": {
    "name": "ipython",
    "version": 3
   },
   "file_extension": ".py",
   "mimetype": "text/x-python",
   "name": "python",
   "nbconvert_exporter": "python",
   "pygments_lexer": "ipython3",
   "version": "3.12.11"
  }
 },
 "nbformat": 4,
 "nbformat_minor": 5
}
