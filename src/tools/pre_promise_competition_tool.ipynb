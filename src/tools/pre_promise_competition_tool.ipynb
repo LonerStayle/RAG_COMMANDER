{
 "cells": [
  {
   "cell_type": "code",
   "execution_count": null,
   "id": "ef6bea9d",
   "metadata": {},
   "outputs": [
    {
     "name": "stdout",
     "output_type": "stream",
     "text": [
      "    CMPET_RATE HOUSE_MANAGE_NO   HOUSE_TY MODEL_NO   PBLANC_NO REQ_CNT  \\\n",
      "0         4.05      2025000364  099.8274        04  2025000364     231   \n",
      "1            -      2025000364  099.8274        04  2025000364       5   \n",
      "2            -      2025000364  099.8274        04  2025000364      30   \n",
      "3            -      2025000364  099.8274        04  2025000364       5   \n",
      "4         2.41      2025000364  109.9121        05  2025000364     368   \n",
      "..         ...             ...        ...      ...         ...     ...   \n",
      "995          -      2025000250  084.9900A       06  2025000250     419   \n",
      "996          -      2025000250  084.9900A       06  2025000250       0   \n",
      "997          -      2025000250  084.9900A       06  2025000250       0   \n",
      "998     703.00      2025000250  084.9400B       07  2025000250     703   \n",
      "999          -      2025000250  084.9400B       07  2025000250     101   \n",
      "\n",
      "    RESIDE_SECD RESIDE_SENM  SUBSCRPT_RANK_CODE  SUPLY_HSHLDCO  \n",
      "0            01        해당지역                   1             57  \n",
      "1            02        기타지역                   1             57  \n",
      "2            01        해당지역                   2             57  \n",
      "3            02        기타지역                   2             57  \n",
      "4            01        해당지역                   1            153  \n",
      "..          ...         ...                 ...            ...  \n",
      "995          02        기타지역                   1              2  \n",
      "996          01        해당지역                   2              2  \n",
      "997          02        기타지역                   2              2  \n",
      "998          01        해당지역                   1              1  \n",
      "999          02        기타지역                   1              1  \n",
      "\n",
      "[1000 rows x 10 columns]\n",
      "[]\n"
     ]
    }
   ],
   "source": [
    "from tools.pre_promise_competition_tool import get_pre_promise_competition_rate\n",
    "result = get_pre_promise_competition_rate(\"강남\")\n"
   ]
  },
  {
   "cell_type": "code",
   "execution_count": null,
   "id": "89080f5a",
   "metadata": {},
   "outputs": [],
   "source": []
  }
 ],
 "metadata": {
  "kernelspec": {
   "display_name": "RAG_Commander",
   "language": "python",
   "name": "python3"
  },
  "language_info": {
   "codemirror_mode": {
    "name": "ipython",
    "version": 3
   },
   "file_extension": ".py",
   "mimetype": "text/x-python",
   "name": "python",
   "nbconvert_exporter": "python",
   "pygments_lexer": "ipython3",
   "version": "3.12.11"
  }
 },
 "nbformat": 4,
 "nbformat_minor": 5
}
