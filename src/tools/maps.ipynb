{
 "cells": [
  {
   "cell_type": "code",
   "execution_count": 1,
   "id": "b8d6427e",
   "metadata": {},
   "outputs": [],
   "source": [
    "import sys \n",
    "sys.path.append(\"..\")"
   ]
  },
  {
   "cell_type": "code",
   "execution_count": 2,
   "id": "7b6a1700",
   "metadata": {},
   "outputs": [
    {
     "name": "stdout",
     "output_type": "stream",
     "text": [
      "C:\\PythonProject\\RAG_COMMANDER\\src\\tools\n"
     ]
    }
   ],
   "source": [
    "from pathlib import Path\n",
    "root_path = Path().resolve()\n",
    "print(root_path)"
   ]
  },
  {
   "cell_type": "code",
   "execution_count": 3,
   "id": "dd1c365e",
   "metadata": {},
   "outputs": [
    {
     "name": "stderr",
     "output_type": "stream",
     "text": [
      "c:\\PythonProject\\RAG_COMMANDER\\.venv\\Lib\\site-packages\\tqdm\\auto.py:21: TqdmWarning: IProgress not found. Please update jupyter and ipywidgets. See https://ipywidgets.readthedocs.io/en/stable/user_install.html\n",
      "  from .autonotebook import tqdm as notebook_tqdm\n"
     ]
    }
   ],
   "source": [
    "\n",
    "from geopy.geocoders import Nominatim\n",
    "from utils.llm import LLMProfile\n",
    "def address_geo_code(address) -> dict:    \n",
    "    geolocator = Nominatim(user_agent=\"map_test\")\n",
    "    location = geolocator.geocode(address)\n",
    "    return {\"latitude\": location.latitude, \"longitude\": location.longitude}\n"
   ]
  },
  {
   "cell_type": "code",
   "execution_count": 4,
   "id": "6d05e663",
   "metadata": {},
   "outputs": [
    {
     "data": {
      "text/plain": [
       "{'latitude': 37.3754199, 'longitude': 127.1122022}"
      ]
     },
     "execution_count": 4,
     "metadata": {},
     "output_type": "execute_result"
    }
   ],
   "source": [
    "address_geo_code(\"경기도 성남시 분당구 백현로 206\")"
   ]
  }
 ],
 "metadata": {
  "kernelspec": {
   "display_name": "RAG_COMMANDER",
   "language": "python",
   "name": "python3"
  },
  "language_info": {
   "codemirror_mode": {
    "name": "ipython",
    "version": 3
   },
   "file_extension": ".py",
   "mimetype": "text/x-python",
   "name": "python",
   "nbconvert_exporter": "python",
   "pygments_lexer": "ipython3",
   "version": "3.12.11"
  }
 },
 "nbformat": 4,
 "nbformat_minor": 5
}
