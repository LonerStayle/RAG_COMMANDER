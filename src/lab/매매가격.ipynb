{
 "cells": [
  {
   "cell_type": "code",
   "execution_count": 12,
   "metadata": {},
   "outputs": [
    {
     "name": "stdout",
     "output_type": "stream",
     "text": [
      "0 1\n"
     ]
    },
    {
     "ename": "NameError",
     "evalue": "name 'apikey' is not defined",
     "output_type": "error",
     "traceback": [
      "\u001b[31m---------------------------------------------------------------------------\u001b[39m",
      "\u001b[31mNameError\u001b[39m                                 Traceback (most recent call last)",
      "\u001b[36mCell\u001b[39m\u001b[36m \u001b[39m\u001b[32mIn[12]\u001b[39m\u001b[32m, line 16\u001b[39m\n\u001b[32m     13\u001b[39m \u001b[38;5;28mprint\u001b[39m(\u001b[38;5;28mstr\u001b[39m(totalpageno),\u001b[38;5;28mstr\u001b[39m(pageno))\n\u001b[32m     15\u001b[39m url = \u001b[33m'\u001b[39m\u001b[33mhttp://apis.data.go.kr/1741000/StanReginCd/getStanReginCdList\u001b[39m\u001b[33m'\u001b[39m\n\u001b[32m---> \u001b[39m\u001b[32m16\u001b[39m params ={\u001b[33m'\u001b[39m\u001b[33mserviceKey\u001b[39m\u001b[33m'\u001b[39m : \u001b[43mapikey\u001b[49m, \u001b[33m'\u001b[39m\u001b[33mpageNo\u001b[39m\u001b[33m'\u001b[39m : pageno, \n\u001b[32m     17\u001b[39m          \u001b[33m'\u001b[39m\u001b[33mnumOfRows\u001b[39m\u001b[33m'\u001b[39m : \u001b[33m'\u001b[39m\u001b[33m1000\u001b[39m\u001b[33m'\u001b[39m, \u001b[33m'\u001b[39m\u001b[33mtype\u001b[39m\u001b[33m'\u001b[39m : \u001b[33m'\u001b[39m\u001b[33mjson\u001b[39m\u001b[33m'\u001b[39m }\n\u001b[32m     19\u001b[39m response = requests.get(url, params=params)\n\u001b[32m     20\u001b[39m region = response.json()[\u001b[33m'\u001b[39m\u001b[33mStanReginCd\u001b[39m\u001b[33m'\u001b[39m]\n",
      "\u001b[31mNameError\u001b[39m: name 'apikey' is not defined"
     ]
    }
   ],
   "source": [
    "import requests\n",
    "import math\n",
    "import pandas as pd\n",
    "\n",
    "numofrows=1000\n",
    "\n",
    "# while문을 전체 페이지수와 일치시 break하기 위해 사용\n",
    "totalpageno=0\n",
    "pageno=1\n",
    "rows=[]\n",
    "while True:\n",
    "    \n",
    "    print(str(totalpageno),str(pageno))\n",
    "    \n",
    "    url = 'http://apis.data.go.kr/1741000/StanReginCd/getStanReginCdList'\n",
    "    params ={'serviceKey' : apikey, 'pageNo' : pageno, \n",
    "             'numOfRows' : '1000', 'type' : 'json' }\n",
    "\n",
    "    response = requests.get(url, params=params)\n",
    "    region = response.json()['StanReginCd']\n",
    "    row = region[1]['row']\n",
    "    rows = rows + row #결과를 하나의 rows의 list로 합침\n",
    "    \n",
    "    totalcount=region[0]['head'][0]['totalCount']\n",
    "    totalpageno=math.ceil(totalcount/numofrows)\n",
    "    \n",
    "    if pageno==totalpageno:\n",
    "        break\n",
    "        \n",
    "    pageno=pageno+1\n",
    "\n",
    "#rows를 dataframe으로 변환\n",
    "region_df=pd.DataFrame(rows)\n",
    "\n",
    "\n",
    "region_df['locate_lv1']=region_df['locatadd_nm'].str.split(' ').str[0]\n",
    "region_df['locate_lv2']=region_df['locatadd_nm'].str.split(' ').str[1] \n",
    "\n",
    "region_df=region_df.loc[region_df['locate_lv1']=='서울특별시']\n",
    "region_df['LAWD_CD']=region_df['region_cd'].str[:5] #아파트 매매 실거래가 API호출시 사용\n",
    "\n",
    "#필요 column만 저장\n",
    "region_df=region_df[['locate_lv1','locate_lv2','LAWD_CD','locatadd_nm','locallow_nm']]"
   ]
  }
 ],
 "metadata": {
  "kernelspec": {
   "display_name": "Python 3",
   "language": "python",
   "name": "python3"
  },
  "language_info": {
   "codemirror_mode": {
    "name": "ipython",
    "version": 3
   },
   "file_extension": ".py",
   "mimetype": "text/x-python",
   "name": "python",
   "nbconvert_exporter": "python",
   "pygments_lexer": "ipython3",
   "version": "3.11.0"
  }
 },
 "nbformat": 4,
 "nbformat_minor": 4
}
