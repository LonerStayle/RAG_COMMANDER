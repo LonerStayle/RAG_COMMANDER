{
 "cells": [
  {
   "cell_type": "markdown",
   "id": "header",
   "metadata": {},
   "source": [
    "# 서울 구별 주택공급 현황 상세 분석\n",
    "\n",
    "이 노트북은 실제 주택공급 데이터에서 연도별, 월별 상세 정보를 분석합니다.\n",
    "\n",
    "## 분석 내용\n",
    "1. 데이터 로드 및 구조 파악\n",
    "2. 서울 25개 구 필터링\n",
    "3. 연도별 공급 추이\n",
    "4. 월별 공급 패턴\n",
    "5. 구별 상세 분석\n",
    "6. 시계열 그래프"
   ]
  },
  {
   "cell_type": "markdown",
   "id": "setup",
   "metadata": {},
   "source": [
    "## 1. 환경 설정"
   ]
  },
  {
   "cell_type": "code",
   "execution_count": null,
   "id": "imports",
   "metadata": {},
   "outputs": [],
   "source": [
    "import sys\n",
    "sys.path.append(\"..\")\n",
    "\n",
    "import pandas as pd\n",
    "import numpy as np\n",
    "import matplotlib.pyplot as plt\n",
    "import matplotlib.font_manager as fm\n",
    "from pathlib import Path\n",
    "from datetime import datetime\n",
    "\n",
    "# 한글 폰트 설정 (Windows)\n",
    "plt.rcParams['font.family'] = 'Malgun Gothic'\n",
    "plt.rcParams['axes.unicode_minus'] = False\n",
    "\n",
    "# 그래프 스타일 설정\n",
    "plt.style.use('seaborn-v0_8-darkgrid')\n",
    "plt.rcParams['figure.figsize'] = (14, 6)\n",
    "\n",
    "print(\"✅ 환경 설정 완료\")"
   ]
  },
  {
   "cell_type": "markdown",
   "id": "data-load",
   "metadata": {},
   "source": [
    "## 2. 데이터 로드"
   ]
  },
  {
   "cell_type": "code",
   "execution_count": null,
   "id": "load-real-data",
   "metadata": {},
   "outputs": [],
   "source": [
    "# 실제 데이터 파일 경로\n",
    "REAL_DATA_FILE = \"주택종류별+주택-+읍면동(연도+끝자리+0,5),+시군구(그+외+연도)_20251028224837.xlsx\"\n",
    "\n",
    "print(f\"📂 데이터 파일 로드 중: {REAL_DATA_FILE}\")\n",
    "df = pd.read_excel(REAL_DATA_FILE)\n",
    "\n",
    "print(f\"\\n✅ 데이터 로드 완료!\")\n",
    "print(f\"   - 총 행 수: {len(df):,}건\")\n",
    "print(f\"   - 총 열 수: {len(df.columns)}개\")\n",
    "print(f\"\\n📋 컬럼 목록:\")\n",
    "for i, col in enumerate(df.columns, 1):\n",
    "    print(f\"   {i}. {col}\")\n",
    "    \n",
    "print(f\"\\n📊 처음 5행 미리보기:\")\n",
    "df.head()"
   ]
  },
  {
   "cell_type": "markdown",
   "id": "column-check",
   "metadata": {},
   "source": [
    "## 3. 컬럼 매핑 및 전처리\n",
    "\n",
    "⚠️ **중요:** 실제 데이터의 컬럼 이름에 맞게 아래 변수를 수정하세요!"
   ]
  },
  {
   "cell_type": "code",
   "execution_count": null,
   "id": "column-mapping",
   "metadata": {},
   "outputs": [],
   "source": [
    "# TODO: 실제 컬럼 이름에 맞게 수정하세요\n",
    "# 위의 \"컬럼 목록\"을 보고 실제 컬럼 이름을 입력하세요\n",
    "\n",
    "# 예시:\n",
    "DATE_COL = \"연월\"  # 또는 \"날짜\", \"기준월\" 등\n",
    "DISTRICT_COL = \"시군구\"  # 또는 \"지역\", \"행정구역\" 등\n",
    "VALUE_COL = \"주택\"  # 또는 \"공급량\", \"세대수\" 등\n",
    "\n",
    "print(\"📌 선택한 컬럼:\")\n",
    "print(f\"   - 날짜: {DATE_COL}\")\n",
    "print(f\"   - 구: {DISTRICT_COL}\")\n",
    "print(f\"   - 값: {VALUE_COL}\")\n",
    "\n",
    "# 컬럼 존재 여부 확인\n",
    "for col_name in [DATE_COL, DISTRICT_COL, VALUE_COL]:\n",
    "    if col_name not in df.columns:\n",
    "        print(f\"❌ 경고: '{col_name}' 컬럼이 없습니다. 위의 컬럼 목록을 확인하고 수정하세요!\")\n",
    "    else:\n",
    "        print(f\"✅ '{col_name}' 컬럼 확인\")"
   ]
  },
  {
   "cell_type": "markdown",
   "id": "date-conversion",
   "metadata": {},
   "source": [
    "### 3.1 날짜 데이터 변환"
   ]
  },
  {
   "cell_type": "code",
   "execution_count": null,
   "id": "convert-date",
   "metadata": {},
   "outputs": [],
   "source": [
    "# 날짜 컬럼 변환\n",
    "if DATE_COL in df.columns:\n",
    "    # 날짜 형식 자동 인식 시도\n",
    "    try:\n",
    "        df[DATE_COL] = pd.to_datetime(df[DATE_COL])\n",
    "        print(f\"✅ 날짜 변환 성공!\")\n",
    "    except:\n",
    "        # 형식 지정 시도 (예: '202401' 형식)\n",
    "        try:\n",
    "            df[DATE_COL] = pd.to_datetime(df[DATE_COL], format='%Y%m')\n",
    "            print(f\"✅ 날짜 변환 성공 (YYYYMM 형식)!\")\n",
    "        except:\n",
    "            print(f\"❌ 날짜 변환 실패. 수동으로 format 지정이 필요합니다.\")\n",
    "            print(f\"샘플 값: {df[DATE_COL].iloc[0]}\")\n",
    "\n",
    "    # 연도, 월 컬럼 추가\n",
    "    df['연도'] = df[DATE_COL].dt.year\n",
    "    df['월'] = df[DATE_COL].dt.month\n",
    "    \n",
    "    print(f\"\\n📅 날짜 범위:\")\n",
    "    print(f\"   시작: {df[DATE_COL].min()}\")\n",
    "    print(f\"   종료: {df[DATE_COL].max()}\")\n",
    "    print(f\"   총 기간: {(df[DATE_COL].max() - df[DATE_COL].min()).days // 365}년\")"
   ]
  },
  {
   "cell_type": "markdown",
   "id": "seoul-filter",
   "metadata": {},
   "source": [
    "## 4. 서울 25개 구 필터링"
   ]
  },
  {
   "cell_type": "code",
   "execution_count": null,
   "id": "filter-seoul",
   "metadata": {},
   "outputs": [],
   "source": [
    "from tools.housing_supply_tool import SEOUL_DISTRICTS\n",
    "\n",
    "print(\"📍 서울 25개 구 목록:\")\n",
    "for i, district in enumerate(SEOUL_DISTRICTS, 1):\n",
    "    print(f\"   {i:2d}. {district}\", end=\"  \")\n",
    "    if i % 5 == 0:\n",
    "        print()\n",
    "\n",
    "# 서울 구만 필터링\n",
    "if DISTRICT_COL in df.columns:\n",
    "    seoul_df = df[\n",
    "        df[DISTRICT_COL].apply(\n",
    "            lambda x: any(district in str(x) for district in SEOUL_DISTRICTS)\n",
    "        )\n",
    "    ].copy()\n",
    "    \n",
    "    print(f\"\\n\\n✅ 필터링 완료!\")\n",
    "    print(f\"   - 필터링 전: {len(df):,}건\")\n",
    "    print(f\"   - 필터링 후: {len(seoul_df):,}건\")\n",
    "    print(f\"   - 포함된 구: {seoul_df[DISTRICT_COL].nunique()}개\")\n",
    "    \n",
    "    # 포함된 구 목록\n",
    "    found_districts = seoul_df[DISTRICT_COL].unique()\n",
    "    print(f\"\\n📌 데이터에 포함된 구:\")\n",
    "    for district in sorted(found_districts):\n",
    "        count = len(seoul_df[seoul_df[DISTRICT_COL] == district])\n",
    "        print(f\"   - {district}: {count:,}건\")"
   ]
  },
  {
   "cell_type": "markdown",
   "id": "yearly-analysis",
   "metadata": {},
   "source": [
    "## 5. 연도별 분석"
   ]
  },
  {
   "cell_type": "code",
   "execution_count": null,
   "id": "analysis-by-year",
   "metadata": {},
   "outputs": [],
   "source": [
    "# 연도별 공급량 집계\n",
    "if '연도' in seoul_df.columns and VALUE_COL in seoul_df.columns:\n",
    "    yearly_supply = seoul_df.groupby('연도')[VALUE_COL].sum().reset_index()\n",
    "    yearly_supply = yearly_supply.sort_values('연도')\n",
    "    \n",
    "    print(\"📊 연도별 공급량 (서울 전체):\")\n",
    "    print(yearly_supply.to_string(index=False))\n",
    "    \n",
    "    # 그래프\n",
    "    plt.figure(figsize=(14, 6))\n",
    "    plt.bar(yearly_supply['연도'], yearly_supply[VALUE_COL], color='skyblue', edgecolor='navy')\n",
    "    plt.title('서울시 연도별 주택공급량 추이', fontsize=16, fontweight='bold')\n",
    "    plt.xlabel('연도', fontsize=12)\n",
    "    plt.ylabel('공급량', fontsize=12)\n",
    "    plt.grid(axis='y', alpha=0.3)\n",
    "    \n",
    "    # 값 표시\n",
    "    for idx, row in yearly_supply.iterrows():\n",
    "        plt.text(row['연도'], row[VALUE_COL], f\"{row[VALUE_COL]:,.0f}\", \n",
    "                ha='center', va='bottom', fontsize=10)\n",
    "    \n",
    "    plt.tight_layout()\n",
    "    plt.show()"
   ]
  },
  {
   "cell_type": "markdown",
   "id": "monthly-analysis",
   "metadata": {},
   "source": [
    "## 6. 월별 분석"
   ]
  },
  {
   "cell_type": "code",
   "execution_count": null,
   "id": "analysis-by-month",
   "metadata": {},
   "outputs": [],
   "source": [
    "# 월별 공급량 패턴 (전체 기간 평균)\n",
    "if '월' in seoul_df.columns and VALUE_COL in seoul_df.columns:\n",
    "    monthly_pattern = seoul_df.groupby('월')[VALUE_COL].mean().reset_index()\n",
    "    monthly_pattern = monthly_pattern.sort_values('월')\n",
    "    \n",
    "    print(\"📊 월별 평균 공급량 (전체 기간):\")\n",
    "    print(monthly_pattern.to_string(index=False))\n",
    "    \n",
    "    # 그래프\n",
    "    plt.figure(figsize=(14, 6))\n",
    "    plt.plot(monthly_pattern['월'], monthly_pattern[VALUE_COL], marker='o', \n",
    "            linewidth=2, markersize=8, color='coral')\n",
    "    plt.title('월별 평균 주택공급량 패턴', fontsize=16, fontweight='bold')\n",
    "    plt.xlabel('월', fontsize=12)\n",
    "    plt.ylabel('평균 공급량', fontsize=12)\n",
    "    plt.xticks(range(1, 13))\n",
    "    plt.grid(True, alpha=0.3)\n",
    "    plt.tight_layout()\n",
    "    plt.show()"
   ]
  },
  {
   "cell_type": "markdown",
   "id": "year-month-analysis",
   "metadata": {},
   "source": [
    "## 7. 연도별 × 월별 교차 분석"
   ]
  },
  {
   "cell_type": "code",
   "execution_count": null,
   "id": "year-month-cross",
   "metadata": {},
   "outputs": [],
   "source": [
    "# 연도별, 월별 집계\n",
    "if '연도' in seoul_df.columns and '월' in seoul_df.columns and VALUE_COL in seoul_df.columns:\n",
    "    year_month_supply = seoul_df.groupby(['연도', '월'])[VALUE_COL].sum().reset_index()\n",
    "    \n",
    "    # 피벗 테이블 생성\n",
    "    pivot_table = year_month_supply.pivot(index='연도', columns='월', values=VALUE_COL)\n",
    "    \n",
    "    print(\"📊 연도별 × 월별 공급량 교차표:\")\n",
    "    print(pivot_table.to_string())\n",
    "    \n",
    "    # 히트맵\n",
    "    plt.figure(figsize=(16, 8))\n",
    "    plt.imshow(pivot_table.values, aspect='auto', cmap='YlOrRd', interpolation='nearest')\n",
    "    plt.colorbar(label='공급량')\n",
    "    plt.title('연도별 × 월별 주택공급량 히트맵', fontsize=16, fontweight='bold')\n",
    "    plt.xlabel('월', fontsize=12)\n",
    "    plt.ylabel('연도', fontsize=12)\n",
    "    plt.xticks(range(len(pivot_table.columns)), pivot_table.columns)\n",
    "    plt.yticks(range(len(pivot_table.index)), pivot_table.index)\n",
    "    plt.tight_layout()\n",
    "    plt.show()"
   ]
  },
  {
   "cell_type": "markdown",
   "id": "district-analysis",
   "metadata": {},
   "source": [
    "## 8. 구별 상세 분석"
   ]
  },
  {
   "cell_type": "markdown",
   "id": "district-total",
   "metadata": {},
   "source": [
    "### 8.1 구별 총 공급량 순위"
   ]
  },
  {
   "cell_type": "code",
   "execution_count": null,
   "id": "district-ranking",
   "metadata": {},
   "outputs": [],
   "source": [
    "# 구별 총 공급량\n",
    "if DISTRICT_COL in seoul_df.columns and VALUE_COL in seoul_df.columns:\n",
    "    district_total = seoul_df.groupby(DISTRICT_COL)[VALUE_COL].sum().reset_index()\n",
    "    district_total = district_total.sort_values(VALUE_COL, ascending=False)\n",
    "    district_total['순위'] = range(1, len(district_total) + 1)\n",
    "    \n",
    "    print(\"🏆 구별 총 공급량 순위:\")\n",
    "    print(district_total[[' 순위', DISTRICT_COL, VALUE_COL]].to_string(index=False))\n",
    "    \n",
    "    # 상위 10개 구 그래프\n",
    "    top10 = district_total.head(10)\n",
    "    \n",
    "    plt.figure(figsize=(14, 8))\n",
    "    bars = plt.barh(top10[DISTRICT_COL], top10[VALUE_COL], color='teal', edgecolor='darkblue')\n",
    "    plt.title('구별 총 공급량 TOP 10', fontsize=16, fontweight='bold')\n",
    "    plt.xlabel('총 공급량', fontsize=12)\n",
    "    plt.ylabel('구', fontsize=12)\n",
    "    plt.gca().invert_yaxis()\n",
    "    \n",
    "    # 값 표시\n",
    "    for idx, (bar, row) in enumerate(zip(bars, top10.iterrows())):\n",
    "        plt.text(row[1][VALUE_COL], idx, f\" {row[1][VALUE_COL]:,.0f}\", \n",
    "                va='center', fontsize=10)\n",
    "    \n",
    "    plt.tight_layout()\n",
    "    plt.show()"
   ]
  },
  {
   "cell_type": "markdown",
   "id": "district-yearly",
   "metadata": {},
   "source": [
    "### 8.2 특정 구의 연도별 추이"
   ]
  },
  {
   "cell_type": "code",
   "execution_count": null,
   "id": "specific-district-year",
   "metadata": {},
   "outputs": [],
   "source": [
    "# 원하는 구를 선택하세요\n",
    "TARGET_DISTRICT = \"강남구\"  # 🔧 여기를 수정하여 다른 구를 확인하세요\n",
    "\n",
    "# 해당 구의 데이터 필터링\n",
    "district_data = seoul_df[seoul_df[DISTRICT_COL].str.contains(TARGET_DISTRICT, na=False)]\n",
    "\n",
    "if len(district_data) > 0 and '연도' in district_data.columns:\n",
    "    district_yearly = district_data.groupby('연도')[VALUE_COL].sum().reset_index()\n",
    "    \n",
    "    print(f\"📊 {TARGET_DISTRICT} 연도별 공급량:\")\n",
    "    print(district_yearly.to_string(index=False))\n",
    "    \n",
    "    # 그래프\n",
    "    plt.figure(figsize=(14, 6))\n",
    "    plt.plot(district_yearly['연도'], district_yearly[VALUE_COL], \n",
    "            marker='o', linewidth=3, markersize=10, color='darkgreen')\n",
    "    plt.title(f'{TARGET_DISTRICT} 연도별 주택공급량 추이', fontsize=16, fontweight='bold')\n",
    "    plt.xlabel('연도', fontsize=12)\n",
    "    plt.ylabel('공급량', fontsize=12)\n",
    "    plt.grid(True, alpha=0.3)\n",
    "    plt.tight_layout()\n",
    "    plt.show()\n",
    "else:\n",
    "    print(f\"❌ '{TARGET_DISTRICT}' 데이터를 찾을 수 없습니다.\")"
   ]
  },
  {
   "cell_type": "markdown",
   "id": "district-monthly",
   "metadata": {},
   "source": [
    "### 8.3 특정 구의 월별 패턴"
   ]
  },
  {
   "cell_type": "code",
   "execution_count": null,
   "id": "specific-district-month",
   "metadata": {},
   "outputs": [],
   "source": [
    "# 위에서 선택한 구의 월별 패턴\n",
    "if len(district_data) > 0 and '월' in district_data.columns:\n",
    "    district_monthly = district_data.groupby('월')[VALUE_COL].mean().reset_index()\n",
    "    \n",
    "    print(f\"📊 {TARGET_DISTRICT} 월별 평균 공급량:\")\n",
    "    print(district_monthly.to_string(index=False))\n",
    "    \n",
    "    # 그래프\n",
    "    plt.figure(figsize=(14, 6))\n",
    "    plt.bar(district_monthly['월'], district_monthly[VALUE_COL], \n",
    "           color='orange', edgecolor='darkred')\n",
    "    plt.title(f'{TARGET_DISTRICT} 월별 평균 주택공급량', fontsize=16, fontweight='bold')\n",
    "    plt.xlabel('월', fontsize=12)\n",
    "    plt.ylabel('평균 공급량', fontsize=12)\n",
    "    plt.xticks(range(1, 13))\n",
    "    plt.grid(axis='y', alpha=0.3)\n",
    "    plt.tight_layout()\n",
    "    plt.show()"
   ]
  },
  {
   "cell_type": "markdown",
   "id": "multi-district",
   "metadata": {},
   "source": [
    "## 9. 여러 구 비교 분석"
   ]
  },
  {
   "cell_type": "code",
   "execution_count": null,
   "id": "compare-districts",
   "metadata": {},
   "outputs": [],
   "source": [
    "# 비교할 구 목록 (🔧 원하는 구로 수정하세요)\n",
    "COMPARE_DISTRICTS = [\"강남구\", \"서초구\", \"송파구\", \"강동구\"]\n",
    "\n",
    "# 각 구의 연도별 데이터\n",
    "plt.figure(figsize=(16, 8))\n",
    "\n",
    "for district in COMPARE_DISTRICTS:\n",
    "    district_data = seoul_df[seoul_df[DISTRICT_COL].str.contains(district, na=False)]\n",
    "    if len(district_data) > 0 and '연도' in district_data.columns:\n",
    "        yearly_data = district_data.groupby('연도')[VALUE_COL].sum().reset_index()\n",
    "        plt.plot(yearly_data['연도'], yearly_data[VALUE_COL], \n",
    "                marker='o', linewidth=2, markersize=6, label=district)\n",
    "\n",
    "plt.title('구별 연도별 주택공급량 비교', fontsize=16, fontweight='bold')\n",
    "plt.xlabel('연도', fontsize=12)\n",
    "plt.ylabel('공급량', fontsize=12)\n",
    "plt.legend(fontsize=11, loc='best')\n",
    "plt.grid(True, alpha=0.3)\n",
    "plt.tight_layout()\n",
    "plt.show()"
   ]
  },
  {
   "cell_type": "markdown",
   "id": "timeseries",
   "metadata": {},
   "source": [
    "## 10. 전체 시계열 추이"
   ]
  },
  {
   "cell_type": "code",
   "execution_count": null,
   "id": "timeseries-all",
   "metadata": {},
   "outputs": [],
   "source": [
    "# 날짜별 전체 공급량\n",
    "if DATE_COL in seoul_df.columns and VALUE_COL in seoul_df.columns:\n",
    "    timeseries = seoul_df.groupby(DATE_COL)[VALUE_COL].sum().reset_index()\n",
    "    timeseries = timeseries.sort_values(DATE_COL)\n",
    "    \n",
    "    # 이동평균 추가 (6개월)\n",
    "    timeseries['이동평균_6개월'] = timeseries[VALUE_COL].rolling(window=6).mean()\n",
    "    \n",
    "    plt.figure(figsize=(16, 8))\n",
    "    plt.plot(timeseries[DATE_COL], timeseries[VALUE_COL], \n",
    "            alpha=0.5, linewidth=1, label='실제 공급량', color='lightblue')\n",
    "    plt.plot(timeseries[DATE_COL], timeseries['이동평균_6개월'], \n",
    "            linewidth=3, label='6개월 이동평균', color='darkblue')\n",
    "    \n",
    "    plt.title('서울시 전체 주택공급량 시계열 추이', fontsize=16, fontweight='bold')\n",
    "    plt.xlabel('날짜', fontsize=12)\n",
    "    plt.ylabel('공급량', fontsize=12)\n",
    "    plt.legend(fontsize=11)\n",
    "    plt.grid(True, alpha=0.3)\n",
    "    plt.tight_layout()\n",
    "    plt.show()"
   ]
  },
  {
   "cell_type": "markdown",
   "id": "export",
   "metadata": {},
   "source": [
    "## 11. 결과 저장"
   ]
  },
  {
   "cell_type": "code",
   "execution_count": null,
   "id": "save-results",
   "metadata": {},
   "outputs": [],
   "source": [
    "# 분석 결과를 Excel로 저장\n",
    "timestamp = datetime.now().strftime(\"%Y%m%d_%H%M%S\")\n",
    "\n",
    "with pd.ExcelWriter(f'서울_공급현황_상세분석_{timestamp}.xlsx') as writer:\n",
    "    # 시트 1: 원본 데이터 (서울만)\n",
    "    seoul_df.to_excel(writer, sheet_name='서울_원본데이터', index=False)\n",
    "    \n",
    "    # 시트 2: 연도별 집계\n",
    "    if 'yearly_supply' in locals():\n",
    "        yearly_supply.to_excel(writer, sheet_name='연도별_공급량', index=False)\n",
    "    \n",
    "    # 시트 3: 구별 총계\n",
    "    if 'district_total' in locals():\n",
    "        district_total.to_excel(writer, sheet_name='구별_총공급량', index=False)\n",
    "    \n",
    "    # 시트 4: 연도×월 교차표\n",
    "    if 'pivot_table' in locals():\n",
    "        pivot_table.to_excel(writer, sheet_name='연도월별_교차표')\n",
    "\n",
    "print(f\"✅ 결과 저장 완료: 서울_공급현황_상세분석_{timestamp}.xlsx\")"
   ]
  },
  {
   "cell_type": "markdown",
   "id": "summary",
   "metadata": {},
   "source": [
    "## 12. 분석 요약"
   ]
  },
  {
   "cell_type": "code",
   "execution_count": null,
   "id": "summary-stats",
   "metadata": {},
   "outputs": [],
   "source": [
    "print(\"=\"*80)\n",
    "print(\"📊 서울시 주택공급 현황 분석 요약\")\n",
    "print(\"=\"*80)\n",
    "\n",
    "if VALUE_COL in seoul_df.columns:\n",
    "    total_supply = seoul_df[VALUE_COL].sum()\n",
    "    avg_supply = seoul_df[VALUE_COL].mean()\n",
    "    max_supply = seoul_df[VALUE_COL].max()\n",
    "    min_supply = seoul_df[VALUE_COL].min()\n",
    "    \n",
    "    print(f\"\\n📈 전체 통계:\")\n",
    "    print(f\"   - 총 공급량: {total_supply:,.0f}\")\n",
    "    print(f\"   - 평균 공급량: {avg_supply:,.2f}\")\n",
    "    print(f\"   - 최대 공급량: {max_supply:,.0f}\")\n",
    "    print(f\"   - 최소 공급량: {min_supply:,.0f}\")\n",
    "\n",
    "if DATE_COL in seoul_df.columns:\n",
    "    print(f\"\\n📅 기간:\")\n",
    "    print(f\"   - 시작: {seoul_df[DATE_COL].min().strftime('%Y-%m')}\")\n",
    "    print(f\"   - 종료: {seoul_df[DATE_COL].max().strftime('%Y-%m')}\")\n",
    "    print(f\"   - 총 기간: {(seoul_df[DATE_COL].max() - seoul_df[DATE_COL].min()).days // 30}개월\")\n",
    "\n",
    "if DISTRICT_COL in seoul_df.columns:\n",
    "    print(f\"\\n🏘️ 지역:\")\n",
    "    print(f\"   - 분석 구역: 서울시 {seoul_df[DISTRICT_COL].nunique()}개 구\")\n",
    "    \n",
    "if 'district_total' in locals():\n",
    "    top_3 = district_total.head(3)\n",
    "    print(f\"\\n🏆 TOP 3 공급량 많은 구:\")\n",
    "    for idx, row in top_3.iterrows():\n",
    "        print(f\"   {row['순위']}. {row[DISTRICT_COL]}: {row[VALUE_COL]:,.0f}\")\n",
    "\n",
    "print(\"\\n\" + \"=\"*80)\n",
    "print(\"✅ 분석 완료!\")\n",
    "print(\"=\"*80)"
   ]
  }
 ],
 "metadata": {
  "kernelspec": {
   "display_name": "Python 3",
   "language": "python",
   "name": "python3"
  },
  "language_info": {
   "codemirror_mode": {
    "name": "ipython",
    "version": 3
   },
   "file_extension": ".py",
   "mimetype": "text/x-python",
   "name": "python",
   "nbconvert_exporter": "python",
   "pygments_lexer": "ipython3",
   "version": "3.9.0"
  }
 },
 "nbformat": 4,
 "nbformat_minor": 5
}
