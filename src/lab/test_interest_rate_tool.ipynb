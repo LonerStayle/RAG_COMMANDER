{
 "cells": [
  {
   "cell_type": "markdown",
   "metadata": {},
   "source": [
    "# 한국/미국 금리 조회 Tool 테스트\n",
    "\n",
    "이 노트북은 FRED API(미국)와 ECOS API(한국)를 사용하여 금리 데이터를 조회하는 LangChain tool을 테스트합니다."
   ]
  },
  {
   "cell_type": "code",
   "execution_count": 9,
   "metadata": {},
   "outputs": [
    {
     "name": "stdout",
     "output_type": "stream",
     "text": [
      "FRED 키 로드 완료: True\n",
      "ECOS 키 로드 완료: True\n"
     ]
    }
   ],
   "source": [
    "from dotenv import load_dotenv\n",
    "import os\n",
    "\n",
    "load_dotenv() # 모든 환경 변수를 한 번에 로드\n",
    "\n",
    "# FRED API 키 사용\n",
    "FRED_API_KEY = os.getenv(\"FRED_API_KEY\")\n",
    "\n",
    "# ECOS API 키 사용\n",
    "ECOS_API_KEY = os.getenv(\"ECOS_API_KEY\") \n",
    "\n",
    "print(f\"FRED 키 로드 완료: {FRED_API_KEY is not None}\")\n",
    "print(f\"ECOS 키 로드 완료: {ECOS_API_KEY is not None}\")"
   ]
  },
  {
   "cell_type": "markdown",
   "metadata": {},
   "source": [
    "## 1. 미국 기준금리 조회"
   ]
  },
  {
   "cell_type": "code",
   "execution_count": 10,
   "metadata": {},
   "outputs": [
    {
     "name": "stdout",
     "output_type": "stream",
     "text": [
      "FRED API 요청 중 오류: 400 Client Error: Bad Request for url: https://api.stlouisfed.org/fred/series/observations?series_id=FEDFUNDS&api_key=07b7c58f18be38e51c0e63b51b9a6995+%23+%EB%AF%B8%EA%B5%AD+%EC%97%B0%EB%B0%A9+%EA%B8%88%EB%A6%AC&file_type=json&frequency=m&observation_start=2024-11-03\n",
      "미국 기준금리: 데이터 없음\n"
     ]
    }
   ],
   "source": [
    "from tools.interest_rate_tool import get_us_interest_rate\n",
    "\n",
    "# 최근 12개월 미국 기준금리\n",
    "result = get_us_interest_rate.invoke({\n",
    "    \"rate_type\": \"base_rate\",\n",
    "    \"months\": 12\n",
    "})\n",
    "print(result)"
   ]
  },
  {
   "cell_type": "markdown",
   "metadata": {},
   "source": [
    "## 2. 미국 10년물 국채 수익률 조회"
   ]
  },
  {
   "cell_type": "code",
   "execution_count": 11,
   "metadata": {},
   "outputs": [
    {
     "name": "stdout",
     "output_type": "stream",
     "text": [
      "FRED API 요청 중 오류: 400 Client Error: Bad Request for url: https://api.stlouisfed.org/fred/series/observations?series_id=DGS10&api_key=07b7c58f18be38e51c0e63b51b9a6995+%23+%EB%AF%B8%EA%B5%AD+%EC%97%B0%EB%B0%A9+%EA%B8%88%EB%A6%AC&file_type=json&frequency=m&observation_start=2024-11-03\n",
      "미국 10년물 국채 수익률: 데이터 없음\n"
     ]
    }
   ],
   "source": [
    "# 최근 12개월 미국 10년물 국채 수익률\n",
    "result = get_us_interest_rate.invoke({\n",
    "    \"rate_type\": \"10y_treasury\",\n",
    "    \"months\": 12\n",
    "})\n",
    "print(result)"
   ]
  },
  {
   "cell_type": "markdown",
   "metadata": {},
   "source": [
    "## 3. 한국 기준금리 조회"
   ]
  },
  {
   "cell_type": "code",
   "execution_count": 4,
   "metadata": {},
   "outputs": [
    {
     "name": "stdout",
     "output_type": "stream",
     "text": [
      "ECOS API 요청 중 오류: 404 Client Error: Not Found for url: https://ecos.bok.or.kr/api/StatisticSearch/5R7Q6RTQNXYZJO92A9F1%20#%20%ED%95%9C%EA%B5%AD%20%EA%B8%88%EB%A6%AC/json/kr/1/1000/722Y001/M/202411/202510\n",
      "한국 기준금리: 데이터 없음\n"
     ]
    }
   ],
   "source": [
    "from tools.interest_rate_tool import get_korea_interest_rate\n",
    "\n",
    "# 최근 12개월 한국 기준금리\n",
    "result = get_korea_interest_rate.invoke({\"months\": 12})\n",
    "print(result)"
   ]
  },
  {
   "cell_type": "markdown",
   "metadata": {},
   "source": [
    "## 4. 한미 금리 비교"
   ]
  },
  {
   "cell_type": "code",
   "execution_count": 5,
   "metadata": {},
   "outputs": [
    {
     "name": "stdout",
     "output_type": "stream",
     "text": [
      "FRED API 요청 중 오류: 400 Client Error: Bad Request for url: https://api.stlouisfed.org/fred/series/observations?series_id=FEDFUNDS&api_key=07b7c58f18be38e51c0e63b51b9a6995+%23+%EB%AF%B8%EA%B5%AD+%EC%97%B0%EB%B0%A9+%EA%B8%88%EB%A6%AC&file_type=json&frequency=m&observation_start=2024-11-03\n",
      "ECOS API 요청 중 오류: 404 Client Error: Not Found for url: https://ecos.bok.or.kr/api/StatisticSearch/5R7Q6RTQNXYZJO92A9F1%20#%20%ED%95%9C%EA%B5%AD%20%EA%B8%88%EB%A6%AC/json/kr/1/1000/722Y001/M/202411/202510\n",
      "오류: 데이터 조회 실패\n"
     ]
    }
   ],
   "source": [
    "from tools.interest_rate_tool import compare_korea_us_rates\n",
    "\n",
    "# 최근 12개월 한미 금리 비교\n",
    "result = compare_korea_us_rates.invoke({\"months\": 12})\n",
    "print(result)"
   ]
  },
  {
   "cell_type": "markdown",
   "metadata": {},
   "source": [
    "## 5. InterestRateTool 클래스 직접 사용"
   ]
  },
  {
   "cell_type": "code",
   "execution_count": 6,
   "metadata": {},
   "outputs": [
    {
     "name": "stdout",
     "output_type": "stream",
     "text": [
      "FRED API 요청 중 오류: 400 Client Error: Bad Request for url: https://api.stlouisfed.org/fred/series/observations?series_id=FEDFUNDS&api_key=07b7c58f18be38e51c0e63b51b9a6995+%23+%EB%AF%B8%EA%B5%AD+%EC%97%B0%EB%B0%A9+%EA%B8%88%EB%A6%AC&file_type=json&frequency=m&observation_start=2025-05-02\n",
      "미국 기준금리 데이터: 0개\n",
      "[]\n"
     ]
    }
   ],
   "source": [
    "from tools.interest_rate_tool import InterestRateTool\n",
    "\n",
    "# 도구 초기화\n",
    "rate_tool = InterestRateTool()\n",
    "\n",
    "# 미국 기준금리 데이터 가져오기\n",
    "us_data = rate_tool.get_us_rates(\"base_rate\", months=6)\n",
    "print(f\"미국 기준금리 데이터: {len(us_data)}개\")\n",
    "print(us_data[-3:])  # 최근 3개월만 출력"
   ]
  },
  {
   "cell_type": "code",
   "execution_count": 7,
   "metadata": {},
   "outputs": [
    {
     "name": "stdout",
     "output_type": "stream",
     "text": [
      "ECOS API 요청 중 오류: 404 Client Error: Not Found for url: https://ecos.bok.or.kr/api/StatisticSearch/5R7Q6RTQNXYZJO92A9F1%20#%20%ED%95%9C%EA%B5%AD%20%EA%B8%88%EB%A6%AC/json/kr/1/1000/722Y001/M/202505/202510\n",
      "한국 기준금리 데이터: 0개\n",
      "[]\n"
     ]
    }
   ],
   "source": [
    "# 한국 기준금리 데이터 가져오기\n",
    "kr_data = rate_tool.get_korea_rate(months=6)\n",
    "print(f\"한국 기준금리 데이터: {len(kr_data)}개\")\n",
    "print(kr_data[-3:])  # 최근 3개월만 출력"
   ]
  },
  {
   "cell_type": "markdown",
   "metadata": {},
   "source": [
    "## 6. 데이터 시각화"
   ]
  },
  {
   "cell_type": "code",
   "execution_count": 8,
   "metadata": {},
   "outputs": [
    {
     "name": "stdout",
     "output_type": "stream",
     "text": [
      "FRED API 요청 중 오류: 400 Client Error: Bad Request for url: https://api.stlouisfed.org/fred/series/observations?series_id=FEDFUNDS&api_key=07b7c58f18be38e51c0e63b51b9a6995+%23+%EB%AF%B8%EA%B5%AD+%EC%97%B0%EB%B0%A9+%EA%B8%88%EB%A6%AC&file_type=json&frequency=m&observation_start=2023-11-09\n",
      "ECOS API 요청 중 오류: 404 Client Error: Not Found for url: https://ecos.bok.or.kr/api/StatisticSearch/5R7Q6RTQNXYZJO92A9F1%20#%20%ED%95%9C%EA%B5%AD%20%EA%B8%88%EB%A6%AC/json/kr/1/1000/722Y001/M/202311/202510\n"
     ]
    },
    {
     "ename": "KeyError",
     "evalue": "'date'",
     "output_type": "error",
     "traceback": [
      "\u001b[31m---------------------------------------------------------------------------\u001b[39m",
      "\u001b[31mKeyError\u001b[39m                                  Traceback (most recent call last)",
      "\u001b[36mCell\u001b[39m\u001b[36m \u001b[39m\u001b[32mIn[8]\u001b[39m\u001b[32m, line 19\u001b[39m\n\u001b[32m     16\u001b[39m kr_df = pd.DataFrame(kr_data)\n\u001b[32m     18\u001b[39m \u001b[38;5;66;03m# 날짜 형식 변환\u001b[39;00m\n\u001b[32m---> \u001b[39m\u001b[32m19\u001b[39m us_df[\u001b[33m'\u001b[39m\u001b[33mdate\u001b[39m\u001b[33m'\u001b[39m] = pd.to_datetime(\u001b[43mus_df\u001b[49m\u001b[43m[\u001b[49m\u001b[33;43m'\u001b[39;49m\u001b[33;43mdate\u001b[39;49m\u001b[33;43m'\u001b[39;49m\u001b[43m]\u001b[49m)\n\u001b[32m     20\u001b[39m kr_df[\u001b[33m'\u001b[39m\u001b[33mdate\u001b[39m\u001b[33m'\u001b[39m] = pd.to_datetime(kr_df[\u001b[33m'\u001b[39m\u001b[33mdate\u001b[39m\u001b[33m'\u001b[39m], \u001b[38;5;28mformat\u001b[39m=\u001b[33m'\u001b[39m\u001b[33m%\u001b[39m\u001b[33mY\u001b[39m\u001b[33m%\u001b[39m\u001b[33mm\u001b[39m\u001b[33m'\u001b[39m)\n\u001b[32m     22\u001b[39m \u001b[38;5;66;03m# 시각화\u001b[39;00m\n",
      "\u001b[36mFile \u001b[39m\u001b[32mc:\\RAG_COMMANDER\\.venv\\Lib\\site-packages\\pandas\\core\\frame.py:4113\u001b[39m, in \u001b[36mDataFrame.__getitem__\u001b[39m\u001b[34m(self, key)\u001b[39m\n\u001b[32m   4111\u001b[39m \u001b[38;5;28;01mif\u001b[39;00m \u001b[38;5;28mself\u001b[39m.columns.nlevels > \u001b[32m1\u001b[39m:\n\u001b[32m   4112\u001b[39m     \u001b[38;5;28;01mreturn\u001b[39;00m \u001b[38;5;28mself\u001b[39m._getitem_multilevel(key)\n\u001b[32m-> \u001b[39m\u001b[32m4113\u001b[39m indexer = \u001b[38;5;28;43mself\u001b[39;49m\u001b[43m.\u001b[49m\u001b[43mcolumns\u001b[49m\u001b[43m.\u001b[49m\u001b[43mget_loc\u001b[49m\u001b[43m(\u001b[49m\u001b[43mkey\u001b[49m\u001b[43m)\u001b[49m\n\u001b[32m   4114\u001b[39m \u001b[38;5;28;01mif\u001b[39;00m is_integer(indexer):\n\u001b[32m   4115\u001b[39m     indexer = [indexer]\n",
      "\u001b[36mFile \u001b[39m\u001b[32mc:\\RAG_COMMANDER\\.venv\\Lib\\site-packages\\pandas\\core\\indexes\\range.py:417\u001b[39m, in \u001b[36mRangeIndex.get_loc\u001b[39m\u001b[34m(self, key)\u001b[39m\n\u001b[32m    415\u001b[39m         \u001b[38;5;28;01mraise\u001b[39;00m \u001b[38;5;167;01mKeyError\u001b[39;00m(key) \u001b[38;5;28;01mfrom\u001b[39;00m\u001b[38;5;250m \u001b[39m\u001b[34;01merr\u001b[39;00m\n\u001b[32m    416\u001b[39m \u001b[38;5;28;01mif\u001b[39;00m \u001b[38;5;28misinstance\u001b[39m(key, Hashable):\n\u001b[32m--> \u001b[39m\u001b[32m417\u001b[39m     \u001b[38;5;28;01mraise\u001b[39;00m \u001b[38;5;167;01mKeyError\u001b[39;00m(key)\n\u001b[32m    418\u001b[39m \u001b[38;5;28mself\u001b[39m._check_indexing_error(key)\n\u001b[32m    419\u001b[39m \u001b[38;5;28;01mraise\u001b[39;00m \u001b[38;5;167;01mKeyError\u001b[39;00m(key)\n",
      "\u001b[31mKeyError\u001b[39m: 'date'"
     ]
    }
   ],
   "source": [
    "import matplotlib.pyplot as plt\n",
    "import pandas as pd\n",
    "from matplotlib import font_manager, rc\n",
    "\n",
    "# 한글 폰트 설정 (Windows)\n",
    "plt.rcParams['font.family'] = 'Malgun Gothic'\n",
    "plt.rcParams['axes.unicode_minus'] = False\n",
    "\n",
    "# 데이터 조회\n",
    "rate_tool = InterestRateTool()\n",
    "us_data = rate_tool.get_us_rates(\"base_rate\", months=24)\n",
    "kr_data = rate_tool.get_korea_rate(months=24)\n",
    "\n",
    "# DataFrame 생성\n",
    "us_df = pd.DataFrame(us_data)\n",
    "kr_df = pd.DataFrame(kr_data)\n",
    "\n",
    "# 날짜 형식 변환\n",
    "us_df['date'] = pd.to_datetime(us_df['date'])\n",
    "kr_df['date'] = pd.to_datetime(kr_df['date'], format='%Y%m')\n",
    "\n",
    "# 시각화\n",
    "plt.figure(figsize=(14, 7))\n",
    "\n",
    "plt.plot(us_df['date'], us_df['value'], \n",
    "         label='미국 기준금리', color='red', linewidth=2, marker='o')\n",
    "plt.plot(kr_df['date'], kr_df['value'], \n",
    "         label='한국 기준금리', color='blue', linewidth=2, marker='s')\n",
    "\n",
    "# 금리 역전 구간 강조\n",
    "# (여기서는 간단하게 처리)\n",
    "\n",
    "plt.title('한미 기준금리 추이 비교 (최근 24개월)', fontsize=16)\n",
    "plt.xlabel('날짜', fontsize=12)\n",
    "plt.ylabel('금리 (%)', fontsize=12)\n",
    "plt.legend(fontsize=10, loc='upper left')\n",
    "plt.grid(True, linestyle='--', alpha=0.7)\n",
    "plt.tight_layout()\n",
    "plt.show()"
   ]
  },
  {
   "cell_type": "markdown",
   "metadata": {},
   "source": [
    "## 7. LangChain Agent와 통합"
   ]
  },
  {
   "cell_type": "code",
   "execution_count": null,
   "metadata": {},
   "outputs": [],
   "source": [
    "from langchain_openai import ChatOpenAI\n",
    "from langchain.agents import create_tool_calling_agent, AgentExecutor\n",
    "from langchain.prompts import ChatPromptTemplate\n",
    "from tools.interest_rate_tool import get_interest_rate_tools\n",
    "\n",
    "# LLM 초기화\n",
    "llm = ChatOpenAI(model=\"gpt-4o-mini\", temperature=0)\n",
    "\n",
    "# 도구 목록\n",
    "tools = get_interest_rate_tools()\n",
    "\n",
    "# 프롬프트 설정\n",
    "prompt = ChatPromptTemplate.from_messages([\n",
    "    (\"system\", \"\"\"당신은 글로벌 금리 분석 전문가입니다.\n",
    "한국과 미국의 금리 데이터를 분석하여 경제 동향을 파악합니다.\n",
    "제공된 도구를 활용하여 사용자의 질문에 답변하세요.\"\"\"),\n",
    "    (\"human\", \"{input}\"),\n",
    "    (\"placeholder\", \"{agent_scratchpad}\"),\n",
    "])\n",
    "\n",
    "# Agent 생성\n",
    "agent = create_tool_calling_agent(llm, tools, prompt)\n",
    "agent_executor = AgentExecutor(agent=agent, tools=tools, verbose=True)\n",
    "\n",
    "# 테스트 질문\n",
    "response = agent_executor.invoke({\n",
    "    \"input\": \"현재 한국과 미국의 기준금리를 비교하고, 금리 역전 상황을 설명해주세요.\"\n",
    "})\n",
    "\n",
    "print(\"\\n\" + \"=\"*80)\n",
    "print(\"Agent 응답:\")\n",
    "print(\"=\"*80)\n",
    "print(response[\"output\"])"
   ]
  },
  {
   "cell_type": "markdown",
   "metadata": {},
   "source": [
    "## 8. 다양한 기간으로 테스트"
   ]
  },
  {
   "cell_type": "code",
   "execution_count": null,
   "metadata": {},
   "outputs": [],
   "source": [
    "# 6개월, 12개월, 24개월 비교\n",
    "periods = [6, 12, 24]\n",
    "\n",
    "for period in periods:\n",
    "    print(f\"\\n{'='*80}\")\n",
    "    print(f\"최근 {period}개월 한미 금리 비교\")\n",
    "    print('='*80)\n",
    "    \n",
    "    result = compare_korea_us_rates.invoke({\"months\": period})\n",
    "    print(result)"
   ]
  },
  {
   "cell_type": "markdown",
   "metadata": {},
   "source": [
    "## 9. 금리 추세 분석"
   ]
  },
  {
   "cell_type": "code",
   "execution_count": null,
   "metadata": {},
   "outputs": [],
   "source": [
    "# 금리 추세 계산 함수\n",
    "def analyze_trend(data, name):\n",
    "    if len(data) < 2:\n",
    "        print(f\"{name}: 데이터 부족\")\n",
    "        return\n",
    "    \n",
    "    first = data[0]['value']\n",
    "    last = data[-1]['value']\n",
    "    change = last - first\n",
    "    change_pct = (change / first * 100) if first != 0 else 0\n",
    "    \n",
    "    print(f\"\\n{name}:\")\n",
    "    print(f\"  시작: {first}% ({data[0]['date']})\")\n",
    "    print(f\"  종료: {last}% ({data[-1]['date']})\")\n",
    "    print(f\"  변화: {change:+.2f}%p ({change_pct:+.2f}%)\")\n",
    "    print(f\"  추세: {'상승' if change > 0 else '하락' if change < 0 else '보합'}\")\n",
    "\n",
    "# 24개월 데이터 분석\n",
    "rate_tool = InterestRateTool()\n",
    "us_data = rate_tool.get_us_rates(\"base_rate\", months=24)\n",
    "kr_data = rate_tool.get_korea_rate(months=24)\n",
    "treasury_data = rate_tool.get_us_rates(\"10y_treasury\", months=24)\n",
    "\n",
    "print(\"=\"*80)\n",
    "print(\"금리 추세 분석 (최근 24개월)\")\n",
    "print(\"=\"*80)\n",
    "\n",
    "analyze_trend(us_data, \"미국 기준금리\")\n",
    "analyze_trend(kr_data, \"한국 기준금리\")\n",
    "analyze_trend(treasury_data, \"미국 10년물 국채\")"
   ]
  }
 ],
 "metadata": {
  "kernelspec": {
   "display_name": "RAG_COMMANDER",
   "language": "python",
   "name": "python3"
  },
  "language_info": {
   "codemirror_mode": {
    "name": "ipython",
    "version": 3
   },
   "file_extension": ".py",
   "mimetype": "text/x-python",
   "name": "python",
   "nbconvert_exporter": "python",
   "pygments_lexer": "ipython3",
   "version": "3.12.11"
  }
 },
 "nbformat": 4,
 "nbformat_minor": 2
}
