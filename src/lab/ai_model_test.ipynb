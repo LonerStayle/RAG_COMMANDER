{
 "cells": [
  {
   "cell_type": "code",
   "execution_count": null,
   "id": "efd5e72e",
   "metadata": {},
   "outputs": [],
   "source": [
    "import torch\n",
    "torch.cuda.is_available()"
   ]
  },
  {
   "cell_type": "code",
   "execution_count": null,
   "id": "6e2fcc6f",
   "metadata": {},
   "outputs": [],
   "source": [
    "# from transformers import AutoModelForCausalLM, AutoTokenizer, BitsAndBytesConfig\n",
    "# import torch\n",
    "\n",
    "# model_name = \"skt/A.X-4.0-Light\"  # 실제 라이트 버전 이름으로 바꿔주세요\n",
    "# bnb_config = BitsAndBytesConfig(\n",
    "#     load_in_4bit=True,           # 4bit quantization\n",
    "#     bnb_4bit_compute_dtype=torch.float16,\n",
    "#     bnb_4bit_use_double_quant=True,\n",
    "#     bnb_4bit_quant_type=\"nf4\"\n",
    "# )\n",
    "\n",
    "# tokenizer = AutoTokenizer.from_pretrained(model_name)\n",
    "# model = AutoModelForCausalLM.from_pretrained(model_name, quantization_config=bnb_config, device_map=\"auto\")\n",
    "# model     = model.to(\"cuda\")  # GPU 사용 시. CPU라면 \"cpu\"로\n",
    "\n",
    "# prompt = \"2025년 서울 강남구 부동산 입지 전망을 분석해줘.\"\n",
    "# inputs = tokenizer(prompt, return_tensors=\"pt\").to(model.device)\n",
    "# outputs = model.generate(**inputs, max_new_tokens=200, temperature=0)\n",
    "# print(tokenizer.decode(outputs[0], skip_special_tokens=True))"
   ]
  },
  {
   "cell_type": "code",
   "execution_count": null,
   "id": "e5873724",
   "metadata": {},
   "outputs": [],
   "source": [
    "# print(tokenizer.decode(outputs[0], skip_special_tokens=True))"
   ]
  },
  {
   "cell_type": "code",
   "execution_count": null,
   "id": "ed35b177",
   "metadata": {},
   "outputs": [
    {
     "name": "stdout",
     "output_type": "stream",
     "text": [
      "Claude 응답: # 서울 강남구 2024년 아파트 분양 리스크 요약\n",
      "\n",
      "## 주요 리스크 요인\n",
      "\n",
      "### 1. **높은 분양가**\n",
      "- 강남구는 서울에서 가장 높은 분양가 수준\n",
      "- 고분양가로 인한 실수요자 진입장벽 상승\n",
      "- 향후 시세차익 기대감 감소 가능성\n",
      "\n",
      "### 2. **금리 부담**\n",
      "- 고금리 기조 지속 시 대출이자 부담 증가\n",
      "- 레버리지 투자자들의 수익성 악화\n",
      "- 청약 당첨 후 중도금 대출 부담\n",
      "\n",
      "### 3. **공급 과잉 우려**\n",
      "- 강남권 재건축·재개발 물량 집중 출회 예상\n",
      "- 입주 시기 겹칠 경우 수급 불균형 가능\n",
      "- 미분양 리스크는 낮으나 프리미엄 축소 가능\n",
      "\n",
      "### 4. **규제 리스크**\n",
      "- 투기과열지구 등 각종 규제 적용\n",
      "- 대출 규제(LTV/DTI) 강화 가능성\n",
      "- 양도세·종부세 등 세금 부담\n",
      "\n",
      "### 5. **경기 민감도**\n",
      "- 경기 침체 시 강남 프리미엄 약화 가능\n",
      "- 고가 아파트 시장의 변동성 확대\n",
      "- 전세가율 하락에 따른 갭투자 어려움\n",
      "\n",
      "## 투자 시 고려사항\n",
      "- 입지, 브랜드, 학군 등 기본 가치 확인\n",
      "- 장기 보유 전제의 실거주 목적 권장\n",
      "- 개인별 재무상황에 맞는 신중한 판단 필요\n"
     ]
    }
   ],
   "source": [
    "import os\n",
    "from dotenv import load_dotenv\n",
    "load_dotenv()\n",
    "\n",
    "from langchain_anthropic import ChatAnthropic\n",
    "from langchain_core.messages import SystemMessage, HumanMessage\n",
    "\n",
    "os.environ[\"ANTHROPIC_API_KEY\"] = os.getenv(\"CLAUDE_API_KEY\")\n",
    "\n",
    "llm = ChatAnthropic(\n",
    "    model=\"claude-sonnet-4-5-20250929\",  # 또는 실제 사용 가능한 최신 모델명\n",
    "    temperature=0.0,\n",
    "    max_tokens=32000\n",
    ")\n",
    "\n",
    "messages = [\n",
    "    SystemMessage(content=\"You are a helpful assistant.\"),\n",
    "    HumanMessage(content=\"서울 강남구의 올해 아파트 분양 리스크에 대해서 요약해줘.\"),\n",
    "]\n",
    "\n",
    "response = llm.invoke(messages)\n",
    "print(\"Claude 응답:\", response.content)"
   ]
  },
  {
   "cell_type": "code",
   "execution_count": null,
   "id": "23530f74",
   "metadata": {},
   "outputs": [],
   "source": []
  }
 ],
 "metadata": {
  "kernelspec": {
   "display_name": "RAG_COMMANDER",
   "language": "python",
   "name": "python3"
  },
  "language_info": {
   "codemirror_mode": {
    "name": "ipython",
    "version": 3
   },
   "file_extension": ".py",
   "mimetype": "text/x-python",
   "name": "python",
   "nbconvert_exporter": "python",
   "pygments_lexer": "ipython3",
   "version": "3.12.11"
  }
 },
 "nbformat": 4,
 "nbformat_minor": 5
}
