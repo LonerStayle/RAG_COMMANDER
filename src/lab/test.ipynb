{
 "cells": [
  {
   "cell_type": "code",
   "execution_count": 2,
   "id": "74a9cfc5",
   "metadata": {},
   "outputs": [],
   "source": [
    "import sys\n",
    "sys.path.append(\"..\")"
   ]
  },
  {
   "cell_type": "code",
   "execution_count": 3,
   "id": "ffb8ec86",
   "metadata": {},
   "outputs": [
    {
     "name": "stdout",
     "output_type": "stream",
     "text": [
      "/Users/seobi/PythonProjects/RAG_Commander/src/lab\n"
     ]
    }
   ],
   "source": [
    "from pathlib import Path\n",
    "root_path = Path().resolve()\n",
    "print(root_path)"
   ]
  },
  {
   "cell_type": "code",
   "execution_count": 4,
   "id": "cc3c9d74",
   "metadata": {},
   "outputs": [
    {
     "data": {
      "text/plain": [
       "PosixPath('/Users/seobi/PythonProjects/RAG_Commander')"
      ]
     },
     "execution_count": 4,
     "metadata": {},
     "output_type": "execute_result"
    }
   ],
   "source": [
    "from utils.util import get_project_root\n",
    "get_project_root()"
   ]
  },
  {
   "cell_type": "code",
   "execution_count": 5,
   "id": "3e12ab61",
   "metadata": {},
   "outputs": [
    {
     "data": {
      "text/plain": [
       "'/Users/seobi/PythonProjects/RAG_Commander/src/prompts/main.yaml'"
      ]
     },
     "execution_count": 5,
     "metadata": {},
     "output_type": "execute_result"
    }
   ],
   "source": [
    "from prompts import PromptType\n",
    "PromptType.MAIN_START_CONFIRMATION.path"
   ]
  },
  {
   "cell_type": "code",
   "execution_count": 6,
   "id": "0a7516b8",
   "metadata": {},
   "outputs": [
    {
     "data": {
      "text/plain": [
       "'아래는 지금까지 사용자가 부동산 대행사 사내용 보고서 작성을 요청하며 주고 받은 메시지 입니다. \\n<Messages>\\n[]\\n</Messages>\\n\\n사용자가 제공한 정보만으로 보고서 작성을 시작할 수 있는지,\\n아니면 추가로 질문을 해야 하는지 판단해야 합니다.\\n\\n보고서 작성 여부는 아래와 같습니다.\\n** 위치, 규모, 세대수 ** 중 1가지라도 없다면 필수로 명확하기 위한 질문을 해야합니다. \\n\\n중요: 만약 이미 명확히 하기 위한 질문을 한적이 없다면,\\n다시 질문하지마세요. 정말 필요할 떄만 새로 질문을 하세요. \\n\\n약어나 모호한 용어, 의미 불분명한 표헌이 있다면 사용자가 명확히 해주도록 요청하십시오.\\n\\n질문이 필요한 경우 다음 가이드를 따르세요:\\n- 불필요한 장황함 없이 필요한 정보만 간결히 물어보세요.\\n- 보고서 작성에 꼭 필요한 모든 정보를 잘 구조화해 요청하세요. \\n- 필요하다면 마크다운 서식이 적용되는 **리스트나 번호 목록**으로 작성하세요. \\n- 이미 사용자가 제공한 정보를 반복해서 묻지 마세요. \\n\\n다음과 같은 JSON 형식으로 응답해야 합니다:\\n\"confirm\": boolean, \\n\"question\": \"<사용자에게 명확하기 위한 질문>\",\\n\"reason\": \"<사용자에게 명확하기 위한 질문이 필요한 이유>\"\\n\"verification\": \"<충분한 정보가 있을 때 보고서 작성 시작을 알리는 메시지>\"\\n\\n명확하기 위한 질문이 필요한 경우:\\n\"confirm\": False, \\n\"question\": \"<당신의 질문>\",\\n\"reason\": \"<사용자에게 명확하기 위한 질문이 필요한 이유>\"\\n\"verification\": \"\"\\n\\n\\n명확하기 위한 질문이 **필요하지 않은 경우*:\\n\"confirm\": True, \\n\"question\": \"\",\\n\"reason\": \"\"\\n\"verification\": \"<보고서 작성을 시작하겠다는 확인 메시지>\"\\n\\nverfication 메시지 작성 규칙:\\n- 충분한 정보를 확보했음을 인정하고\\n- 사용자의 요청에서 파악한 핵심 사항을 간단히 요약하며\\n- 이제 보고서 작성을 시작하겠다고 확언하세요.\\n- 전문적이고 간결하게 작성하세요.\\n'"
      ]
     },
     "execution_count": 6,
     "metadata": {},
     "output_type": "execute_result"
    }
   ],
   "source": [
    "from prompts import PromptManager\n",
    "PromptManager(PromptType.MAIN_START_CONFIRMATION).get_prompt(messages = [])"
   ]
  },
  {
   "cell_type": "code",
   "execution_count": 7,
   "id": "18894999",
   "metadata": {},
   "outputs": [],
   "source": [
    "# import yaml\n",
    "\n",
    "# with open(\"../prompts/insight_division_prompts.yaml\", \"r\", encoding=\"utf-8\") as f:\n",
    "#     config = yaml.safe_load(f)\n",
    "\n",
    "# print(config[\"agents\"][0][\"system\"])\n",
    "# common_system = config[\"common_system\"]  \n",
    "# agents = config[\"agents\"]                \n",
    "# loc_cfg = next(a for a in agents if a[\"id\"] == \"location_insight\")\n",
    "# loc_cfg"
   ]
  },
  {
   "cell_type": "code",
   "execution_count": 8,
   "id": "d5a5dd6b",
   "metadata": {},
   "outputs": [
    {
     "name": "stderr",
     "output_type": "stream",
     "text": [
      "/Users/seobi/PythonProjects/RAG_Commander/.venv/lib/python3.12/site-packages/tqdm/auto.py:21: TqdmWarning: IProgress not found. Please update jupyter and ipywidgets. See https://ipywidgets.readthedocs.io/en/stable/user_install.html\n",
      "  from .autonotebook import tqdm as notebook_tqdm\n"
     ]
    },
    {
     "data": {
      "image/png": "[encoded data removed]",
      "text/plain": [
       "<langgraph.graph.state.CompiledStateGraph object at 0x139a96d50>"
      ]
     },
     "execution_count": 8,
     "metadata": {},
     "output_type": "execute_result"
    }
   ],
   "source": [
    "from agents.jung_min_jae.jung_min_jae_agent import report_graph\n",
    "report_graph"
   ]
  },
  {
   "cell_type": "code",
   "execution_count": null,
   "id": "512a75e6",
   "metadata": {},
   "outputs": [],
   "source": []
  }
 ],
 "metadata": {
  "kernelspec": {
   "display_name": "rag-commander",
   "language": "python",
   "name": "python3"
  },
  "language_info": {
   "codemirror_mode": {
    "name": "ipython",
    "version": 3
   },
   "file_extension": ".py",
   "mimetype": "text/x-python",
   "name": "python",
   "nbconvert_exporter": "python",
   "pygments_lexer": "ipython3",
   "version": "3.12.11"
  }
 },
 "nbformat": 4,
 "nbformat_minor": 5
}
