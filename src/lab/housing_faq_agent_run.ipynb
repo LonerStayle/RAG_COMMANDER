{
 "cells": [
  {
   "cell_type": "code",
   "execution_count": 4,
   "id": "ba56baab",
   "metadata": {},
   "outputs": [
    {
     "name": "stdout",
     "output_type": "stream",
     "text": [
      "/Users/seobi/PythonProjects/RAG_Commander/src\n"
     ]
    }
   ],
   "source": [
    "import sys, os\n",
    "sys.path.append(os.path.abspath(os.path.join(os.getcwd(), \"../\")))\n",
    "print(sys.path[-1])"
   ]
  },
  {
   "cell_type": "code",
   "execution_count": 5,
   "id": "40aa346b",
   "metadata": {},
   "outputs": [
    {
     "name": "stderr",
     "output_type": "stream",
     "text": [
      "/Users/seobi/PythonProjects/RAG_Commander/.venv/lib/python3.12/site-packages/tqdm/auto.py:21: TqdmWarning: IProgress not found. Please update jupyter and ipywidgets. See https://ipywidgets.readthedocs.io/en/stable/user_install.html\n",
      "  from .autonotebook import tqdm as notebook_tqdm\n"
     ]
    }
   ],
   "source": [
    "from agents.analysis.housing_faq_agent import housing_faq_graph\n",
    "from agents.state.start_state import StartInput\n",
    "\n",
    "target_area_key = StartInput.KEY.target_area\n",
    "scale_key = StartInput.KEY.scale\n",
    "total_units_key = StartInput.KEY.total_units\n",
    "\n",
    "result = housing_faq_graph.invoke(\n",
    "    {\n",
    "        \"start_input\": {\n",
    "            target_area_key: \"서울 강남구 역삼1동\",\n",
    "            scale_key: \"소규모\",\n",
    "            total_units_key: \"800\",\n",
    "        }\n",
    "    }\n",
    ")"
   ]
  },
  {
   "cell_type": "code",
   "execution_count": 17,
   "id": "76f95b9d",
   "metadata": {},
   "outputs": [
    {
     "data": {
      "text/plain": [
       "{'start_input': {'target_area': '서울 강남구 역삼1동',\n",
       "  'scale': '소규모',\n",
       "  'total_units': '800'},\n",
       " 'housing_faq_output': 'housing_faq_output_test',\n",
       " 'messages': []}"
      ]
     },
     "execution_count": 17,
     "metadata": {},
     "output_type": "execute_result"
    }
   ],
   "source": [
    "result"
   ]
  },
  {
   "cell_type": "code",
   "execution_count": null,
   "id": "dfe6954e",
   "metadata": {},
   "outputs": [],
   "source": []
  }
 ],
 "metadata": {
  "kernelspec": {
   "display_name": "rag-commander",
   "language": "python",
   "name": "python3"
  },
  "language_info": {
   "codemirror_mode": {
    "name": "ipython",
    "version": 3
   },
   "file_extension": ".py",
   "mimetype": "text/x-python",
   "name": "python",
   "nbconvert_exporter": "python",
   "pygments_lexer": "ipython3",
   "version": "3.12.11"
  }
 },
 "nbformat": 4,
 "nbformat_minor": 5
}
