{
 "cells": [
  {
   "cell_type": "code",
   "execution_count": 5,
   "id": "07ba96c3",
   "metadata": {},
   "outputs": [
    {
     "name": "stdout",
     "output_type": "stream",
     "text": [
      "37.3825999 127.1188\n"
     ]
    }
   ],
   "source": [
    "from geopy.geocoders import Nominatim\n",
    "\n",
    "geolocator = Nominatim(user_agent=\"map_test\")\n",
    "location = geolocator.geocode(\"경기도 성남시 분당\")\n",
    "print(location.latitude, location.longitude)\n",
    "# 출력: 37.501304, 127.039580\n"
   ]
  },
  {
   "cell_type": "code",
   "execution_count": 3,
   "id": "d93ad9d8",
   "metadata": {},
   "outputs": [],
   "source": [
    "import folium\n",
    "\n",
    "lat, lon = 37.501304, 127.039580\n",
    "m = folium.Map(location=[lat, lon], zoom_start=15)\n",
    "folium.Marker([lat, lon], popup=\"강남역 근처\").add_to(m)\n",
    "m.save(\"map.html\")"
   ]
  },
  {
   "cell_type": "code",
   "execution_count": 5,
   "id": "b7e43525",
   "metadata": {},
   "outputs": [
    {
     "name": "stdout",
     "output_type": "stream",
     "text": [
      "[좌표] 서울특별시 강남구 테헤란로 231 → (37.5036315, 127.0412486)\n",
      "✅ 캡처 완료: map_capture.png\n"
     ]
    }
   ],
   "source": [
    "from geopy.geocoders import Nominatim\n",
    "import folium\n",
    "from selenium import webdriver\n",
    "import time\n",
    "\n",
    "def capture_map(address: str, zoom: int = 15):\n",
    "    # 1️⃣ 주소 → 좌표 변환\n",
    "    geolocator = Nominatim(user_agent=\"map_capture_test\")\n",
    "    location = geolocator.geocode(address)\n",
    "    lat, lon = location.latitude, location.longitude\n",
    "    print(f\"[좌표] {address} → ({lat}, {lon})\")\n",
    "\n",
    "    # 2️⃣ 지도 생성\n",
    "    m = folium.Map(location=[lat, lon], zoom_start=zoom)\n",
    "    folium.Marker([lat, lon], popup=address).add_to(m)\n",
    "    m.save(\"map.html\")\n",
    "\n",
    "    # 3️⃣ 지도 캡처\n",
    "    driver = webdriver.Chrome()  # chromedriver 경로 지정 필요시 executable_path 지정\n",
    "    driver.get(\"file://\" + __import__(\"os\").path.abspath(\"map.html\"))\n",
    "    time.sleep(2)  # 지도 로딩 대기\n",
    "    driver.save_screenshot(\"map_capture.png\")\n",
    "    driver.quit()\n",
    "\n",
    "    print(\"✅ 캡처 완료: map_capture.png\")\n",
    "\n",
    "# 실행 예시\n",
    "capture_map(\"서울특별시 강남구 테헤란로 231\")\n"
   ]
  },
  {
   "cell_type": "code",
   "execution_count": null,
   "id": "3a5c8df5",
   "metadata": {},
   "outputs": [],
   "source": []
  }
 ],
 "metadata": {
  "kernelspec": {
   "display_name": "rag-commander",
   "language": "python",
   "name": "python3"
  },
  "language_info": {
   "codemirror_mode": {
    "name": "ipython",
    "version": 3
   },
   "file_extension": ".py",
   "mimetype": "text/x-python",
   "name": "python",
   "nbconvert_exporter": "python",
   "pygments_lexer": "ipython3",
   "version": "3.12.11"
  }
 },
 "nbformat": 4,
 "nbformat_minor": 5
}
