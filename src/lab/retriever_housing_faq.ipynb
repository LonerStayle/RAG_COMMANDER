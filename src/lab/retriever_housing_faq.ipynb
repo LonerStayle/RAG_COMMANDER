{
 "cells": [
  {
   "cell_type": "code",
   "execution_count": 5,
   "id": "deeeed63",
   "metadata": {},
   "outputs": [],
   "source": [
    "import sys, os\n",
    "sys.path.append(\"..\")"
   ]
  },
  {
   "cell_type": "code",
   "execution_count": 8,
   "id": "f61681fc",
   "metadata": {},
   "outputs": [],
   "source": [
    "from tools.rag.document_loader.default_loader import load_with_pymupdf\n",
    "from utils.util import get_project_root"
   ]
  },
  {
   "cell_type": "code",
   "execution_count": null,
   "id": "c58c7b22",
   "metadata": {},
   "outputs": [],
   "source": [
    "doc_path = get_project_root() / \"src\" / \"data\" / \"2024 주택청약 FAQ.pdf\" # 이렇게 하면 윈도우 리눅스 안가리고 잘 가져옴\n",
    "documents = load_with_pymupdf(doc_path)"
   ]
  },
  {
   "cell_type": "code",
   "execution_count": 10,
   "id": "6fcf4658",
   "metadata": {},
   "outputs": [
    {
     "data": {
      "text/plain": [
       "273"
      ]
     },
     "execution_count": 10,
     "metadata": {},
     "output_type": "execute_result"
    }
   ],
   "source": [
    "len(documents)"
   ]
  },
  {
   "cell_type": "code",
   "execution_count": 14,
   "id": "2b57d8a7",
   "metadata": {},
   "outputs": [
    {
     "name": "stdout",
     "output_type": "stream",
     "text": [
      "14\n",
      "17\n",
      "주택공급신청자만 국외에 체류하고 있는 경우(단신부임)의 판단기준은?\n",
      "청약신청자가 해외에 체류 중인 기간 내 입주자모집공고일 현재 동일한 세대원 또는 미성년 \n",
      "자녀 중 한명이라도 해외에 체류한 기간이 제4조제7항각호에 해당하는 경우(계속하여 \n",
      "90일 또는 연간 183일 초과하여 거주한 경우) 단신부임을 인정할 수 없습니다.\n",
      "    \n",
      "또한, 세대원 및 자녀가 함께 체류하다가 귀국하였다 하여 바로 단신부임이 인정되지 않으며, \n",
      "입주자모집공고일 기준으로 우선공급 거주기간을 역산하여 그 기간 내에 위의 기준에 \n",
      "따른 단신부임 해당여부를 판단하여야 합니다.\n",
      "     * 해당지역 우선공급을 위한 거주기간이 없으나 청약 신청자가 입주자모집공고일 현재 계속하여 \n",
      "90일을 초과하여 해외에 체류 중인 경우 국내에 거주한 것으로 인정할 수 없으나, 세대원 및 \n",
      "미성년 자녀가 계속하여 해외에 체류한 기간이 90일 이하라면 단신부임 요건을 충족한 것으로 \n",
      "보아 해당지역(주민등록상 주소지) 청약신청 가능\n"
     ]
    }
   ],
   "source": [
    "print(documents[45].page_content) # 확인해야 한다."
   ]
  },
  {
   "cell_type": "code",
   "execution_count": 15,
   "id": "85939e78",
   "metadata": {},
   "outputs": [
    {
     "data": {
      "text/plain": [
       "273"
      ]
     },
     "execution_count": 15,
     "metadata": {},
     "output_type": "execute_result"
    }
   ],
   "source": [
    "len(documents)"
   ]
  },
  {
   "cell_type": "code",
   "execution_count": null,
   "id": "e8430947",
   "metadata": {},
   "outputs": [
    {
     "name": "stdout",
     "output_type": "stream",
     "text": [
      "자격 중 ‘3년 이상 계속하여 부양’한 기간으로 인정이 가능한지? ··························136\n",
      "Q272. 계부ㆍ계모를 부양하고 있는 경우 노부모 부양 특별공급을 신청할 수 있는지? ·····137\n",
      "Q273. 피부양자의 배우자가 만 60세 이상인 경우 무주택으로 인정이 가능한지? ·············137\n",
      "Q274. 피부양자 또는 피부양자의 배우자가 주택을 소유한 이력이 있는 경우 무주택기간 \n",
      "산정 방법·············································································································137\n",
      "6. 기타 특별공급 및 우선공급··············································································138\n",
      "가. 기관추천 특별공급(제35조, 제36조) ·············································································138\n",
      "Q275. 기관추천 특별공급 청약 절차는? ···········································································138\n",
      "Q276. 장애인 기관추천 특별공급을 받을 수 있는 자격 및 배점기준은 어떻게 되는지? ···138\n",
      "Q277. 제36조제1호의 철거주택 소유자가 특별공급을 받을 수 있는 관계법령이란? ·········139\n",
      "Q278. 「공익사업을 위한 토지 등의 취득 및 보상에 관한 법률」에 따른 이주대책대상자에 \n",
      "해당하는 경우 「주택공급에 관한 규칙」 제35조제1항제12호에 따라 공급 가능한지? ····139\n",
      "나. 주상복합건축물에 대한 우선공급(제31조) ·····································································139\n"
     ]
    }
   ],
   "source": [
    "# for i,chunk in enumerate(chunk_list):\n",
    "    # if i == 50 : print(chunk.page_content)\n"
   ]
  },
  {
   "cell_type": "code",
   "execution_count": 18,
   "id": "16288a12",
   "metadata": {},
   "outputs": [
    {
     "name": "stdout",
     "output_type": "stream",
     "text": [
      "→ RecursiveCharacterTextSplitter 사용\n"
     ]
    }
   ],
   "source": [
    "from tools.rag.chunker.default_chunker import adaptive_chunker\n",
    "chunk_list = adaptive_chunker(documents)"
   ]
  },
  {
   "cell_type": "code",
   "execution_count": 19,
   "id": "aafba823",
   "metadata": {},
   "outputs": [
    {
     "name": "stderr",
     "output_type": "stream",
     "text": [
      "2025-10-27 17:38:06,246 - INFO - HTTP Request: POST https://api.openai.com/v1/embeddings \"HTTP/1.1 200 OK\"\n",
      "2025-10-27 17:38:07,023 - INFO - HTTP Request: POST https://api.openai.com/v1/embeddings \"HTTP/1.1 200 OK\"\n"
     ]
    }
   ],
   "source": [
    "from langchain_community.vectorstores import PGVector\n",
    "from langchain_openai import OpenAIEmbeddings\n",
    "import os \n",
    "from dotenv import load_dotenv\n",
    "load_dotenv()\n",
    "emb = OpenAIEmbeddings(model = \"text-embedding-3-small\")\n",
    "collection_name =\"test\"\n",
    "connection_url = os.getenv(\"POSTGRES_URL\")\n",
    "store = PGVector.from_documents(\n",
    "            documents=documents,\n",
    "            embedding=emb,\n",
    "            connection_string=connection_url,\n",
    "            collection_name=collection_name,\n",
    "            use_jsonb=True,\n",
    "            pre_delete_collection=False,\n",
    "        )"
   ]
  },
  {
   "cell_type": "code",
   "execution_count": null,
   "id": "c57b7adf",
   "metadata": {},
   "outputs": [],
   "source": []
  }
 ],
 "metadata": {
  "kernelspec": {
   "display_name": ".venv",
   "language": "python",
   "name": "python3"
  },
  "language_info": {
   "codemirror_mode": {
    "name": "ipython",
    "version": 3
   },
   "file_extension": ".py",
   "mimetype": "text/x-python",
   "name": "python",
   "nbconvert_exporter": "python",
   "pygments_lexer": "ipython3",
   "version": "3.12.11"
  }
 },
 "nbformat": 4,
 "nbformat_minor": 5
}
