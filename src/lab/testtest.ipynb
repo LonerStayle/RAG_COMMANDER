{
 "cells": [
  {
   "cell_type": "code",
   "execution_count": 8,
   "id": "786ecb30",
   "metadata": {},
   "outputs": [
    {
     "data": {
      "text/plain": [
       "[]"
      ]
     },
     "execution_count": 8,
     "metadata": {},
     "output_type": "execute_result"
    }
   ],
   "source": [
    "from tools.pre_pomise_competition_tool import PrePromiseCompetitionTool\n",
    "tool = PrePromiseCompetitionTool()\n",
    "results = tool.search(\"서울시 강남구\")\n",
    "results"
   ]
  },
  {
   "cell_type": "code",
   "execution_count": 21,
   "id": "a378dcdf",
   "metadata": {},
   "outputs": [
    {
     "data": {
      "text/plain": [
       "'강남'"
      ]
     },
     "execution_count": 21,
     "metadata": {},
     "output_type": "execute_result"
    }
   ],
   "source": [
    "from tools.Trade_Balance_tool import get_trade_balance\n",
    "from utils.llm import LLMProfile\n",
    "\n",
    "# 서울>강북지역\n",
    "# 서울>강남지역\n",
    "# 서울>강북지역>도심권\n",
    "# 서울>강남지역>서남권\n",
    "# 서울>강남지역>동남권\n",
    "# 서울>강북지역>동북권\n",
    "# 서울>강북지역>서북권\n",
    "\n",
    "llm_result = LLMProfile.dev_llm().invoke(\n",
    "f\"\"\"\n",
    "{get_trade_balance(\"서울\")}\\n\\n\n",
    "\n",
    "[질문]\n",
    "위에서 말하는 강북 및 강남은 실제 자치구가 아니라 \n",
    "대한민국 서울 한강 중심에서 계산되는 위치를 말합니다. \n",
    "그러니 위 내용중에 서울 송파구 백제고분로42길 5에 맞는 지역을 선택해주세요. \n",
    "\n",
    "[강력 지침]\n",
    "- 불필요한 말을 하지마십시오\n",
    "- 위의 내용 중 서울 송파구 백제고분로42길 5에 해당되는 내용만 추출해서 말씀하십시오          \n",
    "\"\"\"\n",
    ")\n",
    "llm_result.content"
   ]
  },
  {
   "cell_type": "code",
   "execution_count": null,
   "id": "2428d8c1",
   "metadata": {},
   "outputs": [],
   "source": []
  },
  {
   "cell_type": "code",
   "execution_count": null,
   "id": "deb85259",
   "metadata": {},
   "outputs": [],
   "source": []
  }
 ],
 "metadata": {
  "kernelspec": {
   "display_name": "RAG_Commander",
   "language": "python",
   "name": "python3"
  },
  "language_info": {
   "codemirror_mode": {
    "name": "ipython",
    "version": 3
   },
   "file_extension": ".py",
   "mimetype": "text/x-python",
   "name": "python",
   "nbconvert_exporter": "python",
   "pygments_lexer": "ipython3",
   "version": "3.12.11"
  }
 },
 "nbformat": 4,
 "nbformat_minor": 5
}
