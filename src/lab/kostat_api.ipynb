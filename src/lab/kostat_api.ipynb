{
 "cells": [
  {
   "cell_type": "code",
   "execution_count": null,
   "id": "15f308af",
   "metadata": {},
   "outputs": [],
   "source": [
    "import requests, json, os\n",
    "from dotenv import load_dotenv\n",
    "load_dotenv()"
   ]
  },
  {
   "cell_type": "markdown",
   "id": "5260067b",
   "metadata": {},
   "source": [
    "# 1. Sgis 토큰 요청"
   ]
  },
  {
   "cell_type": "code",
   "execution_count": null,
   "id": "37b07ed9",
   "metadata": {},
   "outputs": [],
   "source": [
    "import os\n",
    "import time\n",
    "import requests\n",
    "\n",
    "\n",
    "class SgisAPI:\n",
    "    access_token = None\n",
    "    token_expire = 0  # timestamp\n",
    "\n",
    "    @classmethod\n",
    "    def get_access_token(cls):\n",
    "        \"\"\"토큰이 만료되었으면 새로 발급받고, 아니면 캐시된 토큰을 반환\"\"\"\n",
    "        if cls.access_token and time.time() < cls.token_expire:\n",
    "            return cls.access_token\n",
    "\n",
    "        AUTH_URL = \"https://sgisapi.kostat.go.kr/OpenAPI3/auth/authentication.json\"\n",
    "        KOSIS_CONSUMER_KEY = os.getenv(\"KOSIS_CONSUMER_KEY\")\n",
    "        KOSIS_CONSUMER_SECRET_KEY = os.getenv(\"KOSIS_CONSUMER_SECRET_KEY\")\n",
    "\n",
    "        params = {\n",
    "            \"consumer_key\": KOSIS_CONSUMER_KEY,\n",
    "            \"consumer_secret\": KOSIS_CONSUMER_SECRET_KEY,\n",
    "        }\n",
    "\n",
    "        response = requests.get(AUTH_URL, params=params)\n",
    "        data = response.json()\n",
    "\n",
    "        if data.get(\"errCd\") == 0:\n",
    "            cls.access_token = data[\"result\"][\"accessToken\"]\n",
    "            cls.token_expire = time.time() + 3500  # 1시간(3600초) - 안전하게 3500초\n",
    "            return cls.access_token\n",
    "        else:\n",
    "            raise Exception(f\"❌ 토큰 발급 실패: {data}\")\n",
    "\n",
    "    @classmethod\n",
    "    def request_api(cls, url: str, params: dict):\n",
    "        token = cls.get_access_token()\n",
    "        params[\"accessToken\"] = token\n",
    "        res = requests.get(url, params=params)\n",
    "        data = res.json()\n",
    "\n",
    "\n",
    "        if data.get(\"errCd\") == -100 and \"accessToken\" in str(data.get(\"errMsg\", \"\")).lower():\n",
    "            print(\"⚠️ accessToken 만료됨 → 재발급 중...\")\n",
    "            cls.access_token = None\n",
    "            token = cls.get_access_token()\n",
    "            params[\"accessToken\"] = token\n",
    "            res = requests.get(url, params=params)\n",
    "            data = res.json()\n",
    "\n",
    "        return data\n"
   ]
  },
  {
   "cell_type": "markdown",
   "id": "de5643ba",
   "metadata": {},
   "source": [
    "# 2. 주택 통계 "
   ]
  },
  {
   "cell_type": "code",
   "execution_count": null,
   "id": "16c61ead",
   "metadata": {},
   "outputs": [],
   "source": [
    "adm_dict = {\n",
    "    '종로구': '11010',\n",
    "    '중구': '11020',\n",
    "    '용산구': '11030',\n",
    "    '성동구': '11040',\n",
    "    '광진구': '11050',\n",
    "    '동대문구': '11060',\n",
    "    '중랑구': '11070',\n",
    "    '성북구': '11080',\n",
    "    '강북구': '11090',\n",
    "    '도봉구': '11100',\n",
    "    '노원구': '11110',\n",
    "    '은평구': '11120',\n",
    "    '서대문구': '11130',\n",
    "    '마포구': '11140',\n",
    "    '양천구': '11150',\n",
    "    '강서구': '11160',\n",
    "    '구로구': '11170',\n",
    "    '금천구': '11180',\n",
    "    '영등포구': '11190',\n",
    "    '동작구': '11200',\n",
    "    '관악구': '11210',\n",
    "    '서초구': '11220',\n",
    "    '강남구': '11230',\n",
    "    '송파구': '11240',\n",
    "    '강동구': '11250'\n",
    "}"
   ]
  },
  {
   "cell_type": "code",
   "execution_count": null,
   "id": "35683317",
   "metadata": {},
   "outputs": [],
   "source": [
    "# SGIS OpenAPI 주택통계 요청 URL\n",
    "HOUSE_URL = \"https://sgisapi.kostat.go.kr/OpenAPI3/stats/house.json\"\n",
    "\n",
    "params = {\n",
    "    \"year\": \"2020\", # 기준연도 (2015~2023)\n",
    "    \"adm_cd\": [adm_dict['강남구']], # 행정구역 코드 (서울특별시)\n",
    "    \"low_search\": \"0\"  ,\n",
    "    # 10년 이상들 조회 \n",
    "     \"const_year\" : [\"06\",\"07\",\"08\",\"09\",\"10\",\"11\"]\n",
    "}\n",
    "response = SgisAPI.request_api(HOUSE_URL,params)\n",
    "response['result']"
   ]
  },
  {
   "cell_type": "markdown",
   "id": "43186ae7",
   "metadata": {},
   "source": [
    "# 3. 연령층 분포"
   ]
  },
  {
   "cell_type": "code",
   "execution_count": 27,
   "id": "ccd2f2d7",
   "metadata": {},
   "outputs": [
    {
     "name": "stdout",
     "output_type": "stream",
     "text": [
      "오류: 401 Unauthorized\n",
      "\n"
     ]
    }
   ],
   "source": [
    "import os,requests,json\n",
    "from dotenv import load_dotenv\n",
    "load_dotenv()\n",
    "import requests\n",
    "import urllib.parse\n",
    "\n",
    "\n",
    "GONG_GONG_DATA_API_KEY = os.getenv(\"GONG_GONG_DATA_API_KEY\")\n",
    "\n",
    "\n",
    "# 3️⃣ 기본 요청 URL\n",
    "url = f\"https://apis.data.go.kr/1741000/admmSexdAgePpltn/selectAdmmSexdAgePpltn\"\n",
    "params = {\n",
    "    \"serviceKey\": \"FcTAw%2BPnCRMmJ0VuH0Yj37qIgrXFMN%2BHd0BNnLlKUPtbGqhAlkhR%2FdzVPwr79x%2BzV%2FmeX3Ld7Olw7jlWpQs%2Fmw%3D%3D\",\n",
    "    \"stdYm\": \"202409\",         # 기준연월\n",
    "    \"admCd\": \"1111054000\",     # 행정구역 코드 (예: 서울 강남구 역삼1동)\n",
    "    \"type\": \"json\",            # 응답형식\n",
    "    # \"numOfRows\": 10,\n",
    "    # \"pageNo\": 1\n",
    "}\n",
    "\n",
    "# 4️⃣ API 호출\n",
    "response = requests.get(url, params=params)\n",
    "\n",
    "# 5️⃣ 응답 확인\n",
    "if response.status_code == 200:\n",
    "    data = response.json()\n",
    "    print(data)\n",
    "else:\n",
    "    print(\"오류:\", response.status_code, response.text)\n"
   ]
  },
  {
   "cell_type": "code",
   "execution_count": 22,
   "id": "ff543d69",
   "metadata": {},
   "outputs": [
    {
     "data": {
      "text/plain": [
       "'FcTAw%2BPnCRMmJ0VuH0Yj37qIgrXFMN%2BHd0BNnLlKUPtbGqhAlkhR%2FdzVPwr79x%2BzV%2FmeX3Ld7Olw7jlWpQs%2Fmw%3D%3D'"
      ]
     },
     "execution_count": 22,
     "metadata": {},
     "output_type": "execute_result"
    }
   ],
   "source": [
    "GONG_GONG_DATA_API_KEY"
   ]
  },
  {
   "cell_type": "code",
   "execution_count": 24,
   "id": "2b2cbacc",
   "metadata": {},
   "outputs": [
    {
     "name": "stdout",
     "output_type": "stream",
     "text": [
      "<Response [401]>\n"
     ]
    }
   ],
   "source": [
    "\n",
    "\n",
    "import requests\n",
    "\n",
    "url = \"https://apis.data.go.kr/1741000/admmSexdAgePpltn/selectAdmmSexdAgePpltn\"\n",
    "params = {\n",
    "    \"serviceKey\": GONG_GONG_DATA_API_KEY,  # ✅ 인코딩키 사용!\n",
    "    \"stdYm\": \"202409\",\n",
    "    \"admCd\": \"1168010100\",\n",
    "    \"type\": \"json\"\n",
    "}\n",
    "\n",
    "response = requests.get(url, params=params)\n",
    "print(response)"
   ]
  },
  {
   "cell_type": "code",
   "execution_count": null,
   "id": "7f38bbb7",
   "metadata": {},
   "outputs": [],
   "source": []
  },
  {
   "cell_type": "code",
   "execution_count": null,
   "id": "0ce7c4a6",
   "metadata": {},
   "outputs": [],
   "source": []
  }
 ],
 "metadata": {
  "kernelspec": {
   "display_name": "rag-commander",
   "language": "python",
   "name": "python3"
  },
  "language_info": {
   "codemirror_mode": {
    "name": "ipython",
    "version": 3
   },
   "file_extension": ".py",
   "mimetype": "text/x-python",
   "name": "python",
   "nbconvert_exporter": "python",
   "pygments_lexer": "ipython3",
   "version": "3.12.11"
  }
 },
 "nbformat": 4,
 "nbformat_minor": 5
}
