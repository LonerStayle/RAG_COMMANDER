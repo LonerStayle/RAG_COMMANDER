{
 "cells": [
  {
   "cell_type": "markdown",
   "id": "b0f6e02c",
   "metadata": {},
   "source": [
    "## kosis"
   ]
  },
  {
   "cell_type": "code",
   "execution_count": 58,
   "id": "cb1eccf8",
   "metadata": {},
   "outputs": [],
   "source": [
    "import requests\n",
    "import pandas as pd\n",
    "\n",
    "url = 'https://kosis.kr/openapi/Param/statisticsParameterData.do'\n",
    "\n",
    "params = {\n",
    "    'method': 'getList',\n",
    "    'apiKey': 'MzlmNWY2OTczMzRmYmQ5NDQwZTIyNWU5YTVhNWIwZWQ=',\n",
    "    'itmId': '13103114441T1',  # 거래건수만\n",
    "    'objL1': 'ALL',  # 전체 지역\n",
    "    'format': 'json',\n",
    "    'jsonVD': 'Y',\n",
    "    'prdSe': 'M',\n",
    "    'startPrdDe': '202401',\n",
    "    'endPrdDe': '202410',\n",
    "    'orgId': '408',\n",
    "    'tblId': 'DT_408_2006_S0057'\n",
    "}\n",
    "\n",
    "headers = {'User-Agent': 'Mozilla/5.0'}\n",
    "response = requests.get(url, params=params, headers=headers)\n",
    "data = response.json()\n",
    "\n",
    "df = pd.DataFrame(data)\n",
    "\n",
    "# 주요 컬럼\n",
    "# PRD_DE: 기간 (예: 202507)\n",
    "# C1_NM: 지역명 (예: 종로구, 강남구)\n",
    "# ITM_NM: 항목명 (동(호)수, 면적)\n",
    "# DT: 데이터 값\n",
    "\n",
    "# ## 주요컬럼럼\n",
    "# 'C1_NM'\n",
    "# 'PRD_DE' = '날짜'\n",
    "# 'UNIT_NM'='동(호)수'='거래량'"
   ]
  },
  {
   "cell_type": "code",
   "execution_count": 61,
   "id": "d7f07129",
   "metadata": {},
   "outputs": [
    {
     "data": {
      "text/plain": [
       "0       동(호)수\n",
       "1       동(호)수\n",
       "2       동(호)수\n",
       "3       동(호)수\n",
       "4       동(호)수\n",
       "        ...  \n",
       "2815    동(호)수\n",
       "2816    동(호)수\n",
       "2817    동(호)수\n",
       "2818    동(호)수\n",
       "2819    동(호)수\n",
       "Name: UNIT_NM, Length: 2820, dtype: object"
      ]
     },
     "execution_count": 61,
     "metadata": {},
     "output_type": "execute_result"
    }
   ],
   "source": [
    "df['UNIT_NM']"
   ]
  },
  {
   "cell_type": "code",
   "execution_count": null,
   "id": "8fb4a704",
   "metadata": {},
   "outputs": [
    {
     "data": {
      "text/plain": [
       "0       동(호)수\n",
       "1       동(호)수\n",
       "2       동(호)수\n",
       "3       동(호)수\n",
       "4       동(호)수\n",
       "        ...  \n",
       "2815    동(호)수\n",
       "2816    동(호)수\n",
       "2817    동(호)수\n",
       "2818    동(호)수\n",
       "2819    동(호)수\n",
       "Name: ITM_NM, Length: 2820, dtype: object"
      ]
     },
     "execution_count": 62,
     "metadata": {},
     "output_type": "execute_result"
    },
    {
     "ename": "",
     "evalue": "",
     "output_type": "error",
     "traceback": [
      "\u001b[1;31mThe Kernel crashed while executing code in the current cell or a previous cell. \n",
      "\u001b[1;31mPlease review the code in the cell(s) to identify a possible cause of the failure. \n",
      "\u001b[1;31mClick <a href='https://aka.ms/vscodeJupyterKernelCrash'>here</a> for more info. \n",
      "\u001b[1;31mView Jupyter <a href='command:jupyter.viewOutput'>log</a> for further details."
     ]
    }
   ],
   "source": [
    "df['ITM_NM']"
   ]
  },
  {
   "cell_type": "code",
   "execution_count": 59,
   "id": "7d978df9",
   "metadata": {},
   "outputs": [
    {
     "data": {
      "text/plain": [
       "<bound method StringMethods.contains of <pandas.core.strings.accessor.StringMethods object at 0x000001B81CC175C0>>"
      ]
     },
     "execution_count": 59,
     "metadata": {},
     "output_type": "execute_result"
    }
   ],
   "source": [
    "df['UNIT_NM'].str.contains"
   ]
  },
  {
   "cell_type": "code",
   "execution_count": 60,
   "id": "wz1fo5tmy1s",
   "metadata": {},
   "outputs": [
    {
     "name": "stdout",
     "output_type": "stream",
     "text": [
      "       날짜 행정구역  거래량\n",
      "0  202401  송파구  298\n",
      "1  202402  송파구  280\n",
      "2  202403  송파구  358\n",
      "3  202404  송파구  473\n",
      "4  202405  송파구  670\n",
      "5  202406  송파구  569\n",
      "6  202407  송파구  843\n",
      "7  202408  송파구  758\n",
      "8  202409  송파구  629\n",
      "9  202410  송파구  387\n"
     ]
    }
   ],
   "source": [
    "def get_trade_volume(address):\n",
    "    \"\"\"주소에서 구 단위 거래량 조회\"\"\"\n",
    "    # 주소를 공백으로 나눠서 \"구\"로 끝나는 단어 찾기\n",
    "    for word in address.split():\n",
    "        if word.endswith('구'):\n",
    "            district = word\n",
    "            break\n",
    "    \n",
    "    # 해당 구가 포함된 데이터 필터링 (contains 사용)\n",
    "    result = df[df['C1_NM'].str.contains(district)].pivot_table(\n",
    "        index='PRD_DE', # 행을 날짜로로\n",
    "        columns='ITM_NM', # 열을 항목명(ITM_NM)\n",
    "        values='DT', # 값을 DT로(거래량, 면적 숫자)\n",
    "        aggfunc='first' # 값이 여러개면 첫번째만만\n",
    "    ).reset_index()\n",
    "    \n",
    "    # 구 이름 추가\n",
    "    result.insert(1, '행정구역', district) # 1번째 위치(두번째 컬럼) 'C1_NM'을 '행정구역으로로'\n",
    "    result.columns.name = None\n",
    "    \n",
    "    return result.rename(columns={'PRD_DE': '날짜', '동(호)수': '거래량', '면적': '면적(천㎡)'})\n",
    "\n",
    "# 사용 예시\n",
    "address = \"서울 송파구 마천동 299-23\"\n",
    "print(get_trade_volume(address))"
   ]
  },
  {
   "cell_type": "code",
   "execution_count": null,
   "id": "78d092da",
   "metadata": {},
   "outputs": [],
   "source": []
  }
 ],
 "metadata": {
  "kernelspec": {
   "display_name": ".venv",
   "language": "python",
   "name": "python3"
  },
  "language_info": {
   "codemirror_mode": {
    "name": "ipython",
    "version": 3
   },
   "file_extension": ".py",
   "mimetype": "text/x-python",
   "name": "python",
   "nbconvert_exporter": "python",
   "pygments_lexer": "ipython3",
   "version": "3.12.11"
  }
 },
 "nbformat": 4,
 "nbformat_minor": 5
}
