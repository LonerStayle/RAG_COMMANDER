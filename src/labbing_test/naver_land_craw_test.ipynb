{
 "cells": [
  {
   "cell_type": "code",
   "execution_count": 1,
   "id": "ec474e16",
   "metadata": {},
   "outputs": [
    {
     "data": {
      "text/plain": [
       "True"
      ]
     },
     "execution_count": 1,
     "metadata": {},
     "output_type": "execute_result"
    }
   ],
   "source": [
    "from dotenv import load_dotenv\n",
    "load_dotenv()"
   ]
  },
  {
   "cell_type": "code",
   "execution_count": 2,
   "id": "d6e8d838",
   "metadata": {},
   "outputs": [],
   "source": [
    "import requests\n",
    "\n",
    "def fetch_article_list(params: dict) -> list[dict]:\n",
    "    url = \"https://m.land.naver.com/cluster/ajax/articleList\"\n",
    "    s = requests.Session()\n",
    "    s.headers.update({\n",
    "        \"User-Agent\": \"Mozilla/5.0\",\n",
    "        \"Referer\": \"https://m.land.naver.com/\",\n",
    "        \"Accept\": \"application/json, text/plain, */*\",\n",
    "    })\n",
    "    r = s.get(url, params=params, timeout=15)\n",
    "    r.raise_for_status()\n",
    "    data = r.json()\n",
    "\n",
    "    # ── 안전 분기 ──\n",
    "    body = data.get(\"body\")  # ← 지금 케이스에서 존재\n",
    "    if body is None:\n",
    "        # 드물게 전체가 리스트/혹은 다른 래핑으로 올 수 있음\n",
    "        if isinstance(data, list):\n",
    "            items = data\n",
    "        elif isinstance(data, dict):\n",
    "            # articles가 최상위로 오는 변형 케이스\n",
    "            items = data.get(\"articles\", []) or data.get(\"list\", [])\n",
    "        else:\n",
    "            items = []\n",
    "    else:\n",
    "        # body가 리스트 vs 딕셔너리 모두 처리\n",
    "        if isinstance(body, list):\n",
    "            items = body\n",
    "        elif isinstance(body, dict):\n",
    "            items = body.get(\"articles\") or body.get(\"list\") or []\n",
    "        else:\n",
    "            items = []\n",
    "\n",
    "    return items, data.get(\"more\"), data.get(\"page\")\n",
    "\n",
    "# 예시 파라미터\n",
    "params = {\n",
    "    \"rletTpCd\": \"APT\",            # APT/OPST/GM …\n",
    "    \"tradTpCd\": \"A1:B1:B2\",       # A1=매매, B1=전세, B2=월세\n",
    "    \"z\": \"17\",\n",
    "    \"lat\": \"37.4979\",\n",
    "    \"lon\": \"127.0276\",\n",
    "    # 필요시: \"cortarNo\": \"1168000000\",\n",
    "    \"page\": \"1\",\n",
    "}\n",
    "\n",
    "items, more, page = fetch_article_list(params)\n",
    "\n",
    "# 필드가 자주 바뀌므로 키 존재 체크\n",
    "for it in items:\n",
    "    atcl_no = it.get(\"atclNo\") or it.get(\"articleNo\")\n",
    "    name    = it.get(\"atclNm\") or it.get(\"articleName\")\n",
    "    price   = it.get(\"prc\")    or it.get(\"priceString\")\n",
    "    floor   = it.get(\"flrInfo\") or it.get(\"floorInfo\")\n",
    "    realtor = it.get(\"rltrNm\") or it.get(\"realtorName\")\n",
    "    print(atcl_no, name, price, floor, realtor)\n"
   ]
  },
  {
   "cell_type": "code",
   "execution_count": 11,
   "id": "b5f138c1",
   "metadata": {},
   "outputs": [
    {
     "name": "stdout",
     "output_type": "stream",
     "text": [
      "<class 'list'>\n",
      "그룹 개수: 5500\n"
     ]
    }
   ],
   "source": [
    "import requests, math, time, random\n",
    "\n",
    "S = requests.Session()\n",
    "S.headers.update({\n",
    "    \"User-Agent\": \"Mozilla/5.0\",\n",
    "    \"Referer\": \"https://m.land.naver.com/\",\n",
    "    \"Accept\": \"application/json, text/plain, */*\",\n",
    "})\n",
    "\n",
    "params = {\n",
    "    \"view\": \"atcl\",\n",
    "    \"rletTpCd\": \"APT\",              # 아파트\n",
    "    \"tradTpCd\": \"A1:B1:B2\",         # 매매/전세/월세\n",
    "    \"z\": \"17\",\n",
    "    \"lat\": \"37.4979\",\n",
    "    \"lon\": \"127.0276\",\n",
    "    \"cortarNo\": \"1168000000\",       # (선택) 강남구 예시\n",
    "    # 지도 bbox를 넣으면 더 정확함:\n",
    "    # \"btm\": \"...\", \"lft\": \"...\", \"top\": \"...\", \"rgt\": \"...\"\n",
    "}\n",
    "\n",
    "\n",
    "\n",
    "\n",
    "CLUSTER_URL = \"https://m.land.naver.com/cluster/clusterList\"\n",
    "r = S.get(CLUSTER_URL, params=params, timeout=15)\n",
    "r.raise_for_status()\n",
    "cl = r.json()\n",
    "# 클러스터에서 그룹(버블) 꺼내기\n",
    "groups = (cl.get(\"data\") or {}).get(\"ARTICLE\") or []\n",
    "\n",
    "for i in range(10):\n",
    "    CLUSTER_URL = \"https://m.land.naver.com/cluster/clusterList\"\n",
    "    r2 = S.get(CLUSTER_URL, params=params, timeout=15)\n",
    "    r2.raise_for_status()\n",
    "    cl2 = r2.json()\n",
    "    groups.extend((cl2.get(\"data\") or {}).get(\"ARTICLE\") or [])\n",
    "\n",
    "\n",
    "print(type(groups))\n",
    "print(\"그룹 개수:\", len(groups))"
   ]
  },
  {
   "cell_type": "code",
   "execution_count": 12,
   "id": "73a4e461",
   "metadata": {},
   "outputs": [
    {
     "data": {
      "text/plain": [
       "[{'lgeo': '2122110120210',\n",
       "  'count': 166,\n",
       "  'z': 17,\n",
       "  'lat': 37.52001953,\n",
       "  'lon': 127.05923462,\n",
       "  'psr': 0.8,\n",
       "  'tourExist': True},\n",
       " {'lgeo': '2122110122000',\n",
       "  'count': 123,\n",
       "  'z': 17,\n",
       "  'lat': 37.52402344,\n",
       "  'lon': 127.05726318,\n",
       "  'psr': 0.8,\n",
       "  'tourExist': False},\n",

       " ...]"
      ]
     },
     "execution_count": 12,
     "metadata": {},
     "output_type": "execute_result"
    }
   ],
   "source": [
    "groups"
   ]
  },
  {
   "cell_type": "code",
   "execution_count": null,
   "id": "8de55ba9",
   "metadata": {},
   "outputs": [
    {
     "name": "stdout",
     "output_type": "stream",
     "text": [

     ]
    }
   ],
   "source": [
    "ART_URL = \"https://m.land.naver.com/cluster/ajax/articleList\"\n",
    "all_items = []\n",
    "\n",
    "for g in groups[:2]:\n",
    "    lgeo  = g[\"lgeo\"]     # ← 그룹 식별자 (중요)\n",
    "    count = int(g[\"count\"])\n",
    "    z2    = g[\"z\"]\n",
    "    lat2  = g[\"lat\"]\n",
    "    lon2  = g[\"lon\"]\n",
    "\n",
    "    pages = max(1, math.ceil(count / 20))   # 네이버가 20개 단위 반환\n",
    "\n",
    "    for page in range(1, pages + 1):\n",
    "        q = {\n",
    "            \"itemId\": lgeo,         # = lgeo\n",
    "            \"mapKey\": \"\",\n",
    "            \"lgeo\": lgeo,\n",
    "            \"showR0\": \"\",\n",
    "            \"rletTpCd\": params[\"rletTpCd\"],\n",
    "            \"tradTpCd\": params[\"tradTpCd\"],\n",
    "            \"z\": z2,\n",
    "            \"lat\": lat2,\n",
    "            \"lon\": lon2,\n",
    "            \"totCnt\": count,        # 그룹 총개수(중요)\n",
    "            \"cortarNo\": params.get(\"cortarNo\", \"\"),\n",
    "            \"page\": str(page),\n",
    "        }\n",
    "        rr = S.get(ART_URL, params=q, timeout=15)\n",
    "        rr.raise_for_status()\n",
    "        try:\n",
    "            data = rr.json()\n",
    "\n",
    "            # 응답 래핑 표준화\n",
    "            body = data.get(\"body\")\n",
    "            if isinstance(body, list):\n",
    "                items = body\n",
    "            elif isinstance(body, dict):\n",
    "                items = body.get(\"articles\") or body.get(\"list\") or []\n",
    "            else:\n",
    "                items = data if isinstance(data, list) else data.get(\"articles\", [])\n",
    "\n",
    "            all_items.extend(items)\n",
    "            time.sleep(random.uniform(0.8, 1.6))\n",
    "        except : \n",
    "            continue\n",
    "\n",
    "print(\"수집 매물 수:\", len(all_items))\n",
    "# 필드 예시 출력\n",
    "for it in all_items[:5]:\n",
    "    print(\n",
    "        it.get(\"atclNo\") or it.get(\"articleNo\"),\n",
    "        it.get(\"atclNm\") or it.get(\"articleName\"),\n",
    "        it.get(\"prc\") or it.get(\"priceString\"),\n",
    "        it.get(\"flrInfo\") or it.get(\"floorInfo\"),\n",
    "        it.get(\"rltrNm\") or it.get(\"realtorName\"),\n",
    "    )"
   ]
  },
  {
   "cell_type": "code",
   "execution_count": null,
<<<<<<< HEAD
   "id": "0f5656b2",
   "metadata": {},
   "outputs": [],
   "source": []
  },
  {
   "cell_type": "code",
   "execution_count": 6,
=======
>>>>>>> f6af081 (add)
   "id": "dad38eca",
   "metadata": {},
   "outputs": [
    {
     "data": {
      "text/plain": [
<<<<<<< HEAD
       "289"
      ]
     },
     "execution_count": 6,
=======
       "715"
      ]
     },
     "execution_count": 14,
>>>>>>> f6af081 (add)
     "metadata": {},
     "output_type": "execute_result"
    }
   ],
   "source": [
    "len(all_items[0])"
   ]
  },
  {
   "cell_type": "code",
<<<<<<< HEAD
   "execution_count": 7,
   "id": "9d164ec1",
   "metadata": {},
   "outputs": [
    {
     "name": "stdout",
     "output_type": "stream",
     "text": [
      "2556296016 아크로삼성 580000 5/25 청담럭스공인중개사사무소\n",
      "2555322289 아크로삼성 150000 22/25 오성공인중개사\n",
      "2555148713 아크로삼성 800000 14/25 오성공인중개사\n",
      "2554576675 아크로삼성 300000 11/25 (정문앞)청담디엘로공인중개사사무소\n",
      "2554938130 아크로삼성 210000 13/25 타임부동산공인중개사사무소\n",
      "2554889129 아크로삼성 250000 14/25 오성공인중개사\n",
      "2554585467 아크로삼성 50000 24/25 (정문앞)청담디엘로공인중개사사무소\n",
      "2554576410 아크로삼성 430000 11/25 (정문앞)청담디엘로공인중개사사무소\n",
      "2554584923 아크로삼성 30000 10/25 (정문앞)청담디엘로공인중개사사무소\n",
      "2554584178 아크로삼성 200000 10/25 (정문앞)청담디엘로공인중개사사무소\n",
      "2553166604 아크로삼성 480000 23/25 청담럭스공인중개사사무소\n",
      "2555720655 아크로삼성 190000 고/25 청담정공인중개사사무소\n",
      "2555417793 아크로삼성 230000 고/25 청담정공인중개사사무소\n",
      "2551586573 아크로삼성 600000 5/25 청담럭스공인중개사사무소\n",
      "2552137151 아크로삼성 190000 13/25 르엘(541-7774)단지앞공인중개사사무소\n",
      "2551388709 아크로삼성 450000 18/25 청담럭스공인중개사사무소\n",
      "2551467525 아크로삼성 100000 25/25 청담정공인중개사사무소\n",
      "2551676486 아크로삼성 160000 저/25 (주)부동산중개법인햄튼\n",
      "2555766780 아크로삼성 300000 23/25 청담르엘단지앞 라움공인중개사사무소\n",
      "2556755251 아크로삼성 100000 고/25 리가공인중개사사무소\n",
      "2556377727 아크로삼성 50000 중/25 청담율공인중개사사무소\n",
      "2556812697 아크로삼성 100000 9/25 우리부동산공인중개사사무소\n",
      "2556921597 아크로삼성 1200000 22/25 청담정공인중개사사무소\n",
      "2556553775 아크로삼성 1000000 8/25 하나르엘청담공인중개사사무소\n",
      "2555955609 아크로삼성 550000 고/25 한강부동산공인중개사사무소\n",
      "2555827674 아크로삼성 680000 고/25 한강부동산공인중개사사무소\n",
      "2555493551 아크로삼성 20000 저/25 아크로삼성공인중개사사무소\n",
      "2555485168 아크로삼성 230000 저/25 아크로삼성공인중개사사무소\n",
      "2555633417 아크로삼성 30000 8/25 청담율공인중개사사무소\n",
      "2556787581 아크로삼성 30000 중/25 강남청담공인중개사사무소\n",
      "2556784948 아크로삼성 20000 중/25 강남청담공인중개사사무소\n",
      "2556842160 아크로삼성 100000 중/25 청담율공인중개사사무소\n",
      "2556835117 아크로삼성 30000 중/25 청담율공인중개사사무소\n",
      "2556809332 아크로삼성 60000 중/25 청담율공인중개사사무소\n",
      "2556618821 아크로삼성 80000 중/25 청담율공인중개사사무소\n",
      "2556671105 아크로삼성 20000 고/25 청담율공인중개사사무소\n",
      "2556672508 아크로삼성 580000 저/25 청담율공인중개사사무소\n",
      "2556670212 아크로삼성 545000 중/25 청담율공인중개사사무소\n",
      "2556620776 아크로삼성 30000 고/25 청담율공인중개사사무소\n",
      "2555649079 아크로삼성 550000 9/25 청담럭스공인중개사사무소\n",
      "2556755052 아크로삼성 450000 고/25 리가공인중개사사무소\n",
      "2556755064 아크로삼성 300000 고/25 리가공인중개사사무소\n",
      "2556788760 아크로삼성 180000 중/25 삼성르엘공인중개사사무소\n",
      "2556614617 아크로삼성 250000 고/25 삼성르엘공인중개사사무소\n",
      "2556635198 아크로삼성 630000 고/25 정문부동산중개사무소\n",
      "2556706779 아크로삼성 40000 저/25 청담르엘정문공인중개사사무소\n",
      "2556707710 아크로삼성 50000 중/25 청담르엘정문공인중개사사무소\n",
      "2556655225 아크로삼성 50000 저/25 정문부동산중개사무소\n",
      "2556638395 아크로삼성 30000 고/25 정문부동산중개사무소\n",
      "2554942931 아크로삼성 210000 9/25 타임부동산공인중개사사무소\n",
      "2556437930 아크로삼성 580000 저/25 삼성르엘공인중개사사무소\n",
      "2556269272 아크로삼성 100000 저/25 주식회사부동산중개법인재우\n",
      "2556416605 아크로삼성 199000 고/25 단지내공인중개사사무소\n",
      "2556327512 아크로삼성 250000 중/25 삼성르엘공인중개사사무소\n",
      "2556439162 아크로삼성 180000 저/25 삼성르엘공인중개사사무소\n",
      "2556175138 아크로삼성 50000 중/25 삼성공인중개사사무소\n",
      "2556438289 아크로삼성 1000000 중/25 삼성르엘공인중개사사무소\n",
      "2556326797 아크로삼성 190000 고/25 삼성르엘공인중개사사무소\n",
      "2556440440 아크로삼성 350000 중/25 삼성르엘공인중개사사무소\n",
      "2556380304 아크로삼성 190000 고/25 리움공인중개사사무소\n",
      "2556296769 아크로삼성 545000 중/25 토마토공인중개사사무소\n",
      "2555998679 아크로삼성 120000 고/25 삼성공인중개사사무소\n",
      "2556119003 아크로삼성 550000 저/25 청담참조은(단지내)공인중개사사무소\n",
      "2556148493 아크로삼성 125000 중/25 타임부동산공인중개사사무소\n",
      "2556050585 아크로삼성 130000 고/25 삼성르엘공인중개사사무소\n",
      "2556106646 아크로삼성 180000 고/25 청담참조은(단지내)공인중개사사무소\n",
      "2556051055 아크로삼성 180000 고/25 삼성르엘공인중개사사무소\n",
      "2554481427 아크로삼성 670000 25/25 아셈공인중개사\n",
      "2555960396 아크로삼성 180000 중/25 삼성공인중개사사무소\n",
      "2555961605 아크로삼성 190000 고/25 삼성공인중개사사무소\n",
      "2555859925 아크로삼성 100000 저/25 청담정공인중개사사무소\n",
      "2555970454 아크로삼성 100000 중/25 삼성공인중개사사무소\n",
      "2555965983 아크로삼성 175000 저/25 삼성공인중개사사무소\n",
      "2555914228 아크로삼성 600000 저/25 삼성르엘공인중개사사무소\n",
      "2555915352 아크로삼성 90000 저/25 삼성르엘공인중개사사무소\n",
      "2555857114 아크로삼성 180000 중/25 정문부동산중개사무소\n",
      "2555866466 아크로삼성 150000 중/25 삼성르엘공인중개사사무소\n",
      "2555654807 아크로삼성 160000 저/25 청담더리치공인중개사사무소\n",
      "2555639642 아크로삼성 180000 고/25 청담더리치공인중개사사무소\n",
      "2555719948 아크로삼성 200000 중/25 르엘더샤인공인중개사사무소\n",
      "2555478345 아크로삼성 760000 저/25 정문부동산중개사무소\n",
      "2555474680 아크로삼성 175000 고/25 정문부동산중개사무소\n",
      "2555473441 아크로삼성 460000 저/25 정문부동산중개사무소\n",
      "2555387532 아크로삼성 100000 고/25 삼성르엘공인중개사사무소\n",
      "2555718877 아크로삼성 20000 저/25 글로니공인중개사사무소\n",
      "2555708152 아크로삼성 20000 저/25 중앙공인중개사사무소\n",
      "2555388920 아크로삼성 300000 중/25 삼성르엘공인중개사사무소\n",
      "2555691325 아크로삼성 429000 중/25 길공인중개사사무소\n",
      "2555456930 아크로삼성 200000 고/25 르엘(541-7774)단지앞공인중개사사무소\n",
      "2555418368 아크로삼성 100000 중/25 타임부동산공인중개사사무소\n",
      "2554998630 아크로삼성 100000 저/25 정문부동산중개사무소\n",
      "2555090107 아크로삼성 100000 고/25 삼성르엘공인중개사사무소\n",
      "2555093423 아크로삼성 150000 중/25 삼성르엘공인중개사사무소\n",
      "2554779937 아크로삼성 1000000 중/25 삼성르엘공인중개사사무소\n",
      "2554766255 아크로삼성 210000 저/25 삼성르엘공인중개사사무소\n",
      "2554767047 아크로삼성 250000 고/25 삼성르엘공인중개사사무소\n",
      "2554945902 아크로삼성 600000 저/25 타임부동산공인중개사사무소\n",
      "2554785048 아크로삼성 550000 중/25 삼성르엘공인중개사사무소\n",
      "2554939603 아크로삼성 210000 중/25 타임부동산공인중개사사무소\n",
      "2555143800 아크로삼성 100000 고/25 힐스테이트공인중개사사무소\n"
     ]
    }
   ],
=======
   "execution_count": null,
   "id": "9d164ec1",
   "metadata": {},
   "outputs": [],
>>>>>>> f6af081 (add)
   "source": [
    "for it in all_items[:100]:\n",
    "    print(\n",
    "        it.get(\"atclNo\") or it.get(\"articleNo\"),\n",
    "        it.get(\"atclNm\") or it.get(\"articleName\"),\n",
    "        it.get(\"prc\") or it.get(\"priceString\"),\n",
    "        it.get(\"flrInfo\") or it.get(\"floorInfo\"),\n",
    "        it.get(\"rltrNm\") or it.get(\"realtorName\"),\n",
    "    )"
   ]
  },
  {
   "cell_type": "code",
<<<<<<< HEAD
   "execution_count": 9,
   "id": "b4673414",
   "metadata": {},
   "outputs": [
    {
     "data": {
      "text/plain": [
       "{'atclNo': '2556296016',\n",
       " 'cortarNo': '1168010500',\n",
       " 'atclNm': '아크로삼성',\n",
       " 'atclStatCd': 'R0',\n",
       " 'rletTpCd': 'A01',\n",
       " 'uprRletTpCd': 'A01',\n",
       " 'rletTpNm': '아파트',\n",
       " 'tradTpCd': 'A1',\n",
       " 'tradTpNm': '매매',\n",
       " 'vrfcTpCd': 'S_VR',\n",
       " 'flrInfo': '5/25',\n",
       " 'prc': 580000,\n",
       " 'rentPrc': 0,\n",
       " 'hanPrc': '58억',\n",
       " 'spc1': '132',\n",
       " 'spc2': '104.94',\n",
       " 'direction': '남동향',\n",
       " 'atclCfmYmd': '25.10.21.',\n",
       " 'repImgUrl': '/20251021_253/1761040981517bsPBd_JPEG/df4d6f759ca6c6b9f467b084524bb689.JPG',\n",
       " 'repImgTpCd': 'SITE',\n",
       " 'repImgThumb': 'f130_98',\n",
       " 'lat': 37.520241,\n",
       " 'lng': 127.059603,\n",
       " 'tagList': ['2년이내', '역세권', '대형평수'],\n",
       " 'bildNm': '102동',\n",
       " 'minute': 0,\n",
       " 'sameAddrCnt': 16,\n",
       " 'sameAddrDirectCnt': 0,\n",
       " 'sameAddrHash': '23A01A1Ne1e1a6fca327ac1a64529cac643500e3c8816a0aff9d6198c7a58fbd04a60050',\n",
       " 'sameAddrMaxPrc': '60억',\n",
       " 'sameAddrMinPrc': '58억',\n",
       " 'cpid': 'bizmk',\n",
       " 'cpNm': '매경부동산',\n",
       " 'cpCnt': 2,\n",
       " 'rltrNm': '청담럭스공인중개사사무소',\n",
       " 'directTradYn': 'N',\n",
       " 'minMviFee': 0,\n",
       " 'maxMviFee': 0,\n",
       " 'etRoomCnt': 0,\n",
       " 'tradePriceHan': '',\n",
       " 'tradeRentPrice': 0,\n",
       " 'tradeCheckedByOwner': False,\n",
       " 'cpLinkVO': {'cpId': 'bizmk',\n",
       "  'mobileArticleLinkTypeCode': 'NONE',\n",
       "  'mobileBmsInspectPassYn': 'Y',\n",
       "  'pcArticleLinkUseAtArticleTitle': False,\n",
       "  'pcArticleLinkUseAtCpName': False,\n",
       "  'mobileArticleLinkUseAtArticleTitle': False,\n",
       "  'mobileArticleLinkUseAtCpName': False},\n",
       " 'dtlAddrYn': 'N',\n",
       " 'dtlAddr': '',\n",
       " 'isVrExposed': True,\n",
       " 'vrUrl': 'https://fin.land.naver.comnull',\n",
       " 'isSafeLessorOfHug': False}"
      ]
     },
     "execution_count": 9,
     "metadata": {},
     "output_type": "execute_result"
    }
   ],
   "source": [
    "all_items[0]"
   ]
  },
  {
   "cell_type": "code",
   "execution_count": null,
=======
   "execution_count": 17,
>>>>>>> f6af081 (add)
   "id": "fa3dd43c",
   "metadata": {},
   "outputs": [
    {
     "data": {
      "text/plain": [
       "{'atclNo': '2555466323',\n",
       " 'cortarNo': '1168010500',\n",
       " 'atclNm': '삼성힐스테이트1단지',\n",
       " 'atclStatCd': 'R0',\n",
       " 'rletTpCd': 'A01',\n",
       " 'uprRletTpCd': 'A01',\n",
       " 'rletTpNm': '아파트',\n",
       " 'tradTpCd': 'A1',\n",
       " 'tradTpNm': '매매',\n",
       " 'vrfcTpCd': 'DOC',\n",
       " 'flrInfo': '저/23',\n",
       " 'prc': 350000,\n",
       " 'rentPrc': 0,\n",
       " 'hanPrc': '35억',\n",
       " 'spc1': '109',\n",
       " 'spc2': '84.41',\n",
       " 'direction': '남서향',\n",
       " 'atclCfmYmd': '25.10.17.',\n",
       " 'lat': 37.516439,\n",
       " 'lng': 127.047424,\n",
       " 'atclFetrDesc': '채광 좋고 내부 상태 매우 좋습니다',\n",
       " 'tagList': ['25년이내', '역세권', '대단지', '방세개'],\n",
       " 'bildNm': '102동',\n",
       " 'minute': 0,\n",
       " 'sameAddrCnt': 1,\n",
       " 'sameAddrDirectCnt': 0,\n",
       " 'cpid': 'bizmk',\n",
       " 'cpNm': '매경부동산',\n",
       " 'cpCnt': 1,\n",
       " 'rltrNm': '매일공인중개사사무소',\n",
       " 'directTradYn': 'N',\n",
       " 'minMviFee': 0,\n",
       " 'maxMviFee': 0,\n",
       " 'etRoomCnt': 0,\n",
       " 'tradePriceHan': '',\n",
       " 'tradeRentPrice': 0,\n",
       " 'tradeCheckedByOwner': False,\n",
       " 'cpLinkVO': {'cpId': 'bizmk',\n",
       "  'mobileArticleLinkTypeCode': 'NONE',\n",
       "  'mobileBmsInspectPassYn': 'Y',\n",
       "  'pcArticleLinkUseAtArticleTitle': False,\n",
       "  'pcArticleLinkUseAtCpName': False,\n",
       "  'mobileArticleLinkUseAtArticleTitle': False,\n",
       "  'mobileArticleLinkUseAtCpName': False},\n",
       " 'dtlAddrYn': 'N',\n",
       " 'dtlAddr': '',\n",
       " 'isVrExposed': False,\n",
       " 'isSafeLessorOfHug': False}"
      ]
     },
     "execution_count": 17,
     "metadata": {},
     "output_type": "execute_result"
    }
   ],
   "source": [
    "all_items[0]"
   ]
  },
  {
   "cell_type": "code",
   "execution_count": null,
   "id": "3d455359",
   "metadata": {},
   "outputs": [],
   "source": []
  }
 ],
 "metadata": {
  "kernelspec": {
   "display_name": "RAG_COMMANDER",
   "language": "python",
   "name": "python3"
  },
  "language_info": {
   "codemirror_mode": {
    "name": "ipython",
    "version": 3
   },
   "file_extension": ".py",
   "mimetype": "text/x-python",
   "name": "python",
   "nbconvert_exporter": "python",
   "pygments_lexer": "ipython3",
   "version": "3.12.11"
  }
 },
 "nbformat": 4,
 "nbformat_minor": 5
}
