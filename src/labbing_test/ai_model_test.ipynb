{
 "cells": [
  {
   "cell_type": "code",
   "execution_count": 1,
   "id": "efd5e72e",
   "metadata": {},
   "outputs": [
    {
     "data": {
      "text/plain": [
       "True"
      ]
     },
     "execution_count": 1,
     "metadata": {},
     "output_type": "execute_result"
    }
   ],
   "source": [
    "import torch\n",
    "torch.cuda.is_available()"
   ]
  },
  {
   "cell_type": "code",
   "execution_count": null,
   "id": "6e2fcc6f",
   "metadata": {},
   "outputs": [
    {
     "name": "stderr",
     "output_type": "stream",
     "text": [
      "c:\\PythonProject\\RAG_COMMANDER\\.venv\\Lib\\site-packages\\tqdm\\auto.py:21: TqdmWarning: IProgress not found. Please update jupyter and ipywidgets. See https://ipywidgets.readthedocs.io/en/stable/user_install.html\n",
      "  from .autonotebook import tqdm as notebook_tqdm\n",
      "Loading checkpoint shards: 100%|██████████| 3/3 [00:30<00:00, 10.01s/it]\n",
      "The following generation flags are not valid and may be ignored: ['temperature']. Set `TRANSFORMERS_VERBOSITY=info` for more details.\n"
     ]
    },
    {
     "name": "stdout",
     "output_type": "stream",
     "text": [
      "2025년 서울 강남구 부동산 입지 전망을 분석해줘.\n",
      "\n",
      "### 1. 시장 동향\n",
      "- 최근 3년간의 강남구의 부동산 시장 동향\n",
      "- 강남구의 주요 개발 계획 및 정책\n",
      "\n",
      "### 2. 수요와 공급\n",
      "- 강남구의 주택 수요와 공급 현황\n",
      "- 향후 5년간의 주택 수요 예측\n",
      "\n",
      "### 3. 투자 가치\n",
      "- 강남구의 부동산 투자 가치 평가\n",
      "- 주요 투자 포인트 및 리스크\n",
      "\n",
      "### 4. 결론\n",
      "- 강남구의 부동산 시장 전망 요약\n",
      "\n",
      "---\n",
      "\n",
      "### 1. 시장 동향\n",
      "\n",
      "#### 최근 3년간의 강남구의 부동산 시장 동향\n",
      "- **2021년**: 코로나19 팬데믹으로 인한 경기 침체로 인해 강남구의 부동산 시장은 상대적으로 안정세를 유지. 그러나, 저금리 기조와 유동성 증가로 인해 일부 고가 주택 시장은 상승세를 보임.\n",
      "- **2022년**: 금리 인상과 경기 불확실성 증가로 인해 부동산 시장이 전반적으로 위축. 그러나, 강남구는 여전히 높은 수요와 가격 안정성을 유지. 특히, 재건축 및 재개발 지역의 부동산 가치는 상승.\n",
      "- **\n"
     ]
    }
   ],
   "source": [
    "from transformers import AutoModelForCausalLM, AutoTokenizer, BitsAndBytesConfig\n",
    "import torch\n",
    "\n",
    "model_name = \"skt/A.X-4.0-Light\"  # 실제 라이트 버전 이름으로 바꿔주세요\n",
    "bnb_config = BitsAndBytesConfig(\n",
    "    load_in_4bit=True,           # 4bit quantization\n",
    "    bnb_4bit_compute_dtype=torch.float16,\n",
    "    bnb_4bit_use_double_quant=True,\n",
    "    bnb_4bit_quant_type=\"nf4\"\n",
    ")\n",
    "\n",
    "tokenizer = AutoTokenizer.from_pretrained(model_name)\n",
    "model = AutoModelForCausalLM.from_pretrained(model_name, quantization_config=bnb_config, device_map=\"auto\")\n",
    "model     = model.to(\"cuda\")  # GPU 사용 시. CPU라면 \"cpu\"로\n",
    "\n",
    "prompt = \"2025년 서울 강남구 부동산 입지 전망을 분석해줘.\"\n",
    "inputs = tokenizer(prompt, return_tensors=\"pt\").to(model.device)\n",
    "outputs = model.generate(**inputs, max_new_tokens=200, temperature=0)\n",
    "print(tokenizer.decode(outputs[0], skip_special_tokens=True))"
   ]
  },
  {
   "cell_type": "code",
   "execution_count": 3,
   "id": "e5873724",
   "metadata": {},
   "outputs": [
    {
     "name": "stdout",
     "output_type": "stream",
     "text": [
      "2025년 서울 강남구 부동산 입지 전망을 분석해줘.\n",
      "\n",
      "### 1. 시장 동향\n",
      "- 최근 3년간의 강남구의 부동산 시장 동향\n",
      "- 강남구의 주요 개발 계획 및 정책\n",
      "\n",
      "### 2. 수요와 공급\n",
      "- 강남구의 주택 수요와 공급 현황\n",
      "- 향후 5년간의 주택 수요 예측\n",
      "\n",
      "### 3. 투자 가치\n",
      "- 강남구의 부동산 투자 가치 평가\n",
      "- 주요 투자 포인트 및 리스크\n",
      "\n",
      "### 4. 결론\n",
      "- 강남구의 부동산 시장 전망 요약\n",
      "\n",
      "---\n",
      "\n",
      "### 1. 시장 동향\n",
      "\n",
      "#### 최근 3년간의 강남구의 부동산 시장 동향\n",
      "- **2021년**: 코로나19 팬데믹으로 인한 경기 침체로 인해 강남구의 부동산 시장은 상대적으로 안정세를 유지. 그러나, 저금리 기조와 유동성 증가로 인해 일부 고가 주택 시장은 상승세를 보임.\n",
      "- **2022년**: 금리 인상과 경기 불확실성 증가로 인해 부동산 시장이 전반적으로 위축. 그러나, 강남구는 여전히 높은 수요와 가격 안정성을 유지. 특히, 재건축 및 재개발 지역의 부동산 가치는 상승.\n",
      "- **\n"
     ]
    }
   ],
   "source": [
    "print(tokenizer.decode(outputs[0], skip_special_tokens=True))"
   ]
  },
  {
   "cell_type": "code",
   "execution_count": null,
   "id": "ed35b177",
   "metadata": {},
   "outputs": [],
   "source": []
  }
 ],
 "metadata": {
  "kernelspec": {
   "display_name": "RAG_COMMANDER",
   "language": "python",
   "name": "python3"
  },
  "language_info": {
   "codemirror_mode": {
    "name": "ipython",
    "version": 3
   },
   "file_extension": ".py",
   "mimetype": "text/x-python",
   "name": "python",
   "nbconvert_exporter": "python",
   "pygments_lexer": "ipython3",
   "version": "3.12.11"
  }
 },
 "nbformat": 4,
 "nbformat_minor": 5
}
