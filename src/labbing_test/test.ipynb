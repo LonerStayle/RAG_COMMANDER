{
 "cells": [
  {
   "cell_type": "code",
   "execution_count": 14,
   "id": "74a9cfc5",
   "metadata": {},
   "outputs": [],
   "source": [
    "import sys\n",
    "sys.path.append(\"..\")"
   ]
  },
  {
   "cell_type": "code",
   "execution_count": 15,
   "id": "ffb8ec86",
   "metadata": {},
   "outputs": [
    {
     "name": "stdout",
     "output_type": "stream",
     "text": [
      "C:\\PythonProject\\RAG_COMMANDER\\src\\labbing_test\n"
     ]
    }
   ],
   "source": [
    "from pathlib import Path\n",
    "\n",
    "root_path = Path().resolve()\n",
    "print(root_path)"
   ]
  },
  {
   "cell_type": "code",
   "execution_count": 16,
   "id": "cc3c9d74",
   "metadata": {},
   "outputs": [
    {
     "data": {
      "text/plain": [
       "WindowsPath('C:/PythonProject/RAG_COMMANDER')"
      ]
     },
     "execution_count": 16,
     "metadata": {},
     "output_type": "execute_result"
    }
   ],
   "source": [
    "from utils.util import get_project_root\n",
    "get_project_root()"
   ]
  },
  {
   "cell_type": "code",
   "execution_count": 17,
   "id": "3e12ab61",
   "metadata": {},
   "outputs": [
    {
     "data": {
      "text/plain": [
       "'C:\\\\PythonProject\\\\RAG_COMMANDER\\\\src\\\\prompts\\\\main_prompts.yaml'"
      ]
     },
     "execution_count": 17,
     "metadata": {},
     "output_type": "execute_result"
    }
   ],
   "source": [
    "from prompts import PromptType\n",
    "PromptType.SYSTEM_MAIN.path"
   ]
  },
  {
   "cell_type": "code",
   "execution_count": null,
   "id": "0a7516b8",
   "metadata": {},
   "outputs": [],
   "source": []
  },
  {
   "cell_type": "code",
   "execution_count": null,
   "id": "9853ce34",
   "metadata": {},
   "outputs": [],
   "source": []
  }
 ],
 "metadata": {
  "kernelspec": {
   "display_name": "RAG_COMMANDER",
   "language": "python",
   "name": "python3"
  },
  "language_info": {
   "codemirror_mode": {
    "name": "ipython",
    "version": 3
   },
   "file_extension": ".py",
   "mimetype": "text/x-python",
   "name": "python",
   "nbconvert_exporter": "python",
   "pygments_lexer": "ipython3",
   "version": "3.12.11"
  }
 },
 "nbformat": 4,
 "nbformat_minor": 5
}
