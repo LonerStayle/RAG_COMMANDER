{
 "cells": [
  {
   "cell_type": "code",
   "execution_count": 2,
   "id": "68e8b93a",
   "metadata": {},
   "outputs": [],
   "source": [
    "from dotenv import load_dotenv\n",
    "load_dotenv()\n",
    "import sys \n",
    "sys.path.append(\"..\")"
   ]
  },
  {
   "cell_type": "code",
   "execution_count": 4,
   "id": "d334827d",
   "metadata": {},
   "outputs": [
    {
     "name": "stdout",
     "output_type": "stream",
     "text": [
      "DoclingLoader 사용\n"
     ]
    },
    {
     "name": "stderr",
     "output_type": "stream",
     "text": [
      "2025-10-20 23:44:19,342 - INFO - detected formats: [<InputFormat.PDF: 'pdf'>]\n",
      "2025-10-20 23:44:19,401 - INFO - Going to convert document batch...\n",
      "2025-10-20 23:44:19,401 - INFO - Initializing pipeline for StandardPdfPipeline with options hash 4f2edc0f7d9bb60b38ebfecf9a2609f5\n",
      "2025-10-20 23:44:19,424 - INFO - Loading plugin 'docling_defaults'\n",
      "2025-10-20 23:44:19,425 - WARNING - The plugin langchain_docling will not be loaded because Docling is being executed with allow_external_plugins=false.\n",
      "2025-10-20 23:44:19,425 - INFO - Registered picture descriptions: ['vlm', 'api']\n",
      "2025-10-20 23:44:19,429 - INFO - Loading plugin 'docling_defaults'\n",
      "2025-10-20 23:44:19,431 - WARNING - The plugin langchain_docling will not be loaded because Docling is being executed with allow_external_plugins=false.\n",
      "2025-10-20 23:44:19,431 - INFO - Registered ocr engines: ['auto', 'easyocr', 'ocrmac', 'rapidocr', 'tesserocr', 'tesseract']\n",
      "2025-10-20 23:44:19,969 - INFO - Auto OCR model selected ocrmac.\n",
      "2025-10-20 23:44:19,986 - INFO - Accelerator device: 'mps'\n",
      "2025-10-20 23:44:31,319 - INFO - Accelerator device: 'mps'\n",
      "2025-10-20 23:44:31,838 - INFO - Processing document 2024 주택청약 FAQ.pdf\n",
      "2025-10-20 23:45:52,378 - WARNING - Encountered an error during conversion of document 76675664fff92b440d6d912d00f900b66cfa65a4073500e8d60a11a3197fc24c:\n",
      "Traceback (most recent call last):\n",
      "\n",
      "  File \"/Users/seobi/PythonProjects/RAG_Commander/.venv/lib/python3.11/site-packages/docling/pipeline/base_pipeline.py\", line 230, in _build_document\n",
      "    for p in pipeline_pages:  # Must exhaust!\n",
      "\n",
      "  File \"/Users/seobi/PythonProjects/RAG_Commander/.venv/lib/python3.11/site-packages/docling/pipeline/base_pipeline.py\", line 195, in _apply_on_pages\n",
      "    yield from page_batch\n",
      "\n",
      "  File \"/Users/seobi/PythonProjects/RAG_Commander/.venv/lib/python3.11/site-packages/docling/models/page_assemble_model.py\", line 70, in __call__\n",
      "    for page in page_batch:\n",
      "\n",
      "  File \"/Users/seobi/PythonProjects/RAG_Commander/.venv/lib/python3.11/site-packages/docling/models/table_structure_model.py\", line 177, in __call__\n",
      "    for page in page_batch:\n",
      "\n",
      "  File \"/Users/seobi/PythonProjects/RAG_Commander/.venv/lib/python3.11/site-packages/docling/models/layout_model.py\", line 152, in __call__\n",
      "    pages = list(page_batch)\n",
      "            ^^^^^^^^^^^^^^^^\n",
      "\n",
      "  File \"/Users/seobi/PythonProjects/RAG_Commander/.venv/lib/python3.11/site-packages/docling/models/auto_ocr_model.py\", line 128, in __call__\n",
      "    yield from self._engine(conv_res, page_batch)\n",
      "\n",
      "  File \"/Users/seobi/PythonProjects/RAG_Commander/.venv/lib/python3.11/site-packages/docling/models/ocr_mac_model.py\", line 66, in __call__\n",
      "    for page in page_batch:\n",
      "\n",
      "  File \"/Users/seobi/PythonProjects/RAG_Commander/.venv/lib/python3.11/site-packages/docling/models/page_preprocessing_model.py\", line 48, in __call__\n",
      "    page = self._parse_page_cells(conv_res, page)\n",
      "           ^^^^^^^^^^^^^^^^^^^^^^^^^^^^^^^^^^^^^^\n",
      "\n",
      "  File \"/Users/seobi/PythonProjects/RAG_Commander/.venv/lib/python3.11/site-packages/docling/models/page_preprocessing_model.py\", line 72, in _parse_page_cells\n",
      "    page.parsed_page = page._backend.get_segmented_page()\n",
      "                       ^^^^^^^^^^^^^^^^^^^^^^^^^^^^^^^^^^\n",
      "\n",
      "  File \"/Users/seobi/PythonProjects/RAG_Commander/.venv/lib/python3.11/site-packages/docling/backend/docling_parse_v4_backend.py\", line 108, in get_segmented_page\n",
      "    self._ensure_parsed()\n",
      "\n",
      "  File \"/Users/seobi/PythonProjects/RAG_Commander/.venv/lib/python3.11/site-packages/docling/backend/docling_parse_v4_backend.py\", line 56, in _ensure_parsed\n",
      "    seg_page = self._dp_doc.get_page(\n",
      "               ^^^^^^^^^^^^^^^^^^^^^^\n",
      "\n",
      "  File \"/Users/seobi/PythonProjects/RAG_Commander/.venv/lib/python3.11/site-packages/docling_parse/pdf_parser.py\", line 162, in get_page\n",
      "    doc_dict = self._parser.parse_pdf_from_key_on_page(\n",
      "               ^^^^^^^^^^^^^^^^^^^^^^^^^^^^^^^^^^^^^^^^\n",
      "\n",
      "RuntimeError: Invalid code point\n",
      "\n"
     ]
    },
    {
     "name": "stdout",
     "output_type": "stream",
     "text": [
      "DoclingLoader 실패: Invalid code point\n",
      "PDFPlumberLoader 사용\n",
      "PDFPlumberLoader 실패: Cannot convert None to Decimal.\n",
      "PyMuPDFLoader 사용\n"
     ]
    }
   ],
   "source": [
    "from rag.document_loader import best_loader\n",
    "loaders = best_loader(\"../data/2024 주택청약 FAQ.pdf\")"
   ]
  },
  {
   "cell_type": "code",
   "execution_count": null,
   "id": "fd834d70",
   "metadata": {},
   "outputs": [],
   "source": [
    "print(loaders[107].page_content)"
   ]
  },
  {
   "cell_type": "code",
   "execution_count": null,
   "id": "63733d30",
   "metadata": {},
   "outputs": [],
   "source": [
    "from rag.chunker import adaptive_chunker\n",
    "chunks = adaptive_chunker(loaders)"
   ]
  },
  {
   "cell_type": "code",
   "execution_count": null,
   "id": "eba0031a",
   "metadata": {},
   "outputs": [],
   "source": []
  },
  {
   "cell_type": "code",
   "execution_count": null,
   "id": "ae45ccd3",
   "metadata": {},
   "outputs": [],
   "source": []
  }
 ],
 "metadata": {
  "kernelspec": {
   "display_name": "RAG_Commander",
   "language": "python",
   "name": "python3"
  },
  "language_info": {
   "codemirror_mode": {
    "name": "ipython",
    "version": 3
   },
   "file_extension": ".py",
   "mimetype": "text/x-python",
   "name": "python",
   "nbconvert_exporter": "python",
   "pygments_lexer": "ipython3",
   "version": "3.11.13"
  }
 },
 "nbformat": 4,
 "nbformat_minor": 5
}
