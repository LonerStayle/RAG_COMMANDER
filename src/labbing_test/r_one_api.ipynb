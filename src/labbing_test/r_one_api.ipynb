{
 "cells": [
  {
   "cell_type": "code",
   "execution_count": 5,
   "id": "f0861b6b",
   "metadata": {},
   "outputs": [],
   "source": [
    "from dotenv import load_dotenv\n",
    "load_dotenv()\n",
    "import os \n",
    "SERVICE_KEY = os.getenv(\"R_ONE_API_KEY\")"
   ]
  },
  {
   "cell_type": "markdown",
   "id": "6ec54d2a",
   "metadata": {},
   "source": [
    "# 서비스 통계 목록"
   ]
  },
  {
   "cell_type": "code",
   "execution_count": 6,
   "id": "11b1663f",
   "metadata": {},
   "outputs": [
    {
     "name": "stdout",
     "output_type": "stream",
     "text": [
      "{\"SttsApiTbl\":[{\"head\":[{\"list_total_count\":727},{\"RESULT\":{\"CODE\":\"INFO-000\",\"MESSAGE\":\"정상 처리되었습니다.\"}}]},{\"row\":[{\"STATBL_ID\":\"A_2024_00900\",\"STATBL_NM\":\"(연) 지역별 지가지수\",\"DTACYCLE_CD\":\"YY\",\"DTACYCLE_NM\":\"매년\",\"STAT_ID\":\"S227720243\",\"TOP_ORG_NM\":\"한국부동산원\",\"OPEN_STATE\":\"Y\",\"DATA_START_YY\":\"1987\",\"DATA_END_YY\":\"2024\",\"STATBL_IDTFR\":null,\"STATBL_CMMT\":\"※조사ㆍ통계문의 : 부동산통계처 토지통계부(053-663-8547,545)\",\"V_ORDER\":304001,\"RPSTUI_NM\":\"기준시점 : 2023.12.=100.0\"},{\"STATBL_ID\":\"A_2024_00901\",\"STATBL_NM\":\"(월) 지역별 지가지수\",\"DTACYCLE_CD\":\"QY,MM\",\"DTACYCLE_NM\":\"분기,월\",\"STAT_ID\":\"S227720243\",\"TOP_ORG_NM\":\"한국부동산원\",\"OPEN_STATE\":\"Y\",\"DATA_START_YY\":\"1987\",\"DATA_END_YY\":\"2025\",\"STATBL_IDTFR\":null,\"STATBL_CMMT\":\"※조사ㆍ통계문의 : 부동산통계처 토지통계부(053-663-8547,545)\",\"V_ORDER\":304002,\"RPSTUI_NM\":\"기준시점 : 2023.12.=100.0 \"},{\"STATBL_ID\":\"A_2024_00003\",\"STATBL_NM\":\"(월) 용도지역별 지가지수\",\"DTACYCLE_CD\":\"QY,MM\",\"DTACYCLE_NM\":\"분기,월\",\"STAT_ID\":\"S227720243\",\"TOP_ORG_NM\":\"한국부동산원\",\"OPEN_STATE\":\"Y\",\"DATA_START_YY\":\"1987\",\"DATA_END_YY\":\"2025\",\"STATBL_IDTFR\":null,\"STATBL_CMMT\":\"※조사ㆍ통계문의 : 부동산통계처 토지통계부(053-663-8547,545)\",\"V_ORDER\":304003,\"RPSTUI_NM\":\"기준시점 : 2023.12.=100.0 \"},{\"STATBL_ID\":\"A_2024_00004\",\"STATBL_NM\":\"(월) 이용상황별 지가지수\",\"DTACYCLE_CD\":\"QY,MM\",\"DTACYCLE_NM\":\"분기,월\",\"STAT_ID\":\"S227720243\",\"TOP_ORG_NM\":\"한국부동산원\",\"OPEN_STATE\":\"Y\",\"DATA_START_YY\":\"1987\",\"DATA_END_YY\":\"2025\",\"STATBL_IDTFR\":null,\"STATBL_CMMT\":\"※조사ㆍ통계문의 : 부동산통계처 토지통계부(053-663-8547,545)\\r\\n\",\"V_ORDER\":304004,\"RPSTUI_NM\":\"기준시점 : 2023.12.=100.0 \"},{\"STATBL_ID\":\"A_2024_00902\",\"STATBL_NM\":\"(연) 지역별 지가변동률\",\"DTACYCLE_CD\":\"YY\",\"DTACYCLE_NM\":\"매년\",\"STAT_ID\":\"S227720243\",\"TOP_ORG_NM\":\"한국부동산원\",\"OPEN_STATE\":\"Y\",\"DATA_START_YY\":\"1975\",\"DATA_END_YY\":\"2024\",\"STATBL_IDTFR\":null,\"STATBL_CMMT\":\"※조사ㆍ통계문의 : 부동산통계처 토지통계부(053-663-8547,545)\",\"V_ORDER\":305005,\"RPSTUI_NM\":null}]}]}\n"
     ]
    }
   ],
   "source": [
    "\n",
    "BASE_URL = \"https://www.reb.or.kr/r-one/openapi/SttsApiTbl.do\"\n",
    "params = {\n",
    "    \"serviceKey\": SERVICE_KEY,\n",
    "    \"Type\":\"json\",\n",
    "    \"pIndex\":1,\n",
    "    \"pSize\":100\n",
    "}\n",
    "import requests\n",
    "response = requests.get(BASE_URL, params=params)\n",
    "print(response.text)"
   ]
  },
  {
   "cell_type": "markdown",
   "id": "ce9ae660",
   "metadata": {},
   "source": [
    "# 통계 세부항목 목록"
   ]
  },
  {
   "cell_type": "code",
   "execution_count": 7,
   "id": "879a6cb6",
   "metadata": {},
   "outputs": [
    {
     "data": {
      "text/plain": [
       "'{\"SttsApiTblItm\":[{\"head\":[{\"list_total_count\":5478},{\"RESULT\":{\"CODE\":\"INFO-000\",\"MESSAGE\":\"정상 처리되었습니다.\"}}]},{\"row\":[{\"STATBL_ID\":\"A_2024_00900\",\"ITM_TAG\":\"분류\",\"ITM_ID\":500001,\"PAR_ITM_ID\":0,\"ITM_NM\":\"전국\",\"ITM_FULLNM\":\"전국\",\"UI_NM\":null,\"ITM_CMMT_IDTFR\":null,\"ITM_CMMT_CONT\":null,\"V_ORDER\":1},{\"STATBL_ID\":\"A_2024_00900\",\"ITM_TAG\":\"분류\",\"ITM_ID\":500002,\"PAR_ITM_ID\":0,\"ITM_NM\":\"수도권\",\"ITM_FULLNM\":\"수도권\",\"UI_NM\":null,\"ITM_CMMT_IDTFR\":null,\"ITM_CMMT_CONT\":null,\"V_ORDER\":2},{\"STATBL_ID\":\"A_2024_00900\",\"ITM_TAG\":\"분류\",\"ITM_ID\":500003,\"PAR_ITM_ID\":0,\"ITM_NM\":\"지방\",\"ITM_FULLNM\":\"지방\",\"UI_NM\":null,\"ITM_CMMT_IDTFR\":null,\"ITM_CMMT_CONT\":null,\"V_ORDER\":3},{\"STATBL_ID\":\"A_2024_00900\",\"ITM_TAG\":\"분류\",\"ITM_ID\":500004,\"PAR_ITM_ID\":0,\"ITM_NM\":\"대도시\",\"ITM_FULLNM\":\"대도시\",\"UI_NM\":null,\"ITM_CMMT_IDTFR\":null,\"ITM_CMMT_CONT\":null,\"V_ORDER\":4},{\"STATBL_ID\":\"A_2024_00900\",\"ITM_TAG\":\"분류\",\"ITM_ID\":500005,\"PAR_ITM_ID\":0,\"ITM_NM\":\"시지역\",\"ITM_FULLNM\":\"시지역\",\"UI_NM\":null,\"ITM_CMMT_IDTFR\":null,\"ITM_CMMT_CONT\":null,\"V_ORDER\":5}]}]}'"
      ]
     },
     "execution_count": 7,
     "metadata": {},
     "output_type": "execute_result"
    }
   ],
   "source": [
    "BASE_URL = \"https://www.reb.or.kr/r-one/openapi/SttsApiTblItm.do\"\n",
    "params = {\n",
    "    \"serviceKey\": SERVICE_KEY,\n",
    "    \"Type\":\"json\",\n",
    "    \"pIndex\":1,\n",
    "    \"pSize\":100,\n",
    "    \"STATBL_ID\": \"A_2024_00900\"\n",
    "}\n",
    "\n",
    "import requests\n",
    "response = requests.get(BASE_URL, params=params)\n",
    "response.text"
   ]
  },
  {
   "cell_type": "markdown",
   "id": "4876fe8c",
   "metadata": {},
   "source": [
    "# 통계 조회 조건 설정"
   ]
  },
  {
   "cell_type": "code",
   "execution_count": 8,
   "id": "dfe05203",
   "metadata": {},
   "outputs": [
    {
     "name": "stdout",
     "output_type": "stream",
     "text": [
      "{\"SttsApiTblData\":[{\"head\":[{\"list_total_count\":65231},{\"RESULT\":{\"CODE\":\"INFO-000\",\"MESSAGE\":\"정상 처리되었습니다.\"}}]},{\"row\":[{\"STATBL_ID\":\"A_2024_00900\",\"DTACYCLE_CD\":\"YY\",\"WRTTIME_IDTFR_ID\":\"1987\",\"GRP_ID\":null,\"GRP_NM\":null,\"CLS_ID\":510008,\"CLS_NM\":\"종로구\",\"ITM_ID\":100001,\"ITM_NM\":\"지수\",\"DTA_VAL\":28.3398983527,\"UI_NM\":\"지수\",\"GRP_FULLNM\":null,\"CLS_FULLNM\":\"서울>종로구\",\"ITM_FULLNM\":\"지수\",\"WRTTIME_DESC\":\"1987년\"},{\"STATBL_ID\":\"A_2024_00900\",\"DTACYCLE_CD\":\"YY\",\"WRTTIME_IDTFR_ID\":\"1987\",\"GRP_ID\":null,\"GRP_NM\":null,\"CLS_ID\":500001,\"CLS_NM\":\"전국\",\"ITM_ID\":100001,\"ITM_NM\":\"지수\",\"DTA_VAL\":27.1360740458,\"UI_NM\":\"지수\",\"GRP_FULLNM\":null,\"CLS_FULLNM\":\"전국\",\"ITM_FULLNM\":\"지수\",\"WRTTIME_DESC\":\"1987년\"},{\"STATBL_ID\":\"A_2024_00900\",\"DTACYCLE_CD\":\"YY\",\"WRTTIME_IDTFR_ID\":\"1987\",\"GRP_ID\":null,\"GRP_NM\":null,\"CLS_ID\":510009,\"CLS_NM\":\"중구\",\"ITM_ID\":100001,\"ITM_NM\":\"지수\",\"DTA_VAL\":29.8242626431,\"UI_NM\":\"지수\",\"GRP_FULLNM\":null,\"CLS_FULLNM\":\"서울>중구\",\"ITM_FULLNM\":\"지수\",\"WRTTIME_DESC\":\"1987년\"},{\"STATBL_ID\":\"A_2024_00900\",\"DTACYCLE_CD\":\"YY\",\"WRTTIME_IDTFR_ID\":\"1987\",\"GRP_ID\":null,\"GRP_NM\":null,\"CLS_ID\":510182,\"CLS_NM\":\"전주시\",\"ITM_ID\":100001,\"ITM_NM\":\"지수\",\"DTA_VAL\":33.1607027895,\"UI_NM\":\"지수\",\"GRP_FULLNM\":null,\"CLS_FULLNM\":\"전북>전주시\",\"ITM_FULLNM\":\"지수\",\"WRTTIME_DESC\":\"1987년\"},{\"STATBL_ID\":\"A_2024_00900\",\"DTACYCLE_CD\":\"YY\",\"WRTTIME_IDTFR_ID\":\"1987\",\"GRP_ID\":null,\"GRP_NM\":null,\"CLS_ID\":510224,\"CLS_NM\":\"포항시\",\"ITM_ID\":100001,\"ITM_NM\":\"지수\",\"DTA_VAL\":43.8351560263,\"UI_NM\":\"지수\",\"GRP_FULLNM\":null,\"CLS_FULLNM\":\"경북>포항시\",\"ITM_FULLNM\":\"지수\",\"WRTTIME_DESC\":\"1987년\"}]}]}\n"
     ]
    }
   ],
   "source": [
    "\n",
    "BASE_URL = \"https://www.reb.or.kr/r-one/openapi/SttsApiTblData.do\"\n",
    "params = {\n",
    "    \"serviceKey\": SERVICE_KEY,\n",
    "    \"Type\":\"json\",\n",
    "    \"pIndex\":1,\n",
    "    \"pSize\":100,\n",
    "    \"STATBL_ID\":\"A_2024_00900\",\n",
    "    \"DTACYCLE_CD\":\"YY\"\n",
    "}\n",
    "import requests\n",
    "response = requests.get(BASE_URL, params=params)\n",
    "print(response.text)"
   ]
  },
  {
   "cell_type": "code",
   "execution_count": null,
   "id": "7262fafa",
   "metadata": {},
   "outputs": [],
   "source": []
  }
 ],
 "metadata": {
  "kernelspec": {
   "display_name": "RAG_Commander",
   "language": "python",
   "name": "python3"
  },
  "language_info": {
   "codemirror_mode": {
    "name": "ipython",
    "version": 3
   },
   "file_extension": ".py",
   "mimetype": "text/x-python",
   "name": "python",
   "nbconvert_exporter": "python",
   "pygments_lexer": "ipython3",
   "version": "3.11.13"
  }
 },
 "nbformat": 4,
 "nbformat_minor": 5
}
